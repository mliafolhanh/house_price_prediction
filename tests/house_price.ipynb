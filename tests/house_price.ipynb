{
 "nbformat": 4,
 "nbformat_minor": 2,
 "metadata": {
  "language_info": {
   "name": "python",
   "codemirror_mode": {
    "name": "ipython",
    "version": 3
   },
   "version": "3.6.1-final"
  },
  "orig_nbformat": 2,
  "file_extension": ".py",
  "mimetype": "text/x-python",
  "name": "python",
  "npconvert_exporter": "python",
  "pygments_lexer": "ipython3",
  "version": 3,
  "kernelspec": {
   "name": "python36164bitbfb75dcdc05c43dca97fdaf89dddfa54",
   "display_name": "Python 3.6.1 64-bit"
  }
 },
 "cells": [
  {
   "cell_type": "code",
   "execution_count": 1,
   "metadata": {},
   "outputs": [],
   "source": [
    "from code_preprocessing.datasets import read_data"
   ]
  },
  {
   "cell_type": "code",
   "execution_count": 2,
   "metadata": {},
   "outputs": [
    {
     "output_type": "execute_result",
     "data": {
      "text/plain": "                Id   MSSubClass  LotFrontage        LotArea  OverallQual  \\\ncount  1460.000000  1460.000000  1201.000000    1460.000000  1460.000000   \nmean    730.500000    56.897260    70.049958   10516.828082     6.099315   \nstd     421.610009    42.300571    24.284752    9981.264932     1.382997   \nmin       1.000000    20.000000    21.000000    1300.000000     1.000000   \n25%     365.750000    20.000000    59.000000    7553.500000     5.000000   \n50%     730.500000    50.000000    69.000000    9478.500000     6.000000   \n75%    1095.250000    70.000000    80.000000   11601.500000     7.000000   \nmax    1460.000000   190.000000   313.000000  215245.000000    10.000000   \n\n       OverallCond    YearBuilt  YearRemodAdd   MasVnrArea   BsmtFinSF1  ...  \\\ncount  1460.000000  1460.000000   1460.000000  1452.000000  1460.000000  ...   \nmean      5.575342  1971.267808   1984.865753   103.685262   443.639726  ...   \nstd       1.112799    30.202904     20.645407   181.066207   456.098091  ...   \nmin       1.000000  1872.000000   1950.000000     0.000000     0.000000  ...   \n25%       5.000000  1954.000000   1967.000000     0.000000     0.000000  ...   \n50%       5.000000  1973.000000   1994.000000     0.000000   383.500000  ...   \n75%       6.000000  2000.000000   2004.000000   166.000000   712.250000  ...   \nmax       9.000000  2010.000000   2010.000000  1600.000000  5644.000000  ...   \n\n        WoodDeckSF  OpenPorchSF  EnclosedPorch  ThirdSsnPorch  ScreenPorch  \\\ncount  1460.000000  1460.000000    1460.000000    1460.000000  1460.000000   \nmean     94.244521    46.660274      21.954110       3.409589    15.060959   \nstd     125.338794    66.256028      61.119149      29.317331    55.757415   \nmin       0.000000     0.000000       0.000000       0.000000     0.000000   \n25%       0.000000     0.000000       0.000000       0.000000     0.000000   \n50%       0.000000    25.000000       0.000000       0.000000     0.000000   \n75%     168.000000    68.000000       0.000000       0.000000     0.000000   \nmax     857.000000   547.000000     552.000000     508.000000   480.000000   \n\n          PoolArea       MiscVal       MoSold       YrSold      SalePrice  \ncount  1460.000000   1460.000000  1460.000000  1460.000000    1460.000000  \nmean      2.758904     43.489041     6.321918  2007.815753  180921.195890  \nstd      40.177307    496.123024     2.703626     1.328095   79442.502883  \nmin       0.000000      0.000000     1.000000  2006.000000   34900.000000  \n25%       0.000000      0.000000     5.000000  2007.000000  129975.000000  \n50%       0.000000      0.000000     6.000000  2008.000000  163000.000000  \n75%       0.000000      0.000000     8.000000  2009.000000  214000.000000  \nmax     738.000000  15500.000000    12.000000  2010.000000  755000.000000  \n\n[8 rows x 38 columns]",
      "text/html": "<div>\n<style scoped>\n    .dataframe tbody tr th:only-of-type {\n        vertical-align: middle;\n    }\n\n    .dataframe tbody tr th {\n        vertical-align: top;\n    }\n\n    .dataframe thead th {\n        text-align: right;\n    }\n</style>\n<table border=\"1\" class=\"dataframe\">\n  <thead>\n    <tr style=\"text-align: right;\">\n      <th></th>\n      <th>Id</th>\n      <th>MSSubClass</th>\n      <th>LotFrontage</th>\n      <th>LotArea</th>\n      <th>OverallQual</th>\n      <th>OverallCond</th>\n      <th>YearBuilt</th>\n      <th>YearRemodAdd</th>\n      <th>MasVnrArea</th>\n      <th>BsmtFinSF1</th>\n      <th>...</th>\n      <th>WoodDeckSF</th>\n      <th>OpenPorchSF</th>\n      <th>EnclosedPorch</th>\n      <th>ThirdSsnPorch</th>\n      <th>ScreenPorch</th>\n      <th>PoolArea</th>\n      <th>MiscVal</th>\n      <th>MoSold</th>\n      <th>YrSold</th>\n      <th>SalePrice</th>\n    </tr>\n  </thead>\n  <tbody>\n    <tr>\n      <th>count</th>\n      <td>1460.000000</td>\n      <td>1460.000000</td>\n      <td>1201.000000</td>\n      <td>1460.000000</td>\n      <td>1460.000000</td>\n      <td>1460.000000</td>\n      <td>1460.000000</td>\n      <td>1460.000000</td>\n      <td>1452.000000</td>\n      <td>1460.000000</td>\n      <td>...</td>\n      <td>1460.000000</td>\n      <td>1460.000000</td>\n      <td>1460.000000</td>\n      <td>1460.000000</td>\n      <td>1460.000000</td>\n      <td>1460.000000</td>\n      <td>1460.000000</td>\n      <td>1460.000000</td>\n      <td>1460.000000</td>\n      <td>1460.000000</td>\n    </tr>\n    <tr>\n      <th>mean</th>\n      <td>730.500000</td>\n      <td>56.897260</td>\n      <td>70.049958</td>\n      <td>10516.828082</td>\n      <td>6.099315</td>\n      <td>5.575342</td>\n      <td>1971.267808</td>\n      <td>1984.865753</td>\n      <td>103.685262</td>\n      <td>443.639726</td>\n      <td>...</td>\n      <td>94.244521</td>\n      <td>46.660274</td>\n      <td>21.954110</td>\n      <td>3.409589</td>\n      <td>15.060959</td>\n      <td>2.758904</td>\n      <td>43.489041</td>\n      <td>6.321918</td>\n      <td>2007.815753</td>\n      <td>180921.195890</td>\n    </tr>\n    <tr>\n      <th>std</th>\n      <td>421.610009</td>\n      <td>42.300571</td>\n      <td>24.284752</td>\n      <td>9981.264932</td>\n      <td>1.382997</td>\n      <td>1.112799</td>\n      <td>30.202904</td>\n      <td>20.645407</td>\n      <td>181.066207</td>\n      <td>456.098091</td>\n      <td>...</td>\n      <td>125.338794</td>\n      <td>66.256028</td>\n      <td>61.119149</td>\n      <td>29.317331</td>\n      <td>55.757415</td>\n      <td>40.177307</td>\n      <td>496.123024</td>\n      <td>2.703626</td>\n      <td>1.328095</td>\n      <td>79442.502883</td>\n    </tr>\n    <tr>\n      <th>min</th>\n      <td>1.000000</td>\n      <td>20.000000</td>\n      <td>21.000000</td>\n      <td>1300.000000</td>\n      <td>1.000000</td>\n      <td>1.000000</td>\n      <td>1872.000000</td>\n      <td>1950.000000</td>\n      <td>0.000000</td>\n      <td>0.000000</td>\n      <td>...</td>\n      <td>0.000000</td>\n      <td>0.000000</td>\n      <td>0.000000</td>\n      <td>0.000000</td>\n      <td>0.000000</td>\n      <td>0.000000</td>\n      <td>0.000000</td>\n      <td>1.000000</td>\n      <td>2006.000000</td>\n      <td>34900.000000</td>\n    </tr>\n    <tr>\n      <th>25%</th>\n      <td>365.750000</td>\n      <td>20.000000</td>\n      <td>59.000000</td>\n      <td>7553.500000</td>\n      <td>5.000000</td>\n      <td>5.000000</td>\n      <td>1954.000000</td>\n      <td>1967.000000</td>\n      <td>0.000000</td>\n      <td>0.000000</td>\n      <td>...</td>\n      <td>0.000000</td>\n      <td>0.000000</td>\n      <td>0.000000</td>\n      <td>0.000000</td>\n      <td>0.000000</td>\n      <td>0.000000</td>\n      <td>0.000000</td>\n      <td>5.000000</td>\n      <td>2007.000000</td>\n      <td>129975.000000</td>\n    </tr>\n    <tr>\n      <th>50%</th>\n      <td>730.500000</td>\n      <td>50.000000</td>\n      <td>69.000000</td>\n      <td>9478.500000</td>\n      <td>6.000000</td>\n      <td>5.000000</td>\n      <td>1973.000000</td>\n      <td>1994.000000</td>\n      <td>0.000000</td>\n      <td>383.500000</td>\n      <td>...</td>\n      <td>0.000000</td>\n      <td>25.000000</td>\n      <td>0.000000</td>\n      <td>0.000000</td>\n      <td>0.000000</td>\n      <td>0.000000</td>\n      <td>0.000000</td>\n      <td>6.000000</td>\n      <td>2008.000000</td>\n      <td>163000.000000</td>\n    </tr>\n    <tr>\n      <th>75%</th>\n      <td>1095.250000</td>\n      <td>70.000000</td>\n      <td>80.000000</td>\n      <td>11601.500000</td>\n      <td>7.000000</td>\n      <td>6.000000</td>\n      <td>2000.000000</td>\n      <td>2004.000000</td>\n      <td>166.000000</td>\n      <td>712.250000</td>\n      <td>...</td>\n      <td>168.000000</td>\n      <td>68.000000</td>\n      <td>0.000000</td>\n      <td>0.000000</td>\n      <td>0.000000</td>\n      <td>0.000000</td>\n      <td>0.000000</td>\n      <td>8.000000</td>\n      <td>2009.000000</td>\n      <td>214000.000000</td>\n    </tr>\n    <tr>\n      <th>max</th>\n      <td>1460.000000</td>\n      <td>190.000000</td>\n      <td>313.000000</td>\n      <td>215245.000000</td>\n      <td>10.000000</td>\n      <td>9.000000</td>\n      <td>2010.000000</td>\n      <td>2010.000000</td>\n      <td>1600.000000</td>\n      <td>5644.000000</td>\n      <td>...</td>\n      <td>857.000000</td>\n      <td>547.000000</td>\n      <td>552.000000</td>\n      <td>508.000000</td>\n      <td>480.000000</td>\n      <td>738.000000</td>\n      <td>15500.000000</td>\n      <td>12.000000</td>\n      <td>2010.000000</td>\n      <td>755000.000000</td>\n    </tr>\n  </tbody>\n</table>\n<p>8 rows × 38 columns</p>\n</div>"
     },
     "metadata": {},
     "execution_count": 2
    }
   ],
   "source": [
    "file_location = '../'\n",
    "train_file = os.path.join(file_location, \"data/train.csv\")\n",
    "train_pd = read_data(train_file)\n",
    "train_pd.describe()"
   ]
  },
  {
   "cell_type": "code",
   "execution_count": 5,
   "metadata": {},
   "outputs": [
    {
     "output_type": "execute_result",
     "data": {
      "text/plain": "5     397\n6     374\n7     319\n8     168\n4     116\n9      43\n3      20\n10     18\n2       3\n1       2\nName: OverallQual, dtype: int64"
     },
     "metadata": {},
     "execution_count": 5
    }
   ],
   "source": [
    "train_pd['OverallQual'].value_counts()"
   ]
  },
  {
   "cell_type": "code",
   "execution_count": 11,
   "metadata": {},
   "outputs": [
    {
     "output_type": "error",
     "ename": "AttributeError",
     "evalue": "'DataFrame' object has no attribute 'rows'",
     "traceback": [
      "\u001b[0;31m---------------------------------------------------------------------------\u001b[0m",
      "\u001b[0;31mAttributeError\u001b[0m                            Traceback (most recent call last)",
      "\u001b[0;32m<ipython-input-11-07db8f9e285e>\u001b[0m in \u001b[0;36m<module>\u001b[0;34m\u001b[0m\n\u001b[0;32m----> 1\u001b[0;31m \u001b[0mtrain_pd\u001b[0m\u001b[0;34m[\u001b[0m\u001b[0;34m'PoolArea'\u001b[0m\u001b[0;34m]\u001b[0m\u001b[0;34m.\u001b[0m\u001b[0mvalue_counts\u001b[0m\u001b[0;34m(\u001b[0m\u001b[0;34m)\u001b[0m\u001b[0;34m[\u001b[0m\u001b[0;36m0\u001b[0m\u001b[0;34m]\u001b[0m \u001b[0;34m/\u001b[0m \u001b[0mtrain_pd\u001b[0m\u001b[0;34m.\u001b[0m\u001b[0mrows\u001b[0m\u001b[0;34m\u001b[0m\u001b[0m\n\u001b[0m",
      "\u001b[0;32m~/local/pulse_pyenv/lib/python3.6/site-packages/pandas/core/generic.py\u001b[0m in \u001b[0;36m__getattr__\u001b[0;34m(self, name)\u001b[0m\n\u001b[1;32m   5272\u001b[0m             \u001b[0;32mif\u001b[0m \u001b[0mself\u001b[0m\u001b[0;34m.\u001b[0m\u001b[0m_info_axis\u001b[0m\u001b[0;34m.\u001b[0m\u001b[0m_can_hold_identifiers_and_holds_name\u001b[0m\u001b[0;34m(\u001b[0m\u001b[0mname\u001b[0m\u001b[0;34m)\u001b[0m\u001b[0;34m:\u001b[0m\u001b[0;34m\u001b[0m\u001b[0m\n\u001b[1;32m   5273\u001b[0m                 \u001b[0;32mreturn\u001b[0m \u001b[0mself\u001b[0m\u001b[0;34m[\u001b[0m\u001b[0mname\u001b[0m\u001b[0;34m]\u001b[0m\u001b[0;34m\u001b[0m\u001b[0m\n\u001b[0;32m-> 5274\u001b[0;31m             \u001b[0;32mreturn\u001b[0m \u001b[0mobject\u001b[0m\u001b[0;34m.\u001b[0m\u001b[0m__getattribute__\u001b[0m\u001b[0;34m(\u001b[0m\u001b[0mself\u001b[0m\u001b[0;34m,\u001b[0m \u001b[0mname\u001b[0m\u001b[0;34m)\u001b[0m\u001b[0;34m\u001b[0m\u001b[0m\n\u001b[0m\u001b[1;32m   5275\u001b[0m \u001b[0;34m\u001b[0m\u001b[0m\n\u001b[1;32m   5276\u001b[0m     \u001b[0;32mdef\u001b[0m \u001b[0m__setattr__\u001b[0m\u001b[0;34m(\u001b[0m\u001b[0mself\u001b[0m\u001b[0;34m,\u001b[0m \u001b[0mname\u001b[0m\u001b[0;34m:\u001b[0m \u001b[0mstr\u001b[0m\u001b[0;34m,\u001b[0m \u001b[0mvalue\u001b[0m\u001b[0;34m)\u001b[0m \u001b[0;34m->\u001b[0m \u001b[0;32mNone\u001b[0m\u001b[0;34m:\u001b[0m\u001b[0;34m\u001b[0m\u001b[0m\n",
      "\u001b[0;31mAttributeError\u001b[0m: 'DataFrame' object has no attribute 'rows'"
     ]
    }
   ],
   "source": [
    "train_pd['PoolArea'].value_counts()[0] / train_pd.rows"
   ]
  },
  {
   "cell_type": "code",
   "execution_count": 14,
   "metadata": {},
   "outputs": [
    {
     "output_type": "execute_result",
     "data": {
      "text/plain": "        Id  MSSubClass MSZoning  LotFrontage  LotArea Street Alley LotShape  \\\n1        2          20       RL         80.0     9600   Pave   NaN      Reg   \n2        3          60       RL         68.0    11250   Pave   NaN      IR1   \n3        4          70       RL         60.0     9550   Pave   NaN      IR1   \n4        5          60       RL         84.0    14260   Pave   NaN      IR1   \n5        6          50       RL         85.0    14115   Pave   NaN      IR1   \n...    ...         ...      ...          ...      ...    ...   ...      ...   \n1454  1455          20       FV         62.0     7500   Pave  Pave      Reg   \n1455  1456          60       RL         62.0     7917   Pave   NaN      Reg   \n1456  1457          20       RL         85.0    13175   Pave   NaN      Reg   \n1457  1458          70       RL         66.0     9042   Pave   NaN      Reg   \n1458  1459          20       RL         68.0     9717   Pave   NaN      Reg   \n\n     LandContour Utilities  ... PoolArea PoolQC  Fence MiscFeature MiscVal  \\\n1            Lvl    AllPub  ...        0    NaN    NaN         NaN       0   \n2            Lvl    AllPub  ...        0    NaN    NaN         NaN       0   \n3            Lvl    AllPub  ...        0    NaN    NaN         NaN       0   \n4            Lvl    AllPub  ...        0    NaN    NaN         NaN       0   \n5            Lvl    AllPub  ...        0    NaN  MnPrv        Shed     700   \n...          ...       ...  ...      ...    ...    ...         ...     ...   \n1454         Lvl    AllPub  ...        0    NaN    NaN         NaN       0   \n1455         Lvl    AllPub  ...        0    NaN    NaN         NaN       0   \n1456         Lvl    AllPub  ...        0    NaN  MnPrv         NaN       0   \n1457         Lvl    AllPub  ...        0    NaN  GdPrv        Shed    2500   \n1458         Lvl    AllPub  ...        0    NaN    NaN         NaN       0   \n\n     MoSold YrSold  SaleType  SaleCondition  SalePrice  \n1         5   2007        WD         Normal     181500  \n2         9   2008        WD         Normal     223500  \n3         2   2006        WD        Abnorml     140000  \n4        12   2008        WD         Normal     250000  \n5        10   2009        WD         Normal     143000  \n...     ...    ...       ...            ...        ...  \n1454     10   2009        WD         Normal     185000  \n1455      8   2007        WD         Normal     175000  \n1456      2   2010        WD         Normal     210000  \n1457      5   2010        WD         Normal     266500  \n1458      4   2010        WD         Normal     142125  \n\n[1458 rows x 81 columns]",
      "text/html": "<div>\n<style scoped>\n    .dataframe tbody tr th:only-of-type {\n        vertical-align: middle;\n    }\n\n    .dataframe tbody tr th {\n        vertical-align: top;\n    }\n\n    .dataframe thead th {\n        text-align: right;\n    }\n</style>\n<table border=\"1\" class=\"dataframe\">\n  <thead>\n    <tr style=\"text-align: right;\">\n      <th></th>\n      <th>Id</th>\n      <th>MSSubClass</th>\n      <th>MSZoning</th>\n      <th>LotFrontage</th>\n      <th>LotArea</th>\n      <th>Street</th>\n      <th>Alley</th>\n      <th>LotShape</th>\n      <th>LandContour</th>\n      <th>Utilities</th>\n      <th>...</th>\n      <th>PoolArea</th>\n      <th>PoolQC</th>\n      <th>Fence</th>\n      <th>MiscFeature</th>\n      <th>MiscVal</th>\n      <th>MoSold</th>\n      <th>YrSold</th>\n      <th>SaleType</th>\n      <th>SaleCondition</th>\n      <th>SalePrice</th>\n    </tr>\n  </thead>\n  <tbody>\n    <tr>\n      <th>1</th>\n      <td>2</td>\n      <td>20</td>\n      <td>RL</td>\n      <td>80.0</td>\n      <td>9600</td>\n      <td>Pave</td>\n      <td>NaN</td>\n      <td>Reg</td>\n      <td>Lvl</td>\n      <td>AllPub</td>\n      <td>...</td>\n      <td>0</td>\n      <td>NaN</td>\n      <td>NaN</td>\n      <td>NaN</td>\n      <td>0</td>\n      <td>5</td>\n      <td>2007</td>\n      <td>WD</td>\n      <td>Normal</td>\n      <td>181500</td>\n    </tr>\n    <tr>\n      <th>2</th>\n      <td>3</td>\n      <td>60</td>\n      <td>RL</td>\n      <td>68.0</td>\n      <td>11250</td>\n      <td>Pave</td>\n      <td>NaN</td>\n      <td>IR1</td>\n      <td>Lvl</td>\n      <td>AllPub</td>\n      <td>...</td>\n      <td>0</td>\n      <td>NaN</td>\n      <td>NaN</td>\n      <td>NaN</td>\n      <td>0</td>\n      <td>9</td>\n      <td>2008</td>\n      <td>WD</td>\n      <td>Normal</td>\n      <td>223500</td>\n    </tr>\n    <tr>\n      <th>3</th>\n      <td>4</td>\n      <td>70</td>\n      <td>RL</td>\n      <td>60.0</td>\n      <td>9550</td>\n      <td>Pave</td>\n      <td>NaN</td>\n      <td>IR1</td>\n      <td>Lvl</td>\n      <td>AllPub</td>\n      <td>...</td>\n      <td>0</td>\n      <td>NaN</td>\n      <td>NaN</td>\n      <td>NaN</td>\n      <td>0</td>\n      <td>2</td>\n      <td>2006</td>\n      <td>WD</td>\n      <td>Abnorml</td>\n      <td>140000</td>\n    </tr>\n    <tr>\n      <th>4</th>\n      <td>5</td>\n      <td>60</td>\n      <td>RL</td>\n      <td>84.0</td>\n      <td>14260</td>\n      <td>Pave</td>\n      <td>NaN</td>\n      <td>IR1</td>\n      <td>Lvl</td>\n      <td>AllPub</td>\n      <td>...</td>\n      <td>0</td>\n      <td>NaN</td>\n      <td>NaN</td>\n      <td>NaN</td>\n      <td>0</td>\n      <td>12</td>\n      <td>2008</td>\n      <td>WD</td>\n      <td>Normal</td>\n      <td>250000</td>\n    </tr>\n    <tr>\n      <th>5</th>\n      <td>6</td>\n      <td>50</td>\n      <td>RL</td>\n      <td>85.0</td>\n      <td>14115</td>\n      <td>Pave</td>\n      <td>NaN</td>\n      <td>IR1</td>\n      <td>Lvl</td>\n      <td>AllPub</td>\n      <td>...</td>\n      <td>0</td>\n      <td>NaN</td>\n      <td>MnPrv</td>\n      <td>Shed</td>\n      <td>700</td>\n      <td>10</td>\n      <td>2009</td>\n      <td>WD</td>\n      <td>Normal</td>\n      <td>143000</td>\n    </tr>\n    <tr>\n      <th>...</th>\n      <td>...</td>\n      <td>...</td>\n      <td>...</td>\n      <td>...</td>\n      <td>...</td>\n      <td>...</td>\n      <td>...</td>\n      <td>...</td>\n      <td>...</td>\n      <td>...</td>\n      <td>...</td>\n      <td>...</td>\n      <td>...</td>\n      <td>...</td>\n      <td>...</td>\n      <td>...</td>\n      <td>...</td>\n      <td>...</td>\n      <td>...</td>\n      <td>...</td>\n      <td>...</td>\n    </tr>\n    <tr>\n      <th>1454</th>\n      <td>1455</td>\n      <td>20</td>\n      <td>FV</td>\n      <td>62.0</td>\n      <td>7500</td>\n      <td>Pave</td>\n      <td>Pave</td>\n      <td>Reg</td>\n      <td>Lvl</td>\n      <td>AllPub</td>\n      <td>...</td>\n      <td>0</td>\n      <td>NaN</td>\n      <td>NaN</td>\n      <td>NaN</td>\n      <td>0</td>\n      <td>10</td>\n      <td>2009</td>\n      <td>WD</td>\n      <td>Normal</td>\n      <td>185000</td>\n    </tr>\n    <tr>\n      <th>1455</th>\n      <td>1456</td>\n      <td>60</td>\n      <td>RL</td>\n      <td>62.0</td>\n      <td>7917</td>\n      <td>Pave</td>\n      <td>NaN</td>\n      <td>Reg</td>\n      <td>Lvl</td>\n      <td>AllPub</td>\n      <td>...</td>\n      <td>0</td>\n      <td>NaN</td>\n      <td>NaN</td>\n      <td>NaN</td>\n      <td>0</td>\n      <td>8</td>\n      <td>2007</td>\n      <td>WD</td>\n      <td>Normal</td>\n      <td>175000</td>\n    </tr>\n    <tr>\n      <th>1456</th>\n      <td>1457</td>\n      <td>20</td>\n      <td>RL</td>\n      <td>85.0</td>\n      <td>13175</td>\n      <td>Pave</td>\n      <td>NaN</td>\n      <td>Reg</td>\n      <td>Lvl</td>\n      <td>AllPub</td>\n      <td>...</td>\n      <td>0</td>\n      <td>NaN</td>\n      <td>MnPrv</td>\n      <td>NaN</td>\n      <td>0</td>\n      <td>2</td>\n      <td>2010</td>\n      <td>WD</td>\n      <td>Normal</td>\n      <td>210000</td>\n    </tr>\n    <tr>\n      <th>1457</th>\n      <td>1458</td>\n      <td>70</td>\n      <td>RL</td>\n      <td>66.0</td>\n      <td>9042</td>\n      <td>Pave</td>\n      <td>NaN</td>\n      <td>Reg</td>\n      <td>Lvl</td>\n      <td>AllPub</td>\n      <td>...</td>\n      <td>0</td>\n      <td>NaN</td>\n      <td>GdPrv</td>\n      <td>Shed</td>\n      <td>2500</td>\n      <td>5</td>\n      <td>2010</td>\n      <td>WD</td>\n      <td>Normal</td>\n      <td>266500</td>\n    </tr>\n    <tr>\n      <th>1458</th>\n      <td>1459</td>\n      <td>20</td>\n      <td>RL</td>\n      <td>68.0</td>\n      <td>9717</td>\n      <td>Pave</td>\n      <td>NaN</td>\n      <td>Reg</td>\n      <td>Lvl</td>\n      <td>AllPub</td>\n      <td>...</td>\n      <td>0</td>\n      <td>NaN</td>\n      <td>NaN</td>\n      <td>NaN</td>\n      <td>0</td>\n      <td>4</td>\n      <td>2010</td>\n      <td>WD</td>\n      <td>Normal</td>\n      <td>142125</td>\n    </tr>\n  </tbody>\n</table>\n<p>1458 rows × 81 columns</p>\n</div>"
     },
     "metadata": {},
     "execution_count": 14
    }
   ],
   "source": [
    "train_pd[1:-1]"
   ]
  },
  {
   "cell_type": "code",
   "execution_count": 5,
   "metadata": {},
   "outputs": [
    {
     "output_type": "execute_result",
     "data": {
      "text/plain": "        Id  MSSubClass MSZoning  LotFrontage  LotArea Street Alley LotShape  \\\n200    201          20       RM         80.0     8546   Pave   NaN      Reg   \n229    230         120       RL         43.0     3182   Pave   NaN      Reg   \n1042  1043         120       RL         34.0     5381   Pave   NaN      IR1   \n1434  1435          20       RL         80.0    17400   Pave   NaN      Reg   \n873    874          40       RL         60.0    12144   Pave   NaN      Reg   \n...    ...         ...      ...          ...      ...    ...   ...      ...   \n741    742          20       RL         65.0     6768   Pave   NaN      IR1   \n163    164          45       RL         55.0     5500   Pave   NaN      Reg   \n206    207          20       RL         40.0    13673   Pave   NaN      IR1   \n793    794          20       RL         76.0     9158   Pave   NaN      Reg   \n1321  1322          20       RL          NaN     6627   Pave   NaN      IR1   \n\n     LandContour Utilities  ... PoolArea PoolQC  Fence MiscFeature MiscVal  \\\n200          Lvl    AllPub  ...        0    NaN    NaN         NaN       0   \n229          Lvl    AllPub  ...        0    NaN    NaN         NaN       0   \n1042         Lvl    AllPub  ...        0    NaN    NaN         NaN       0   \n1434         Low    AllPub  ...        0    NaN    NaN         NaN       0   \n873          Lvl    AllPub  ...        0    NaN    NaN        Othr       0   \n...          ...       ...  ...      ...    ...    ...         ...     ...   \n741          Lvl    AllPub  ...        0    NaN  GdPrv         NaN       0   \n163          Lvl    AllPub  ...        0    NaN  MnPrv         NaN       0   \n206          Lvl    AllPub  ...        0    NaN    NaN         NaN       0   \n793          Lvl    AllPub  ...        0    NaN    NaN         NaN       0   \n1321         Lvl    AllPub  ...        0    NaN    NaN         NaN       0   \n\n     MoSold YrSold  SaleType  SaleCondition  SalePrice  \n200       3   2010        WD         Normal     140000  \n229       5   2009        WD         Normal     192500  \n1042      8   2009        WD         Normal     196000  \n1434      5   2006        WD         Normal     160000  \n873       9   2009        WD         Normal     133000  \n...     ...    ...       ...            ...        ...  \n741       5   2008        WD         Normal     142000  \n163       4   2007        WD         Normal     103200  \n206       3   2007        WD         Normal     143900  \n793       6   2007       New        Partial     225000  \n1321      7   2008        WD         Normal      72500  \n\n[1460 rows x 81 columns]",
      "text/html": "<div>\n<style scoped>\n    .dataframe tbody tr th:only-of-type {\n        vertical-align: middle;\n    }\n\n    .dataframe tbody tr th {\n        vertical-align: top;\n    }\n\n    .dataframe thead th {\n        text-align: right;\n    }\n</style>\n<table border=\"1\" class=\"dataframe\">\n  <thead>\n    <tr style=\"text-align: right;\">\n      <th></th>\n      <th>Id</th>\n      <th>MSSubClass</th>\n      <th>MSZoning</th>\n      <th>LotFrontage</th>\n      <th>LotArea</th>\n      <th>Street</th>\n      <th>Alley</th>\n      <th>LotShape</th>\n      <th>LandContour</th>\n      <th>Utilities</th>\n      <th>...</th>\n      <th>PoolArea</th>\n      <th>PoolQC</th>\n      <th>Fence</th>\n      <th>MiscFeature</th>\n      <th>MiscVal</th>\n      <th>MoSold</th>\n      <th>YrSold</th>\n      <th>SaleType</th>\n      <th>SaleCondition</th>\n      <th>SalePrice</th>\n    </tr>\n  </thead>\n  <tbody>\n    <tr>\n      <th>200</th>\n      <td>201</td>\n      <td>20</td>\n      <td>RM</td>\n      <td>80.0</td>\n      <td>8546</td>\n      <td>Pave</td>\n      <td>NaN</td>\n      <td>Reg</td>\n      <td>Lvl</td>\n      <td>AllPub</td>\n      <td>...</td>\n      <td>0</td>\n      <td>NaN</td>\n      <td>NaN</td>\n      <td>NaN</td>\n      <td>0</td>\n      <td>3</td>\n      <td>2010</td>\n      <td>WD</td>\n      <td>Normal</td>\n      <td>140000</td>\n    </tr>\n    <tr>\n      <th>229</th>\n      <td>230</td>\n      <td>120</td>\n      <td>RL</td>\n      <td>43.0</td>\n      <td>3182</td>\n      <td>Pave</td>\n      <td>NaN</td>\n      <td>Reg</td>\n      <td>Lvl</td>\n      <td>AllPub</td>\n      <td>...</td>\n      <td>0</td>\n      <td>NaN</td>\n      <td>NaN</td>\n      <td>NaN</td>\n      <td>0</td>\n      <td>5</td>\n      <td>2009</td>\n      <td>WD</td>\n      <td>Normal</td>\n      <td>192500</td>\n    </tr>\n    <tr>\n      <th>1042</th>\n      <td>1043</td>\n      <td>120</td>\n      <td>RL</td>\n      <td>34.0</td>\n      <td>5381</td>\n      <td>Pave</td>\n      <td>NaN</td>\n      <td>IR1</td>\n      <td>Lvl</td>\n      <td>AllPub</td>\n      <td>...</td>\n      <td>0</td>\n      <td>NaN</td>\n      <td>NaN</td>\n      <td>NaN</td>\n      <td>0</td>\n      <td>8</td>\n      <td>2009</td>\n      <td>WD</td>\n      <td>Normal</td>\n      <td>196000</td>\n    </tr>\n    <tr>\n      <th>1434</th>\n      <td>1435</td>\n      <td>20</td>\n      <td>RL</td>\n      <td>80.0</td>\n      <td>17400</td>\n      <td>Pave</td>\n      <td>NaN</td>\n      <td>Reg</td>\n      <td>Low</td>\n      <td>AllPub</td>\n      <td>...</td>\n      <td>0</td>\n      <td>NaN</td>\n      <td>NaN</td>\n      <td>NaN</td>\n      <td>0</td>\n      <td>5</td>\n      <td>2006</td>\n      <td>WD</td>\n      <td>Normal</td>\n      <td>160000</td>\n    </tr>\n    <tr>\n      <th>873</th>\n      <td>874</td>\n      <td>40</td>\n      <td>RL</td>\n      <td>60.0</td>\n      <td>12144</td>\n      <td>Pave</td>\n      <td>NaN</td>\n      <td>Reg</td>\n      <td>Lvl</td>\n      <td>AllPub</td>\n      <td>...</td>\n      <td>0</td>\n      <td>NaN</td>\n      <td>NaN</td>\n      <td>Othr</td>\n      <td>0</td>\n      <td>9</td>\n      <td>2009</td>\n      <td>WD</td>\n      <td>Normal</td>\n      <td>133000</td>\n    </tr>\n    <tr>\n      <th>...</th>\n      <td>...</td>\n      <td>...</td>\n      <td>...</td>\n      <td>...</td>\n      <td>...</td>\n      <td>...</td>\n      <td>...</td>\n      <td>...</td>\n      <td>...</td>\n      <td>...</td>\n      <td>...</td>\n      <td>...</td>\n      <td>...</td>\n      <td>...</td>\n      <td>...</td>\n      <td>...</td>\n      <td>...</td>\n      <td>...</td>\n      <td>...</td>\n      <td>...</td>\n      <td>...</td>\n    </tr>\n    <tr>\n      <th>741</th>\n      <td>742</td>\n      <td>20</td>\n      <td>RL</td>\n      <td>65.0</td>\n      <td>6768</td>\n      <td>Pave</td>\n      <td>NaN</td>\n      <td>IR1</td>\n      <td>Lvl</td>\n      <td>AllPub</td>\n      <td>...</td>\n      <td>0</td>\n      <td>NaN</td>\n      <td>GdPrv</td>\n      <td>NaN</td>\n      <td>0</td>\n      <td>5</td>\n      <td>2008</td>\n      <td>WD</td>\n      <td>Normal</td>\n      <td>142000</td>\n    </tr>\n    <tr>\n      <th>163</th>\n      <td>164</td>\n      <td>45</td>\n      <td>RL</td>\n      <td>55.0</td>\n      <td>5500</td>\n      <td>Pave</td>\n      <td>NaN</td>\n      <td>Reg</td>\n      <td>Lvl</td>\n      <td>AllPub</td>\n      <td>...</td>\n      <td>0</td>\n      <td>NaN</td>\n      <td>MnPrv</td>\n      <td>NaN</td>\n      <td>0</td>\n      <td>4</td>\n      <td>2007</td>\n      <td>WD</td>\n      <td>Normal</td>\n      <td>103200</td>\n    </tr>\n    <tr>\n      <th>206</th>\n      <td>207</td>\n      <td>20</td>\n      <td>RL</td>\n      <td>40.0</td>\n      <td>13673</td>\n      <td>Pave</td>\n      <td>NaN</td>\n      <td>IR1</td>\n      <td>Lvl</td>\n      <td>AllPub</td>\n      <td>...</td>\n      <td>0</td>\n      <td>NaN</td>\n      <td>NaN</td>\n      <td>NaN</td>\n      <td>0</td>\n      <td>3</td>\n      <td>2007</td>\n      <td>WD</td>\n      <td>Normal</td>\n      <td>143900</td>\n    </tr>\n    <tr>\n      <th>793</th>\n      <td>794</td>\n      <td>20</td>\n      <td>RL</td>\n      <td>76.0</td>\n      <td>9158</td>\n      <td>Pave</td>\n      <td>NaN</td>\n      <td>Reg</td>\n      <td>Lvl</td>\n      <td>AllPub</td>\n      <td>...</td>\n      <td>0</td>\n      <td>NaN</td>\n      <td>NaN</td>\n      <td>NaN</td>\n      <td>0</td>\n      <td>6</td>\n      <td>2007</td>\n      <td>New</td>\n      <td>Partial</td>\n      <td>225000</td>\n    </tr>\n    <tr>\n      <th>1321</th>\n      <td>1322</td>\n      <td>20</td>\n      <td>RL</td>\n      <td>NaN</td>\n      <td>6627</td>\n      <td>Pave</td>\n      <td>NaN</td>\n      <td>IR1</td>\n      <td>Lvl</td>\n      <td>AllPub</td>\n      <td>...</td>\n      <td>0</td>\n      <td>NaN</td>\n      <td>NaN</td>\n      <td>NaN</td>\n      <td>0</td>\n      <td>7</td>\n      <td>2008</td>\n      <td>WD</td>\n      <td>Normal</td>\n      <td>72500</td>\n    </tr>\n  </tbody>\n</table>\n<p>1460 rows × 81 columns</p>\n</div>"
     },
     "metadata": {},
     "execution_count": 5
    }
   ],
   "source": [
    "train_pd.sample(frac=1)"
   ]
  },
  {
   "cell_type": "code",
   "execution_count": 4,
   "metadata": {},
   "outputs": [
    {
     "output_type": "execute_result",
     "data": {
      "text/plain": "LotFrontage     float64\nAlley            object\nMasVnrType       object\nMasVnrArea      float64\nBsmtQual         object\nBsmtCond         object\nBsmtExposure     object\nBsmtFinType1     object\nBsmtFinType2     object\nElectrical       object\nFireplaceQu      object\nGarageType       object\nGarageYrBlt     float64\nGarageFinish     object\nGarageQual       object\nGarageCond       object\nPoolQC           object\nFence            object\nMiscFeature      object\ndtype: object"
     },
     "metadata": {},
     "execution_count": 4
    }
   ],
   "source": [
    "null_cols = train_pd.isnull().sum()[train_pd.isnull().sum() > 0]\n",
    "null_cols.index\n",
    "train_pd[list(null_cols.index)].dtypes"
   ]
  },
  {
   "cell_type": "code",
   "execution_count": 5,
   "metadata": {},
   "outputs": [
    {
     "output_type": "execute_result",
     "data": {
      "text/plain": "LotFrontage     0.177397\nAlley           0.937671\nMasVnrType      0.005479\nMasVnrArea      0.005479\nBsmtQual        0.025342\nBsmtCond        0.025342\nBsmtExposure    0.026027\nBsmtFinType1    0.025342\nBsmtFinType2    0.026027\nElectrical      0.000685\nFireplaceQu     0.472603\nGarageType      0.055479\nGarageYrBlt     0.055479\nGarageFinish    0.055479\nGarageQual      0.055479\nGarageCond      0.055479\nPoolQC          0.995205\nFence           0.807534\nMiscFeature     0.963014\ndtype: float64"
     },
     "metadata": {},
     "execution_count": 5
    }
   ],
   "source": [
    "t = train_pd.isnull().sum() / train_pd.shape[0]\n",
    "t[t > 0]"
   ]
  },
  {
   "cell_type": "code",
   "execution_count": 18,
   "metadata": {},
   "outputs": [],
   "source": [
    "a = pd.DataFrame([['a', 'b', 2], ['c', 'd', 5], ['e', 'f', 4]], columns = ['col1', 'col2', 'tar'])"
   ]
  },
  {
   "cell_type": "code",
   "execution_count": 19,
   "metadata": {},
   "outputs": [
    {
     "output_type": "execute_result",
     "data": {
      "text/plain": "  col1 col2  tar\n0    a    b    2\n1    c    d    5\n2    e    f    4",
      "text/html": "<div>\n<style scoped>\n    .dataframe tbody tr th:only-of-type {\n        vertical-align: middle;\n    }\n\n    .dataframe tbody tr th {\n        vertical-align: top;\n    }\n\n    .dataframe thead th {\n        text-align: right;\n    }\n</style>\n<table border=\"1\" class=\"dataframe\">\n  <thead>\n    <tr style=\"text-align: right;\">\n      <th></th>\n      <th>col1</th>\n      <th>col2</th>\n      <th>tar</th>\n    </tr>\n  </thead>\n  <tbody>\n    <tr>\n      <th>0</th>\n      <td>a</td>\n      <td>b</td>\n      <td>2</td>\n    </tr>\n    <tr>\n      <th>1</th>\n      <td>c</td>\n      <td>d</td>\n      <td>5</td>\n    </tr>\n    <tr>\n      <th>2</th>\n      <td>e</td>\n      <td>f</td>\n      <td>4</td>\n    </tr>\n  </tbody>\n</table>\n</div>"
     },
     "metadata": {},
     "execution_count": 19
    }
   ],
   "source": [
    "a"
   ]
  },
  {
   "cell_type": "code",
   "execution_count": 21,
   "metadata": {},
   "outputs": [
    {
     "output_type": "error",
     "ename": "NameError",
     "evalue": "name 'levels' is not defined",
     "traceback": [
      "\u001b[0;31m---------------------------------------------------------------------------\u001b[0m",
      "\u001b[0;31mNameError\u001b[0m                                 Traceback (most recent call last)",
      "\u001b[0;32m<ipython-input-21-491fee9ec5c1>\u001b[0m in \u001b[0;36m<module>\u001b[0;34m\u001b[0m\n\u001b[1;32m      1\u001b[0m \u001b[0;32mfrom\u001b[0m \u001b[0mstatsmodels\u001b[0m\u001b[0;34m.\u001b[0m\u001b[0mformula\u001b[0m\u001b[0;34m.\u001b[0m\u001b[0mapi\u001b[0m \u001b[0;32mimport\u001b[0m \u001b[0mols\u001b[0m\u001b[0;34m\u001b[0m\u001b[0m\n\u001b[0;32m----> 2\u001b[0;31m \u001b[0mlevels\u001b[0m\u001b[0;34m[\u001b[0m\u001b[0;34m'col1'\u001b[0m\u001b[0;34m]\u001b[0m \u001b[0;34m=\u001b[0m \u001b[0;34m[\u001b[0m\u001b[0;34m'a'\u001b[0m\u001b[0;34m,\u001b[0m \u001b[0;34m'c'\u001b[0m\u001b[0;34m,\u001b[0m \u001b[0;34m'e'\u001b[0m\u001b[0;34m]\u001b[0m\u001b[0;34m\u001b[0m\u001b[0m\n\u001b[0m\u001b[1;32m      3\u001b[0m \u001b[0mlevels\u001b[0m\u001b[0;34m[\u001b[0m\u001b[0;34m'col2'\u001b[0m\u001b[0;34m]\u001b[0m \u001b[0;34m=\u001b[0m \u001b[0;34m[\u001b[0m\u001b[0;34m'b'\u001b[0m\u001b[0;34m,\u001b[0m \u001b[0;34m'd'\u001b[0m\u001b[0;34m,\u001b[0m \u001b[0;34m'f'\u001b[0m\u001b[0;34m]\u001b[0m\u001b[0;34m\u001b[0m\u001b[0m\n\u001b[1;32m      4\u001b[0m \u001b[0mmodel\u001b[0m \u001b[0;34m=\u001b[0m \u001b[0mols\u001b[0m\u001b[0;34m(\u001b[0m\u001b[0;34m'tar ~ C(col1, levels = levels[\"col1\"]) + C(col2, levels = levels[\"col2\"])'\u001b[0m\u001b[0;34m,\u001b[0m \u001b[0ma\u001b[0m\u001b[0;34m)\u001b[0m\u001b[0;34m.\u001b[0m\u001b[0mfit\u001b[0m\u001b[0;34m\u001b[0m\u001b[0m\n",
      "\u001b[0;31mNameError\u001b[0m: name 'levels' is not defined"
     ]
    }
   ],
   "source": [
    "from statsmodels.formula.api import ols\n",
    "levels = {}\n",
    "levels['col1'] = ['a', 'c', 'e']\n",
    "levels['col2'] = ['b', 'd', 'f']\n",
    "model = ols('tar ~ C(col1, levels = levels[\"col1\"]) + C(col2, levels = levels[\"col2\"])', a).fit"
   ]
  },
  {
   "cell_type": "code",
   "execution_count": 6,
   "metadata": {},
   "outputs": [
    {
     "output_type": "execute_result",
     "data": {
      "text/plain": "TA    1326\nFa      35\nGd       9\nPo       7\nEx       2\nName: GarageCond, dtype: int64"
     },
     "metadata": {},
     "execution_count": 6
    }
   ],
   "source": [
    "train_pd['GarageCond'].value_counts()"
   ]
  },
  {
   "cell_type": "code",
   "execution_count": 23,
   "metadata": {},
   "outputs": [
    {
     "output_type": "execute_result",
     "data": {
      "text/plain": "(1460, 81)"
     },
     "metadata": {},
     "execution_count": 23
    }
   ],
   "source": [
    "train_pd.shape"
   ]
  },
  {
   "cell_type": "code",
   "execution_count": 8,
   "metadata": {},
   "outputs": [
    {
     "output_type": "execute_result",
     "data": {
      "text/plain": "397"
     },
     "metadata": {},
     "execution_count": 8
    }
   ],
   "source": [
    "train_pd['OverallQual'].value_counts().iloc[0]"
   ]
  },
  {
   "cell_type": "code",
   "execution_count": 3,
   "metadata": {},
   "outputs": [
    {
     "output_type": "stream",
     "name": "stdout",
     "text": "(15, 81)\n(32, 81)\n(68, 81)\n(24, 81)\n(7, 81)\n(52, 81)\n"
    }
   ],
   "source": [
    "from code_preprocessing.preprocess import DataFrameImputer\n",
    "data_imputer = DataFrameImputer()\n",
    "df = data_imputer.fit_transform(train_pd)"
   ]
  },
  {
   "cell_type": "code",
   "execution_count": 4,
   "metadata": {},
   "outputs": [
    {
     "output_type": "execute_result",
     "data": {
      "text/plain": "['Street',\n 'Utilities',\n 'RoofMatl',\n 'LowQualFinSF',\n 'KitchenAbvGr',\n 'ThirdSsnPorch',\n 'PoolArea']"
     },
     "metadata": {},
     "execution_count": 4
    }
   ],
   "source": [
    "data_imputer.remove_cols"
   ]
  },
  {
   "cell_type": "code",
   "execution_count": 45,
   "metadata": {},
   "outputs": [
    {
     "output_type": "execute_result",
     "data": {
      "text/plain": "<matplotlib.axes._subplots.AxesSubplot at 0x7f582ba11160>"
     },
     "metadata": {},
     "execution_count": 45
    },
    {
     "output_type": "display_data",
     "data": {
      "text/plain": "<Figure size 432x288 with 1 Axes>",
      "image/svg+xml": "<?xml version=\"1.0\" encoding=\"utf-8\" standalone=\"no\"?>\n<!DOCTYPE svg PUBLIC \"-//W3C//DTD SVG 1.1//EN\"\n  \"http://www.w3.org/Graphics/SVG/1.1/DTD/svg11.dtd\">\n<!-- Created with matplotlib (https://matplotlib.org/) -->\n<svg height=\"262.19625pt\" version=\"1.1\" viewBox=\"0 0 408.053125 262.19625\" width=\"408.053125pt\" xmlns=\"http://www.w3.org/2000/svg\" xmlns:xlink=\"http://www.w3.org/1999/xlink\">\n <defs>\n  <style type=\"text/css\">\n*{stroke-linecap:butt;stroke-linejoin:round;}\n  </style>\n </defs>\n <g id=\"figure_1\">\n  <g id=\"patch_1\">\n   <path d=\"M 0 262.19625 \nL 408.053125 262.19625 \nL 408.053125 0 \nL 0 0 \nz\n\" style=\"fill:none;\"/>\n  </g>\n  <g id=\"axes_1\">\n   <g id=\"patch_2\">\n    <path d=\"M 66.053125 224.64 \nL 400.853125 224.64 \nL 400.853125 7.2 \nL 66.053125 7.2 \nz\n\" style=\"fill:#ffffff;\"/>\n   </g>\n   <g id=\"patch_3\">\n    <path clip-path=\"url(#p7e32668a3c)\" d=\"M 70.238125 188.650717 \nL 103.718125 188.650717 \nL 103.718125 165.592101 \nL 70.238125 165.592101 \nL 70.238125 188.650717 \nz\n\" style=\"fill:#3274a1;stroke:#3d3d3d;stroke-linejoin:miter;stroke-width:1.5;\"/>\n   </g>\n   <g id=\"patch_4\">\n    <path clip-path=\"url(#p7e32668a3c)\" d=\"M 112.088125 196.680056 \nL 145.568125 196.680056 \nL 145.568125 193.523222 \nL 112.088125 193.523222 \nL 112.088125 196.680056 \nz\n\" style=\"fill:#e1812c;stroke:#3d3d3d;stroke-linejoin:miter;stroke-width:1.5;\"/>\n   </g>\n   <g id=\"patch_5\">\n    <path clip-path=\"url(#p7e32668a3c)\" d=\"M 153.938125 201.655501 \nL 187.418125 201.655501 \nL 187.418125 193.900669 \nL 153.938125 193.900669 \nL 153.938125 201.655501 \nz\n\" style=\"fill:#3a923a;stroke:#3d3d3d;stroke-linejoin:miter;stroke-width:1.5;\"/>\n   </g>\n   <g id=\"patch_6\">\n    <path clip-path=\"url(#p7e32668a3c)\" d=\"M 195.788125 198.12122 \nL 229.268125 198.12122 \nL 229.268125 186.729165 \nL 195.788125 186.729165 \nL 195.788125 198.12122 \nz\n\" style=\"fill:#c03d3e;stroke:#3d3d3d;stroke-linejoin:miter;stroke-width:1.5;\"/>\n   </g>\n   <g id=\"patch_7\">\n    <path clip-path=\"url(#p7e32668a3c)\" d=\"M 237.638125 159.878917 \nL 271.118125 159.878917 \nL 271.118125 132.393871 \nL 237.638125 132.393871 \nL 237.638125 159.878917 \nz\n\" style=\"fill:#9372b2;stroke:#3d3d3d;stroke-linejoin:miter;stroke-width:1.5;\"/>\n   </g>\n   <g id=\"patch_8\">\n    <path clip-path=\"url(#p7e32668a3c)\" d=\"M 279.488125 135.121788 \nL 312.968125 135.121788 \nL 312.968125 135.121788 \nL 279.488125 135.121788 \nL 279.488125 135.121788 \nz\n\" style=\"fill:#845b53;stroke:#3d3d3d;stroke-linejoin:miter;stroke-width:1.5;\"/>\n   </g>\n   <g id=\"patch_9\">\n    <path clip-path=\"url(#p7e32668a3c)\" d=\"M 321.338125 186.755244 \nL 354.818125 186.755244 \nL 354.818125 186.755244 \nL 321.338125 186.755244 \nL 321.338125 186.755244 \nz\n\" style=\"fill:#d684bd;stroke:#3d3d3d;stroke-linejoin:miter;stroke-width:1.5;\"/>\n   </g>\n   <g id=\"patch_10\">\n    <path clip-path=\"url(#p7e32668a3c)\" d=\"M 363.188125 172.180277 \nL 396.668125 172.180277 \nL 396.668125 172.180277 \nL 363.188125 172.180277 \nL 363.188125 172.180277 \nz\n\" style=\"fill:#7f7f7f;stroke:#3d3d3d;stroke-linejoin:miter;stroke-width:1.5;\"/>\n   </g>\n   <g id=\"matplotlib.axis_1\">\n    <g id=\"xtick_1\">\n     <g id=\"line2d_1\">\n      <defs>\n       <path d=\"M 0 0 \nL 0 3.5 \n\" id=\"m17c53090f3\" style=\"stroke:#000000;stroke-width:0.8;\"/>\n      </defs>\n      <g>\n       <use style=\"stroke:#000000;stroke-width:0.8;\" x=\"86.978125\" xlink:href=\"#m17c53090f3\" y=\"224.64\"/>\n      </g>\n     </g>\n     <g id=\"text_1\">\n      <!-- Norm -->\n      <defs>\n       <path d=\"M 9.8125 72.90625 \nL 23.09375 72.90625 \nL 55.421875 11.921875 \nL 55.421875 72.90625 \nL 64.984375 72.90625 \nL 64.984375 0 \nL 51.703125 0 \nL 19.390625 60.984375 \nL 19.390625 0 \nL 9.8125 0 \nz\n\" id=\"DejaVuSans-78\"/>\n       <path d=\"M 30.609375 48.390625 \nQ 23.390625 48.390625 19.1875 42.75 \nQ 14.984375 37.109375 14.984375 27.296875 \nQ 14.984375 17.484375 19.15625 11.84375 \nQ 23.34375 6.203125 30.609375 6.203125 \nQ 37.796875 6.203125 41.984375 11.859375 \nQ 46.1875 17.53125 46.1875 27.296875 \nQ 46.1875 37.015625 41.984375 42.703125 \nQ 37.796875 48.390625 30.609375 48.390625 \nz\nM 30.609375 56 \nQ 42.328125 56 49.015625 48.375 \nQ 55.71875 40.765625 55.71875 27.296875 \nQ 55.71875 13.875 49.015625 6.21875 \nQ 42.328125 -1.421875 30.609375 -1.421875 \nQ 18.84375 -1.421875 12.171875 6.21875 \nQ 5.515625 13.875 5.515625 27.296875 \nQ 5.515625 40.765625 12.171875 48.375 \nQ 18.84375 56 30.609375 56 \nz\n\" id=\"DejaVuSans-111\"/>\n       <path d=\"M 41.109375 46.296875 \nQ 39.59375 47.171875 37.8125 47.578125 \nQ 36.03125 48 33.890625 48 \nQ 26.265625 48 22.1875 43.046875 \nQ 18.109375 38.09375 18.109375 28.8125 \nL 18.109375 0 \nL 9.078125 0 \nL 9.078125 54.6875 \nL 18.109375 54.6875 \nL 18.109375 46.1875 \nQ 20.953125 51.171875 25.484375 53.578125 \nQ 30.03125 56 36.53125 56 \nQ 37.453125 56 38.578125 55.875 \nQ 39.703125 55.765625 41.0625 55.515625 \nz\n\" id=\"DejaVuSans-114\"/>\n       <path d=\"M 52 44.1875 \nQ 55.375 50.25 60.0625 53.125 \nQ 64.75 56 71.09375 56 \nQ 79.640625 56 84.28125 50.015625 \nQ 88.921875 44.046875 88.921875 33.015625 \nL 88.921875 0 \nL 79.890625 0 \nL 79.890625 32.71875 \nQ 79.890625 40.578125 77.09375 44.375 \nQ 74.3125 48.1875 68.609375 48.1875 \nQ 61.625 48.1875 57.5625 43.546875 \nQ 53.515625 38.921875 53.515625 30.90625 \nL 53.515625 0 \nL 44.484375 0 \nL 44.484375 32.71875 \nQ 44.484375 40.625 41.703125 44.40625 \nQ 38.921875 48.1875 33.109375 48.1875 \nQ 26.21875 48.1875 22.15625 43.53125 \nQ 18.109375 38.875 18.109375 30.90625 \nL 18.109375 0 \nL 9.078125 0 \nL 9.078125 54.6875 \nL 18.109375 54.6875 \nL 18.109375 46.1875 \nQ 21.1875 51.21875 25.484375 53.609375 \nQ 29.78125 56 35.6875 56 \nQ 41.65625 56 45.828125 52.96875 \nQ 50 49.953125 52 44.1875 \nz\n\" id=\"DejaVuSans-109\"/>\n      </defs>\n      <g transform=\"translate(73.339844 239.238437)scale(0.1 -0.1)\">\n       <use xlink:href=\"#DejaVuSans-78\"/>\n       <use x=\"74.804688\" xlink:href=\"#DejaVuSans-111\"/>\n       <use x=\"135.986328\" xlink:href=\"#DejaVuSans-114\"/>\n       <use x=\"175.349609\" xlink:href=\"#DejaVuSans-109\"/>\n      </g>\n     </g>\n    </g>\n    <g id=\"xtick_2\">\n     <g id=\"line2d_2\">\n      <g>\n       <use style=\"stroke:#000000;stroke-width:0.8;\" x=\"128.828125\" xlink:href=\"#m17c53090f3\" y=\"224.64\"/>\n      </g>\n     </g>\n     <g id=\"text_2\">\n      <!-- Artery -->\n      <defs>\n       <path d=\"M 34.1875 63.1875 \nL 20.796875 26.90625 \nL 47.609375 26.90625 \nz\nM 28.609375 72.90625 \nL 39.796875 72.90625 \nL 67.578125 0 \nL 57.328125 0 \nL 50.6875 18.703125 \nL 17.828125 18.703125 \nL 11.1875 0 \nL 0.78125 0 \nz\n\" id=\"DejaVuSans-65\"/>\n       <path d=\"M 18.3125 70.21875 \nL 18.3125 54.6875 \nL 36.8125 54.6875 \nL 36.8125 47.703125 \nL 18.3125 47.703125 \nL 18.3125 18.015625 \nQ 18.3125 11.328125 20.140625 9.421875 \nQ 21.96875 7.515625 27.59375 7.515625 \nL 36.8125 7.515625 \nL 36.8125 0 \nL 27.59375 0 \nQ 17.1875 0 13.234375 3.875 \nQ 9.28125 7.765625 9.28125 18.015625 \nL 9.28125 47.703125 \nL 2.6875 47.703125 \nL 2.6875 54.6875 \nL 9.28125 54.6875 \nL 9.28125 70.21875 \nz\n\" id=\"DejaVuSans-116\"/>\n       <path d=\"M 56.203125 29.59375 \nL 56.203125 25.203125 \nL 14.890625 25.203125 \nQ 15.484375 15.921875 20.484375 11.0625 \nQ 25.484375 6.203125 34.421875 6.203125 \nQ 39.59375 6.203125 44.453125 7.46875 \nQ 49.3125 8.734375 54.109375 11.28125 \nL 54.109375 2.78125 \nQ 49.265625 0.734375 44.1875 -0.34375 \nQ 39.109375 -1.421875 33.890625 -1.421875 \nQ 20.796875 -1.421875 13.15625 6.1875 \nQ 5.515625 13.8125 5.515625 26.8125 \nQ 5.515625 40.234375 12.765625 48.109375 \nQ 20.015625 56 32.328125 56 \nQ 43.359375 56 49.78125 48.890625 \nQ 56.203125 41.796875 56.203125 29.59375 \nz\nM 47.21875 32.234375 \nQ 47.125 39.59375 43.09375 43.984375 \nQ 39.0625 48.390625 32.421875 48.390625 \nQ 24.90625 48.390625 20.390625 44.140625 \nQ 15.875 39.890625 15.1875 32.171875 \nz\n\" id=\"DejaVuSans-101\"/>\n       <path d=\"M 32.171875 -5.078125 \nQ 28.375 -14.84375 24.75 -17.8125 \nQ 21.140625 -20.796875 15.09375 -20.796875 \nL 7.90625 -20.796875 \nL 7.90625 -13.28125 \nL 13.1875 -13.28125 \nQ 16.890625 -13.28125 18.9375 -11.515625 \nQ 21 -9.765625 23.484375 -3.21875 \nL 25.09375 0.875 \nL 2.984375 54.6875 \nL 12.5 54.6875 \nL 29.59375 11.921875 \nL 46.6875 54.6875 \nL 56.203125 54.6875 \nz\n\" id=\"DejaVuSans-121\"/>\n      </defs>\n      <g transform=\"translate(113.300781 239.238437)scale(0.1 -0.1)\">\n       <use xlink:href=\"#DejaVuSans-65\"/>\n       <use x=\"68.408203\" xlink:href=\"#DejaVuSans-114\"/>\n       <use x=\"109.521484\" xlink:href=\"#DejaVuSans-116\"/>\n       <use x=\"148.730469\" xlink:href=\"#DejaVuSans-101\"/>\n       <use x=\"210.253906\" xlink:href=\"#DejaVuSans-114\"/>\n       <use x=\"251.367188\" xlink:href=\"#DejaVuSans-121\"/>\n      </g>\n     </g>\n    </g>\n    <g id=\"xtick_3\">\n     <g id=\"line2d_3\">\n      <g>\n       <use style=\"stroke:#000000;stroke-width:0.8;\" x=\"170.678125\" xlink:href=\"#m17c53090f3\" y=\"224.64\"/>\n      </g>\n     </g>\n     <g id=\"text_3\">\n      <!-- RRNn -->\n      <defs>\n       <path d=\"M 44.390625 34.1875 \nQ 47.5625 33.109375 50.5625 29.59375 \nQ 53.5625 26.078125 56.59375 19.921875 \nL 66.609375 0 \nL 56 0 \nL 46.6875 18.703125 \nQ 43.0625 26.03125 39.671875 28.421875 \nQ 36.28125 30.8125 30.421875 30.8125 \nL 19.671875 30.8125 \nL 19.671875 0 \nL 9.8125 0 \nL 9.8125 72.90625 \nL 32.078125 72.90625 \nQ 44.578125 72.90625 50.734375 67.671875 \nQ 56.890625 62.453125 56.890625 51.90625 \nQ 56.890625 45.015625 53.6875 40.46875 \nQ 50.484375 35.9375 44.390625 34.1875 \nz\nM 19.671875 64.796875 \nL 19.671875 38.921875 \nL 32.078125 38.921875 \nQ 39.203125 38.921875 42.84375 42.21875 \nQ 46.484375 45.515625 46.484375 51.90625 \nQ 46.484375 58.296875 42.84375 61.546875 \nQ 39.203125 64.796875 32.078125 64.796875 \nz\n\" id=\"DejaVuSans-82\"/>\n       <path d=\"M 54.890625 33.015625 \nL 54.890625 0 \nL 45.90625 0 \nL 45.90625 32.71875 \nQ 45.90625 40.484375 42.875 44.328125 \nQ 39.84375 48.1875 33.796875 48.1875 \nQ 26.515625 48.1875 22.3125 43.546875 \nQ 18.109375 38.921875 18.109375 30.90625 \nL 18.109375 0 \nL 9.078125 0 \nL 9.078125 54.6875 \nL 18.109375 54.6875 \nL 18.109375 46.1875 \nQ 21.34375 51.125 25.703125 53.5625 \nQ 30.078125 56 35.796875 56 \nQ 45.21875 56 50.046875 50.171875 \nQ 54.890625 44.34375 54.890625 33.015625 \nz\n\" id=\"DejaVuSans-110\"/>\n      </defs>\n      <g transform=\"translate(156.820313 239.238437)scale(0.1 -0.1)\">\n       <use xlink:href=\"#DejaVuSans-82\"/>\n       <use x=\"69.482422\" xlink:href=\"#DejaVuSans-82\"/>\n       <use x=\"138.964844\" xlink:href=\"#DejaVuSans-78\"/>\n       <use x=\"213.769531\" xlink:href=\"#DejaVuSans-110\"/>\n      </g>\n     </g>\n    </g>\n    <g id=\"xtick_4\">\n     <g id=\"line2d_4\">\n      <g>\n       <use style=\"stroke:#000000;stroke-width:0.8;\" x=\"212.528125\" xlink:href=\"#m17c53090f3\" y=\"224.64\"/>\n      </g>\n     </g>\n     <g id=\"text_4\">\n      <!-- Feedr -->\n      <defs>\n       <path d=\"M 9.8125 72.90625 \nL 51.703125 72.90625 \nL 51.703125 64.59375 \nL 19.671875 64.59375 \nL 19.671875 43.109375 \nL 48.578125 43.109375 \nL 48.578125 34.8125 \nL 19.671875 34.8125 \nL 19.671875 0 \nL 9.8125 0 \nz\n\" id=\"DejaVuSans-70\"/>\n       <path d=\"M 45.40625 46.390625 \nL 45.40625 75.984375 \nL 54.390625 75.984375 \nL 54.390625 0 \nL 45.40625 0 \nL 45.40625 8.203125 \nQ 42.578125 3.328125 38.25 0.953125 \nQ 33.9375 -1.421875 27.875 -1.421875 \nQ 17.96875 -1.421875 11.734375 6.484375 \nQ 5.515625 14.40625 5.515625 27.296875 \nQ 5.515625 40.1875 11.734375 48.09375 \nQ 17.96875 56 27.875 56 \nQ 33.9375 56 38.25 53.625 \nQ 42.578125 51.265625 45.40625 46.390625 \nz\nM 14.796875 27.296875 \nQ 14.796875 17.390625 18.875 11.75 \nQ 22.953125 6.109375 30.078125 6.109375 \nQ 37.203125 6.109375 41.296875 11.75 \nQ 45.40625 17.390625 45.40625 27.296875 \nQ 45.40625 37.203125 41.296875 42.84375 \nQ 37.203125 48.484375 30.078125 48.484375 \nQ 22.953125 48.484375 18.875 42.84375 \nQ 14.796875 37.203125 14.796875 27.296875 \nz\n\" id=\"DejaVuSans-100\"/>\n      </defs>\n      <g transform=\"translate(198.544531 239.238437)scale(0.1 -0.1)\">\n       <use xlink:href=\"#DejaVuSans-70\"/>\n       <use x=\"52.019531\" xlink:href=\"#DejaVuSans-101\"/>\n       <use x=\"113.542969\" xlink:href=\"#DejaVuSans-101\"/>\n       <use x=\"175.066406\" xlink:href=\"#DejaVuSans-100\"/>\n       <use x=\"238.542969\" xlink:href=\"#DejaVuSans-114\"/>\n      </g>\n     </g>\n    </g>\n    <g id=\"xtick_5\">\n     <g id=\"line2d_5\">\n      <g>\n       <use style=\"stroke:#000000;stroke-width:0.8;\" x=\"254.378125\" xlink:href=\"#m17c53090f3\" y=\"224.64\"/>\n      </g>\n     </g>\n     <g id=\"text_5\">\n      <!-- PosN -->\n      <defs>\n       <path d=\"M 19.671875 64.796875 \nL 19.671875 37.40625 \nL 32.078125 37.40625 \nQ 38.96875 37.40625 42.71875 40.96875 \nQ 46.484375 44.53125 46.484375 51.125 \nQ 46.484375 57.671875 42.71875 61.234375 \nQ 38.96875 64.796875 32.078125 64.796875 \nz\nM 9.8125 72.90625 \nL 32.078125 72.90625 \nQ 44.34375 72.90625 50.609375 67.359375 \nQ 56.890625 61.8125 56.890625 51.125 \nQ 56.890625 40.328125 50.609375 34.8125 \nQ 44.34375 29.296875 32.078125 29.296875 \nL 19.671875 29.296875 \nL 19.671875 0 \nL 9.8125 0 \nz\n\" id=\"DejaVuSans-80\"/>\n       <path d=\"M 44.28125 53.078125 \nL 44.28125 44.578125 \nQ 40.484375 46.53125 36.375 47.5 \nQ 32.28125 48.484375 27.875 48.484375 \nQ 21.1875 48.484375 17.84375 46.4375 \nQ 14.5 44.390625 14.5 40.28125 \nQ 14.5 37.15625 16.890625 35.375 \nQ 19.28125 33.59375 26.515625 31.984375 \nL 29.59375 31.296875 \nQ 39.15625 29.25 43.1875 25.515625 \nQ 47.21875 21.78125 47.21875 15.09375 \nQ 47.21875 7.46875 41.1875 3.015625 \nQ 35.15625 -1.421875 24.609375 -1.421875 \nQ 20.21875 -1.421875 15.453125 -0.5625 \nQ 10.6875 0.296875 5.421875 2 \nL 5.421875 11.28125 \nQ 10.40625 8.6875 15.234375 7.390625 \nQ 20.0625 6.109375 24.8125 6.109375 \nQ 31.15625 6.109375 34.5625 8.28125 \nQ 37.984375 10.453125 37.984375 14.40625 \nQ 37.984375 18.0625 35.515625 20.015625 \nQ 33.0625 21.96875 24.703125 23.78125 \nL 21.578125 24.515625 \nQ 13.234375 26.265625 9.515625 29.90625 \nQ 5.8125 33.546875 5.8125 39.890625 \nQ 5.8125 47.609375 11.28125 51.796875 \nQ 16.75 56 26.8125 56 \nQ 31.78125 56 36.171875 55.265625 \nQ 40.578125 54.546875 44.28125 53.078125 \nz\n\" id=\"DejaVuSans-115\"/>\n      </defs>\n      <g transform=\"translate(242.139844 239.238437)scale(0.1 -0.1)\">\n       <use xlink:href=\"#DejaVuSans-80\"/>\n       <use x=\"56.677734\" xlink:href=\"#DejaVuSans-111\"/>\n       <use x=\"117.859375\" xlink:href=\"#DejaVuSans-115\"/>\n       <use x=\"169.958984\" xlink:href=\"#DejaVuSans-78\"/>\n      </g>\n     </g>\n    </g>\n    <g id=\"xtick_6\">\n     <g id=\"line2d_6\">\n      <g>\n       <use style=\"stroke:#000000;stroke-width:0.8;\" x=\"296.228125\" xlink:href=\"#m17c53090f3\" y=\"224.64\"/>\n      </g>\n     </g>\n     <g id=\"text_6\">\n      <!-- PosA -->\n      <g transform=\"translate(284.310156 239.238437)scale(0.1 -0.1)\">\n       <use xlink:href=\"#DejaVuSans-80\"/>\n       <use x=\"56.677734\" xlink:href=\"#DejaVuSans-111\"/>\n       <use x=\"117.859375\" xlink:href=\"#DejaVuSans-115\"/>\n       <use x=\"169.958984\" xlink:href=\"#DejaVuSans-65\"/>\n      </g>\n     </g>\n    </g>\n    <g id=\"xtick_7\">\n     <g id=\"line2d_7\">\n      <g>\n       <use style=\"stroke:#000000;stroke-width:0.8;\" x=\"338.078125\" xlink:href=\"#m17c53090f3\" y=\"224.64\"/>\n      </g>\n     </g>\n     <g id=\"text_7\">\n      <!-- RRAn -->\n      <g transform=\"translate(324.740625 239.238437)scale(0.1 -0.1)\">\n       <use xlink:href=\"#DejaVuSans-82\"/>\n       <use x=\"69.482422\" xlink:href=\"#DejaVuSans-82\"/>\n       <use x=\"134.964844\" xlink:href=\"#DejaVuSans-65\"/>\n       <use x=\"203.373047\" xlink:href=\"#DejaVuSans-110\"/>\n      </g>\n     </g>\n    </g>\n    <g id=\"xtick_8\">\n     <g id=\"line2d_8\">\n      <g>\n       <use style=\"stroke:#000000;stroke-width:0.8;\" x=\"379.928125\" xlink:href=\"#m17c53090f3\" y=\"224.64\"/>\n      </g>\n     </g>\n     <g id=\"text_8\">\n      <!-- RRAe -->\n      <g transform=\"translate(366.770313 239.238437)scale(0.1 -0.1)\">\n       <use xlink:href=\"#DejaVuSans-82\"/>\n       <use x=\"69.482422\" xlink:href=\"#DejaVuSans-82\"/>\n       <use x=\"134.964844\" xlink:href=\"#DejaVuSans-65\"/>\n       <use x=\"201.623047\" xlink:href=\"#DejaVuSans-101\"/>\n      </g>\n     </g>\n    </g>\n    <g id=\"text_9\">\n     <!-- Condition2 -->\n     <defs>\n      <path d=\"M 64.40625 67.28125 \nL 64.40625 56.890625 \nQ 59.421875 61.53125 53.78125 63.8125 \nQ 48.140625 66.109375 41.796875 66.109375 \nQ 29.296875 66.109375 22.65625 58.46875 \nQ 16.015625 50.828125 16.015625 36.375 \nQ 16.015625 21.96875 22.65625 14.328125 \nQ 29.296875 6.6875 41.796875 6.6875 \nQ 48.140625 6.6875 53.78125 8.984375 \nQ 59.421875 11.28125 64.40625 15.921875 \nL 64.40625 5.609375 \nQ 59.234375 2.09375 53.4375 0.328125 \nQ 47.65625 -1.421875 41.21875 -1.421875 \nQ 24.65625 -1.421875 15.125 8.703125 \nQ 5.609375 18.84375 5.609375 36.375 \nQ 5.609375 53.953125 15.125 64.078125 \nQ 24.65625 74.21875 41.21875 74.21875 \nQ 47.75 74.21875 53.53125 72.484375 \nQ 59.328125 70.75 64.40625 67.28125 \nz\n\" id=\"DejaVuSans-67\"/>\n      <path d=\"M 9.421875 54.6875 \nL 18.40625 54.6875 \nL 18.40625 0 \nL 9.421875 0 \nz\nM 9.421875 75.984375 \nL 18.40625 75.984375 \nL 18.40625 64.59375 \nL 9.421875 64.59375 \nz\n\" id=\"DejaVuSans-105\"/>\n      <path d=\"M 19.1875 8.296875 \nL 53.609375 8.296875 \nL 53.609375 0 \nL 7.328125 0 \nL 7.328125 8.296875 \nQ 12.9375 14.109375 22.625 23.890625 \nQ 32.328125 33.6875 34.8125 36.53125 \nQ 39.546875 41.84375 41.421875 45.53125 \nQ 43.3125 49.21875 43.3125 52.78125 \nQ 43.3125 58.59375 39.234375 62.25 \nQ 35.15625 65.921875 28.609375 65.921875 \nQ 23.96875 65.921875 18.8125 64.3125 \nQ 13.671875 62.703125 7.8125 59.421875 \nL 7.8125 69.390625 \nQ 13.765625 71.78125 18.9375 73 \nQ 24.125 74.21875 28.421875 74.21875 \nQ 39.75 74.21875 46.484375 68.546875 \nQ 53.21875 62.890625 53.21875 53.421875 \nQ 53.21875 48.921875 51.53125 44.890625 \nQ 49.859375 40.875 45.40625 35.40625 \nQ 44.1875 33.984375 37.640625 27.21875 \nQ 31.109375 20.453125 19.1875 8.296875 \nz\n\" id=\"DejaVuSans-50\"/>\n     </defs>\n     <g transform=\"translate(206.411719 252.916562)scale(0.1 -0.1)\">\n      <use xlink:href=\"#DejaVuSans-67\"/>\n      <use x=\"69.824219\" xlink:href=\"#DejaVuSans-111\"/>\n      <use x=\"131.005859\" xlink:href=\"#DejaVuSans-110\"/>\n      <use x=\"194.384766\" xlink:href=\"#DejaVuSans-100\"/>\n      <use x=\"257.861328\" xlink:href=\"#DejaVuSans-105\"/>\n      <use x=\"285.644531\" xlink:href=\"#DejaVuSans-116\"/>\n      <use x=\"324.853516\" xlink:href=\"#DejaVuSans-105\"/>\n      <use x=\"352.636719\" xlink:href=\"#DejaVuSans-111\"/>\n      <use x=\"413.818359\" xlink:href=\"#DejaVuSans-110\"/>\n      <use x=\"477.197266\" xlink:href=\"#DejaVuSans-50\"/>\n     </g>\n    </g>\n   </g>\n   <g id=\"matplotlib.axis_2\">\n    <g id=\"ytick_1\">\n     <g id=\"line2d_9\">\n      <defs>\n       <path d=\"M 0 0 \nL -3.5 0 \n\" id=\"m3e291767dc\" style=\"stroke:#000000;stroke-width:0.8;\"/>\n      </defs>\n      <g>\n       <use style=\"stroke:#000000;stroke-width:0.8;\" x=\"66.053125\" xlink:href=\"#m3e291767dc\" y=\"224.336669\"/>\n      </g>\n     </g>\n     <g id=\"text_10\">\n      <!-- 0 -->\n      <defs>\n       <path d=\"M 31.78125 66.40625 \nQ 24.171875 66.40625 20.328125 58.90625 \nQ 16.5 51.421875 16.5 36.375 \nQ 16.5 21.390625 20.328125 13.890625 \nQ 24.171875 6.390625 31.78125 6.390625 \nQ 39.453125 6.390625 43.28125 13.890625 \nQ 47.125 21.390625 47.125 36.375 \nQ 47.125 51.421875 43.28125 58.90625 \nQ 39.453125 66.40625 31.78125 66.40625 \nz\nM 31.78125 74.21875 \nQ 44.046875 74.21875 50.515625 64.515625 \nQ 56.984375 54.828125 56.984375 36.375 \nQ 56.984375 17.96875 50.515625 8.265625 \nQ 44.046875 -1.421875 31.78125 -1.421875 \nQ 19.53125 -1.421875 13.0625 8.265625 \nQ 6.59375 17.96875 6.59375 36.375 \nQ 6.59375 54.828125 13.0625 64.515625 \nQ 19.53125 74.21875 31.78125 74.21875 \nz\n\" id=\"DejaVuSans-48\"/>\n      </defs>\n      <g transform=\"translate(52.690625 228.135888)scale(0.1 -0.1)\">\n       <use xlink:href=\"#DejaVuSans-48\"/>\n      </g>\n     </g>\n    </g>\n    <g id=\"ytick_2\">\n     <g id=\"line2d_10\">\n      <g>\n       <use style=\"stroke:#000000;stroke-width:0.8;\" x=\"66.053125\" xlink:href=\"#m3e291767dc\" y=\"196.885937\"/>\n      </g>\n     </g>\n     <g id=\"text_11\">\n      <!-- 100000 -->\n      <defs>\n       <path d=\"M 12.40625 8.296875 \nL 28.515625 8.296875 \nL 28.515625 63.921875 \nL 10.984375 60.40625 \nL 10.984375 69.390625 \nL 28.421875 72.90625 \nL 38.28125 72.90625 \nL 38.28125 8.296875 \nL 54.390625 8.296875 \nL 54.390625 0 \nL 12.40625 0 \nz\n\" id=\"DejaVuSans-49\"/>\n      </defs>\n      <g transform=\"translate(20.878125 200.685155)scale(0.1 -0.1)\">\n       <use xlink:href=\"#DejaVuSans-49\"/>\n       <use x=\"63.623047\" xlink:href=\"#DejaVuSans-48\"/>\n       <use x=\"127.246094\" xlink:href=\"#DejaVuSans-48\"/>\n       <use x=\"190.869141\" xlink:href=\"#DejaVuSans-48\"/>\n       <use x=\"254.492188\" xlink:href=\"#DejaVuSans-48\"/>\n       <use x=\"318.115234\" xlink:href=\"#DejaVuSans-48\"/>\n      </g>\n     </g>\n    </g>\n    <g id=\"ytick_3\">\n     <g id=\"line2d_11\">\n      <g>\n       <use style=\"stroke:#000000;stroke-width:0.8;\" x=\"66.053125\" xlink:href=\"#m3e291767dc\" y=\"169.435204\"/>\n      </g>\n     </g>\n     <g id=\"text_12\">\n      <!-- 200000 -->\n      <g transform=\"translate(20.878125 173.234422)scale(0.1 -0.1)\">\n       <use xlink:href=\"#DejaVuSans-50\"/>\n       <use x=\"63.623047\" xlink:href=\"#DejaVuSans-48\"/>\n       <use x=\"127.246094\" xlink:href=\"#DejaVuSans-48\"/>\n       <use x=\"190.869141\" xlink:href=\"#DejaVuSans-48\"/>\n       <use x=\"254.492188\" xlink:href=\"#DejaVuSans-48\"/>\n       <use x=\"318.115234\" xlink:href=\"#DejaVuSans-48\"/>\n      </g>\n     </g>\n    </g>\n    <g id=\"ytick_4\">\n     <g id=\"line2d_12\">\n      <g>\n       <use style=\"stroke:#000000;stroke-width:0.8;\" x=\"66.053125\" xlink:href=\"#m3e291767dc\" y=\"141.984471\"/>\n      </g>\n     </g>\n     <g id=\"text_13\">\n      <!-- 300000 -->\n      <defs>\n       <path d=\"M 40.578125 39.3125 \nQ 47.65625 37.796875 51.625 33 \nQ 55.609375 28.21875 55.609375 21.1875 \nQ 55.609375 10.40625 48.1875 4.484375 \nQ 40.765625 -1.421875 27.09375 -1.421875 \nQ 22.515625 -1.421875 17.65625 -0.515625 \nQ 12.796875 0.390625 7.625 2.203125 \nL 7.625 11.71875 \nQ 11.71875 9.328125 16.59375 8.109375 \nQ 21.484375 6.890625 26.8125 6.890625 \nQ 36.078125 6.890625 40.9375 10.546875 \nQ 45.796875 14.203125 45.796875 21.1875 \nQ 45.796875 27.640625 41.28125 31.265625 \nQ 36.765625 34.90625 28.71875 34.90625 \nL 20.21875 34.90625 \nL 20.21875 43.015625 \nL 29.109375 43.015625 \nQ 36.375 43.015625 40.234375 45.921875 \nQ 44.09375 48.828125 44.09375 54.296875 \nQ 44.09375 59.90625 40.109375 62.90625 \nQ 36.140625 65.921875 28.71875 65.921875 \nQ 24.65625 65.921875 20.015625 65.03125 \nQ 15.375 64.15625 9.8125 62.3125 \nL 9.8125 71.09375 \nQ 15.4375 72.65625 20.34375 73.4375 \nQ 25.25 74.21875 29.59375 74.21875 \nQ 40.828125 74.21875 47.359375 69.109375 \nQ 53.90625 64.015625 53.90625 55.328125 \nQ 53.90625 49.265625 50.4375 45.09375 \nQ 46.96875 40.921875 40.578125 39.3125 \nz\n\" id=\"DejaVuSans-51\"/>\n      </defs>\n      <g transform=\"translate(20.878125 145.78369)scale(0.1 -0.1)\">\n       <use xlink:href=\"#DejaVuSans-51\"/>\n       <use x=\"63.623047\" xlink:href=\"#DejaVuSans-48\"/>\n       <use x=\"127.246094\" xlink:href=\"#DejaVuSans-48\"/>\n       <use x=\"190.869141\" xlink:href=\"#DejaVuSans-48\"/>\n       <use x=\"254.492188\" xlink:href=\"#DejaVuSans-48\"/>\n       <use x=\"318.115234\" xlink:href=\"#DejaVuSans-48\"/>\n      </g>\n     </g>\n    </g>\n    <g id=\"ytick_5\">\n     <g id=\"line2d_13\">\n      <g>\n       <use style=\"stroke:#000000;stroke-width:0.8;\" x=\"66.053125\" xlink:href=\"#m3e291767dc\" y=\"114.533738\"/>\n      </g>\n     </g>\n     <g id=\"text_14\">\n      <!-- 400000 -->\n      <defs>\n       <path d=\"M 37.796875 64.3125 \nL 12.890625 25.390625 \nL 37.796875 25.390625 \nz\nM 35.203125 72.90625 \nL 47.609375 72.90625 \nL 47.609375 25.390625 \nL 58.015625 25.390625 \nL 58.015625 17.1875 \nL 47.609375 17.1875 \nL 47.609375 0 \nL 37.796875 0 \nL 37.796875 17.1875 \nL 4.890625 17.1875 \nL 4.890625 26.703125 \nz\n\" id=\"DejaVuSans-52\"/>\n      </defs>\n      <g transform=\"translate(20.878125 118.332957)scale(0.1 -0.1)\">\n       <use xlink:href=\"#DejaVuSans-52\"/>\n       <use x=\"63.623047\" xlink:href=\"#DejaVuSans-48\"/>\n       <use x=\"127.246094\" xlink:href=\"#DejaVuSans-48\"/>\n       <use x=\"190.869141\" xlink:href=\"#DejaVuSans-48\"/>\n       <use x=\"254.492188\" xlink:href=\"#DejaVuSans-48\"/>\n       <use x=\"318.115234\" xlink:href=\"#DejaVuSans-48\"/>\n      </g>\n     </g>\n    </g>\n    <g id=\"ytick_6\">\n     <g id=\"line2d_14\">\n      <g>\n       <use style=\"stroke:#000000;stroke-width:0.8;\" x=\"66.053125\" xlink:href=\"#m3e291767dc\" y=\"87.083005\"/>\n      </g>\n     </g>\n     <g id=\"text_15\">\n      <!-- 500000 -->\n      <defs>\n       <path d=\"M 10.796875 72.90625 \nL 49.515625 72.90625 \nL 49.515625 64.59375 \nL 19.828125 64.59375 \nL 19.828125 46.734375 \nQ 21.96875 47.46875 24.109375 47.828125 \nQ 26.265625 48.1875 28.421875 48.1875 \nQ 40.625 48.1875 47.75 41.5 \nQ 54.890625 34.8125 54.890625 23.390625 \nQ 54.890625 11.625 47.5625 5.09375 \nQ 40.234375 -1.421875 26.90625 -1.421875 \nQ 22.3125 -1.421875 17.546875 -0.640625 \nQ 12.796875 0.140625 7.71875 1.703125 \nL 7.71875 11.625 \nQ 12.109375 9.234375 16.796875 8.0625 \nQ 21.484375 6.890625 26.703125 6.890625 \nQ 35.15625 6.890625 40.078125 11.328125 \nQ 45.015625 15.765625 45.015625 23.390625 \nQ 45.015625 31 40.078125 35.4375 \nQ 35.15625 39.890625 26.703125 39.890625 \nQ 22.75 39.890625 18.8125 39.015625 \nQ 14.890625 38.140625 10.796875 36.28125 \nz\n\" id=\"DejaVuSans-53\"/>\n      </defs>\n      <g transform=\"translate(20.878125 90.882224)scale(0.1 -0.1)\">\n       <use xlink:href=\"#DejaVuSans-53\"/>\n       <use x=\"63.623047\" xlink:href=\"#DejaVuSans-48\"/>\n       <use x=\"127.246094\" xlink:href=\"#DejaVuSans-48\"/>\n       <use x=\"190.869141\" xlink:href=\"#DejaVuSans-48\"/>\n       <use x=\"254.492188\" xlink:href=\"#DejaVuSans-48\"/>\n       <use x=\"318.115234\" xlink:href=\"#DejaVuSans-48\"/>\n      </g>\n     </g>\n    </g>\n    <g id=\"ytick_7\">\n     <g id=\"line2d_15\">\n      <g>\n       <use style=\"stroke:#000000;stroke-width:0.8;\" x=\"66.053125\" xlink:href=\"#m3e291767dc\" y=\"59.632272\"/>\n      </g>\n     </g>\n     <g id=\"text_16\">\n      <!-- 600000 -->\n      <defs>\n       <path d=\"M 33.015625 40.375 \nQ 26.375 40.375 22.484375 35.828125 \nQ 18.609375 31.296875 18.609375 23.390625 \nQ 18.609375 15.53125 22.484375 10.953125 \nQ 26.375 6.390625 33.015625 6.390625 \nQ 39.65625 6.390625 43.53125 10.953125 \nQ 47.40625 15.53125 47.40625 23.390625 \nQ 47.40625 31.296875 43.53125 35.828125 \nQ 39.65625 40.375 33.015625 40.375 \nz\nM 52.59375 71.296875 \nL 52.59375 62.3125 \nQ 48.875 64.0625 45.09375 64.984375 \nQ 41.3125 65.921875 37.59375 65.921875 \nQ 27.828125 65.921875 22.671875 59.328125 \nQ 17.53125 52.734375 16.796875 39.40625 \nQ 19.671875 43.65625 24.015625 45.921875 \nQ 28.375 48.1875 33.59375 48.1875 \nQ 44.578125 48.1875 50.953125 41.515625 \nQ 57.328125 34.859375 57.328125 23.390625 \nQ 57.328125 12.15625 50.6875 5.359375 \nQ 44.046875 -1.421875 33.015625 -1.421875 \nQ 20.359375 -1.421875 13.671875 8.265625 \nQ 6.984375 17.96875 6.984375 36.375 \nQ 6.984375 53.65625 15.1875 63.9375 \nQ 23.390625 74.21875 37.203125 74.21875 \nQ 40.921875 74.21875 44.703125 73.484375 \nQ 48.484375 72.75 52.59375 71.296875 \nz\n\" id=\"DejaVuSans-54\"/>\n      </defs>\n      <g transform=\"translate(20.878125 63.431491)scale(0.1 -0.1)\">\n       <use xlink:href=\"#DejaVuSans-54\"/>\n       <use x=\"63.623047\" xlink:href=\"#DejaVuSans-48\"/>\n       <use x=\"127.246094\" xlink:href=\"#DejaVuSans-48\"/>\n       <use x=\"190.869141\" xlink:href=\"#DejaVuSans-48\"/>\n       <use x=\"254.492188\" xlink:href=\"#DejaVuSans-48\"/>\n       <use x=\"318.115234\" xlink:href=\"#DejaVuSans-48\"/>\n      </g>\n     </g>\n    </g>\n    <g id=\"ytick_8\">\n     <g id=\"line2d_16\">\n      <g>\n       <use style=\"stroke:#000000;stroke-width:0.8;\" x=\"66.053125\" xlink:href=\"#m3e291767dc\" y=\"32.181539\"/>\n      </g>\n     </g>\n     <g id=\"text_17\">\n      <!-- 700000 -->\n      <defs>\n       <path d=\"M 8.203125 72.90625 \nL 55.078125 72.90625 \nL 55.078125 68.703125 \nL 28.609375 0 \nL 18.3125 0 \nL 43.21875 64.59375 \nL 8.203125 64.59375 \nz\n\" id=\"DejaVuSans-55\"/>\n      </defs>\n      <g transform=\"translate(20.878125 35.980758)scale(0.1 -0.1)\">\n       <use xlink:href=\"#DejaVuSans-55\"/>\n       <use x=\"63.623047\" xlink:href=\"#DejaVuSans-48\"/>\n       <use x=\"127.246094\" xlink:href=\"#DejaVuSans-48\"/>\n       <use x=\"190.869141\" xlink:href=\"#DejaVuSans-48\"/>\n       <use x=\"254.492188\" xlink:href=\"#DejaVuSans-48\"/>\n       <use x=\"318.115234\" xlink:href=\"#DejaVuSans-48\"/>\n      </g>\n     </g>\n    </g>\n    <g id=\"text_18\">\n     <!-- SalePrice -->\n     <defs>\n      <path d=\"M 53.515625 70.515625 \nL 53.515625 60.890625 \nQ 47.90625 63.578125 42.921875 64.890625 \nQ 37.9375 66.21875 33.296875 66.21875 \nQ 25.25 66.21875 20.875 63.09375 \nQ 16.5 59.96875 16.5 54.203125 \nQ 16.5 49.359375 19.40625 46.890625 \nQ 22.3125 44.4375 30.421875 42.921875 \nL 36.375 41.703125 \nQ 47.40625 39.59375 52.65625 34.296875 \nQ 57.90625 29 57.90625 20.125 \nQ 57.90625 9.515625 50.796875 4.046875 \nQ 43.703125 -1.421875 29.984375 -1.421875 \nQ 24.8125 -1.421875 18.96875 -0.25 \nQ 13.140625 0.921875 6.890625 3.21875 \nL 6.890625 13.375 \nQ 12.890625 10.015625 18.65625 8.296875 \nQ 24.421875 6.59375 29.984375 6.59375 \nQ 38.421875 6.59375 43.015625 9.90625 \nQ 47.609375 13.234375 47.609375 19.390625 \nQ 47.609375 24.75 44.3125 27.78125 \nQ 41.015625 30.8125 33.5 32.328125 \nL 27.484375 33.5 \nQ 16.453125 35.6875 11.515625 40.375 \nQ 6.59375 45.0625 6.59375 53.421875 \nQ 6.59375 63.09375 13.40625 68.65625 \nQ 20.21875 74.21875 32.171875 74.21875 \nQ 37.3125 74.21875 42.625 73.28125 \nQ 47.953125 72.359375 53.515625 70.515625 \nz\n\" id=\"DejaVuSans-83\"/>\n      <path d=\"M 34.28125 27.484375 \nQ 23.390625 27.484375 19.1875 25 \nQ 14.984375 22.515625 14.984375 16.5 \nQ 14.984375 11.71875 18.140625 8.90625 \nQ 21.296875 6.109375 26.703125 6.109375 \nQ 34.1875 6.109375 38.703125 11.40625 \nQ 43.21875 16.703125 43.21875 25.484375 \nL 43.21875 27.484375 \nz\nM 52.203125 31.203125 \nL 52.203125 0 \nL 43.21875 0 \nL 43.21875 8.296875 \nQ 40.140625 3.328125 35.546875 0.953125 \nQ 30.953125 -1.421875 24.3125 -1.421875 \nQ 15.921875 -1.421875 10.953125 3.296875 \nQ 6 8.015625 6 15.921875 \nQ 6 25.140625 12.171875 29.828125 \nQ 18.359375 34.515625 30.609375 34.515625 \nL 43.21875 34.515625 \nL 43.21875 35.40625 \nQ 43.21875 41.609375 39.140625 45 \nQ 35.0625 48.390625 27.6875 48.390625 \nQ 23 48.390625 18.546875 47.265625 \nQ 14.109375 46.140625 10.015625 43.890625 \nL 10.015625 52.203125 \nQ 14.9375 54.109375 19.578125 55.046875 \nQ 24.21875 56 28.609375 56 \nQ 40.484375 56 46.34375 49.84375 \nQ 52.203125 43.703125 52.203125 31.203125 \nz\n\" id=\"DejaVuSans-97\"/>\n      <path d=\"M 9.421875 75.984375 \nL 18.40625 75.984375 \nL 18.40625 0 \nL 9.421875 0 \nz\n\" id=\"DejaVuSans-108\"/>\n      <path d=\"M 48.78125 52.59375 \nL 48.78125 44.1875 \nQ 44.96875 46.296875 41.140625 47.34375 \nQ 37.3125 48.390625 33.40625 48.390625 \nQ 24.65625 48.390625 19.8125 42.84375 \nQ 14.984375 37.3125 14.984375 27.296875 \nQ 14.984375 17.28125 19.8125 11.734375 \nQ 24.65625 6.203125 33.40625 6.203125 \nQ 37.3125 6.203125 41.140625 7.25 \nQ 44.96875 8.296875 48.78125 10.40625 \nL 48.78125 2.09375 \nQ 45.015625 0.34375 40.984375 -0.53125 \nQ 36.96875 -1.421875 32.421875 -1.421875 \nQ 20.0625 -1.421875 12.78125 6.34375 \nQ 5.515625 14.109375 5.515625 27.296875 \nQ 5.515625 40.671875 12.859375 48.328125 \nQ 20.21875 56 33.015625 56 \nQ 37.15625 56 41.109375 55.140625 \nQ 45.0625 54.296875 48.78125 52.59375 \nz\n\" id=\"DejaVuSans-99\"/>\n     </defs>\n     <g transform=\"translate(14.798438 138.821562)rotate(-90)scale(0.1 -0.1)\">\n      <use xlink:href=\"#DejaVuSans-83\"/>\n      <use x=\"63.476562\" xlink:href=\"#DejaVuSans-97\"/>\n      <use x=\"124.755859\" xlink:href=\"#DejaVuSans-108\"/>\n      <use x=\"152.539062\" xlink:href=\"#DejaVuSans-101\"/>\n      <use x=\"214.0625\" xlink:href=\"#DejaVuSans-80\"/>\n      <use x=\"272.615234\" xlink:href=\"#DejaVuSans-114\"/>\n      <use x=\"313.728516\" xlink:href=\"#DejaVuSans-105\"/>\n      <use x=\"341.511719\" xlink:href=\"#DejaVuSans-99\"/>\n      <use x=\"396.492188\" xlink:href=\"#DejaVuSans-101\"/>\n     </g>\n    </g>\n   </g>\n   <g id=\"line2d_17\">\n    <path clip-path=\"url(#p7e32668a3c)\" d=\"M 86.978125 188.650717 \nL 86.978125 214.756364 \n\" style=\"fill:none;stroke:#3d3d3d;stroke-linecap:square;stroke-width:1.5;\"/>\n   </g>\n   <g id=\"line2d_18\">\n    <path clip-path=\"url(#p7e32668a3c)\" d=\"M 86.978125 165.592101 \nL 86.978125 131.004178 \n\" style=\"fill:none;stroke:#3d3d3d;stroke-linecap:square;stroke-width:1.5;\"/>\n   </g>\n   <g id=\"line2d_19\">\n    <path clip-path=\"url(#p7e32668a3c)\" d=\"M 78.608125 214.756364 \nL 95.348125 214.756364 \n\" style=\"fill:none;stroke:#3d3d3d;stroke-linecap:square;stroke-width:1.5;\"/>\n   </g>\n   <g id=\"line2d_20\">\n    <path clip-path=\"url(#p7e32668a3c)\" d=\"M 78.608125 131.004178 \nL 95.348125 131.004178 \n\" style=\"fill:none;stroke:#3d3d3d;stroke-linecap:square;stroke-width:1.5;\"/>\n   </g>\n   <g id=\"line2d_21\">\n    <defs>\n     <path d=\"M -0 3.535534 \nL 2.12132 0 \nL -0 -3.535534 \nL -2.12132 -0 \nz\n\" id=\"md99b2cb268\" style=\"stroke:#3d3d3d;stroke-linejoin:miter;\"/>\n    </defs>\n    <g clip-path=\"url(#p7e32668a3c)\">\n     <use style=\"fill:#3d3d3d;stroke:#3d3d3d;stroke-linejoin:miter;\" x=\"86.978125\" xlink:href=\"#md99b2cb268\" y=\"129.631641\"/>\n     <use style=\"fill:#3d3d3d;stroke:#3d3d3d;stroke-linejoin:miter;\" x=\"86.978125\" xlink:href=\"#md99b2cb268\" y=\"118.651348\"/>\n     <use style=\"fill:#3d3d3d;stroke:#3d3d3d;stroke-linejoin:miter;\" x=\"86.978125\" xlink:href=\"#md99b2cb268\" y=\"103.888344\"/>\n     <use style=\"fill:#3d3d3d;stroke:#3d3d3d;stroke-linejoin:miter;\" x=\"86.978125\" xlink:href=\"#md99b2cb268\" y=\"118.93409\"/>\n     <use style=\"fill:#3d3d3d;stroke:#3d3d3d;stroke-linejoin:miter;\" x=\"86.978125\" xlink:href=\"#md99b2cb268\" y=\"122.109591\"/>\n     <use style=\"fill:#3d3d3d;stroke:#3d3d3d;stroke-linejoin:miter;\" x=\"86.978125\" xlink:href=\"#md99b2cb268\" y=\"111.102396\"/>\n     <use style=\"fill:#3d3d3d;stroke:#3d3d3d;stroke-linejoin:miter;\" x=\"86.978125\" xlink:href=\"#md99b2cb268\" y=\"86.578735\"/>\n     <use style=\"fill:#3d3d3d;stroke:#3d3d3d;stroke-linejoin:miter;\" x=\"86.978125\" xlink:href=\"#md99b2cb268\" y=\"93.945688\"/>\n     <use style=\"fill:#3d3d3d;stroke:#3d3d3d;stroke-linejoin:miter;\" x=\"86.978125\" xlink:href=\"#md99b2cb268\" y=\"118.308214\"/>\n     <use style=\"fill:#3d3d3d;stroke:#3d3d3d;stroke-linejoin:miter;\" x=\"86.978125\" xlink:href=\"#md99b2cb268\" y=\"113.710216\"/>\n     <use style=\"fill:#3d3d3d;stroke:#3d3d3d;stroke-linejoin:miter;\" x=\"86.978125\" xlink:href=\"#md99b2cb268\" y=\"110.334325\"/>\n     <use style=\"fill:#3d3d3d;stroke:#3d3d3d;stroke-linejoin:miter;\" x=\"86.978125\" xlink:href=\"#md99b2cb268\" y=\"125.514031\"/>\n     <use style=\"fill:#3d3d3d;stroke:#3d3d3d;stroke-linejoin:miter;\" x=\"86.978125\" xlink:href=\"#md99b2cb268\" y=\"121.396421\"/>\n     <use style=\"fill:#3d3d3d;stroke:#3d3d3d;stroke-linejoin:miter;\" x=\"86.978125\" xlink:href=\"#md99b2cb268\" y=\"130.278655\"/>\n     <use style=\"fill:#3d3d3d;stroke:#3d3d3d;stroke-linejoin:miter;\" x=\"86.978125\" xlink:href=\"#md99b2cb268\" y=\"127.161075\"/>\n     <use style=\"fill:#3d3d3d;stroke:#3d3d3d;stroke-linejoin:miter;\" x=\"86.978125\" xlink:href=\"#md99b2cb268\" y=\"120.730466\"/>\n     <use style=\"fill:#3d3d3d;stroke:#3d3d3d;stroke-linejoin:miter;\" x=\"86.978125\" xlink:href=\"#md99b2cb268\" y=\"104.334693\"/>\n     <use style=\"fill:#3d3d3d;stroke:#3d3d3d;stroke-linejoin:miter;\" x=\"86.978125\" xlink:href=\"#md99b2cb268\" y=\"116.062195\"/>\n     <use style=\"fill:#3d3d3d;stroke:#3d3d3d;stroke-linejoin:miter;\" x=\"86.978125\" xlink:href=\"#md99b2cb268\" y=\"107.396547\"/>\n     <use style=\"fill:#3d3d3d;stroke:#3d3d3d;stroke-linejoin:miter;\" x=\"86.978125\" xlink:href=\"#md99b2cb268\" y=\"71.985102\"/>\n     <use style=\"fill:#3d3d3d;stroke:#3d3d3d;stroke-linejoin:miter;\" x=\"86.978125\" xlink:href=\"#md99b2cb268\" y=\"103.553445\"/>\n     <use style=\"fill:#3d3d3d;stroke:#3d3d3d;stroke-linejoin:miter;\" x=\"86.978125\" xlink:href=\"#md99b2cb268\" y=\"120.023885\"/>\n     <use style=\"fill:#3d3d3d;stroke:#3d3d3d;stroke-linejoin:miter;\" x=\"86.978125\" xlink:href=\"#md99b2cb268\" y=\"121.670929\"/>\n     <use style=\"fill:#3d3d3d;stroke:#3d3d3d;stroke-linejoin:miter;\" x=\"86.978125\" xlink:href=\"#md99b2cb268\" y=\"106.298518\"/>\n     <use style=\"fill:#3d3d3d;stroke:#3d3d3d;stroke-linejoin:miter;\" x=\"86.978125\" xlink:href=\"#md99b2cb268\" y=\"113.748373\"/>\n     <use style=\"fill:#3d3d3d;stroke:#3d3d3d;stroke-linejoin:miter;\" x=\"86.978125\" xlink:href=\"#md99b2cb268\" y=\"101.834754\"/>\n     <use style=\"fill:#3d3d3d;stroke:#3d3d3d;stroke-linejoin:miter;\" x=\"86.978125\" xlink:href=\"#md99b2cb268\" y=\"122.796409\"/>\n     <use style=\"fill:#3d3d3d;stroke:#3d3d3d;stroke-linejoin:miter;\" x=\"86.978125\" xlink:href=\"#md99b2cb268\" y=\"100.273082\"/>\n     <use style=\"fill:#3d3d3d;stroke:#3d3d3d;stroke-linejoin:miter;\" x=\"86.978125\" xlink:href=\"#md99b2cb268\" y=\"125.761088\"/>\n     <use style=\"fill:#3d3d3d;stroke:#3d3d3d;stroke-linejoin:miter;\" x=\"86.978125\" xlink:href=\"#md99b2cb268\" y=\"129.631641\"/>\n     <use style=\"fill:#3d3d3d;stroke:#3d3d3d;stroke-linejoin:miter;\" x=\"86.978125\" xlink:href=\"#md99b2cb268\" y=\"122.52794\"/>\n     <use style=\"fill:#3d3d3d;stroke:#3d3d3d;stroke-linejoin:miter;\" x=\"86.978125\" xlink:href=\"#md99b2cb268\" y=\"128.259104\"/>\n     <use style=\"fill:#3d3d3d;stroke:#3d3d3d;stroke-linejoin:miter;\" x=\"86.978125\" xlink:href=\"#md99b2cb268\" y=\"113.984723\"/>\n     <use style=\"fill:#3d3d3d;stroke:#3d3d3d;stroke-linejoin:miter;\" x=\"86.978125\" xlink:href=\"#md99b2cb268\" y=\"108.220069\"/>\n     <use style=\"fill:#3d3d3d;stroke:#3d3d3d;stroke-linejoin:miter;\" x=\"86.978125\" xlink:href=\"#md99b2cb268\" y=\"122.08269\"/>\n     <use style=\"fill:#3d3d3d;stroke:#3d3d3d;stroke-linejoin:miter;\" x=\"86.978125\" xlink:href=\"#md99b2cb268\" y=\"116.729797\"/>\n     <use style=\"fill:#3d3d3d;stroke:#3d3d3d;stroke-linejoin:miter;\" x=\"86.978125\" xlink:href=\"#md99b2cb268\" y=\"17.083636\"/>\n     <use style=\"fill:#3d3d3d;stroke:#3d3d3d;stroke-linejoin:miter;\" x=\"86.978125\" xlink:href=\"#md99b2cb268\" y=\"124.987252\"/>\n     <use style=\"fill:#3d3d3d;stroke:#3d3d3d;stroke-linejoin:miter;\" x=\"86.978125\" xlink:href=\"#md99b2cb268\" y=\"130.72967\"/>\n     <use style=\"fill:#3d3d3d;stroke:#3d3d3d;stroke-linejoin:miter;\" x=\"86.978125\" xlink:href=\"#md99b2cb268\" y=\"76.651727\"/>\n     <use style=\"fill:#3d3d3d;stroke:#3d3d3d;stroke-linejoin:miter;\" x=\"86.978125\" xlink:href=\"#md99b2cb268\" y=\"115.906275\"/>\n     <use style=\"fill:#3d3d3d;stroke:#3d3d3d;stroke-linejoin:miter;\" x=\"86.978125\" xlink:href=\"#md99b2cb268\" y=\"91.200615\"/>\n     <use style=\"fill:#3d3d3d;stroke:#3d3d3d;stroke-linejoin:miter;\" x=\"86.978125\" xlink:href=\"#md99b2cb268\" y=\"64.317289\"/>\n     <use style=\"fill:#3d3d3d;stroke:#3d3d3d;stroke-linejoin:miter;\" x=\"86.978125\" xlink:href=\"#md99b2cb268\" y=\"128.259104\"/>\n     <use style=\"fill:#3d3d3d;stroke:#3d3d3d;stroke-linejoin:miter;\" x=\"86.978125\" xlink:href=\"#md99b2cb268\" y=\"56.43234\"/>\n     <use style=\"fill:#3d3d3d;stroke:#3d3d3d;stroke-linejoin:miter;\" x=\"86.978125\" xlink:href=\"#md99b2cb268\" y=\"115.853569\"/>\n     <use style=\"fill:#3d3d3d;stroke:#3d3d3d;stroke-linejoin:miter;\" x=\"86.978125\" xlink:href=\"#md99b2cb268\" y=\"128.808119\"/>\n     <use style=\"fill:#3d3d3d;stroke:#3d3d3d;stroke-linejoin:miter;\" x=\"86.978125\" xlink:href=\"#md99b2cb268\" y=\"71.551106\"/>\n     <use style=\"fill:#3d3d3d;stroke:#3d3d3d;stroke-linejoin:miter;\" x=\"86.978125\" xlink:href=\"#md99b2cb268\" y=\"107.706741\"/>\n     <use style=\"fill:#3d3d3d;stroke:#3d3d3d;stroke-linejoin:miter;\" x=\"86.978125\" xlink:href=\"#md99b2cb268\" y=\"52.769589\"/>\n     <use style=\"fill:#3d3d3d;stroke:#3d3d3d;stroke-linejoin:miter;\" x=\"86.978125\" xlink:href=\"#md99b2cb268\" y=\"116.592543\"/>\n     <use style=\"fill:#3d3d3d;stroke:#3d3d3d;stroke-linejoin:miter;\" x=\"86.978125\" xlink:href=\"#md99b2cb268\" y=\"19.82871\"/>\n     <use style=\"fill:#3d3d3d;stroke:#3d3d3d;stroke-linejoin:miter;\" x=\"86.978125\" xlink:href=\"#md99b2cb268\" y=\"123.511775\"/>\n     <use style=\"fill:#3d3d3d;stroke:#3d3d3d;stroke-linejoin:miter;\" x=\"86.978125\" xlink:href=\"#md99b2cb268\" y=\"96.690762\"/>\n     <use style=\"fill:#3d3d3d;stroke:#3d3d3d;stroke-linejoin:miter;\" x=\"86.978125\" xlink:href=\"#md99b2cb268\" y=\"120.435646\"/>\n     <use style=\"fill:#3d3d3d;stroke:#3d3d3d;stroke-linejoin:miter;\" x=\"86.978125\" xlink:href=\"#md99b2cb268\" y=\"119.749377\"/>\n     <use style=\"fill:#3d3d3d;stroke:#3d3d3d;stroke-linejoin:miter;\" x=\"86.978125\" xlink:href=\"#md99b2cb268\" y=\"111.788665\"/>\n     <use style=\"fill:#3d3d3d;stroke:#3d3d3d;stroke-linejoin:miter;\" x=\"86.978125\" xlink:href=\"#md99b2cb268\" y=\"96.279001\"/>\n     <use style=\"fill:#3d3d3d;stroke:#3d3d3d;stroke-linejoin:miter;\" x=\"86.978125\" xlink:href=\"#md99b2cb268\" y=\"120.710153\"/>\n     <use style=\"fill:#3d3d3d;stroke:#3d3d3d;stroke-linejoin:miter;\" x=\"86.978125\" xlink:href=\"#md99b2cb268\" y=\"116.011411\"/>\n    </g>\n   </g>\n   <g id=\"line2d_22\">\n    <path clip-path=\"url(#p7e32668a3c)\" d=\"M 128.828125 196.680056 \nL 128.828125 198.258473 \n\" style=\"fill:none;stroke:#3d3d3d;stroke-linecap:square;stroke-width:1.5;\"/>\n   </g>\n   <g id=\"line2d_23\">\n    <path clip-path=\"url(#p7e32668a3c)\" d=\"M 128.828125 193.523222 \nL 128.828125 191.944805 \n\" style=\"fill:none;stroke:#3d3d3d;stroke-linecap:square;stroke-width:1.5;\"/>\n   </g>\n   <g id=\"line2d_24\">\n    <path clip-path=\"url(#p7e32668a3c)\" d=\"M 120.458125 198.258473 \nL 137.198125 198.258473 \n\" style=\"fill:none;stroke:#3d3d3d;stroke-linecap:square;stroke-width:1.5;\"/>\n   </g>\n   <g id=\"line2d_25\">\n    <path clip-path=\"url(#p7e32668a3c)\" d=\"M 120.458125 191.944805 \nL 137.198125 191.944805 \n\" style=\"fill:none;stroke:#3d3d3d;stroke-linecap:square;stroke-width:1.5;\"/>\n   </g>\n   <g id=\"line2d_26\"/>\n   <g id=\"line2d_27\">\n    <path clip-path=\"url(#p7e32668a3c)\" d=\"M 170.678125 201.655501 \nL 170.678125 205.532917 \n\" style=\"fill:none;stroke:#3d3d3d;stroke-linecap:square;stroke-width:1.5;\"/>\n   </g>\n   <g id=\"line2d_28\">\n    <path clip-path=\"url(#p7e32668a3c)\" d=\"M 170.678125 193.900669 \nL 170.678125 190.023253 \n\" style=\"fill:none;stroke:#3d3d3d;stroke-linecap:square;stroke-width:1.5;\"/>\n   </g>\n   <g id=\"line2d_29\">\n    <path clip-path=\"url(#p7e32668a3c)\" d=\"M 162.308125 205.532917 \nL 179.048125 205.532917 \n\" style=\"fill:none;stroke:#3d3d3d;stroke-linecap:square;stroke-width:1.5;\"/>\n   </g>\n   <g id=\"line2d_30\">\n    <path clip-path=\"url(#p7e32668a3c)\" d=\"M 162.308125 190.023253 \nL 179.048125 190.023253 \n\" style=\"fill:none;stroke:#3d3d3d;stroke-linecap:square;stroke-width:1.5;\"/>\n   </g>\n   <g id=\"line2d_31\"/>\n   <g id=\"line2d_32\">\n    <path clip-path=\"url(#p7e32668a3c)\" d=\"M 212.528125 198.12122 \nL 212.528125 202.513337 \n\" style=\"fill:none;stroke:#3d3d3d;stroke-linecap:square;stroke-width:1.5;\"/>\n   </g>\n   <g id=\"line2d_33\">\n    <path clip-path=\"url(#p7e32668a3c)\" d=\"M 212.528125 186.729165 \nL 212.528125 178.356692 \n\" style=\"fill:none;stroke:#3d3d3d;stroke-linecap:square;stroke-width:1.5;\"/>\n   </g>\n   <g id=\"line2d_34\">\n    <path clip-path=\"url(#p7e32668a3c)\" d=\"M 204.158125 202.513337 \nL 220.898125 202.513337 \n\" style=\"fill:none;stroke:#3d3d3d;stroke-linecap:square;stroke-width:1.5;\"/>\n   </g>\n   <g id=\"line2d_35\">\n    <path clip-path=\"url(#p7e32668a3c)\" d=\"M 204.158125 178.356692 \nL 220.898125 178.356692 \n\" style=\"fill:none;stroke:#3d3d3d;stroke-linecap:square;stroke-width:1.5;\"/>\n   </g>\n   <g id=\"line2d_36\"/>\n   <g id=\"line2d_37\">\n    <path clip-path=\"url(#p7e32668a3c)\" d=\"M 254.378125 159.878917 \nL 254.378125 173.62144 \n\" style=\"fill:none;stroke:#3d3d3d;stroke-linecap:square;stroke-width:1.5;\"/>\n   </g>\n   <g id=\"line2d_38\">\n    <path clip-path=\"url(#p7e32668a3c)\" d=\"M 254.378125 132.393871 \nL 254.378125 118.651348 \n\" style=\"fill:none;stroke:#3d3d3d;stroke-linecap:square;stroke-width:1.5;\"/>\n   </g>\n   <g id=\"line2d_39\">\n    <path clip-path=\"url(#p7e32668a3c)\" d=\"M 246.008125 173.62144 \nL 262.748125 173.62144 \n\" style=\"fill:none;stroke:#3d3d3d;stroke-linecap:square;stroke-width:1.5;\"/>\n   </g>\n   <g id=\"line2d_40\">\n    <path clip-path=\"url(#p7e32668a3c)\" d=\"M 246.008125 118.651348 \nL 262.748125 118.651348 \n\" style=\"fill:none;stroke:#3d3d3d;stroke-linecap:square;stroke-width:1.5;\"/>\n   </g>\n   <g id=\"line2d_41\"/>\n   <g id=\"line2d_42\">\n    <path clip-path=\"url(#p7e32668a3c)\" d=\"M 296.228125 135.121788 \nL 296.228125 135.121788 \n\" style=\"fill:none;stroke:#3d3d3d;stroke-linecap:square;stroke-width:1.5;\"/>\n   </g>\n   <g id=\"line2d_43\">\n    <path clip-path=\"url(#p7e32668a3c)\" d=\"M 296.228125 135.121788 \nL 296.228125 135.121788 \n\" style=\"fill:none;stroke:#3d3d3d;stroke-linecap:square;stroke-width:1.5;\"/>\n   </g>\n   <g id=\"line2d_44\">\n    <path clip-path=\"url(#p7e32668a3c)\" d=\"M 287.858125 135.121788 \nL 304.598125 135.121788 \n\" style=\"fill:none;stroke:#3d3d3d;stroke-linecap:square;stroke-width:1.5;\"/>\n   </g>\n   <g id=\"line2d_45\">\n    <path clip-path=\"url(#p7e32668a3c)\" d=\"M 287.858125 135.121788 \nL 304.598125 135.121788 \n\" style=\"fill:none;stroke:#3d3d3d;stroke-linecap:square;stroke-width:1.5;\"/>\n   </g>\n   <g id=\"line2d_46\"/>\n   <g id=\"line2d_47\">\n    <path clip-path=\"url(#p7e32668a3c)\" d=\"M 338.078125 186.755244 \nL 338.078125 186.755244 \n\" style=\"fill:none;stroke:#3d3d3d;stroke-linecap:square;stroke-width:1.5;\"/>\n   </g>\n   <g id=\"line2d_48\">\n    <path clip-path=\"url(#p7e32668a3c)\" d=\"M 338.078125 186.755244 \nL 338.078125 186.755244 \n\" style=\"fill:none;stroke:#3d3d3d;stroke-linecap:square;stroke-width:1.5;\"/>\n   </g>\n   <g id=\"line2d_49\">\n    <path clip-path=\"url(#p7e32668a3c)\" d=\"M 329.708125 186.755244 \nL 346.448125 186.755244 \n\" style=\"fill:none;stroke:#3d3d3d;stroke-linecap:square;stroke-width:1.5;\"/>\n   </g>\n   <g id=\"line2d_50\">\n    <path clip-path=\"url(#p7e32668a3c)\" d=\"M 329.708125 186.755244 \nL 346.448125 186.755244 \n\" style=\"fill:none;stroke:#3d3d3d;stroke-linecap:square;stroke-width:1.5;\"/>\n   </g>\n   <g id=\"line2d_51\"/>\n   <g id=\"line2d_52\">\n    <path clip-path=\"url(#p7e32668a3c)\" d=\"M 379.928125 172.180277 \nL 379.928125 172.180277 \n\" style=\"fill:none;stroke:#3d3d3d;stroke-linecap:square;stroke-width:1.5;\"/>\n   </g>\n   <g id=\"line2d_53\">\n    <path clip-path=\"url(#p7e32668a3c)\" d=\"M 379.928125 172.180277 \nL 379.928125 172.180277 \n\" style=\"fill:none;stroke:#3d3d3d;stroke-linecap:square;stroke-width:1.5;\"/>\n   </g>\n   <g id=\"line2d_54\">\n    <path clip-path=\"url(#p7e32668a3c)\" d=\"M 371.558125 172.180277 \nL 388.298125 172.180277 \n\" style=\"fill:none;stroke:#3d3d3d;stroke-linecap:square;stroke-width:1.5;\"/>\n   </g>\n   <g id=\"line2d_55\">\n    <path clip-path=\"url(#p7e32668a3c)\" d=\"M 371.558125 172.180277 \nL 388.298125 172.180277 \n\" style=\"fill:none;stroke:#3d3d3d;stroke-linecap:square;stroke-width:1.5;\"/>\n   </g>\n   <g id=\"line2d_56\"/>\n   <g id=\"line2d_57\">\n    <path clip-path=\"url(#p7e32668a3c)\" d=\"M 70.238125 179.454721 \nL 103.718125 179.454721 \n\" style=\"fill:none;stroke:#3d3d3d;stroke-linecap:square;stroke-width:1.5;\"/>\n   </g>\n   <g id=\"line2d_58\">\n    <path clip-path=\"url(#p7e32668a3c)\" d=\"M 112.088125 195.101639 \nL 145.568125 195.101639 \n\" style=\"fill:none;stroke:#3d3d3d;stroke-linecap:square;stroke-width:1.5;\"/>\n   </g>\n   <g id=\"line2d_59\">\n    <path clip-path=\"url(#p7e32668a3c)\" d=\"M 153.938125 197.778085 \nL 187.418125 197.778085 \n\" style=\"fill:none;stroke:#3d3d3d;stroke-linecap:square;stroke-width:1.5;\"/>\n   </g>\n   <g id=\"line2d_60\">\n    <path clip-path=\"url(#p7e32668a3c)\" d=\"M 195.788125 189.336985 \nL 229.268125 189.336985 \n\" style=\"fill:none;stroke:#3d3d3d;stroke-linecap:square;stroke-width:1.5;\"/>\n   </g>\n   <g id=\"line2d_61\">\n    <path clip-path=\"url(#p7e32668a3c)\" d=\"M 237.638125 146.136394 \nL 271.118125 146.136394 \n\" style=\"fill:none;stroke:#3d3d3d;stroke-linecap:square;stroke-width:1.5;\"/>\n   </g>\n   <g id=\"line2d_62\">\n    <path clip-path=\"url(#p7e32668a3c)\" d=\"M 279.488125 135.121788 \nL 312.968125 135.121788 \n\" style=\"fill:none;stroke:#3d3d3d;stroke-linecap:square;stroke-width:1.5;\"/>\n   </g>\n   <g id=\"line2d_63\">\n    <path clip-path=\"url(#p7e32668a3c)\" d=\"M 321.338125 186.755244 \nL 354.818125 186.755244 \n\" style=\"fill:none;stroke:#3d3d3d;stroke-linecap:square;stroke-width:1.5;\"/>\n   </g>\n   <g id=\"line2d_64\">\n    <path clip-path=\"url(#p7e32668a3c)\" d=\"M 363.188125 172.180277 \nL 396.668125 172.180277 \n\" style=\"fill:none;stroke:#3d3d3d;stroke-linecap:square;stroke-width:1.5;\"/>\n   </g>\n   <g id=\"patch_11\">\n    <path d=\"M 66.053125 224.64 \nL 66.053125 7.2 \n\" style=\"fill:none;stroke:#000000;stroke-linecap:square;stroke-linejoin:miter;stroke-width:0.8;\"/>\n   </g>\n   <g id=\"patch_12\">\n    <path d=\"M 400.853125 224.64 \nL 400.853125 7.2 \n\" style=\"fill:none;stroke:#000000;stroke-linecap:square;stroke-linejoin:miter;stroke-width:0.8;\"/>\n   </g>\n   <g id=\"patch_13\">\n    <path d=\"M 66.053125 224.64 \nL 400.853125 224.64 \n\" style=\"fill:none;stroke:#000000;stroke-linecap:square;stroke-linejoin:miter;stroke-width:0.8;\"/>\n   </g>\n   <g id=\"patch_14\">\n    <path d=\"M 66.053125 7.2 \nL 400.853125 7.2 \n\" style=\"fill:none;stroke:#000000;stroke-linecap:square;stroke-linejoin:miter;stroke-width:0.8;\"/>\n   </g>\n  </g>\n </g>\n <defs>\n  <clipPath id=\"p7e32668a3c\">\n   <rect height=\"217.44\" width=\"334.8\" x=\"66.053125\" y=\"7.2\"/>\n  </clipPath>\n </defs>\n</svg>\n",
      "image/png": "[encoded data removed]"
     },
     "metadata": {
      "needs_background": "light"
     }
    }
   ],
   "source": [
    "import seaborn as sns\n",
    "sns.boxplot(x = 'Condition2', y = 'SalePrice', data=train_pd)\n",
    "#train_pd.groupby('Street')['SalePrice'].mean()"
   ]
  },
  {
   "cell_type": "code",
   "execution_count": 51,
   "metadata": {},
   "outputs": [
    {
     "output_type": "execute_result",
     "data": {
      "text/plain": "                SalePrice                      \n                     mean count     max     min\nCondition2                                     \nArtery      106500.000000     2  118000   95000\nFeedr       121166.666667     6  167500   79500\nNorm        181169.405536  1445  755000   34900\nPosA        325000.000000     1  325000  325000\nPosN        284875.000000     2  385000  184750\nRRAe        190000.000000     1  190000  190000\nRRAn        136905.000000     1  136905  136905\nRRNn         96750.000000     2  125000   68500",
      "text/html": "<div>\n<style scoped>\n    .dataframe tbody tr th:only-of-type {\n        vertical-align: middle;\n    }\n\n    .dataframe tbody tr th {\n        vertical-align: top;\n    }\n\n    .dataframe thead tr th {\n        text-align: left;\n    }\n\n    .dataframe thead tr:last-of-type th {\n        text-align: right;\n    }\n</style>\n<table border=\"1\" class=\"dataframe\">\n  <thead>\n    <tr>\n      <th></th>\n      <th colspan=\"4\" halign=\"left\">SalePrice</th>\n    </tr>\n    <tr>\n      <th></th>\n      <th>mean</th>\n      <th>count</th>\n      <th>max</th>\n      <th>min</th>\n    </tr>\n    <tr>\n      <th>Condition2</th>\n      <th></th>\n      <th></th>\n      <th></th>\n      <th></th>\n    </tr>\n  </thead>\n  <tbody>\n    <tr>\n      <th>Artery</th>\n      <td>106500.000000</td>\n      <td>2</td>\n      <td>118000</td>\n      <td>95000</td>\n    </tr>\n    <tr>\n      <th>Feedr</th>\n      <td>121166.666667</td>\n      <td>6</td>\n      <td>167500</td>\n      <td>79500</td>\n    </tr>\n    <tr>\n      <th>Norm</th>\n      <td>181169.405536</td>\n      <td>1445</td>\n      <td>755000</td>\n      <td>34900</td>\n    </tr>\n    <tr>\n      <th>PosA</th>\n      <td>325000.000000</td>\n      <td>1</td>\n      <td>325000</td>\n      <td>325000</td>\n    </tr>\n    <tr>\n      <th>PosN</th>\n      <td>284875.000000</td>\n      <td>2</td>\n      <td>385000</td>\n      <td>184750</td>\n    </tr>\n    <tr>\n      <th>RRAe</th>\n      <td>190000.000000</td>\n      <td>1</td>\n      <td>190000</td>\n      <td>190000</td>\n    </tr>\n    <tr>\n      <th>RRAn</th>\n      <td>136905.000000</td>\n      <td>1</td>\n      <td>136905</td>\n      <td>136905</td>\n    </tr>\n    <tr>\n      <th>RRNn</th>\n      <td>96750.000000</td>\n      <td>2</td>\n      <td>125000</td>\n      <td>68500</td>\n    </tr>\n  </tbody>\n</table>\n</div>"
     },
     "metadata": {},
     "execution_count": 51
    }
   ],
   "source": [
    "train_pd.groupby('Condition2').agg({\"SalePrice\": [\"mean\", \"count\", \"max\", \"min\"]})"
   ]
  },
  {
   "cell_type": "code",
   "execution_count": 20,
   "metadata": {},
   "outputs": [],
   "source": [
    "from statsmodels.formula.api import ols\n",
    "def getOLS(data, predictor):\n",
    "    result = ols(f\"SalePrice ~ C({predictor})\", data=data).fit()\n",
    "    return result"
   ]
  },
  {
   "cell_type": "code",
   "execution_count": 47,
   "metadata": {},
   "outputs": [],
   "source": [
    "new_train_pd = train_pd[train_pd['Condition2'] != \"Norm\"]"
   ]
  },
  {
   "cell_type": "code",
   "execution_count": 48,
   "metadata": {},
   "outputs": [],
   "source": [
    "result = getOLS(new_train_pd, 'Condition2')"
   ]
  },
  {
   "cell_type": "code",
   "execution_count": 76,
   "metadata": {},
   "outputs": [],
   "source": [
    "def cal_fpvalue_special_col(col_name):\n",
    "    if train_pd[col_name].nunique() == 2:\n",
    "        return float('inf')\n",
    "    mode = train_pd[col_name].value_counts().index[0]\n",
    "    new_train_pd = train_pd[train_pd[col_name] != mode]\n",
    "    print(new_train_pd.shape)\n",
    "    result_ols = getOLS(new_train_pd, col_name)\n",
    "    return result_ols.f_pvalue\n",
    ""
   ]
  },
  {
   "cell_type": "code",
   "execution_count": 77,
   "metadata": {},
   "outputs": [
    {
     "output_type": "stream",
     "name": "stdout",
     "text": "(15, 81)\n(26, 81)\n(32, 81)\n(26, 81)\n(68, 81)\n(24, 81)\n(7, 81)\n(52, 81)\n"
    },
    {
     "output_type": "execute_result",
     "data": {
      "text/plain": "Street                inf\nUtilities             inf\nCondition2       0.037748\nRoofMatl         0.079543\nHeating          0.024357\nLowQualFinSF     0.000416\nKitchenAbvGr     0.628450\nThirdSsnPorch    0.218816\nPoolArea              NaN\nMiscVal          0.030983\ndtype: float64"
     },
     "metadata": {},
     "execution_count": 77
    }
   ],
   "source": [
    "pd.Series([cal_fpvalue_special_col(col) for col in data_imputer.remove_cols], index = data_imputer.remove_cols)"
   ]
  },
  {
   "cell_type": "code",
   "execution_count": 6,
   "metadata": {},
   "outputs": [
    {
     "output_type": "execute_result",
     "data": {
      "text/plain": "None    1369\nGrvl      50\nPave      41\nName: Alley, dtype: int64"
     },
     "metadata": {},
     "execution_count": 6
    }
   ],
   "source": [
    "df['Alley'].value_counts()"
   ]
  },
  {
   "cell_type": "code",
   "execution_count": null,
   "metadata": {},
   "outputs": [],
   "source": [
    "df[]"
   ]
  },
  {
   "cell_type": "code",
   "execution_count": 8,
   "metadata": {},
   "outputs": [
    {
     "output_type": "execute_result",
     "data": {
      "text/plain": "Grvl    50\nPave    41\nName: Alley, dtype: int64"
     },
     "metadata": {},
     "execution_count": 8
    }
   ],
   "source": [
    "train_pd['Alley'].value_counts()"
   ]
  },
  {
   "cell_type": "code",
   "execution_count": 8,
   "metadata": {},
   "outputs": [
    {
     "output_type": "execute_result",
     "data": {
      "text/plain": "object     43\nint64      35\nfloat64     3\ndtype: int64"
     },
     "metadata": {},
     "execution_count": 8
    }
   ],
   "source": [
    "train_pd.dtypes.value_counts()"
   ]
  },
  {
   "cell_type": "code",
   "execution_count": 9,
   "metadata": {},
   "outputs": [
    {
     "output_type": "execute_result",
     "data": {
      "text/plain": "        Id  MSSubClass MSZoning  LotFrontage  LotArea Street Alley LotShape  \\\n0        1          60       RL         65.0     8450   Pave   NaN      Reg   \n1        2          20       RL         80.0     9600   Pave   NaN      Reg   \n2        3          60       RL         68.0    11250   Pave   NaN      IR1   \n3        4          70       RL         60.0     9550   Pave   NaN      IR1   \n4        5          60       RL         84.0    14260   Pave   NaN      IR1   \n...    ...         ...      ...          ...      ...    ...   ...      ...   \n1455  1456          60       RL         62.0     7917   Pave   NaN      Reg   \n1456  1457          20       RL         85.0    13175   Pave   NaN      Reg   \n1457  1458          70       RL         66.0     9042   Pave   NaN      Reg   \n1458  1459          20       RL         68.0     9717   Pave   NaN      Reg   \n1459  1460          20       RL         75.0     9937   Pave   NaN      Reg   \n\n     LandContour Utilities  ... PoolArea PoolQC  Fence MiscFeature MiscVal  \\\n0            Lvl    AllPub  ...        0    NaN    NaN         NaN       0   \n1            Lvl    AllPub  ...        0    NaN    NaN         NaN       0   \n2            Lvl    AllPub  ...        0    NaN    NaN         NaN       0   \n3            Lvl    AllPub  ...        0    NaN    NaN         NaN       0   \n4            Lvl    AllPub  ...        0    NaN    NaN         NaN       0   \n...          ...       ...  ...      ...    ...    ...         ...     ...   \n1455         Lvl    AllPub  ...        0    NaN    NaN         NaN       0   \n1456         Lvl    AllPub  ...        0    NaN  MnPrv         NaN       0   \n1457         Lvl    AllPub  ...        0    NaN  GdPrv        Shed    2500   \n1458         Lvl    AllPub  ...        0    NaN    NaN         NaN       0   \n1459         Lvl    AllPub  ...        0    NaN    NaN         NaN       0   \n\n     MoSold YrSold  SaleType  SaleCondition  SalePrice  \n0         2   2008        WD         Normal     208500  \n1         5   2007        WD         Normal     181500  \n2         9   2008        WD         Normal     223500  \n3         2   2006        WD        Abnorml     140000  \n4        12   2008        WD         Normal     250000  \n...     ...    ...       ...            ...        ...  \n1455      8   2007        WD         Normal     175000  \n1456      2   2010        WD         Normal     210000  \n1457      5   2010        WD         Normal     266500  \n1458      4   2010        WD         Normal     142125  \n1459      6   2008        WD         Normal     147500  \n\n[1460 rows x 81 columns]",
      "text/html": "<div>\n<style scoped>\n    .dataframe tbody tr th:only-of-type {\n        vertical-align: middle;\n    }\n\n    .dataframe tbody tr th {\n        vertical-align: top;\n    }\n\n    .dataframe thead th {\n        text-align: right;\n    }\n</style>\n<table border=\"1\" class=\"dataframe\">\n  <thead>\n    <tr style=\"text-align: right;\">\n      <th></th>\n      <th>Id</th>\n      <th>MSSubClass</th>\n      <th>MSZoning</th>\n      <th>LotFrontage</th>\n      <th>LotArea</th>\n      <th>Street</th>\n      <th>Alley</th>\n      <th>LotShape</th>\n      <th>LandContour</th>\n      <th>Utilities</th>\n      <th>...</th>\n      <th>PoolArea</th>\n      <th>PoolQC</th>\n      <th>Fence</th>\n      <th>MiscFeature</th>\n      <th>MiscVal</th>\n      <th>MoSold</th>\n      <th>YrSold</th>\n      <th>SaleType</th>\n      <th>SaleCondition</th>\n      <th>SalePrice</th>\n    </tr>\n  </thead>\n  <tbody>\n    <tr>\n      <th>0</th>\n      <td>1</td>\n      <td>60</td>\n      <td>RL</td>\n      <td>65.0</td>\n      <td>8450</td>\n      <td>Pave</td>\n      <td>NaN</td>\n      <td>Reg</td>\n      <td>Lvl</td>\n      <td>AllPub</td>\n      <td>...</td>\n      <td>0</td>\n      <td>NaN</td>\n      <td>NaN</td>\n      <td>NaN</td>\n      <td>0</td>\n      <td>2</td>\n      <td>2008</td>\n      <td>WD</td>\n      <td>Normal</td>\n      <td>208500</td>\n    </tr>\n    <tr>\n      <th>1</th>\n      <td>2</td>\n      <td>20</td>\n      <td>RL</td>\n      <td>80.0</td>\n      <td>9600</td>\n      <td>Pave</td>\n      <td>NaN</td>\n      <td>Reg</td>\n      <td>Lvl</td>\n      <td>AllPub</td>\n      <td>...</td>\n      <td>0</td>\n      <td>NaN</td>\n      <td>NaN</td>\n      <td>NaN</td>\n      <td>0</td>\n      <td>5</td>\n      <td>2007</td>\n      <td>WD</td>\n      <td>Normal</td>\n      <td>181500</td>\n    </tr>\n    <tr>\n      <th>2</th>\n      <td>3</td>\n      <td>60</td>\n      <td>RL</td>\n      <td>68.0</td>\n      <td>11250</td>\n      <td>Pave</td>\n      <td>NaN</td>\n      <td>IR1</td>\n      <td>Lvl</td>\n      <td>AllPub</td>\n      <td>...</td>\n      <td>0</td>\n      <td>NaN</td>\n      <td>NaN</td>\n      <td>NaN</td>\n      <td>0</td>\n      <td>9</td>\n      <td>2008</td>\n      <td>WD</td>\n      <td>Normal</td>\n      <td>223500</td>\n    </tr>\n    <tr>\n      <th>3</th>\n      <td>4</td>\n      <td>70</td>\n      <td>RL</td>\n      <td>60.0</td>\n      <td>9550</td>\n      <td>Pave</td>\n      <td>NaN</td>\n      <td>IR1</td>\n      <td>Lvl</td>\n      <td>AllPub</td>\n      <td>...</td>\n      <td>0</td>\n      <td>NaN</td>\n      <td>NaN</td>\n      <td>NaN</td>\n      <td>0</td>\n      <td>2</td>\n      <td>2006</td>\n      <td>WD</td>\n      <td>Abnorml</td>\n      <td>140000</td>\n    </tr>\n    <tr>\n      <th>4</th>\n      <td>5</td>\n      <td>60</td>\n      <td>RL</td>\n      <td>84.0</td>\n      <td>14260</td>\n      <td>Pave</td>\n      <td>NaN</td>\n      <td>IR1</td>\n      <td>Lvl</td>\n      <td>AllPub</td>\n      <td>...</td>\n      <td>0</td>\n      <td>NaN</td>\n      <td>NaN</td>\n      <td>NaN</td>\n      <td>0</td>\n      <td>12</td>\n      <td>2008</td>\n      <td>WD</td>\n      <td>Normal</td>\n      <td>250000</td>\n    </tr>\n    <tr>\n      <th>...</th>\n      <td>...</td>\n      <td>...</td>\n      <td>...</td>\n      <td>...</td>\n      <td>...</td>\n      <td>...</td>\n      <td>...</td>\n      <td>...</td>\n      <td>...</td>\n      <td>...</td>\n      <td>...</td>\n      <td>...</td>\n      <td>...</td>\n      <td>...</td>\n      <td>...</td>\n      <td>...</td>\n      <td>...</td>\n      <td>...</td>\n      <td>...</td>\n      <td>...</td>\n      <td>...</td>\n    </tr>\n    <tr>\n      <th>1455</th>\n      <td>1456</td>\n      <td>60</td>\n      <td>RL</td>\n      <td>62.0</td>\n      <td>7917</td>\n      <td>Pave</td>\n      <td>NaN</td>\n      <td>Reg</td>\n      <td>Lvl</td>\n      <td>AllPub</td>\n      <td>...</td>\n      <td>0</td>\n      <td>NaN</td>\n      <td>NaN</td>\n      <td>NaN</td>\n      <td>0</td>\n      <td>8</td>\n      <td>2007</td>\n      <td>WD</td>\n      <td>Normal</td>\n      <td>175000</td>\n    </tr>\n    <tr>\n      <th>1456</th>\n      <td>1457</td>\n      <td>20</td>\n      <td>RL</td>\n      <td>85.0</td>\n      <td>13175</td>\n      <td>Pave</td>\n      <td>NaN</td>\n      <td>Reg</td>\n      <td>Lvl</td>\n      <td>AllPub</td>\n      <td>...</td>\n      <td>0</td>\n      <td>NaN</td>\n      <td>MnPrv</td>\n      <td>NaN</td>\n      <td>0</td>\n      <td>2</td>\n      <td>2010</td>\n      <td>WD</td>\n      <td>Normal</td>\n      <td>210000</td>\n    </tr>\n    <tr>\n      <th>1457</th>\n      <td>1458</td>\n      <td>70</td>\n      <td>RL</td>\n      <td>66.0</td>\n      <td>9042</td>\n      <td>Pave</td>\n      <td>NaN</td>\n      <td>Reg</td>\n      <td>Lvl</td>\n      <td>AllPub</td>\n      <td>...</td>\n      <td>0</td>\n      <td>NaN</td>\n      <td>GdPrv</td>\n      <td>Shed</td>\n      <td>2500</td>\n      <td>5</td>\n      <td>2010</td>\n      <td>WD</td>\n      <td>Normal</td>\n      <td>266500</td>\n    </tr>\n    <tr>\n      <th>1458</th>\n      <td>1459</td>\n      <td>20</td>\n      <td>RL</td>\n      <td>68.0</td>\n      <td>9717</td>\n      <td>Pave</td>\n      <td>NaN</td>\n      <td>Reg</td>\n      <td>Lvl</td>\n      <td>AllPub</td>\n      <td>...</td>\n      <td>0</td>\n      <td>NaN</td>\n      <td>NaN</td>\n      <td>NaN</td>\n      <td>0</td>\n      <td>4</td>\n      <td>2010</td>\n      <td>WD</td>\n      <td>Normal</td>\n      <td>142125</td>\n    </tr>\n    <tr>\n      <th>1459</th>\n      <td>1460</td>\n      <td>20</td>\n      <td>RL</td>\n      <td>75.0</td>\n      <td>9937</td>\n      <td>Pave</td>\n      <td>NaN</td>\n      <td>Reg</td>\n      <td>Lvl</td>\n      <td>AllPub</td>\n      <td>...</td>\n      <td>0</td>\n      <td>NaN</td>\n      <td>NaN</td>\n      <td>NaN</td>\n      <td>0</td>\n      <td>6</td>\n      <td>2008</td>\n      <td>WD</td>\n      <td>Normal</td>\n      <td>147500</td>\n    </tr>\n  </tbody>\n</table>\n<p>1460 rows × 81 columns</p>\n</div>"
     },
     "metadata": {},
     "execution_count": 9
    }
   ],
   "source": [
    "train_pd"
   ]
  },
  {
   "cell_type": "code",
   "execution_count": 10,
   "metadata": {},
   "outputs": [
    {
     "output_type": "execute_result",
     "data": {
      "text/plain": "     Id  MSSubClass  MSZoning  LotFrontage  LotArea  Street  Alley  LotShape  \\\n0  1460          15         5          110     1073       2      2         4   \n\n   LandContour  Utilities  LotConfig  LandSlope  Neighborhood  Condition1  \\\n0            4          2          5          3            25           9   \n\n   Condition2  BldgType  HouseStyle  OverallQual  OverallCond  YearBuilt  \\\n0           8         5           8           10            9        112   \n\n   YearRemodAdd  RoofStyle  RoofMatl  Exterior1st  Exterior2nd  MasVnrType  \\\n0            61          6         8           15           16           4   \n\n   MasVnrArea  ExterQual  ExterCond  Foundation  BsmtQual  BsmtCond  \\\n0         327          4          5           6         4         4   \n\n   BsmtExposure  BsmtFinType1  BsmtFinSF1  ...  GrLivArea  BsmtFullBath  \\\n0             4             6         637  ...        861             4   \n\n   BsmtHalfBath  FullBath  HalfBath  BedroomAbvGr  KitchenAbvGr  KitchenQual  \\\n0             3         4         3             8             4            4   \n\n   TotRmsAbvGrd  Functional  Fireplaces  FireplaceQu  GarageType  GarageYrBlt  \\\n0            12           7           4            5           6           97   \n\n   GarageFinish  GarageCars  GarageArea  GarageQual  GarageCond  PavedDrive  \\\n0             3           5         441           5           5           3   \n\n   WoodDeckSF  OpenPorchSF  EnclosedPorch  3SsnPorch  ScreenPorch  PoolArea  \\\n0         274          202            120         20           76         8   \n\n   PoolQC  Fence  MiscFeature  MiscVal  MoSold  YrSold  SaleType  \\\n0       3      4            4       21      12       5         9   \n\n   SaleCondition  SalePrice  \n0              6        663  \n\n[1 rows x 81 columns]",
      "text/html": "<div>\n<style scoped>\n    .dataframe tbody tr th:only-of-type {\n        vertical-align: middle;\n    }\n\n    .dataframe tbody tr th {\n        vertical-align: top;\n    }\n\n    .dataframe thead th {\n        text-align: right;\n    }\n</style>\n<table border=\"1\" class=\"dataframe\">\n  <thead>\n    <tr style=\"text-align: right;\">\n      <th></th>\n      <th>Id</th>\n      <th>MSSubClass</th>\n      <th>MSZoning</th>\n      <th>LotFrontage</th>\n      <th>LotArea</th>\n      <th>Street</th>\n      <th>Alley</th>\n      <th>LotShape</th>\n      <th>LandContour</th>\n      <th>Utilities</th>\n      <th>LotConfig</th>\n      <th>LandSlope</th>\n      <th>Neighborhood</th>\n      <th>Condition1</th>\n      <th>Condition2</th>\n      <th>BldgType</th>\n      <th>HouseStyle</th>\n      <th>OverallQual</th>\n      <th>OverallCond</th>\n      <th>YearBuilt</th>\n      <th>YearRemodAdd</th>\n      <th>RoofStyle</th>\n      <th>RoofMatl</th>\n      <th>Exterior1st</th>\n      <th>Exterior2nd</th>\n      <th>MasVnrType</th>\n      <th>MasVnrArea</th>\n      <th>ExterQual</th>\n      <th>ExterCond</th>\n      <th>Foundation</th>\n      <th>BsmtQual</th>\n      <th>BsmtCond</th>\n      <th>BsmtExposure</th>\n      <th>BsmtFinType1</th>\n      <th>BsmtFinSF1</th>\n      <th>...</th>\n      <th>GrLivArea</th>\n      <th>BsmtFullBath</th>\n      <th>BsmtHalfBath</th>\n      <th>FullBath</th>\n      <th>HalfBath</th>\n      <th>BedroomAbvGr</th>\n      <th>KitchenAbvGr</th>\n      <th>KitchenQual</th>\n      <th>TotRmsAbvGrd</th>\n      <th>Functional</th>\n      <th>Fireplaces</th>\n      <th>FireplaceQu</th>\n      <th>GarageType</th>\n      <th>GarageYrBlt</th>\n      <th>GarageFinish</th>\n      <th>GarageCars</th>\n      <th>GarageArea</th>\n      <th>GarageQual</th>\n      <th>GarageCond</th>\n      <th>PavedDrive</th>\n      <th>WoodDeckSF</th>\n      <th>OpenPorchSF</th>\n      <th>EnclosedPorch</th>\n      <th>3SsnPorch</th>\n      <th>ScreenPorch</th>\n      <th>PoolArea</th>\n      <th>PoolQC</th>\n      <th>Fence</th>\n      <th>MiscFeature</th>\n      <th>MiscVal</th>\n      <th>MoSold</th>\n      <th>YrSold</th>\n      <th>SaleType</th>\n      <th>SaleCondition</th>\n      <th>SalePrice</th>\n    </tr>\n  </thead>\n  <tbody>\n    <tr>\n      <th>0</th>\n      <td>1460</td>\n      <td>15</td>\n      <td>5</td>\n      <td>110</td>\n      <td>1073</td>\n      <td>2</td>\n      <td>2</td>\n      <td>4</td>\n      <td>4</td>\n      <td>2</td>\n      <td>5</td>\n      <td>3</td>\n      <td>25</td>\n      <td>9</td>\n      <td>8</td>\n      <td>5</td>\n      <td>8</td>\n      <td>10</td>\n      <td>9</td>\n      <td>112</td>\n      <td>61</td>\n      <td>6</td>\n      <td>8</td>\n      <td>15</td>\n      <td>16</td>\n      <td>4</td>\n      <td>327</td>\n      <td>4</td>\n      <td>5</td>\n      <td>6</td>\n      <td>4</td>\n      <td>4</td>\n      <td>4</td>\n      <td>6</td>\n      <td>637</td>\n      <td>...</td>\n      <td>861</td>\n      <td>4</td>\n      <td>3</td>\n      <td>4</td>\n      <td>3</td>\n      <td>8</td>\n      <td>4</td>\n      <td>4</td>\n      <td>12</td>\n      <td>7</td>\n      <td>4</td>\n      <td>5</td>\n      <td>6</td>\n      <td>97</td>\n      <td>3</td>\n      <td>5</td>\n      <td>441</td>\n      <td>5</td>\n      <td>5</td>\n      <td>3</td>\n      <td>274</td>\n      <td>202</td>\n      <td>120</td>\n      <td>20</td>\n      <td>76</td>\n      <td>8</td>\n      <td>3</td>\n      <td>4</td>\n      <td>4</td>\n      <td>21</td>\n      <td>12</td>\n      <td>5</td>\n      <td>9</td>\n      <td>6</td>\n      <td>663</td>\n    </tr>\n  </tbody>\n</table>\n<p>1 rows × 81 columns</p>\n</div>"
     },
     "metadata": {},
     "execution_count": 10
    }
   ],
   "source": [
    "pd.set_option('display.max_columns', 70)\n",
    "pd.DataFrame(train_pd.nunique()).transpose()"
   ]
  },
  {
   "cell_type": "code",
   "execution_count": 11,
   "metadata": {},
   "outputs": [
    {
     "output_type": "execute_result",
     "data": {
      "text/plain": "Index(['Id', 'MSSubClass', 'MSZoning', 'LotFrontage', 'LotArea', 'Street',\n       'Alley', 'LotShape', 'LandContour', 'Utilities', 'LotConfig',\n       'LandSlope', 'Neighborhood', 'Condition1', 'Condition2', 'BldgType',\n       'HouseStyle', 'OverallQual', 'OverallCond', 'YearBuilt', 'YearRemodAdd',\n       'RoofStyle', 'RoofMatl', 'Exterior1st', 'Exterior2nd', 'MasVnrType',\n       'MasVnrArea', 'ExterQual', 'ExterCond', 'Foundation', 'BsmtQual',\n       'BsmtCond', 'BsmtExposure', 'BsmtFinType1', 'BsmtFinSF1',\n       'BsmtFinType2', 'BsmtFinSF2', 'BsmtUnfSF', 'TotalBsmtSF', 'Heating',\n       'HeatingQC', 'CentralAir', 'Electrical', '1stFlrSF', '2ndFlrSF',\n       'LowQualFinSF', 'GrLivArea', 'BsmtFullBath', 'BsmtHalfBath', 'FullBath',\n       'HalfBath', 'BedroomAbvGr', 'KitchenAbvGr', 'KitchenQual',\n       'TotRmsAbvGrd', 'Functional', 'Fireplaces', 'FireplaceQu', 'GarageType',\n       'GarageYrBlt', 'GarageFinish', 'GarageCars', 'GarageArea', 'GarageQual',\n       'GarageCond', 'PavedDrive', 'WoodDeckSF', 'OpenPorchSF',\n       'EnclosedPorch', 'ThreeeSsnPorch', 'ScreenPorch', 'PoolArea', 'PoolQC',\n       'Fence', 'MiscFeature', 'MiscVal', 'MoSold', 'YrSold', 'SaleType',\n       'SaleCondition', 'SalePrice'],\n      dtype='object')"
     },
     "metadata": {},
     "execution_count": 11
    }
   ],
   "source": [
    "train_pd = train_pd.rename(columns = {\"3SsnPorch\": \"ThreeeSsnPorch\"})\n",
    "train_pd.columns"
   ]
  },
  {
   "cell_type": "code",
   "execution_count": 12,
   "metadata": {},
   "outputs": [
    {
     "output_type": "execute_result",
     "data": {
      "text/plain": "LotFrontage    float64\nMasVnrArea     float64\nGarageYrBlt    float64\ndtype: object"
     },
     "metadata": {},
     "execution_count": 12
    }
   ],
   "source": [
    "dtypes = train_pd.dtypes\n",
    "dtypes[dtypes == \"float64\"]"
   ]
  },
  {
   "cell_type": "code",
   "execution_count": 13,
   "metadata": {},
   "outputs": [
    {
     "output_type": "execute_result",
     "data": {
      "text/plain": "dtype('int64')"
     },
     "metadata": {},
     "execution_count": 13
    }
   ],
   "source": [
    "dtypes['SalePrice']"
   ]
  },
  {
   "cell_type": "code",
   "execution_count": 14,
   "metadata": {},
   "outputs": [
    {
     "output_type": "execute_result",
     "data": {
      "text/plain": "MSSubClass\n20     185224.811567\n30      95829.724638\n40     156125.000000\n45     108591.666667\n50     143302.972222\n60     239948.501672\n70     166772.416667\n75     192437.500000\n80     169736.551724\n85     147810.000000\n90     133541.076923\n120    200779.080460\n160    138647.380952\n180    102300.000000\n190    129613.333333\nName: SalePrice, dtype: float64"
     },
     "metadata": {},
     "execution_count": 14
    }
   ],
   "source": [
    "train_pd[[\"MSSubClass\", \"SalePrice\"]].groupby(\"MSSubClass\")[\"SalePrice\"].mean()"
   ]
  },
  {
   "cell_type": "code",
   "execution_count": 15,
   "metadata": {},
   "outputs": [
    {
     "output_type": "stream",
     "name": "stdout",
     "text": "\n\n"
    },
    {
     "output_type": "execute_result",
     "data": {
      "text/plain": "              N           Mean             SD            SE      95% Conf.  \\\nMSSubClass                                                                   \n20          536  185224.811567   78782.189967   3402.872321  178548.951430   \n30           69   95829.724638   24857.110083   2992.444403   89921.564602   \n40            4  156125.000000   75747.799748  37873.899874   70408.295353   \n45           12  108591.666667   20231.723889   5840.395617   96635.481892   \n50          144  143302.972222   54851.983707   4570.998642  134312.543733   \n60          299  239948.501672   86579.909966   5007.045474  230118.240211   \n70           60  166772.416667   58206.545762   7514.432746  151919.836930   \n75           16  192437.500000  100556.762577  25139.190644  141548.756870   \n80           58  169736.551724   38197.808771   5015.618013  159820.081922   \n85           20  147810.000000   19629.942220   4389.388520  138983.301503   \n90           52  133541.076923   27833.249197   3859.777198  125902.105396   \n120          87  200779.080460   58221.490909   6241.999020  188473.838203   \n160          63  138647.380952   34587.542266   4357.620728  130037.841322   \n180          10  102300.000000   29474.282575   9320.586534   83043.468717   \n190          30  129613.333333   35439.097670   6470.264404  116714.817889   \n\n                 Interval  \nMSSubClass                 \n20          191900.671704  \n30          101737.884674  \n40          241841.704647  \n45          120547.851441  \n50          152293.400711  \n60          249778.763134  \n70          181624.996404  \n75          243326.243130  \n80          179653.021527  \n85          156636.698497  \n90          141180.048450  \n120         213084.322716  \n160         147256.920583  \n180         121556.531283  \n190         142511.848777  ",
      "text/html": "<div>\n<style scoped>\n    .dataframe tbody tr th:only-of-type {\n        vertical-align: middle;\n    }\n\n    .dataframe tbody tr th {\n        vertical-align: top;\n    }\n\n    .dataframe thead th {\n        text-align: right;\n    }\n</style>\n<table border=\"1\" class=\"dataframe\">\n  <thead>\n    <tr style=\"text-align: right;\">\n      <th></th>\n      <th>N</th>\n      <th>Mean</th>\n      <th>SD</th>\n      <th>SE</th>\n      <th>95% Conf.</th>\n      <th>Interval</th>\n    </tr>\n    <tr>\n      <th>MSSubClass</th>\n      <th></th>\n      <th></th>\n      <th></th>\n      <th></th>\n      <th></th>\n      <th></th>\n    </tr>\n  </thead>\n  <tbody>\n    <tr>\n      <th>20</th>\n      <td>536</td>\n      <td>185224.811567</td>\n      <td>78782.189967</td>\n      <td>3402.872321</td>\n      <td>178548.951430</td>\n      <td>191900.671704</td>\n    </tr>\n    <tr>\n      <th>30</th>\n      <td>69</td>\n      <td>95829.724638</td>\n      <td>24857.110083</td>\n      <td>2992.444403</td>\n      <td>89921.564602</td>\n      <td>101737.884674</td>\n    </tr>\n    <tr>\n      <th>40</th>\n      <td>4</td>\n      <td>156125.000000</td>\n      <td>75747.799748</td>\n      <td>37873.899874</td>\n      <td>70408.295353</td>\n      <td>241841.704647</td>\n    </tr>\n    <tr>\n      <th>45</th>\n      <td>12</td>\n      <td>108591.666667</td>\n      <td>20231.723889</td>\n      <td>5840.395617</td>\n      <td>96635.481892</td>\n      <td>120547.851441</td>\n    </tr>\n    <tr>\n      <th>50</th>\n      <td>144</td>\n      <td>143302.972222</td>\n      <td>54851.983707</td>\n      <td>4570.998642</td>\n      <td>134312.543733</td>\n      <td>152293.400711</td>\n    </tr>\n    <tr>\n      <th>60</th>\n      <td>299</td>\n      <td>239948.501672</td>\n      <td>86579.909966</td>\n      <td>5007.045474</td>\n      <td>230118.240211</td>\n      <td>249778.763134</td>\n    </tr>\n    <tr>\n      <th>70</th>\n      <td>60</td>\n      <td>166772.416667</td>\n      <td>58206.545762</td>\n      <td>7514.432746</td>\n      <td>151919.836930</td>\n      <td>181624.996404</td>\n    </tr>\n    <tr>\n      <th>75</th>\n      <td>16</td>\n      <td>192437.500000</td>\n      <td>100556.762577</td>\n      <td>25139.190644</td>\n      <td>141548.756870</td>\n      <td>243326.243130</td>\n    </tr>\n    <tr>\n      <th>80</th>\n      <td>58</td>\n      <td>169736.551724</td>\n      <td>38197.808771</td>\n      <td>5015.618013</td>\n      <td>159820.081922</td>\n      <td>179653.021527</td>\n    </tr>\n    <tr>\n      <th>85</th>\n      <td>20</td>\n      <td>147810.000000</td>\n      <td>19629.942220</td>\n      <td>4389.388520</td>\n      <td>138983.301503</td>\n      <td>156636.698497</td>\n    </tr>\n    <tr>\n      <th>90</th>\n      <td>52</td>\n      <td>133541.076923</td>\n      <td>27833.249197</td>\n      <td>3859.777198</td>\n      <td>125902.105396</td>\n      <td>141180.048450</td>\n    </tr>\n    <tr>\n      <th>120</th>\n      <td>87</td>\n      <td>200779.080460</td>\n      <td>58221.490909</td>\n      <td>6241.999020</td>\n      <td>188473.838203</td>\n      <td>213084.322716</td>\n    </tr>\n    <tr>\n      <th>160</th>\n      <td>63</td>\n      <td>138647.380952</td>\n      <td>34587.542266</td>\n      <td>4357.620728</td>\n      <td>130037.841322</td>\n      <td>147256.920583</td>\n    </tr>\n    <tr>\n      <th>180</th>\n      <td>10</td>\n      <td>102300.000000</td>\n      <td>29474.282575</td>\n      <td>9320.586534</td>\n      <td>83043.468717</td>\n      <td>121556.531283</td>\n    </tr>\n    <tr>\n      <th>190</th>\n      <td>30</td>\n      <td>129613.333333</td>\n      <td>35439.097670</td>\n      <td>6470.264404</td>\n      <td>116714.817889</td>\n      <td>142511.848777</td>\n    </tr>\n  </tbody>\n</table>\n</div>"
     },
     "metadata": {},
     "execution_count": 15
    }
   ],
   "source": [
    "import researchpy as rp\n",
    "rp.summary_cont(train_pd['SalePrice'].groupby(train_pd['MSSubClass']))\n",
    ""
   ]
  },
  {
   "cell_type": "code",
   "execution_count": 9,
   "metadata": {},
   "outputs": [
    {
     "output_type": "execute_result",
     "data": {
      "text/plain": "<class 'statsmodels.iolib.summary.Summary'>\n\"\"\"\n                            OLS Regression Results                            \n==============================================================================\nDep. Variable:              SalePrice   R-squared:                       0.285\nModel:                            OLS   Adj. R-squared:                  0.277\nMethod:                 Least Squares   F-statistic:                     35.56\nDate:                Mon, 23 Mar 2020   Prob (F-statistic):           4.90e-08\nTime:                        17:16:32   Log-Likelihood:                -1083.9\nNo. Observations:                  91   AIC:                             2172.\nDf Residuals:                      89   BIC:                             2177.\nDf Model:                           1                                         \nCovariance Type:            nonrobust                                         \n====================================================================================\n                       coef    std err          t      P>|t|      [0.025      0.975]\n------------------------------------------------------------------------------------\nIntercept         1.222e+05   5153.091     23.718      0.000    1.12e+05    1.32e+05\nC(Alley)[T.Pave]  4.578e+04   7677.090      5.963      0.000    3.05e+04     6.1e+04\n==============================================================================\nOmnibus:                       10.670   Durbin-Watson:                   2.234\nProb(Omnibus):                  0.005   Jarque-Bera (JB):               28.438\nSkew:                           0.102   Prob(JB):                     6.68e-07\nKurtosis:                       5.731   Cond. No.                         2.52\n==============================================================================\n\nWarnings:\n[1] Standard Errors assume that the covariance matrix of the errors is correctly specified.\n\"\"\"",
      "text/html": "<table class=\"simpletable\">\n<caption>OLS Regression Results</caption>\n<tr>\n  <th>Dep. Variable:</th>        <td>SalePrice</td>    <th>  R-squared:         </th> <td>   0.285</td>\n</tr>\n<tr>\n  <th>Model:</th>                   <td>OLS</td>       <th>  Adj. R-squared:    </th> <td>   0.277</td>\n</tr>\n<tr>\n  <th>Method:</th>             <td>Least Squares</td>  <th>  F-statistic:       </th> <td>   35.56</td>\n</tr>\n<tr>\n  <th>Date:</th>             <td>Mon, 23 Mar 2020</td> <th>  Prob (F-statistic):</th> <td>4.90e-08</td>\n</tr>\n<tr>\n  <th>Time:</th>                 <td>17:16:32</td>     <th>  Log-Likelihood:    </th> <td> -1083.9</td>\n</tr>\n<tr>\n  <th>No. Observations:</th>      <td>    91</td>      <th>  AIC:               </th> <td>   2172.</td>\n</tr>\n<tr>\n  <th>Df Residuals:</th>          <td>    89</td>      <th>  BIC:               </th> <td>   2177.</td>\n</tr>\n<tr>\n  <th>Df Model:</th>              <td>     1</td>      <th>                     </th>     <td> </td>   \n</tr>\n<tr>\n  <th>Covariance Type:</th>      <td>nonrobust</td>    <th>                     </th>     <td> </td>   \n</tr>\n</table>\n<table class=\"simpletable\">\n<tr>\n          <td></td>            <th>coef</th>     <th>std err</th>      <th>t</th>      <th>P>|t|</th>  <th>[0.025</th>    <th>0.975]</th>  \n</tr>\n<tr>\n  <th>Intercept</th>        <td> 1.222e+05</td> <td> 5153.091</td> <td>   23.718</td> <td> 0.000</td> <td> 1.12e+05</td> <td> 1.32e+05</td>\n</tr>\n<tr>\n  <th>C(Alley)[T.Pave]</th> <td> 4.578e+04</td> <td> 7677.090</td> <td>    5.963</td> <td> 0.000</td> <td> 3.05e+04</td> <td>  6.1e+04</td>\n</tr>\n</table>\n<table class=\"simpletable\">\n<tr>\n  <th>Omnibus:</th>       <td>10.670</td> <th>  Durbin-Watson:     </th> <td>   2.234</td>\n</tr>\n<tr>\n  <th>Prob(Omnibus):</th> <td> 0.005</td> <th>  Jarque-Bera (JB):  </th> <td>  28.438</td>\n</tr>\n<tr>\n  <th>Skew:</th>          <td> 0.102</td> <th>  Prob(JB):          </th> <td>6.68e-07</td>\n</tr>\n<tr>\n  <th>Kurtosis:</th>      <td> 5.731</td> <th>  Cond. No.          </th> <td>    2.52</td>\n</tr>\n</table><br/><br/>Warnings:<br/>[1] Standard Errors assume that the covariance matrix of the errors is correctly specified."
     },
     "metadata": {},
     "execution_count": 9
    }
   ],
   "source": [
    "from statsmodels.formula.api import ols\n",
    "results = ols('SalePrice ~ C(Alley)', data = train_pd).fit()\n",
    "results.summary()"
   ]
  },
  {
   "cell_type": "code",
   "execution_count": 13,
   "metadata": {},
   "outputs": [
    {
     "output_type": "execute_result",
     "data": {
      "text/plain": "<class 'statsmodels.iolib.summary.Summary'>\n\"\"\"\n                            OLS Regression Results                            \n==============================================================================\nDep. Variable:              SalePrice   R-squared:                       0.020\nModel:                            OLS   Adj. R-squared:                  0.019\nMethod:                 Least Squares   F-statistic:                     15.18\nDate:                Mon, 23 Mar 2020   Prob (F-statistic):           3.00e-07\nTime:                        17:21:48   Log-Likelihood:                -18529.\nNo. Observations:                1460   AIC:                         3.706e+04\nDf Residuals:                    1457   BIC:                         3.708e+04\nDf Model:                           2                                         \nCovariance Type:            nonrobust                                         \n====================================================================================\n                       coef    std err          t      P>|t|      [0.025      0.975]\n------------------------------------------------------------------------------------\nIntercept         1.222e+05   1.11e+04     10.984      0.000       1e+05    1.44e+05\nC(Alley)[T.None]  6.123e+04   1.13e+04      5.405      0.000     3.9e+04    8.35e+04\nC(Alley)[T.Pave]  4.578e+04   1.66e+04      2.762      0.006    1.33e+04    7.83e+04\n==============================================================================\nOmnibus:                      612.504   Durbin-Watson:                   1.983\nProb(Omnibus):                  0.000   Jarque-Bera (JB):             3535.316\nSkew:                           1.877   Prob(JB):                         0.00\nKurtosis:                       9.635   Cond. No.                         14.0\n==============================================================================\n\nWarnings:\n[1] Standard Errors assume that the covariance matrix of the errors is correctly specified.\n\"\"\"",
      "text/html": "<table class=\"simpletable\">\n<caption>OLS Regression Results</caption>\n<tr>\n  <th>Dep. Variable:</th>        <td>SalePrice</td>    <th>  R-squared:         </th> <td>   0.020</td> \n</tr>\n<tr>\n  <th>Model:</th>                   <td>OLS</td>       <th>  Adj. R-squared:    </th> <td>   0.019</td> \n</tr>\n<tr>\n  <th>Method:</th>             <td>Least Squares</td>  <th>  F-statistic:       </th> <td>   15.18</td> \n</tr>\n<tr>\n  <th>Date:</th>             <td>Mon, 23 Mar 2020</td> <th>  Prob (F-statistic):</th> <td>3.00e-07</td> \n</tr>\n<tr>\n  <th>Time:</th>                 <td>17:21:48</td>     <th>  Log-Likelihood:    </th> <td> -18529.</td> \n</tr>\n<tr>\n  <th>No. Observations:</th>      <td>  1460</td>      <th>  AIC:               </th> <td>3.706e+04</td>\n</tr>\n<tr>\n  <th>Df Residuals:</th>          <td>  1457</td>      <th>  BIC:               </th> <td>3.708e+04</td>\n</tr>\n<tr>\n  <th>Df Model:</th>              <td>     2</td>      <th>                     </th>     <td> </td>    \n</tr>\n<tr>\n  <th>Covariance Type:</th>      <td>nonrobust</td>    <th>                     </th>     <td> </td>    \n</tr>\n</table>\n<table class=\"simpletable\">\n<tr>\n          <td></td>            <th>coef</th>     <th>std err</th>      <th>t</th>      <th>P>|t|</th>  <th>[0.025</th>    <th>0.975]</th>  \n</tr>\n<tr>\n  <th>Intercept</th>        <td> 1.222e+05</td> <td> 1.11e+04</td> <td>   10.984</td> <td> 0.000</td> <td>    1e+05</td> <td> 1.44e+05</td>\n</tr>\n<tr>\n  <th>C(Alley)[T.None]</th> <td> 6.123e+04</td> <td> 1.13e+04</td> <td>    5.405</td> <td> 0.000</td> <td>  3.9e+04</td> <td> 8.35e+04</td>\n</tr>\n<tr>\n  <th>C(Alley)[T.Pave]</th> <td> 4.578e+04</td> <td> 1.66e+04</td> <td>    2.762</td> <td> 0.006</td> <td> 1.33e+04</td> <td> 7.83e+04</td>\n</tr>\n</table>\n<table class=\"simpletable\">\n<tr>\n  <th>Omnibus:</th>       <td>612.504</td> <th>  Durbin-Watson:     </th> <td>   1.983</td>\n</tr>\n<tr>\n  <th>Prob(Omnibus):</th> <td> 0.000</td>  <th>  Jarque-Bera (JB):  </th> <td>3535.316</td>\n</tr>\n<tr>\n  <th>Skew:</th>          <td> 1.877</td>  <th>  Prob(JB):          </th> <td>    0.00</td>\n</tr>\n<tr>\n  <th>Kurtosis:</th>      <td> 9.635</td>  <th>  Cond. No.          </th> <td>    14.0</td>\n</tr>\n</table><br/><br/>Warnings:<br/>[1] Standard Errors assume that the covariance matrix of the errors is correctly specified."
     },
     "metadata": {},
     "execution_count": 13
    }
   ],
   "source": [
    "result2 = ols('SalePrice ~ C(Alley)', data = df).fit()\n",
    "result2.summary()"
   ]
  },
  {
   "cell_type": "code",
   "execution_count": 12,
   "metadata": {},
   "outputs": [
    {
     "output_type": "execute_result",
     "data": {
      "text/plain": "1837591464.014408"
     },
     "metadata": {},
     "execution_count": 12
    }
   ],
   "source": [
    "results.mse_total"
   ]
  },
  {
   "cell_type": "code",
   "execution_count": 14,
   "metadata": {},
   "outputs": [
    {
     "output_type": "execute_result",
     "data": {
      "text/plain": "6311111264.297448"
     },
     "metadata": {},
     "execution_count": 14
    }
   ],
   "source": [
    "result2.mse_total"
   ]
  },
  {
   "cell_type": "code",
   "execution_count": 34,
   "metadata": {},
   "outputs": [
    {
     "output_type": "stream",
     "name": "stdout",
     "text": "0 0.0\n1 3.6600385734929035e-23\n2 0.40290538820860566\n3 0.00015783294125191346\n4 1.5735063986404618e-10\n5 8.107245407334332e-27\n6 0.0506695483387308\n7 0.6816971451342002\n8 0.10613313853835632\n9 0.017888786857600335\n10 3.212366722497661e-07\n11 0.05235447929125894\n12 5.076095069002471e-07\n13 0.0001844574740300455\n14 2.0169903488927322e-05\n"
    }
   ],
   "source": [
    "for col, pvalue in enumerate(results.pvalues):\n",
    "    print(col, pvalue)"
   ]
  },
  {
   "cell_type": "code",
   "execution_count": 17,
   "metadata": {},
   "outputs": [
    {
     "output_type": "execute_result",
     "data": {
      "text/plain": "68944.36756976064"
     },
     "metadata": {},
     "execution_count": 17
    }
   ],
   "source": [
    "import math\n",
    "import numpy as np\n",
    "np.std(results.resid)"
   ]
  },
  {
   "cell_type": "code",
   "execution_count": 36,
   "metadata": {},
   "outputs": [
    {
     "output_type": "execute_result",
     "data": {
      "text/plain": "count      81.000000\nmean      120.395062\nstd       275.344769\nmin         2.000000\n25%         4.000000\n50%         6.000000\n75%        25.000000\nmax      1460.000000\ndtype: float64"
     },
     "metadata": {},
     "execution_count": 36
    }
   ],
   "source": [
    "uniq_count = train_pd.nunique()\n",
    "uniq_count.describe()"
   ]
  },
  {
   "cell_type": "code",
   "execution_count": 19,
   "metadata": {},
   "outputs": [
    {
     "output_type": "execute_result",
     "data": {
      "text/plain": "25.0"
     },
     "metadata": {},
     "execution_count": 19
    }
   ],
   "source": [
    "import numpy\n",
    "numpy.quantile(uniq_count, 0.75)"
   ]
  },
  {
   "cell_type": "code",
   "execution_count": 29,
   "metadata": {},
   "outputs": [
    {
     "output_type": "execute_result",
     "data": {
      "text/plain": "False"
     },
     "metadata": {},
     "execution_count": 29
    }
   ],
   "source": [
    "(uniq_count <= 25)['LotArea']"
   ]
  },
  {
   "cell_type": "code",
   "execution_count": 20,
   "metadata": {},
   "outputs": [
    {
     "output_type": "execute_result",
     "data": {
      "text/plain": "Index(['MSSubClass', 'MSZoning', 'Street', 'Alley', 'LotShape', 'LandContour',\n       'Utilities', 'LotConfig', 'LandSlope', 'Neighborhood', 'Condition1',\n       'Condition2', 'BldgType', 'HouseStyle', 'OverallQual', 'OverallCond',\n       'RoofStyle', 'RoofMatl', 'Exterior1st', 'Exterior2nd', 'MasVnrType',\n       'ExterQual', 'ExterCond', 'Foundation', 'BsmtQual', 'BsmtCond',\n       'BsmtExposure', 'BsmtFinType1', 'BsmtFinType2', 'Heating', 'HeatingQC',\n       'CentralAir', 'Electrical', 'LowQualFinSF', 'BsmtFullBath',\n       'BsmtHalfBath', 'FullBath', 'HalfBath', 'BedroomAbvGr', 'KitchenAbvGr',\n       'KitchenQual', 'TotRmsAbvGrd', 'Functional', 'Fireplaces',\n       'FireplaceQu', 'GarageType', 'GarageFinish', 'GarageCars', 'GarageQual',\n       'GarageCond', 'PavedDrive', 'ThreeeSsnPorch', 'PoolArea', 'PoolQC',\n       'Fence', 'MiscFeature', 'MiscVal', 'MoSold', 'YrSold', 'SaleType',\n       'SaleCondition'],\n      dtype='object')"
     },
     "metadata": {},
     "execution_count": 20
    }
   ],
   "source": [
    "category_cols = uniq_count[uniq_count <= 25].index\n",
    "category_cols"
   ]
  },
  {
   "cell_type": "code",
   "execution_count": 21,
   "metadata": {},
   "outputs": [],
   "source": [
    "selected_cols = []\n",
    "for col_name in category_cols:\n",
    "    model_result = ols(f'SalePrice ~ C({col_name})', data = train_pd).fit()\n",
    "    if model_result.f_pvalue < 0.05:\n",
    "        selected_cols.append(col_name)"
   ]
  },
  {
   "cell_type": "code",
   "execution_count": 22,
   "metadata": {},
   "outputs": [
    {
     "output_type": "execute_result",
     "data": {
      "text/plain": "['MSSubClass',\n 'MSZoning',\n 'Alley',\n 'LotShape',\n 'LandContour',\n 'LotConfig',\n 'Neighborhood',\n 'Condition1',\n 'Condition2',\n 'BldgType',\n 'HouseStyle',\n 'OverallQual',\n 'OverallCond',\n 'RoofStyle',\n 'RoofMatl',\n 'Exterior1st',\n 'Exterior2nd',\n 'MasVnrType',\n 'ExterQual',\n 'ExterCond',\n 'Foundation',\n 'BsmtQual',\n 'BsmtCond',\n 'BsmtExposure',\n 'BsmtFinType1',\n 'BsmtFinType2',\n 'Heating',\n 'HeatingQC',\n 'CentralAir',\n 'Electrical',\n 'BsmtFullBath',\n 'FullBath',\n 'HalfBath',\n 'BedroomAbvGr',\n 'KitchenAbvGr',\n 'KitchenQual',\n 'TotRmsAbvGrd',\n 'Functional',\n 'Fireplaces',\n 'FireplaceQu',\n 'GarageType',\n 'GarageFinish',\n 'GarageCars',\n 'GarageQual',\n 'GarageCond',\n 'PavedDrive',\n 'PoolArea',\n 'Fence',\n 'SaleType',\n 'SaleCondition']"
     },
     "metadata": {},
     "execution_count": 22
    }
   ],
   "source": [
    "selected_cols"
   ]
  },
  {
   "cell_type": "code",
   "execution_count": 7,
   "metadata": {},
   "outputs": [
    {
     "output_type": "error",
     "ename": "NameError",
     "evalue": "name 'ols' is not defined",
     "traceback": [
      "\u001b[0;31m---------------------------------------------------------------------------\u001b[0m",
      "\u001b[0;31mNameError\u001b[0m                                 Traceback (most recent call last)",
      "\u001b[0;32m<ipython-input-7-84aabb66b6e2>\u001b[0m in \u001b[0;36m<module>\u001b[0;34m\u001b[0m\n\u001b[0;32m----> 1\u001b[0;31m \u001b[0mtest_model\u001b[0m \u001b[0;34m=\u001b[0m \u001b[0mols\u001b[0m\u001b[0;34m(\u001b[0m\u001b[0;34m'SalePrice ~ C(Alley)'\u001b[0m\u001b[0;34m,\u001b[0m \u001b[0mdata\u001b[0m \u001b[0;34m=\u001b[0m \u001b[0mtrain_pd\u001b[0m\u001b[0;34m)\u001b[0m\u001b[0;34m.\u001b[0m\u001b[0mfit\u001b[0m\u001b[0;34m(\u001b[0m\u001b[0;34m)\u001b[0m\u001b[0;34m\u001b[0m\u001b[0m\n\u001b[0m\u001b[1;32m      2\u001b[0m \u001b[0mtest_model\u001b[0m\u001b[0;34m.\u001b[0m\u001b[0msummary\u001b[0m\u001b[0;34m(\u001b[0m\u001b[0;34m)\u001b[0m\u001b[0;34m\u001b[0m\u001b[0m\n",
      "\u001b[0;31mNameError\u001b[0m: name 'ols' is not defined"
     ]
    }
   ],
   "source": [
    "test_model = ols('SalePrice ~ C(Alley)', data = train_pd).fit()\n",
    "test_model.summary()"
   ]
  },
  {
   "cell_type": "code",
   "execution_count": 22,
   "metadata": {},
   "outputs": [
    {
     "output_type": "execute_result",
     "data": {
      "text/plain": "<class 'statsmodels.iolib.summary.Summary'>\n\"\"\"\n                            OLS Regression Results                            \n==============================================================================\nDep. Variable:              SalePrice   R-squared:                       0.271\nModel:                            OLS   Adj. R-squared:                  0.262\nMethod:                 Least Squares   F-statistic:                     29.74\nDate:                Mon, 23 Mar 2020   Prob (F-statistic):           8.06e-86\nTime:                        17:29:37   Log-Likelihood:                -18313.\nNo. Observations:                1460   AIC:                         3.666e+04\nDf Residuals:                    1441   BIC:                         3.677e+04\nDf Model:                          18                                         \nCovariance Type:            nonrobust                                         \n========================================================================================\n                           coef    std err          t      P>|t|      [0.025      0.975]\n----------------------------------------------------------------------------------------\nIntercept             1.044e+05    2.2e+04      4.736      0.000    6.11e+04    1.48e+05\nC(MSSubClass)[T.30]  -7.155e+04   9211.016     -7.768      0.000   -8.96e+04   -5.35e+04\nC(MSSubClass)[T.40]  -1.339e+04   3.44e+04     -0.390      0.697   -8.08e+04    5.41e+04\nC(MSSubClass)[T.45]  -5.542e+04   2.03e+04     -2.731      0.006   -9.52e+04   -1.56e+04\nC(MSSubClass)[T.50]  -2.848e+04   6763.228     -4.212      0.000   -4.18e+04   -1.52e+04\nC(MSSubClass)[T.60]   5.259e+04   4959.018     10.606      0.000    4.29e+04    6.23e+04\nC(MSSubClass)[T.70]  -1895.7470   9695.608     -0.196      0.845   -2.09e+04    1.71e+04\nC(MSSubClass)[T.75]   2.701e+04   1.77e+04      1.525      0.127   -7729.916    6.17e+04\nC(MSSubClass)[T.80]  -1.612e+04   9440.180     -1.708      0.088   -3.46e+04    2393.914\nC(MSSubClass)[T.85]  -3.805e+04   1.55e+04     -2.447      0.015   -6.85e+04   -7551.221\nC(MSSubClass)[T.90]  -4.662e+04   9979.338     -4.672      0.000   -6.62e+04    -2.7e+04\nC(MSSubClass)[T.120]  2.247e+04   8032.538      2.798      0.005    6717.461    3.82e+04\nC(MSSubClass)[T.160] -3.834e+04   1.01e+04     -3.792      0.000   -5.82e+04   -1.85e+04\nC(MSSubClass)[T.180] -5.087e+04   2.26e+04     -2.251      0.025   -9.52e+04   -6540.667\nC(MSSubClass)[T.190] -3.932e+04   1.31e+04     -3.008      0.003    -6.5e+04   -1.37e+04\nC(MSZoning)[T.FV]     1.007e+05   2.37e+04      4.248      0.000    5.42e+04    1.47e+05\nC(MSZoning)[T.RH]     4.812e+04   2.77e+04      1.736      0.083   -6257.521    1.03e+05\nC(MSZoning)[T.RL]     8.151e+04   2.19e+04      3.716      0.000    3.85e+04    1.25e+05\nC(MSZoning)[T.RM]     4.882e+04   2.22e+04      2.197      0.028    5234.574    9.24e+04\n==============================================================================\nOmnibus:                      748.920   Durbin-Watson:                   2.004\nProb(Omnibus):                  0.000   Jarque-Bera (JB):             6081.850\nSkew:                           2.255   Prob(JB):                         0.00\nKurtosis:                      11.923   Cond. No.                         36.9\n==============================================================================\n\nWarnings:\n[1] Standard Errors assume that the covariance matrix of the errors is correctly specified.\n\"\"\"",
      "text/html": "<table class=\"simpletable\">\n<caption>OLS Regression Results</caption>\n<tr>\n  <th>Dep. Variable:</th>        <td>SalePrice</td>    <th>  R-squared:         </th> <td>   0.271</td> \n</tr>\n<tr>\n  <th>Model:</th>                   <td>OLS</td>       <th>  Adj. R-squared:    </th> <td>   0.262</td> \n</tr>\n<tr>\n  <th>Method:</th>             <td>Least Squares</td>  <th>  F-statistic:       </th> <td>   29.74</td> \n</tr>\n<tr>\n  <th>Date:</th>             <td>Mon, 23 Mar 2020</td> <th>  Prob (F-statistic):</th> <td>8.06e-86</td> \n</tr>\n<tr>\n  <th>Time:</th>                 <td>17:29:37</td>     <th>  Log-Likelihood:    </th> <td> -18313.</td> \n</tr>\n<tr>\n  <th>No. Observations:</th>      <td>  1460</td>      <th>  AIC:               </th> <td>3.666e+04</td>\n</tr>\n<tr>\n  <th>Df Residuals:</th>          <td>  1441</td>      <th>  BIC:               </th> <td>3.677e+04</td>\n</tr>\n<tr>\n  <th>Df Model:</th>              <td>    18</td>      <th>                     </th>     <td> </td>    \n</tr>\n<tr>\n  <th>Covariance Type:</th>      <td>nonrobust</td>    <th>                     </th>     <td> </td>    \n</tr>\n</table>\n<table class=\"simpletable\">\n<tr>\n            <td></td>              <th>coef</th>     <th>std err</th>      <th>t</th>      <th>P>|t|</th>  <th>[0.025</th>    <th>0.975]</th>  \n</tr>\n<tr>\n  <th>Intercept</th>            <td> 1.044e+05</td> <td>  2.2e+04</td> <td>    4.736</td> <td> 0.000</td> <td> 6.11e+04</td> <td> 1.48e+05</td>\n</tr>\n<tr>\n  <th>C(MSSubClass)[T.30]</th>  <td>-7.155e+04</td> <td> 9211.016</td> <td>   -7.768</td> <td> 0.000</td> <td>-8.96e+04</td> <td>-5.35e+04</td>\n</tr>\n<tr>\n  <th>C(MSSubClass)[T.40]</th>  <td>-1.339e+04</td> <td> 3.44e+04</td> <td>   -0.390</td> <td> 0.697</td> <td>-8.08e+04</td> <td> 5.41e+04</td>\n</tr>\n<tr>\n  <th>C(MSSubClass)[T.45]</th>  <td>-5.542e+04</td> <td> 2.03e+04</td> <td>   -2.731</td> <td> 0.006</td> <td>-9.52e+04</td> <td>-1.56e+04</td>\n</tr>\n<tr>\n  <th>C(MSSubClass)[T.50]</th>  <td>-2.848e+04</td> <td> 6763.228</td> <td>   -4.212</td> <td> 0.000</td> <td>-4.18e+04</td> <td>-1.52e+04</td>\n</tr>\n<tr>\n  <th>C(MSSubClass)[T.60]</th>  <td> 5.259e+04</td> <td> 4959.018</td> <td>   10.606</td> <td> 0.000</td> <td> 4.29e+04</td> <td> 6.23e+04</td>\n</tr>\n<tr>\n  <th>C(MSSubClass)[T.70]</th>  <td>-1895.7470</td> <td> 9695.608</td> <td>   -0.196</td> <td> 0.845</td> <td>-2.09e+04</td> <td> 1.71e+04</td>\n</tr>\n<tr>\n  <th>C(MSSubClass)[T.75]</th>  <td> 2.701e+04</td> <td> 1.77e+04</td> <td>    1.525</td> <td> 0.127</td> <td>-7729.916</td> <td> 6.17e+04</td>\n</tr>\n<tr>\n  <th>C(MSSubClass)[T.80]</th>  <td>-1.612e+04</td> <td> 9440.180</td> <td>   -1.708</td> <td> 0.088</td> <td>-3.46e+04</td> <td> 2393.914</td>\n</tr>\n<tr>\n  <th>C(MSSubClass)[T.85]</th>  <td>-3.805e+04</td> <td> 1.55e+04</td> <td>   -2.447</td> <td> 0.015</td> <td>-6.85e+04</td> <td>-7551.221</td>\n</tr>\n<tr>\n  <th>C(MSSubClass)[T.90]</th>  <td>-4.662e+04</td> <td> 9979.338</td> <td>   -4.672</td> <td> 0.000</td> <td>-6.62e+04</td> <td> -2.7e+04</td>\n</tr>\n<tr>\n  <th>C(MSSubClass)[T.120]</th> <td> 2.247e+04</td> <td> 8032.538</td> <td>    2.798</td> <td> 0.005</td> <td> 6717.461</td> <td> 3.82e+04</td>\n</tr>\n<tr>\n  <th>C(MSSubClass)[T.160]</th> <td>-3.834e+04</td> <td> 1.01e+04</td> <td>   -3.792</td> <td> 0.000</td> <td>-5.82e+04</td> <td>-1.85e+04</td>\n</tr>\n<tr>\n  <th>C(MSSubClass)[T.180]</th> <td>-5.087e+04</td> <td> 2.26e+04</td> <td>   -2.251</td> <td> 0.025</td> <td>-9.52e+04</td> <td>-6540.667</td>\n</tr>\n<tr>\n  <th>C(MSSubClass)[T.190]</th> <td>-3.932e+04</td> <td> 1.31e+04</td> <td>   -3.008</td> <td> 0.003</td> <td> -6.5e+04</td> <td>-1.37e+04</td>\n</tr>\n<tr>\n  <th>C(MSZoning)[T.FV]</th>    <td> 1.007e+05</td> <td> 2.37e+04</td> <td>    4.248</td> <td> 0.000</td> <td> 5.42e+04</td> <td> 1.47e+05</td>\n</tr>\n<tr>\n  <th>C(MSZoning)[T.RH]</th>    <td> 4.812e+04</td> <td> 2.77e+04</td> <td>    1.736</td> <td> 0.083</td> <td>-6257.521</td> <td> 1.03e+05</td>\n</tr>\n<tr>\n  <th>C(MSZoning)[T.RL]</th>    <td> 8.151e+04</td> <td> 2.19e+04</td> <td>    3.716</td> <td> 0.000</td> <td> 3.85e+04</td> <td> 1.25e+05</td>\n</tr>\n<tr>\n  <th>C(MSZoning)[T.RM]</th>    <td> 4.882e+04</td> <td> 2.22e+04</td> <td>    2.197</td> <td> 0.028</td> <td> 5234.574</td> <td> 9.24e+04</td>\n</tr>\n</table>\n<table class=\"simpletable\">\n<tr>\n  <th>Omnibus:</th>       <td>748.920</td> <th>  Durbin-Watson:     </th> <td>   2.004</td>\n</tr>\n<tr>\n  <th>Prob(Omnibus):</th> <td> 0.000</td>  <th>  Jarque-Bera (JB):  </th> <td>6081.850</td>\n</tr>\n<tr>\n  <th>Skew:</th>          <td> 2.255</td>  <th>  Prob(JB):          </th> <td>    0.00</td>\n</tr>\n<tr>\n  <th>Kurtosis:</th>      <td>11.923</td>  <th>  Cond. No.          </th> <td>    36.9</td>\n</tr>\n</table><br/><br/>Warnings:<br/>[1] Standard Errors assume that the covariance matrix of the errors is correctly specified."
     },
     "metadata": {},
     "execution_count": 22
    }
   ],
   "source": [
    "test_model = ols('SalePrice ~ C(MSSubClass) + C(MSZoning)', data = train_pd).fit()\n",
    "test_model.summary()"
   ]
  },
  {
   "cell_type": "code",
   "execution_count": null,
   "metadata": {},
   "outputs": [],
   "source": []
  },
  {
   "cell_type": "code",
   "execution_count": 21,
   "metadata": {},
   "outputs": [
    {
     "output_type": "execute_result",
     "data": {
      "text/plain": "6311111264.297448"
     },
     "metadata": {},
     "execution_count": 21
    }
   ],
   "source": [
    "test_model.mse_total"
   ]
  },
  {
   "cell_type": "code",
   "execution_count": 25,
   "metadata": {},
   "outputs": [
    {
     "output_type": "execute_result",
     "data": {
      "text/plain": "<class 'statsmodels.iolib.summary.Summary'>\n\"\"\"\n                            OLS Regression Results                            \n==============================================================================\nDep. Variable:              SalePrice   R-squared:                       0.020\nModel:                            OLS   Adj. R-squared:                  0.019\nMethod:                 Least Squares   F-statistic:                     15.18\nDate:                Mon, 23 Mar 2020   Prob (F-statistic):           3.00e-07\nTime:                        17:36:55   Log-Likelihood:                -18529.\nNo. Observations:                1460   AIC:                         3.706e+04\nDf Residuals:                    1457   BIC:                         3.708e+04\nDf Model:                           2                                         \nCovariance Type:            nonrobust                                         \n====================================================================================\n                       coef    std err          t      P>|t|      [0.025      0.975]\n------------------------------------------------------------------------------------\nIntercept         1.222e+05   1.11e+04     10.984      0.000       1e+05    1.44e+05\nC(Alley)[T.None]  6.123e+04   1.13e+04      5.405      0.000     3.9e+04    8.35e+04\nC(Alley)[T.Pave]  4.578e+04   1.66e+04      2.762      0.006    1.33e+04    7.83e+04\n==============================================================================\nOmnibus:                      612.504   Durbin-Watson:                   1.983\nProb(Omnibus):                  0.000   Jarque-Bera (JB):             3535.316\nSkew:                           1.877   Prob(JB):                         0.00\nKurtosis:                       9.635   Cond. No.                         14.0\n==============================================================================\n\nWarnings:\n[1] Standard Errors assume that the covariance matrix of the errors is correctly specified.\n\"\"\"",
      "text/html": "<table class=\"simpletable\">\n<caption>OLS Regression Results</caption>\n<tr>\n  <th>Dep. Variable:</th>        <td>SalePrice</td>    <th>  R-squared:         </th> <td>   0.020</td> \n</tr>\n<tr>\n  <th>Model:</th>                   <td>OLS</td>       <th>  Adj. R-squared:    </th> <td>   0.019</td> \n</tr>\n<tr>\n  <th>Method:</th>             <td>Least Squares</td>  <th>  F-statistic:       </th> <td>   15.18</td> \n</tr>\n<tr>\n  <th>Date:</th>             <td>Mon, 23 Mar 2020</td> <th>  Prob (F-statistic):</th> <td>3.00e-07</td> \n</tr>\n<tr>\n  <th>Time:</th>                 <td>17:36:55</td>     <th>  Log-Likelihood:    </th> <td> -18529.</td> \n</tr>\n<tr>\n  <th>No. Observations:</th>      <td>  1460</td>      <th>  AIC:               </th> <td>3.706e+04</td>\n</tr>\n<tr>\n  <th>Df Residuals:</th>          <td>  1457</td>      <th>  BIC:               </th> <td>3.708e+04</td>\n</tr>\n<tr>\n  <th>Df Model:</th>              <td>     2</td>      <th>                     </th>     <td> </td>    \n</tr>\n<tr>\n  <th>Covariance Type:</th>      <td>nonrobust</td>    <th>                     </th>     <td> </td>    \n</tr>\n</table>\n<table class=\"simpletable\">\n<tr>\n          <td></td>            <th>coef</th>     <th>std err</th>      <th>t</th>      <th>P>|t|</th>  <th>[0.025</th>    <th>0.975]</th>  \n</tr>\n<tr>\n  <th>Intercept</th>        <td> 1.222e+05</td> <td> 1.11e+04</td> <td>   10.984</td> <td> 0.000</td> <td>    1e+05</td> <td> 1.44e+05</td>\n</tr>\n<tr>\n  <th>C(Alley)[T.None]</th> <td> 6.123e+04</td> <td> 1.13e+04</td> <td>    5.405</td> <td> 0.000</td> <td>  3.9e+04</td> <td> 8.35e+04</td>\n</tr>\n<tr>\n  <th>C(Alley)[T.Pave]</th> <td> 4.578e+04</td> <td> 1.66e+04</td> <td>    2.762</td> <td> 0.006</td> <td> 1.33e+04</td> <td> 7.83e+04</td>\n</tr>\n</table>\n<table class=\"simpletable\">\n<tr>\n  <th>Omnibus:</th>       <td>612.504</td> <th>  Durbin-Watson:     </th> <td>   1.983</td>\n</tr>\n<tr>\n  <th>Prob(Omnibus):</th> <td> 0.000</td>  <th>  Jarque-Bera (JB):  </th> <td>3535.316</td>\n</tr>\n<tr>\n  <th>Skew:</th>          <td> 1.877</td>  <th>  Prob(JB):          </th> <td>    0.00</td>\n</tr>\n<tr>\n  <th>Kurtosis:</th>      <td> 9.635</td>  <th>  Cond. No.          </th> <td>    14.0</td>\n</tr>\n</table><br/><br/>Warnings:<br/>[1] Standard Errors assume that the covariance matrix of the errors is correctly specified."
     },
     "metadata": {},
     "execution_count": 25
    }
   ],
   "source": [
    "test_model2 = ols('SalePrice ~ C(MSSubClass) + C(Alley)', data = train_pd).fit()\n",
    "test_model2.summary()"
   ]
  },
  {
   "cell_type": "code",
   "execution_count": 24,
   "metadata": {},
   "outputs": [
    {
     "output_type": "execute_result",
     "data": {
      "text/plain": "6311111264.297448"
     },
     "metadata": {},
     "execution_count": 24
    }
   ],
   "source": [
    "test_model2.mse_total"
   ]
  },
  {
   "cell_type": "code",
   "execution_count": 25,
   "metadata": {},
   "outputs": [
    {
     "output_type": "execute_result",
     "data": {
      "text/plain": "27585.483275515056"
     },
     "metadata": {},
     "execution_count": 25
    }
   ],
   "source": [
    "np.std(test_model.resid)"
   ]
  },
  {
   "cell_type": "code",
   "execution_count": 39,
   "metadata": {},
   "outputs": [
    {
     "output_type": "execute_result",
     "data": {
      "text/plain": "Index(['MSSubClass', 'MSZoning', 'LotFrontage', 'LotArea', 'Street', 'Alley',\n       'LotShape', 'LandContour', 'Utilities', 'LotConfig', 'LandSlope',\n       'Neighborhood', 'Condition1', 'Condition2', 'BldgType', 'HouseStyle',\n       'OverallQual', 'OverallCond', 'YearBuilt', 'YearRemodAdd', 'RoofStyle',\n       'RoofMatl', 'Exterior1st', 'Exterior2nd', 'MasVnrType', 'MasVnrArea',\n       'ExterQual', 'ExterCond', 'Foundation', 'BsmtQual', 'BsmtCond',\n       'BsmtExposure', 'BsmtFinType1', 'BsmtFinSF1', 'BsmtFinType2',\n       'BsmtFinSF2', 'BsmtUnfSF', 'TotalBsmtSF', 'Heating', 'HeatingQC',\n       'CentralAir', 'Electrical', '1stFlrSF', '2ndFlrSF', 'LowQualFinSF',\n       'GrLivArea', 'BsmtFullBath', 'BsmtHalfBath', 'FullBath', 'HalfBath',\n       'BedroomAbvGr', 'KitchenAbvGr', 'KitchenQual', 'TotRmsAbvGrd',\n       'Functional', 'Fireplaces', 'FireplaceQu', 'GarageType', 'GarageYrBlt',\n       'GarageFinish', 'GarageCars', 'GarageArea', 'GarageQual', 'GarageCond',\n       'PavedDrive', 'WoodDeckSF', 'OpenPorchSF', 'EnclosedPorch',\n       'ThreeeSsnPorch', 'ScreenPorch', 'PoolArea', 'PoolQC', 'Fence',\n       'MiscFeature', 'MiscVal', 'MoSold', 'YrSold', 'SaleType',\n       'SaleCondition', 'SalePrice'],\n      dtype='object')"
     },
     "metadata": {},
     "execution_count": 39
    }
   ],
   "source": [
    "train_pd.columns[1:]"
   ]
  },
  {
   "cell_type": "code",
   "execution_count": 53,
   "metadata": {},
   "outputs": [],
   "source": [
    "from mix_selection import *\n",
    "predictor_cols = train_pd.columns[1: -1]\n",
    "target_col = train_pd.columns[-1]\n",
    "select_tool = SelectionFeatures(ModelOLSStats)"
   ]
  },
  {
   "cell_type": "code",
   "execution_count": null,
   "metadata": {},
   "outputs": [],
   "source": [
    "'OverallQual', 'GrLivArea', 'Neighborhood', 'PoolArea'"
   ]
  },
  {
   "cell_type": "code",
   "execution_count": 3,
   "metadata": {},
   "outputs": [
    {
     "output_type": "error",
     "ename": "TypeError",
     "evalue": "'method' object is not subscriptable",
     "traceback": [
      "\u001b[0;31m---------------------------------------------------------------------------\u001b[0m",
      "\u001b[0;31mTypeError\u001b[0m                                 Traceback (most recent call last)",
      "\u001b[0;32m<ipython-input-3-4c58dfb1344b>\u001b[0m in \u001b[0;36m<module>\u001b[0;34m\u001b[0m\n\u001b[1;32m      1\u001b[0m \u001b[0;32mfrom\u001b[0m \u001b[0mcode_preprocessing\u001b[0m\u001b[0;34m.\u001b[0m\u001b[0mpreprocess\u001b[0m \u001b[0;32mimport\u001b[0m \u001b[0;34m*\u001b[0m\u001b[0;34m\u001b[0m\u001b[0m\n\u001b[1;32m      2\u001b[0m \u001b[0mimputer\u001b[0m \u001b[0;34m=\u001b[0m \u001b[0mDataFrameImputer\u001b[0m\u001b[0;34m(\u001b[0m\u001b[0;34m)\u001b[0m\u001b[0;34m\u001b[0m\u001b[0m\n\u001b[0;32m----> 3\u001b[0;31m \u001b[0mimputer\u001b[0m \u001b[0;34m=\u001b[0m \u001b[0mimputer\u001b[0m\u001b[0;34m.\u001b[0m\u001b[0mfit\u001b[0m\u001b[0;34m(\u001b[0m\u001b[0mtrain_pd\u001b[0m\u001b[0;34m)\u001b[0m\u001b[0;34m\u001b[0m\u001b[0m\n\u001b[0m",
      "\u001b[0;32m~/workspace/stats_learning/house_price_prediction/code_preprocessing/preprocess.py\u001b[0m in \u001b[0;36mfit\u001b[0;34m(self, X, y)\u001b[0m\n\u001b[1;32m     50\u001b[0m \u001b[0;34m\u001b[0m\u001b[0m\n\u001b[1;32m     51\u001b[0m     \u001b[0;32mdef\u001b[0m \u001b[0mfit\u001b[0m\u001b[0;34m(\u001b[0m\u001b[0mself\u001b[0m\u001b[0;34m,\u001b[0m \u001b[0mX\u001b[0m\u001b[0;34m,\u001b[0m \u001b[0my\u001b[0m \u001b[0;34m=\u001b[0m \u001b[0;32mNone\u001b[0m\u001b[0;34m)\u001b[0m\u001b[0;34m:\u001b[0m\u001b[0;34m\u001b[0m\u001b[0m\n\u001b[0;32m---> 52\u001b[0;31m         \u001b[0mself\u001b[0m\u001b[0;34m.\u001b[0m\u001b[0mfitRemove\u001b[0m\u001b[0;34m(\u001b[0m\u001b[0mX\u001b[0m\u001b[0;34m,\u001b[0m \u001b[0my\u001b[0m\u001b[0;34m)\u001b[0m\u001b[0;34m\u001b[0m\u001b[0m\n\u001b[0m\u001b[1;32m     53\u001b[0m         \u001b[0mself\u001b[0m\u001b[0;34m.\u001b[0m\u001b[0mfitNull\u001b[0m\u001b[0;34m(\u001b[0m\u001b[0mX\u001b[0m\u001b[0;34m,\u001b[0m \u001b[0my\u001b[0m\u001b[0;34m)\u001b[0m\u001b[0;34m\u001b[0m\u001b[0m\n\u001b[1;32m     54\u001b[0m         \u001b[0;32mreturn\u001b[0m \u001b[0mself\u001b[0m\u001b[0;34m\u001b[0m\u001b[0m\n",
      "\u001b[0;32m~/workspace/stats_learning/house_price_prediction/code_preprocessing/preprocess.py\u001b[0m in \u001b[0;36mfitRemove\u001b[0;34m(self, X, y)\u001b[0m\n\u001b[1;32m     44\u001b[0m         \u001b[0;32mfor\u001b[0m \u001b[0mcol\u001b[0m \u001b[0;32min\u001b[0m \u001b[0mX\u001b[0m\u001b[0;34m.\u001b[0m\u001b[0mcolumns\u001b[0m\u001b[0;34m:\u001b[0m\u001b[0;34m\u001b[0m\u001b[0m\n\u001b[1;32m     45\u001b[0m             \u001b[0;32mif\u001b[0m \u001b[0mself\u001b[0m\u001b[0;34m.\u001b[0m\u001b[0mis_category\u001b[0m\u001b[0;34m[\u001b[0m\u001b[0mcol\u001b[0m\u001b[0;34m]\u001b[0m \u001b[0;32mand\u001b[0m \u001b[0mcol\u001b[0m \u001b[0;32mnot\u001b[0m \u001b[0;32min\u001b[0m \u001b[0mself\u001b[0m\u001b[0;34m.\u001b[0m\u001b[0mremove_cols\u001b[0m\u001b[0;34m:\u001b[0m\u001b[0;34m\u001b[0m\u001b[0m\n\u001b[0;32m---> 46\u001b[0;31m                 \u001b[0;32mif\u001b[0m \u001b[0;34m(\u001b[0m\u001b[0mX\u001b[0m\u001b[0;34m[\u001b[0m\u001b[0mcol\u001b[0m\u001b[0;34m]\u001b[0m\u001b[0;34m.\u001b[0m\u001b[0mvalue_counts\u001b[0m\u001b[0;34m[\u001b[0m\u001b[0;36m0\u001b[0m\u001b[0;34m]\u001b[0m \u001b[0;34m/\u001b[0m \u001b[0mX\u001b[0m\u001b[0;34m.\u001b[0m\u001b[0mshape\u001b[0m\u001b[0;34m[\u001b[0m\u001b[0;36m0\u001b[0m\u001b[0;34m]\u001b[0m\u001b[0;34m)\u001b[0m \u001b[0;34m>\u001b[0m \u001b[0mmax_ratio_cat\u001b[0m\u001b[0;34m:\u001b[0m\u001b[0;34m\u001b[0m\u001b[0m\n\u001b[0m\u001b[1;32m     47\u001b[0m                     \u001b[0mself\u001b[0m\u001b[0;34m.\u001b[0m\u001b[0mremove_cols\u001b[0m\u001b[0;34m.\u001b[0m\u001b[0mappend\u001b[0m\u001b[0;34m(\u001b[0m\u001b[0mcol\u001b[0m\u001b[0;34m)\u001b[0m\u001b[0;34m\u001b[0m\u001b[0m\n\u001b[1;32m     48\u001b[0m         \u001b[0;31m#special case\u001b[0m\u001b[0;34m\u001b[0m\u001b[0;34m\u001b[0m\u001b[0m\n",
      "\u001b[0;31mTypeError\u001b[0m: 'method' object is not subscriptable"
     ]
    }
   ],
   "source": [
    "from code_preprocessing.preprocess import *\n",
    "imputer = DataFrameImputer()\n",
    "imputer = imputer.fit(train_pd)"
   ]
  },
  {
   "cell_type": "code",
   "execution_count": 13,
   "metadata": {},
   "outputs": [
    {
     "output_type": "execute_result",
     "data": {
      "text/plain": "OverallQual      True\nGrLivArea       False\nNeighborhood     True\nPoolArea         True\ndtype: bool"
     },
     "metadata": {},
     "execution_count": 13
    }
   ],
   "source": [
    "imputer.is_category[['OverallQual','GrLivArea', 'Neighborhood', 'PoolArea']]"
   ]
  },
  {
   "cell_type": "code",
   "execution_count": 66,
   "metadata": {},
   "outputs": [
    {
     "output_type": "execute_result",
     "data": {
      "text/plain": "<class 'statsmodels.iolib.summary.Summary'>\n\"\"\"\n                            OLS Regression Results                            \n==============================================================================\nDep. Variable:              SalePrice   R-squared:                       0.502\nModel:                            OLS   Adj. R-squared:                  0.502\nMethod:                 Least Squares   F-statistic:                     1471.\nDate:                Sat, 28 Mar 2020   Prob (F-statistic):          4.52e-223\nTime:                        15:51:02   Log-Likelihood:                -18035.\nNo. Observations:                1460   AIC:                         3.607e+04\nDf Residuals:                    1458   BIC:                         3.608e+04\nDf Model:                           1                                         \nCovariance Type:            nonrobust                                         \n==============================================================================\n                 coef    std err          t      P>|t|      [0.025      0.975]\n------------------------------------------------------------------------------\nIntercept   1.857e+04   4480.755      4.144      0.000    9779.612    2.74e+04\nGrLivArea    107.1304      2.794     38.348      0.000     101.650     112.610\n==============================================================================\nOmnibus:                      261.166   Durbin-Watson:                   2.025\nProb(Omnibus):                  0.000   Jarque-Bera (JB):             3432.287\nSkew:                           0.410   Prob(JB):                         0.00\nKurtosis:                      10.467   Cond. No.                     4.90e+03\n==============================================================================\n\nWarnings:\n[1] Standard Errors assume that the covariance matrix of the errors is correctly specified.\n[2] The condition number is large, 4.9e+03. This might indicate that there are\nstrong multicollinearity or other numerical problems.\n\"\"\"",
      "text/html": "<table class=\"simpletable\">\n<caption>OLS Regression Results</caption>\n<tr>\n  <th>Dep. Variable:</th>        <td>SalePrice</td>    <th>  R-squared:         </th> <td>   0.502</td> \n</tr>\n<tr>\n  <th>Model:</th>                   <td>OLS</td>       <th>  Adj. R-squared:    </th> <td>   0.502</td> \n</tr>\n<tr>\n  <th>Method:</th>             <td>Least Squares</td>  <th>  F-statistic:       </th> <td>   1471.</td> \n</tr>\n<tr>\n  <th>Date:</th>             <td>Sat, 28 Mar 2020</td> <th>  Prob (F-statistic):</th> <td>4.52e-223</td>\n</tr>\n<tr>\n  <th>Time:</th>                 <td>15:51:02</td>     <th>  Log-Likelihood:    </th> <td> -18035.</td> \n</tr>\n<tr>\n  <th>No. Observations:</th>      <td>  1460</td>      <th>  AIC:               </th> <td>3.607e+04</td>\n</tr>\n<tr>\n  <th>Df Residuals:</th>          <td>  1458</td>      <th>  BIC:               </th> <td>3.608e+04</td>\n</tr>\n<tr>\n  <th>Df Model:</th>              <td>     1</td>      <th>                     </th>     <td> </td>    \n</tr>\n<tr>\n  <th>Covariance Type:</th>      <td>nonrobust</td>    <th>                     </th>     <td> </td>    \n</tr>\n</table>\n<table class=\"simpletable\">\n<tr>\n      <td></td>         <th>coef</th>     <th>std err</th>      <th>t</th>      <th>P>|t|</th>  <th>[0.025</th>    <th>0.975]</th>  \n</tr>\n<tr>\n  <th>Intercept</th> <td> 1.857e+04</td> <td> 4480.755</td> <td>    4.144</td> <td> 0.000</td> <td> 9779.612</td> <td> 2.74e+04</td>\n</tr>\n<tr>\n  <th>GrLivArea</th> <td>  107.1304</td> <td>    2.794</td> <td>   38.348</td> <td> 0.000</td> <td>  101.650</td> <td>  112.610</td>\n</tr>\n</table>\n<table class=\"simpletable\">\n<tr>\n  <th>Omnibus:</th>       <td>261.166</td> <th>  Durbin-Watson:     </th> <td>   2.025</td>\n</tr>\n<tr>\n  <th>Prob(Omnibus):</th> <td> 0.000</td>  <th>  Jarque-Bera (JB):  </th> <td>3432.287</td>\n</tr>\n<tr>\n  <th>Skew:</th>          <td> 0.410</td>  <th>  Prob(JB):          </th> <td>    0.00</td>\n</tr>\n<tr>\n  <th>Kurtosis:</th>      <td>10.467</td>  <th>  Cond. No.          </th> <td>4.90e+03</td>\n</tr>\n</table><br/><br/>Warnings:<br/>[1] Standard Errors assume that the covariance matrix of the errors is correctly specified.<br/>[2] The condition number is large, 4.9e+03. This might indicate that there are<br/>strong multicollinearity or other numerical problems."
     },
     "metadata": {},
     "execution_count": 66
    }
   ],
   "source": [
    "from statsmodels.formula.api import ols\n",
    "model1 = ols('SalePrice ~ GrLivArea', data = train_pd).fit()\n",
    "model1.summary()"
   ]
  },
  {
   "cell_type": "code",
   "execution_count": 67,
   "metadata": {},
   "outputs": [
    {
     "output_type": "execute_result",
     "data": {
      "text/plain": "56034.303865279944"
     },
     "metadata": {},
     "execution_count": 67
    }
   ],
   "source": [
    "import math\n",
    "math.sqrt(model1.ssr/model1.nobs)"
   ]
  },
  {
   "cell_type": "code",
   "execution_count": 68,
   "metadata": {},
   "outputs": [
    {
     "output_type": "execute_result",
     "data": {
      "text/plain": "0        6738.060312\n1       27732.461129\n2       13596.153031\n3      -62511.852201\n4       -4041.554863\n            ...     \n1455   -20012.727073\n1456   -30650.259993\n1457    -2754.065837\n1458     8069.447178\n1459    -5624.756718\nLength: 1460, dtype: float64"
     },
     "metadata": {},
     "execution_count": 68
    }
   ],
   "source": [
    "model1.resid"
   ]
  },
  {
   "cell_type": "code",
   "execution_count": 98,
   "metadata": {},
   "outputs": [],
   "source": [
    "predict1 = model1.predict(train_pd.iloc[[197, 810, 1170, 1182, 1298, 1386, 1423]]).rename('predict1')\n",
    "predict2 = model2.predict(train_pd.iloc[[197, 810, 1170, 1182, 1298, 1386, 1423]]).rename('predict2')"
   ]
  },
  {
   "cell_type": "code",
   "execution_count": 103,
   "metadata": {},
   "outputs": [],
   "source": [
    "pool = train_pd.iloc[[197, 810, 1170, 1182, 1298, 1386, 1423]]['PoolArea']\n",
    "real = train_pd.iloc[[197, 810, 1170, 1182, 1298, 1386, 1423]]['SalePrice']\n",
    ""
   ]
  },
  {
   "cell_type": "code",
   "execution_count": 108,
   "metadata": {},
   "outputs": [
    {
     "output_type": "execute_result",
     "data": {
      "text/plain": "      PoolArea  SalePrice       predict1  predict2              0\n197        512     235000  351958.702958  235000.0 -116958.702958\n810        648     181000  158802.665743  181000.0   22197.334257\n1170       576     171000  138340.767180  171000.0   32659.232820\n1182       555     745000  498084.512588  745000.0  246915.487413\n1298       480     160000  622998.511142  160000.0 -462998.511142\n1386       519     250000  316819.945217  250000.0  -66819.945217\n1423       738     274970  254362.945940  274970.0   20607.054060",
      "text/html": "<div>\n<style scoped>\n    .dataframe tbody tr th:only-of-type {\n        vertical-align: middle;\n    }\n\n    .dataframe tbody tr th {\n        vertical-align: top;\n    }\n\n    .dataframe thead th {\n        text-align: right;\n    }\n</style>\n<table border=\"1\" class=\"dataframe\">\n  <thead>\n    <tr style=\"text-align: right;\">\n      <th></th>\n      <th>PoolArea</th>\n      <th>SalePrice</th>\n      <th>predict1</th>\n      <th>predict2</th>\n      <th>0</th>\n    </tr>\n  </thead>\n  <tbody>\n    <tr>\n      <th>197</th>\n      <td>512</td>\n      <td>235000</td>\n      <td>351958.702958</td>\n      <td>235000.0</td>\n      <td>-116958.702958</td>\n    </tr>\n    <tr>\n      <th>810</th>\n      <td>648</td>\n      <td>181000</td>\n      <td>158802.665743</td>\n      <td>181000.0</td>\n      <td>22197.334257</td>\n    </tr>\n    <tr>\n      <th>1170</th>\n      <td>576</td>\n      <td>171000</td>\n      <td>138340.767180</td>\n      <td>171000.0</td>\n      <td>32659.232820</td>\n    </tr>\n    <tr>\n      <th>1182</th>\n      <td>555</td>\n      <td>745000</td>\n      <td>498084.512588</td>\n      <td>745000.0</td>\n      <td>246915.487413</td>\n    </tr>\n    <tr>\n      <th>1298</th>\n      <td>480</td>\n      <td>160000</td>\n      <td>622998.511142</td>\n      <td>160000.0</td>\n      <td>-462998.511142</td>\n    </tr>\n    <tr>\n      <th>1386</th>\n      <td>519</td>\n      <td>250000</td>\n      <td>316819.945217</td>\n      <td>250000.0</td>\n      <td>-66819.945217</td>\n    </tr>\n    <tr>\n      <th>1423</th>\n      <td>738</td>\n      <td>274970</td>\n      <td>254362.945940</td>\n      <td>274970.0</td>\n      <td>20607.054060</td>\n    </tr>\n  </tbody>\n</table>\n</div>"
     },
     "metadata": {},
     "execution_count": 108
    }
   ],
   "source": [
    "pd.concat([pool, real, predict1, predict2, predict2- predict1], axis=1)"
   ]
  },
  {
   "cell_type": "code",
   "execution_count": 102,
   "metadata": {},
   "outputs": [
    {
     "output_type": "execute_result",
     "data": {
      "text/plain": "Intercept              12887.682309\nC(PoolArea)[T.480]   -479400.358769\nC(PoolArea)[T.512]   -123457.949793\nC(PoolArea)[T.519]    -72035.376614\nC(PoolArea)[T.555]    235077.447107\nC(PoolArea)[T.576]     33964.644475\nC(PoolArea)[T.648]     22755.158264\nC(PoolArea)[T.738]     17673.526324\nGrLivArea                111.044430\ndtype: float64"
     },
     "metadata": {},
     "execution_count": 102
    }
   ],
   "source": [
    "model2.params"
   ]
  },
  {
   "cell_type": "code",
   "execution_count": 70,
   "metadata": {},
   "outputs": [
    {
     "output_type": "execute_result",
     "data": {
      "text/plain": "<class 'statsmodels.iolib.summary.Summary'>\n\"\"\"\n                            OLS Regression Results                            \n==============================================================================\nDep. Variable:              SalePrice   R-squared:                       0.535\nModel:                            OLS   Adj. R-squared:                  0.532\nMethod:                 Least Squares   F-statistic:                     208.6\nDate:                Sat, 28 Mar 2020   Prob (F-statistic):          6.65e-235\nTime:                        15:51:55   Log-Likelihood:                -17985.\nNo. Observations:                1460   AIC:                         3.599e+04\nDf Residuals:                    1451   BIC:                         3.604e+04\nDf Model:                           8                                         \nCovariance Type:            nonrobust                                         \n======================================================================================\n                         coef    std err          t      P>|t|      [0.025      0.975]\n--------------------------------------------------------------------------------------\nIntercept           1.289e+04   4481.074      2.876      0.004    4097.607    2.17e+04\nC(PoolArea)[T.480] -4.794e+05   5.56e+04     -8.625      0.000   -5.88e+05    -3.7e+05\nC(PoolArea)[T.512] -1.235e+05   5.45e+04     -2.264      0.024    -2.3e+05   -1.65e+04\nC(PoolArea)[T.519] -7.204e+04   5.45e+04     -1.323      0.186   -1.79e+05    3.48e+04\nC(PoolArea)[T.555]  2.351e+05    5.5e+04      4.275      0.000    1.27e+05    3.43e+05\nC(PoolArea)[T.576]  3.396e+04   5.44e+04      0.625      0.532   -7.27e+04    1.41e+05\nC(PoolArea)[T.648]  2.276e+04   5.44e+04      0.419      0.676   -8.39e+04    1.29e+05\nC(PoolArea)[T.738]  1.767e+04   5.44e+04      0.325      0.745    -8.9e+04    1.24e+05\nGrLivArea            111.0444      2.816     39.431      0.000     105.520     116.569\n==============================================================================\nOmnibus:                      263.098   Durbin-Watson:                   2.055\nProb(Omnibus):                  0.000   Jarque-Bera (JB):             1597.258\nSkew:                           0.691   Prob(JB):                         0.00\nKurtosis:                       7.934   Cond. No.                     6.38e+04\n==============================================================================\n\nWarnings:\n[1] Standard Errors assume that the covariance matrix of the errors is correctly specified.\n[2] The condition number is large, 6.38e+04. This might indicate that there are\nstrong multicollinearity or other numerical problems.\n\"\"\"",
      "text/html": "<table class=\"simpletable\">\n<caption>OLS Regression Results</caption>\n<tr>\n  <th>Dep. Variable:</th>        <td>SalePrice</td>    <th>  R-squared:         </th> <td>   0.535</td> \n</tr>\n<tr>\n  <th>Model:</th>                   <td>OLS</td>       <th>  Adj. R-squared:    </th> <td>   0.532</td> \n</tr>\n<tr>\n  <th>Method:</th>             <td>Least Squares</td>  <th>  F-statistic:       </th> <td>   208.6</td> \n</tr>\n<tr>\n  <th>Date:</th>             <td>Sat, 28 Mar 2020</td> <th>  Prob (F-statistic):</th> <td>6.65e-235</td>\n</tr>\n<tr>\n  <th>Time:</th>                 <td>15:51:55</td>     <th>  Log-Likelihood:    </th> <td> -17985.</td> \n</tr>\n<tr>\n  <th>No. Observations:</th>      <td>  1460</td>      <th>  AIC:               </th> <td>3.599e+04</td>\n</tr>\n<tr>\n  <th>Df Residuals:</th>          <td>  1451</td>      <th>  BIC:               </th> <td>3.604e+04</td>\n</tr>\n<tr>\n  <th>Df Model:</th>              <td>     8</td>      <th>                     </th>     <td> </td>    \n</tr>\n<tr>\n  <th>Covariance Type:</th>      <td>nonrobust</td>    <th>                     </th>     <td> </td>    \n</tr>\n</table>\n<table class=\"simpletable\">\n<tr>\n           <td></td>             <th>coef</th>     <th>std err</th>      <th>t</th>      <th>P>|t|</th>  <th>[0.025</th>    <th>0.975]</th>  \n</tr>\n<tr>\n  <th>Intercept</th>          <td> 1.289e+04</td> <td> 4481.074</td> <td>    2.876</td> <td> 0.004</td> <td> 4097.607</td> <td> 2.17e+04</td>\n</tr>\n<tr>\n  <th>C(PoolArea)[T.480]</th> <td>-4.794e+05</td> <td> 5.56e+04</td> <td>   -8.625</td> <td> 0.000</td> <td>-5.88e+05</td> <td> -3.7e+05</td>\n</tr>\n<tr>\n  <th>C(PoolArea)[T.512]</th> <td>-1.235e+05</td> <td> 5.45e+04</td> <td>   -2.264</td> <td> 0.024</td> <td> -2.3e+05</td> <td>-1.65e+04</td>\n</tr>\n<tr>\n  <th>C(PoolArea)[T.519]</th> <td>-7.204e+04</td> <td> 5.45e+04</td> <td>   -1.323</td> <td> 0.186</td> <td>-1.79e+05</td> <td> 3.48e+04</td>\n</tr>\n<tr>\n  <th>C(PoolArea)[T.555]</th> <td> 2.351e+05</td> <td>  5.5e+04</td> <td>    4.275</td> <td> 0.000</td> <td> 1.27e+05</td> <td> 3.43e+05</td>\n</tr>\n<tr>\n  <th>C(PoolArea)[T.576]</th> <td> 3.396e+04</td> <td> 5.44e+04</td> <td>    0.625</td> <td> 0.532</td> <td>-7.27e+04</td> <td> 1.41e+05</td>\n</tr>\n<tr>\n  <th>C(PoolArea)[T.648]</th> <td> 2.276e+04</td> <td> 5.44e+04</td> <td>    0.419</td> <td> 0.676</td> <td>-8.39e+04</td> <td> 1.29e+05</td>\n</tr>\n<tr>\n  <th>C(PoolArea)[T.738]</th> <td> 1.767e+04</td> <td> 5.44e+04</td> <td>    0.325</td> <td> 0.745</td> <td> -8.9e+04</td> <td> 1.24e+05</td>\n</tr>\n<tr>\n  <th>GrLivArea</th>          <td>  111.0444</td> <td>    2.816</td> <td>   39.431</td> <td> 0.000</td> <td>  105.520</td> <td>  116.569</td>\n</tr>\n</table>\n<table class=\"simpletable\">\n<tr>\n  <th>Omnibus:</th>       <td>263.098</td> <th>  Durbin-Watson:     </th> <td>   2.055</td>\n</tr>\n<tr>\n  <th>Prob(Omnibus):</th> <td> 0.000</td>  <th>  Jarque-Bera (JB):  </th> <td>1597.258</td>\n</tr>\n<tr>\n  <th>Skew:</th>          <td> 0.691</td>  <th>  Prob(JB):          </th> <td>    0.00</td>\n</tr>\n<tr>\n  <th>Kurtosis:</th>      <td> 7.934</td>  <th>  Cond. No.          </th> <td>6.38e+04</td>\n</tr>\n</table><br/><br/>Warnings:<br/>[1] Standard Errors assume that the covariance matrix of the errors is correctly specified.<br/>[2] The condition number is large, 6.38e+04. This might indicate that there are<br/>strong multicollinearity or other numerical problems."
     },
     "metadata": {},
     "execution_count": 70
    }
   ],
   "source": [
    "from statsmodels.formula.api import ols\n",
    "model2 = ols('SalePrice ~ GrLivArea + C(PoolArea)', data = train_pd).fit()\n",
    "model2.summary()"
   ]
  },
  {
   "cell_type": "code",
   "execution_count": 71,
   "metadata": {},
   "outputs": [
    {
     "output_type": "execute_result",
     "data": {
      "text/plain": "54161.94468074101"
     },
     "metadata": {},
     "execution_count": 71
    }
   ],
   "source": [
    "math.sqrt(model2.ssr /model2.nobs)"
   ]
  },
  {
   "cell_type": "code",
   "execution_count": 73,
   "metadata": {},
   "outputs": [
    {
     "output_type": "execute_result",
     "data": {
      "text/plain": "1.913048513254655e-18"
     },
     "metadata": {},
     "execution_count": 73
    }
   ],
   "source": [
    "from statsmodels.stats.api import anova_lm\n",
    "anova_table = anova_lm(model1, model2)\n",
    "anova_table[\"Pr(>F)\"][1]"
   ]
  },
  {
   "cell_type": "code",
   "execution_count": 39,
   "metadata": {},
   "outputs": [
    {
     "output_type": "execute_result",
     "data": {
      "text/plain": "                  2\ncount  1.460000e+03\nmean   5.220799e-09\nstd    1.146555e+04\nmin   -3.580553e+05\n25%   -1.227259e+03\n50%   -1.233824e+02\n75%    1.182271e+03\nmax    2.021839e+05",
      "text/html": "<div>\n<style scoped>\n    .dataframe tbody tr th:only-of-type {\n        vertical-align: middle;\n    }\n\n    .dataframe tbody tr th {\n        vertical-align: top;\n    }\n\n    .dataframe thead th {\n        text-align: right;\n    }\n</style>\n<table border=\"1\" class=\"dataframe\">\n  <thead>\n    <tr style=\"text-align: right;\">\n      <th></th>\n      <th>2</th>\n    </tr>\n  </thead>\n  <tbody>\n    <tr>\n      <th>count</th>\n      <td>1.460000e+03</td>\n    </tr>\n    <tr>\n      <th>mean</th>\n      <td>5.220799e-09</td>\n    </tr>\n    <tr>\n      <th>std</th>\n      <td>1.146555e+04</td>\n    </tr>\n    <tr>\n      <th>min</th>\n      <td>-3.580553e+05</td>\n    </tr>\n    <tr>\n      <th>25%</th>\n      <td>-1.227259e+03</td>\n    </tr>\n    <tr>\n      <th>50%</th>\n      <td>-1.233824e+02</td>\n    </tr>\n    <tr>\n      <th>75%</th>\n      <td>1.182271e+03</td>\n    </tr>\n    <tr>\n      <th>max</th>\n      <td>2.021839e+05</td>\n    </tr>\n  </tbody>\n</table>\n</div>"
     },
     "metadata": {},
     "execution_count": 39
    }
   ],
   "source": [
    "import pandas as pd\n",
    "tmp = pd.concat([model1.resid, model2.resid, model1.resid - model2.resid], axis=1)\n",
    "tmp[[2]].describe()"
   ]
  },
  {
   "cell_type": "code",
   "execution_count": 43,
   "metadata": {},
   "outputs": [
    {
     "output_type": "execute_result",
     "data": {
      "text/plain": "                  0             1              2\n1182  202183.948516 -4.051253e-08  202183.948516",
      "text/html": "<div>\n<style scoped>\n    .dataframe tbody tr th:only-of-type {\n        vertical-align: middle;\n    }\n\n    .dataframe tbody tr th {\n        vertical-align: top;\n    }\n\n    .dataframe thead th {\n        text-align: right;\n    }\n</style>\n<table border=\"1\" class=\"dataframe\">\n  <thead>\n    <tr style=\"text-align: right;\">\n      <th></th>\n      <th>0</th>\n      <th>1</th>\n      <th>2</th>\n    </tr>\n  </thead>\n  <tbody>\n    <tr>\n      <th>1182</th>\n      <td>202183.948516</td>\n      <td>-4.051253e-08</td>\n      <td>202183.948516</td>\n    </tr>\n  </tbody>\n</table>\n</div>"
     },
     "metadata": {},
     "execution_count": 43
    }
   ],
   "source": [
    "tmp[tmp[2] >= 2.021839e+05]"
   ]
  },
  {
   "cell_type": "code",
   "execution_count": 46,
   "metadata": {},
   "outputs": [
    {
     "output_type": "execute_result",
     "data": {
      "text/plain": "197    -2.997695e-08\n810    -1.056469e-08\n1170   -6.606570e-09\n1182   -4.051253e-08\n1298   -5.506445e-08\n1386   -2.485467e-08\n1423   -1.996523e-08\ndtype: float64"
     },
     "metadata": {},
     "execution_count": 46
    }
   ],
   "source": [
    "model2.resid[abs(model2.resid) <= 1]"
   ]
  },
  {
   "cell_type": "code",
   "execution_count": 50,
   "metadata": {},
   "outputs": [
    {
     "output_type": "execute_result",
     "data": {
      "text/plain": "      PoolArea\n197        512\n810        648\n1170       576\n1182       555\n1298       480\n1386       519\n1423       738",
      "text/html": "<div>\n<style scoped>\n    .dataframe tbody tr th:only-of-type {\n        vertical-align: middle;\n    }\n\n    .dataframe tbody tr th {\n        vertical-align: top;\n    }\n\n    .dataframe thead th {\n        text-align: right;\n    }\n</style>\n<table border=\"1\" class=\"dataframe\">\n  <thead>\n    <tr style=\"text-align: right;\">\n      <th></th>\n      <th>PoolArea</th>\n    </tr>\n  </thead>\n  <tbody>\n    <tr>\n      <th>197</th>\n      <td>512</td>\n    </tr>\n    <tr>\n      <th>810</th>\n      <td>648</td>\n    </tr>\n    <tr>\n      <th>1170</th>\n      <td>576</td>\n    </tr>\n    <tr>\n      <th>1182</th>\n      <td>555</td>\n    </tr>\n    <tr>\n      <th>1298</th>\n      <td>480</td>\n    </tr>\n    <tr>\n      <th>1386</th>\n      <td>519</td>\n    </tr>\n    <tr>\n      <th>1423</th>\n      <td>738</td>\n    </tr>\n  </tbody>\n</table>\n</div>"
     },
     "metadata": {},
     "execution_count": 50
    }
   ],
   "source": [
    "train_pd[['PoolArea']].iloc[[197, 810, 1170, 1182, 1298, 1386, 1423]]"
   ]
  },
  {
   "cell_type": "code",
   "execution_count": 41,
   "metadata": {},
   "outputs": [
    {
     "output_type": "execute_result",
     "data": {
      "text/plain": "         GrLivArea\ncount  1460.000000\nmean   1515.463699\nstd     525.480383\nmin     334.000000\n25%    1129.500000\n50%    1464.000000\n75%    1776.750000\nmax    5642.000000",
      "text/html": "<div>\n<style scoped>\n    .dataframe tbody tr th:only-of-type {\n        vertical-align: middle;\n    }\n\n    .dataframe tbody tr th {\n        vertical-align: top;\n    }\n\n    .dataframe thead th {\n        text-align: right;\n    }\n</style>\n<table border=\"1\" class=\"dataframe\">\n  <thead>\n    <tr style=\"text-align: right;\">\n      <th></th>\n      <th>GrLivArea</th>\n    </tr>\n  </thead>\n  <tbody>\n    <tr>\n      <th>count</th>\n      <td>1460.000000</td>\n    </tr>\n    <tr>\n      <th>mean</th>\n      <td>1515.463699</td>\n    </tr>\n    <tr>\n      <th>std</th>\n      <td>525.480383</td>\n    </tr>\n    <tr>\n      <th>min</th>\n      <td>334.000000</td>\n    </tr>\n    <tr>\n      <th>25%</th>\n      <td>1129.500000</td>\n    </tr>\n    <tr>\n      <th>50%</th>\n      <td>1464.000000</td>\n    </tr>\n    <tr>\n      <th>75%</th>\n      <td>1776.750000</td>\n    </tr>\n    <tr>\n      <th>max</th>\n      <td>5642.000000</td>\n    </tr>\n  </tbody>\n</table>\n</div>"
     },
     "metadata": {},
     "execution_count": 41
    }
   ],
   "source": [
    "train_pd[['GrLivArea']].describe()"
   ]
  },
  {
   "cell_type": "code",
   "execution_count": null,
   "metadata": {},
   "outputs": [],
   "source": [
    "predictor_cols = ['GrLivArea']\n",
    "target_col = 'SalePrice'\n",
    "\n",
    "cv_model = SMWrapper(ModelOLSStats, predictor_cols, target_col, cols, col_levels)\n",
    "cv = ShuffleSplit(n_splits=10, random_state=0)\n",
    "cv_score = -np.mean(cross_val_score(cv_model, train_pd, train_pd[target_col], cv=cv, scoring=\"neg_mean_squared_error\"))\n",
    "logger.info(f\"With {cols} - number_features = {len(cols)} - cv_score: {cv_score}\")"
   ]
  }
 ]
}