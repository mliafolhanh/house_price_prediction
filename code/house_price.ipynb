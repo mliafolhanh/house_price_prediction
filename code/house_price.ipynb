{
 "nbformat": 4,
 "nbformat_minor": 2,
 "metadata": {
  "language_info": {
   "name": "python",
   "codemirror_mode": {
    "name": "ipython",
    "version": 3
   },
   "version": "3.6.1-final"
  },
  "orig_nbformat": 2,
  "file_extension": ".py",
  "mimetype": "text/x-python",
  "name": "python",
  "npconvert_exporter": "python",
  "pygments_lexer": "ipython3",
  "version": 3,
  "kernelspec": {
   "name": "python36164bitbfb75dcdc05c43dca97fdaf89dddfa54",
   "display_name": "Python 3.6.1 64-bit"
  }
 },
 "cells": [
  {
   "cell_type": "code",
   "execution_count": 60,
   "metadata": {},
   "outputs": [],
   "source": [
    "file_location = \"/home/hphan/workspace/stats_learning/house-prices-advanced-regression-techniques\""
   ]
  },
  {
   "cell_type": "code",
   "execution_count": 61,
   "metadata": {},
   "outputs": [
    {
     "data": {
      "text/html": "<div>\n<style scoped>\n    .dataframe tbody tr th:only-of-type {\n        vertical-align: middle;\n    }\n\n    .dataframe tbody tr th {\n        vertical-align: top;\n    }\n\n    .dataframe thead th {\n        text-align: right;\n    }\n</style>\n<table border=\"1\" class=\"dataframe\">\n  <thead>\n    <tr style=\"text-align: right;\">\n      <th></th>\n      <th>Id</th>\n      <th>MSSubClass</th>\n      <th>LotFrontage</th>\n      <th>LotArea</th>\n      <th>OverallQual</th>\n      <th>OverallCond</th>\n      <th>YearBuilt</th>\n      <th>YearRemodAdd</th>\n      <th>MasVnrArea</th>\n      <th>BsmtFinSF1</th>\n      <th>BsmtFinSF2</th>\n      <th>BsmtUnfSF</th>\n      <th>TotalBsmtSF</th>\n      <th>1stFlrSF</th>\n      <th>2ndFlrSF</th>\n      <th>LowQualFinSF</th>\n      <th>GrLivArea</th>\n      <th>BsmtFullBath</th>\n      <th>BsmtHalfBath</th>\n      <th>FullBath</th>\n      <th>HalfBath</th>\n      <th>BedroomAbvGr</th>\n      <th>KitchenAbvGr</th>\n      <th>TotRmsAbvGrd</th>\n      <th>Fireplaces</th>\n      <th>GarageYrBlt</th>\n      <th>GarageCars</th>\n      <th>GarageArea</th>\n      <th>WoodDeckSF</th>\n      <th>OpenPorchSF</th>\n      <th>EnclosedPorch</th>\n      <th>3SsnPorch</th>\n      <th>ScreenPorch</th>\n      <th>PoolArea</th>\n      <th>MiscVal</th>\n      <th>MoSold</th>\n      <th>YrSold</th>\n      <th>SalePrice</th>\n    </tr>\n  </thead>\n  <tbody>\n    <tr>\n      <th>count</th>\n      <td>1460.000000</td>\n      <td>1460.000000</td>\n      <td>1201.000000</td>\n      <td>1460.000000</td>\n      <td>1460.000000</td>\n      <td>1460.000000</td>\n      <td>1460.000000</td>\n      <td>1460.000000</td>\n      <td>1452.000000</td>\n      <td>1460.000000</td>\n      <td>1460.000000</td>\n      <td>1460.000000</td>\n      <td>1460.000000</td>\n      <td>1460.000000</td>\n      <td>1460.000000</td>\n      <td>1460.000000</td>\n      <td>1460.000000</td>\n      <td>1460.000000</td>\n      <td>1460.000000</td>\n      <td>1460.000000</td>\n      <td>1460.000000</td>\n      <td>1460.000000</td>\n      <td>1460.000000</td>\n      <td>1460.000000</td>\n      <td>1460.000000</td>\n      <td>1379.000000</td>\n      <td>1460.000000</td>\n      <td>1460.000000</td>\n      <td>1460.000000</td>\n      <td>1460.000000</td>\n      <td>1460.000000</td>\n      <td>1460.000000</td>\n      <td>1460.000000</td>\n      <td>1460.000000</td>\n      <td>1460.000000</td>\n      <td>1460.000000</td>\n      <td>1460.000000</td>\n      <td>1460.000000</td>\n    </tr>\n    <tr>\n      <th>mean</th>\n      <td>730.500000</td>\n      <td>56.897260</td>\n      <td>70.049958</td>\n      <td>10516.828082</td>\n      <td>6.099315</td>\n      <td>5.575342</td>\n      <td>1971.267808</td>\n      <td>1984.865753</td>\n      <td>103.685262</td>\n      <td>443.639726</td>\n      <td>46.549315</td>\n      <td>567.240411</td>\n      <td>1057.429452</td>\n      <td>1162.626712</td>\n      <td>346.992466</td>\n      <td>5.844521</td>\n      <td>1515.463699</td>\n      <td>0.425342</td>\n      <td>0.057534</td>\n      <td>1.565068</td>\n      <td>0.382877</td>\n      <td>2.866438</td>\n      <td>1.046575</td>\n      <td>6.517808</td>\n      <td>0.613014</td>\n      <td>1978.506164</td>\n      <td>1.767123</td>\n      <td>472.980137</td>\n      <td>94.244521</td>\n      <td>46.660274</td>\n      <td>21.954110</td>\n      <td>3.409589</td>\n      <td>15.060959</td>\n      <td>2.758904</td>\n      <td>43.489041</td>\n      <td>6.321918</td>\n      <td>2007.815753</td>\n      <td>180921.195890</td>\n    </tr>\n    <tr>\n      <th>std</th>\n      <td>421.610009</td>\n      <td>42.300571</td>\n      <td>24.284752</td>\n      <td>9981.264932</td>\n      <td>1.382997</td>\n      <td>1.112799</td>\n      <td>30.202904</td>\n      <td>20.645407</td>\n      <td>181.066207</td>\n      <td>456.098091</td>\n      <td>161.319273</td>\n      <td>441.866955</td>\n      <td>438.705324</td>\n      <td>386.587738</td>\n      <td>436.528436</td>\n      <td>48.623081</td>\n      <td>525.480383</td>\n      <td>0.518911</td>\n      <td>0.238753</td>\n      <td>0.550916</td>\n      <td>0.502885</td>\n      <td>0.815778</td>\n      <td>0.220338</td>\n      <td>1.625393</td>\n      <td>0.644666</td>\n      <td>24.689725</td>\n      <td>0.747315</td>\n      <td>213.804841</td>\n      <td>125.338794</td>\n      <td>66.256028</td>\n      <td>61.119149</td>\n      <td>29.317331</td>\n      <td>55.757415</td>\n      <td>40.177307</td>\n      <td>496.123024</td>\n      <td>2.703626</td>\n      <td>1.328095</td>\n      <td>79442.502883</td>\n    </tr>\n    <tr>\n      <th>min</th>\n      <td>1.000000</td>\n      <td>20.000000</td>\n      <td>21.000000</td>\n      <td>1300.000000</td>\n      <td>1.000000</td>\n      <td>1.000000</td>\n      <td>1872.000000</td>\n      <td>1950.000000</td>\n      <td>0.000000</td>\n      <td>0.000000</td>\n      <td>0.000000</td>\n      <td>0.000000</td>\n      <td>0.000000</td>\n      <td>334.000000</td>\n      <td>0.000000</td>\n      <td>0.000000</td>\n      <td>334.000000</td>\n      <td>0.000000</td>\n      <td>0.000000</td>\n      <td>0.000000</td>\n      <td>0.000000</td>\n      <td>0.000000</td>\n      <td>0.000000</td>\n      <td>2.000000</td>\n      <td>0.000000</td>\n      <td>1900.000000</td>\n      <td>0.000000</td>\n      <td>0.000000</td>\n      <td>0.000000</td>\n      <td>0.000000</td>\n      <td>0.000000</td>\n      <td>0.000000</td>\n      <td>0.000000</td>\n      <td>0.000000</td>\n      <td>0.000000</td>\n      <td>1.000000</td>\n      <td>2006.000000</td>\n      <td>34900.000000</td>\n    </tr>\n    <tr>\n      <th>25%</th>\n      <td>365.750000</td>\n      <td>20.000000</td>\n      <td>59.000000</td>\n      <td>7553.500000</td>\n      <td>5.000000</td>\n      <td>5.000000</td>\n      <td>1954.000000</td>\n      <td>1967.000000</td>\n      <td>0.000000</td>\n      <td>0.000000</td>\n      <td>0.000000</td>\n      <td>223.000000</td>\n      <td>795.750000</td>\n      <td>882.000000</td>\n      <td>0.000000</td>\n      <td>0.000000</td>\n      <td>1129.500000</td>\n      <td>0.000000</td>\n      <td>0.000000</td>\n      <td>1.000000</td>\n      <td>0.000000</td>\n      <td>2.000000</td>\n      <td>1.000000</td>\n      <td>5.000000</td>\n      <td>0.000000</td>\n      <td>1961.000000</td>\n      <td>1.000000</td>\n      <td>334.500000</td>\n      <td>0.000000</td>\n      <td>0.000000</td>\n      <td>0.000000</td>\n      <td>0.000000</td>\n      <td>0.000000</td>\n      <td>0.000000</td>\n      <td>0.000000</td>\n      <td>5.000000</td>\n      <td>2007.000000</td>\n      <td>129975.000000</td>\n    </tr>\n    <tr>\n      <th>50%</th>\n      <td>730.500000</td>\n      <td>50.000000</td>\n      <td>69.000000</td>\n      <td>9478.500000</td>\n      <td>6.000000</td>\n      <td>5.000000</td>\n      <td>1973.000000</td>\n      <td>1994.000000</td>\n      <td>0.000000</td>\n      <td>383.500000</td>\n      <td>0.000000</td>\n      <td>477.500000</td>\n      <td>991.500000</td>\n      <td>1087.000000</td>\n      <td>0.000000</td>\n      <td>0.000000</td>\n      <td>1464.000000</td>\n      <td>0.000000</td>\n      <td>0.000000</td>\n      <td>2.000000</td>\n      <td>0.000000</td>\n      <td>3.000000</td>\n      <td>1.000000</td>\n      <td>6.000000</td>\n      <td>1.000000</td>\n      <td>1980.000000</td>\n      <td>2.000000</td>\n      <td>480.000000</td>\n      <td>0.000000</td>\n      <td>25.000000</td>\n      <td>0.000000</td>\n      <td>0.000000</td>\n      <td>0.000000</td>\n      <td>0.000000</td>\n      <td>0.000000</td>\n      <td>6.000000</td>\n      <td>2008.000000</td>\n      <td>163000.000000</td>\n    </tr>\n    <tr>\n      <th>75%</th>\n      <td>1095.250000</td>\n      <td>70.000000</td>\n      <td>80.000000</td>\n      <td>11601.500000</td>\n      <td>7.000000</td>\n      <td>6.000000</td>\n      <td>2000.000000</td>\n      <td>2004.000000</td>\n      <td>166.000000</td>\n      <td>712.250000</td>\n      <td>0.000000</td>\n      <td>808.000000</td>\n      <td>1298.250000</td>\n      <td>1391.250000</td>\n      <td>728.000000</td>\n      <td>0.000000</td>\n      <td>1776.750000</td>\n      <td>1.000000</td>\n      <td>0.000000</td>\n      <td>2.000000</td>\n      <td>1.000000</td>\n      <td>3.000000</td>\n      <td>1.000000</td>\n      <td>7.000000</td>\n      <td>1.000000</td>\n      <td>2002.000000</td>\n      <td>2.000000</td>\n      <td>576.000000</td>\n      <td>168.000000</td>\n      <td>68.000000</td>\n      <td>0.000000</td>\n      <td>0.000000</td>\n      <td>0.000000</td>\n      <td>0.000000</td>\n      <td>0.000000</td>\n      <td>8.000000</td>\n      <td>2009.000000</td>\n      <td>214000.000000</td>\n    </tr>\n    <tr>\n      <th>max</th>\n      <td>1460.000000</td>\n      <td>190.000000</td>\n      <td>313.000000</td>\n      <td>215245.000000</td>\n      <td>10.000000</td>\n      <td>9.000000</td>\n      <td>2010.000000</td>\n      <td>2010.000000</td>\n      <td>1600.000000</td>\n      <td>5644.000000</td>\n      <td>1474.000000</td>\n      <td>2336.000000</td>\n      <td>6110.000000</td>\n      <td>4692.000000</td>\n      <td>2065.000000</td>\n      <td>572.000000</td>\n      <td>5642.000000</td>\n      <td>3.000000</td>\n      <td>2.000000</td>\n      <td>3.000000</td>\n      <td>2.000000</td>\n      <td>8.000000</td>\n      <td>3.000000</td>\n      <td>14.000000</td>\n      <td>3.000000</td>\n      <td>2010.000000</td>\n      <td>4.000000</td>\n      <td>1418.000000</td>\n      <td>857.000000</td>\n      <td>547.000000</td>\n      <td>552.000000</td>\n      <td>508.000000</td>\n      <td>480.000000</td>\n      <td>738.000000</td>\n      <td>15500.000000</td>\n      <td>12.000000</td>\n      <td>2010.000000</td>\n      <td>755000.000000</td>\n    </tr>\n  </tbody>\n</table>\n</div>",
      "text/plain": "                Id   MSSubClass  LotFrontage        LotArea  OverallQual  \\\ncount  1460.000000  1460.000000  1201.000000    1460.000000  1460.000000   \nmean    730.500000    56.897260    70.049958   10516.828082     6.099315   \nstd     421.610009    42.300571    24.284752    9981.264932     1.382997   \nmin       1.000000    20.000000    21.000000    1300.000000     1.000000   \n25%     365.750000    20.000000    59.000000    7553.500000     5.000000   \n50%     730.500000    50.000000    69.000000    9478.500000     6.000000   \n75%    1095.250000    70.000000    80.000000   11601.500000     7.000000   \nmax    1460.000000   190.000000   313.000000  215245.000000    10.000000   \n\n       OverallCond    YearBuilt  YearRemodAdd   MasVnrArea   BsmtFinSF1  \\\ncount  1460.000000  1460.000000   1460.000000  1452.000000  1460.000000   \nmean      5.575342  1971.267808   1984.865753   103.685262   443.639726   \nstd       1.112799    30.202904     20.645407   181.066207   456.098091   \nmin       1.000000  1872.000000   1950.000000     0.000000     0.000000   \n25%       5.000000  1954.000000   1967.000000     0.000000     0.000000   \n50%       5.000000  1973.000000   1994.000000     0.000000   383.500000   \n75%       6.000000  2000.000000   2004.000000   166.000000   712.250000   \nmax       9.000000  2010.000000   2010.000000  1600.000000  5644.000000   \n\n        BsmtFinSF2    BsmtUnfSF  TotalBsmtSF     1stFlrSF     2ndFlrSF  \\\ncount  1460.000000  1460.000000  1460.000000  1460.000000  1460.000000   \nmean     46.549315   567.240411  1057.429452  1162.626712   346.992466   \nstd     161.319273   441.866955   438.705324   386.587738   436.528436   \nmin       0.000000     0.000000     0.000000   334.000000     0.000000   \n25%       0.000000   223.000000   795.750000   882.000000     0.000000   \n50%       0.000000   477.500000   991.500000  1087.000000     0.000000   \n75%       0.000000   808.000000  1298.250000  1391.250000   728.000000   \nmax    1474.000000  2336.000000  6110.000000  4692.000000  2065.000000   \n\n       LowQualFinSF    GrLivArea  BsmtFullBath  BsmtHalfBath     FullBath  \\\ncount   1460.000000  1460.000000   1460.000000   1460.000000  1460.000000   \nmean       5.844521  1515.463699      0.425342      0.057534     1.565068   \nstd       48.623081   525.480383      0.518911      0.238753     0.550916   \nmin        0.000000   334.000000      0.000000      0.000000     0.000000   \n25%        0.000000  1129.500000      0.000000      0.000000     1.000000   \n50%        0.000000  1464.000000      0.000000      0.000000     2.000000   \n75%        0.000000  1776.750000      1.000000      0.000000     2.000000   \nmax      572.000000  5642.000000      3.000000      2.000000     3.000000   \n\n          HalfBath  BedroomAbvGr  KitchenAbvGr  TotRmsAbvGrd   Fireplaces  \\\ncount  1460.000000   1460.000000   1460.000000   1460.000000  1460.000000   \nmean      0.382877      2.866438      1.046575      6.517808     0.613014   \nstd       0.502885      0.815778      0.220338      1.625393     0.644666   \nmin       0.000000      0.000000      0.000000      2.000000     0.000000   \n25%       0.000000      2.000000      1.000000      5.000000     0.000000   \n50%       0.000000      3.000000      1.000000      6.000000     1.000000   \n75%       1.000000      3.000000      1.000000      7.000000     1.000000   \nmax       2.000000      8.000000      3.000000     14.000000     3.000000   \n\n       GarageYrBlt   GarageCars   GarageArea   WoodDeckSF  OpenPorchSF  \\\ncount  1379.000000  1460.000000  1460.000000  1460.000000  1460.000000   \nmean   1978.506164     1.767123   472.980137    94.244521    46.660274   \nstd      24.689725     0.747315   213.804841   125.338794    66.256028   \nmin    1900.000000     0.000000     0.000000     0.000000     0.000000   \n25%    1961.000000     1.000000   334.500000     0.000000     0.000000   \n50%    1980.000000     2.000000   480.000000     0.000000    25.000000   \n75%    2002.000000     2.000000   576.000000   168.000000    68.000000   \nmax    2010.000000     4.000000  1418.000000   857.000000   547.000000   \n\n       EnclosedPorch    3SsnPorch  ScreenPorch     PoolArea       MiscVal  \\\ncount    1460.000000  1460.000000  1460.000000  1460.000000   1460.000000   \nmean       21.954110     3.409589    15.060959     2.758904     43.489041   \nstd        61.119149    29.317331    55.757415    40.177307    496.123024   \nmin         0.000000     0.000000     0.000000     0.000000      0.000000   \n25%         0.000000     0.000000     0.000000     0.000000      0.000000   \n50%         0.000000     0.000000     0.000000     0.000000      0.000000   \n75%         0.000000     0.000000     0.000000     0.000000      0.000000   \nmax       552.000000   508.000000   480.000000   738.000000  15500.000000   \n\n            MoSold       YrSold      SalePrice  \ncount  1460.000000  1460.000000    1460.000000  \nmean      6.321918  2007.815753  180921.195890  \nstd       2.703626     1.328095   79442.502883  \nmin       1.000000  2006.000000   34900.000000  \n25%       5.000000  2007.000000  129975.000000  \n50%       6.000000  2008.000000  163000.000000  \n75%       8.000000  2009.000000  214000.000000  \nmax      12.000000  2010.000000  755000.000000  "
     },
     "execution_count": 61,
     "metadata": {},
     "output_type": "execute_result"
    }
   ],
   "source": [
    "import pandas as pd\n",
    "import os\n",
    "train_file = os.path.join(file_location, \"train.csv\")\n",
    "train_pd = pd.read_csv(train_file)\n",
    "train_pd.describe()"
   ]
  },
  {
   "cell_type": "code",
   "execution_count": 55,
   "metadata": {},
   "outputs": [
    {
     "data": {
      "text/plain": "object     43\nint64      35\nfloat64     3\ndtype: int64"
     },
     "execution_count": 55,
     "metadata": {},
     "output_type": "execute_result"
    }
   ],
   "source": [
    "train_pd.dtypes.value_counts()"
   ]
  },
  {
   "cell_type": "code",
   "execution_count": null,
   "metadata": {},
   "outputs": [],
   "source": [
    "train_pd"
   ]
  },
  {
   "cell_type": "code",
   "execution_count": 56,
   "metadata": {},
   "outputs": [
    {
     "data": {
      "text/html": "<div>\n<style scoped>\n    .dataframe tbody tr th:only-of-type {\n        vertical-align: middle;\n    }\n\n    .dataframe tbody tr th {\n        vertical-align: top;\n    }\n\n    .dataframe thead th {\n        text-align: right;\n    }\n</style>\n<table border=\"1\" class=\"dataframe\">\n  <thead>\n    <tr style=\"text-align: right;\">\n      <th></th>\n      <th>Id</th>\n      <th>MSSubClass</th>\n      <th>MSZoning</th>\n      <th>LotFrontage</th>\n      <th>LotArea</th>\n      <th>Street</th>\n      <th>Alley</th>\n      <th>LotShape</th>\n      <th>LandContour</th>\n      <th>Utilities</th>\n      <th>LotConfig</th>\n      <th>LandSlope</th>\n      <th>Neighborhood</th>\n      <th>Condition1</th>\n      <th>Condition2</th>\n      <th>BldgType</th>\n      <th>HouseStyle</th>\n      <th>OverallQual</th>\n      <th>OverallCond</th>\n      <th>YearBuilt</th>\n      <th>YearRemodAdd</th>\n      <th>RoofStyle</th>\n      <th>RoofMatl</th>\n      <th>Exterior1st</th>\n      <th>Exterior2nd</th>\n      <th>MasVnrType</th>\n      <th>MasVnrArea</th>\n      <th>ExterQual</th>\n      <th>ExterCond</th>\n      <th>Foundation</th>\n      <th>BsmtQual</th>\n      <th>BsmtCond</th>\n      <th>BsmtExposure</th>\n      <th>BsmtFinType1</th>\n      <th>BsmtFinSF1</th>\n      <th>...</th>\n      <th>GrLivArea</th>\n      <th>BsmtFullBath</th>\n      <th>BsmtHalfBath</th>\n      <th>FullBath</th>\n      <th>HalfBath</th>\n      <th>BedroomAbvGr</th>\n      <th>KitchenAbvGr</th>\n      <th>KitchenQual</th>\n      <th>TotRmsAbvGrd</th>\n      <th>Functional</th>\n      <th>Fireplaces</th>\n      <th>FireplaceQu</th>\n      <th>GarageType</th>\n      <th>GarageYrBlt</th>\n      <th>GarageFinish</th>\n      <th>GarageCars</th>\n      <th>GarageArea</th>\n      <th>GarageQual</th>\n      <th>GarageCond</th>\n      <th>PavedDrive</th>\n      <th>WoodDeckSF</th>\n      <th>OpenPorchSF</th>\n      <th>EnclosedPorch</th>\n      <th>3SsnPorch</th>\n      <th>ScreenPorch</th>\n      <th>PoolArea</th>\n      <th>PoolQC</th>\n      <th>Fence</th>\n      <th>MiscFeature</th>\n      <th>MiscVal</th>\n      <th>MoSold</th>\n      <th>YrSold</th>\n      <th>SaleType</th>\n      <th>SaleCondition</th>\n      <th>SalePrice</th>\n    </tr>\n  </thead>\n  <tbody>\n    <tr>\n      <th>0</th>\n      <td>1460</td>\n      <td>15</td>\n      <td>5</td>\n      <td>110</td>\n      <td>1073</td>\n      <td>2</td>\n      <td>2</td>\n      <td>4</td>\n      <td>4</td>\n      <td>2</td>\n      <td>5</td>\n      <td>3</td>\n      <td>25</td>\n      <td>9</td>\n      <td>8</td>\n      <td>5</td>\n      <td>8</td>\n      <td>10</td>\n      <td>9</td>\n      <td>112</td>\n      <td>61</td>\n      <td>6</td>\n      <td>8</td>\n      <td>15</td>\n      <td>16</td>\n      <td>4</td>\n      <td>327</td>\n      <td>4</td>\n      <td>5</td>\n      <td>6</td>\n      <td>4</td>\n      <td>4</td>\n      <td>4</td>\n      <td>6</td>\n      <td>637</td>\n      <td>...</td>\n      <td>861</td>\n      <td>4</td>\n      <td>3</td>\n      <td>4</td>\n      <td>3</td>\n      <td>8</td>\n      <td>4</td>\n      <td>4</td>\n      <td>12</td>\n      <td>7</td>\n      <td>4</td>\n      <td>5</td>\n      <td>6</td>\n      <td>97</td>\n      <td>3</td>\n      <td>5</td>\n      <td>441</td>\n      <td>5</td>\n      <td>5</td>\n      <td>3</td>\n      <td>274</td>\n      <td>202</td>\n      <td>120</td>\n      <td>20</td>\n      <td>76</td>\n      <td>8</td>\n      <td>3</td>\n      <td>4</td>\n      <td>4</td>\n      <td>21</td>\n      <td>12</td>\n      <td>5</td>\n      <td>9</td>\n      <td>6</td>\n      <td>663</td>\n    </tr>\n  </tbody>\n</table>\n<p>1 rows × 81 columns</p>\n</div>",
      "text/plain": "     Id  MSSubClass  MSZoning  LotFrontage  LotArea  Street  Alley  LotShape  \\\n0  1460          15         5          110     1073       2      2         4   \n\n   LandContour  Utilities  LotConfig  LandSlope  Neighborhood  Condition1  \\\n0            4          2          5          3            25           9   \n\n   Condition2  BldgType  HouseStyle  OverallQual  OverallCond  YearBuilt  \\\n0           8         5           8           10            9        112   \n\n   YearRemodAdd  RoofStyle  RoofMatl  Exterior1st  Exterior2nd  MasVnrType  \\\n0            61          6         8           15           16           4   \n\n   MasVnrArea  ExterQual  ExterCond  Foundation  BsmtQual  BsmtCond  \\\n0         327          4          5           6         4         4   \n\n   BsmtExposure  BsmtFinType1  BsmtFinSF1  ...  GrLivArea  BsmtFullBath  \\\n0             4             6         637  ...        861             4   \n\n   BsmtHalfBath  FullBath  HalfBath  BedroomAbvGr  KitchenAbvGr  KitchenQual  \\\n0             3         4         3             8             4            4   \n\n   TotRmsAbvGrd  Functional  Fireplaces  FireplaceQu  GarageType  GarageYrBlt  \\\n0            12           7           4            5           6           97   \n\n   GarageFinish  GarageCars  GarageArea  GarageQual  GarageCond  PavedDrive  \\\n0             3           5         441           5           5           3   \n\n   WoodDeckSF  OpenPorchSF  EnclosedPorch  3SsnPorch  ScreenPorch  PoolArea  \\\n0         274          202            120         20           76         8   \n\n   PoolQC  Fence  MiscFeature  MiscVal  MoSold  YrSold  SaleType  \\\n0       3      4            4       21      12       5         9   \n\n   SaleCondition  SalePrice  \n0              6        663  \n\n[1 rows x 81 columns]"
     },
     "execution_count": 56,
     "metadata": {},
     "output_type": "execute_result"
    }
   ],
   "source": [
    "pd.set_option('display.max_columns', 70)\n",
    "pd.DataFrame(train_pd.nunique()).transpose()"
   ]
  },
  {
   "cell_type": "code",
   "execution_count": 136,
   "metadata": {},
   "outputs": [
    {
     "data": {
      "text/plain": "Index(['Id', 'MSSubClass', 'MSZoning', 'LotFrontage', 'LotArea', 'Street',\n       'Alley', 'LotShape', 'LandContour', 'Utilities', 'LotConfig',\n       'LandSlope', 'Neighborhood', 'Condition1', 'Condition2', 'BldgType',\n       'HouseStyle', 'OverallQual', 'OverallCond', 'YearBuilt', 'YearRemodAdd',\n       'RoofStyle', 'RoofMatl', 'Exterior1st', 'Exterior2nd', 'MasVnrType',\n       'MasVnrArea', 'ExterQual', 'ExterCond', 'Foundation', 'BsmtQual',\n       'BsmtCond', 'BsmtExposure', 'BsmtFinType1', 'BsmtFinSF1',\n       'BsmtFinType2', 'BsmtFinSF2', 'BsmtUnfSF', 'TotalBsmtSF', 'Heating',\n       'HeatingQC', 'CentralAir', 'Electrical', '1stFlrSF', '2ndFlrSF',\n       'LowQualFinSF', 'GrLivArea', 'BsmtFullBath', 'BsmtHalfBath', 'FullBath',\n       'HalfBath', 'BedroomAbvGr', 'KitchenAbvGr', 'KitchenQual',\n       'TotRmsAbvGrd', 'Functional', 'Fireplaces', 'FireplaceQu', 'GarageType',\n       'GarageYrBlt', 'GarageFinish', 'GarageCars', 'GarageArea', 'GarageQual',\n       'GarageCond', 'PavedDrive', 'WoodDeckSF', 'OpenPorchSF',\n       'EnclosedPorch', 'ThreeeSsnPorch', 'ScreenPorch', 'PoolArea', 'PoolQC',\n       'Fence', 'MiscFeature', 'MiscVal', 'MoSold', 'YrSold', 'SaleType',\n       'SaleCondition', 'SalePrice'],\n      dtype='object')"
     },
     "execution_count": 136,
     "metadata": {},
     "output_type": "execute_result"
    }
   ],
   "source": [
    "train_pd = train_pd.rename(columns = {\"3SsnPorch\": \"ThreeeSsnPorch\"})\n",
    "train_pd.columns"
   ]
  },
  {
   "cell_type": "code",
   "execution_count": 57,
   "metadata": {},
   "outputs": [
    {
     "data": {
      "text/plain": "LotFrontage    float64\nMasVnrArea     float64\nGarageYrBlt    float64\ndtype: object"
     },
     "execution_count": 57,
     "metadata": {},
     "output_type": "execute_result"
    }
   ],
   "source": [
    "dtypes = train_pd.dtypes\n",
    "dtypes[dtypes == \"float64\"]"
   ]
  },
  {
   "cell_type": "code",
   "execution_count": 58,
   "metadata": {},
   "outputs": [
    {
     "data": {
      "text/plain": "dtype('int64')"
     },
     "execution_count": 58,
     "metadata": {},
     "output_type": "execute_result"
    }
   ],
   "source": [
    "dtypes['SalePrice']"
   ]
  },
  {
   "cell_type": "code",
   "execution_count": 52,
   "metadata": {},
   "outputs": [
    {
     "data": {
      "text/plain": "MSSubClass\n20     185224.811567\n30      95829.724638\n40     156125.000000\n45     108591.666667\n50     143302.972222\n60     239948.501672\n70     166772.416667\n75     192437.500000\n80     169736.551724\n85     147810.000000\n90     133541.076923\n120    200779.080460\n160    138647.380952\n180    102300.000000\n190    129613.333333\nName: SalePrice, dtype: float64"
     },
     "execution_count": 52,
     "metadata": {},
     "output_type": "execute_result"
    }
   ],
   "source": [
    "train_pd[[\"MSSubClass\", \"SalePrice\"]].groupby(\"MSSubClass\")[\"SalePrice\"].mean()"
   ]
  },
  {
   "cell_type": "code",
   "execution_count": 64,
   "metadata": {},
   "outputs": [
    {
     "name": "stdout",
     "output_type": "stream",
     "text": "\n\n"
    },
    {
     "data": {
      "text/html": "<div>\n<style scoped>\n    .dataframe tbody tr th:only-of-type {\n        vertical-align: middle;\n    }\n\n    .dataframe tbody tr th {\n        vertical-align: top;\n    }\n\n    .dataframe thead th {\n        text-align: right;\n    }\n</style>\n<table border=\"1\" class=\"dataframe\">\n  <thead>\n    <tr style=\"text-align: right;\">\n      <th></th>\n      <th>N</th>\n      <th>Mean</th>\n      <th>SD</th>\n      <th>SE</th>\n      <th>95% Conf.</th>\n      <th>Interval</th>\n    </tr>\n    <tr>\n      <th>MSSubClass</th>\n      <th></th>\n      <th></th>\n      <th></th>\n      <th></th>\n      <th></th>\n      <th></th>\n    </tr>\n  </thead>\n  <tbody>\n    <tr>\n      <th>20</th>\n      <td>536</td>\n      <td>185224.811567</td>\n      <td>78782.189967</td>\n      <td>3402.872321</td>\n      <td>178548.951430</td>\n      <td>191900.671704</td>\n    </tr>\n    <tr>\n      <th>30</th>\n      <td>69</td>\n      <td>95829.724638</td>\n      <td>24857.110083</td>\n      <td>2992.444403</td>\n      <td>89921.564602</td>\n      <td>101737.884674</td>\n    </tr>\n    <tr>\n      <th>40</th>\n      <td>4</td>\n      <td>156125.000000</td>\n      <td>75747.799748</td>\n      <td>37873.899874</td>\n      <td>70408.295353</td>\n      <td>241841.704647</td>\n    </tr>\n    <tr>\n      <th>45</th>\n      <td>12</td>\n      <td>108591.666667</td>\n      <td>20231.723889</td>\n      <td>5840.395617</td>\n      <td>96635.481892</td>\n      <td>120547.851441</td>\n    </tr>\n    <tr>\n      <th>50</th>\n      <td>144</td>\n      <td>143302.972222</td>\n      <td>54851.983707</td>\n      <td>4570.998642</td>\n      <td>134312.543733</td>\n      <td>152293.400711</td>\n    </tr>\n    <tr>\n      <th>60</th>\n      <td>299</td>\n      <td>239948.501672</td>\n      <td>86579.909966</td>\n      <td>5007.045474</td>\n      <td>230118.240211</td>\n      <td>249778.763134</td>\n    </tr>\n    <tr>\n      <th>70</th>\n      <td>60</td>\n      <td>166772.416667</td>\n      <td>58206.545762</td>\n      <td>7514.432746</td>\n      <td>151919.836930</td>\n      <td>181624.996404</td>\n    </tr>\n    <tr>\n      <th>75</th>\n      <td>16</td>\n      <td>192437.500000</td>\n      <td>100556.762577</td>\n      <td>25139.190644</td>\n      <td>141548.756870</td>\n      <td>243326.243130</td>\n    </tr>\n    <tr>\n      <th>80</th>\n      <td>58</td>\n      <td>169736.551724</td>\n      <td>38197.808771</td>\n      <td>5015.618013</td>\n      <td>159820.081922</td>\n      <td>179653.021527</td>\n    </tr>\n    <tr>\n      <th>85</th>\n      <td>20</td>\n      <td>147810.000000</td>\n      <td>19629.942220</td>\n      <td>4389.388520</td>\n      <td>138983.301503</td>\n      <td>156636.698497</td>\n    </tr>\n    <tr>\n      <th>90</th>\n      <td>52</td>\n      <td>133541.076923</td>\n      <td>27833.249197</td>\n      <td>3859.777198</td>\n      <td>125902.105396</td>\n      <td>141180.048450</td>\n    </tr>\n    <tr>\n      <th>120</th>\n      <td>87</td>\n      <td>200779.080460</td>\n      <td>58221.490909</td>\n      <td>6241.999020</td>\n      <td>188473.838203</td>\n      <td>213084.322716</td>\n    </tr>\n    <tr>\n      <th>160</th>\n      <td>63</td>\n      <td>138647.380952</td>\n      <td>34587.542266</td>\n      <td>4357.620728</td>\n      <td>130037.841322</td>\n      <td>147256.920583</td>\n    </tr>\n    <tr>\n      <th>180</th>\n      <td>10</td>\n      <td>102300.000000</td>\n      <td>29474.282575</td>\n      <td>9320.586534</td>\n      <td>83043.468717</td>\n      <td>121556.531283</td>\n    </tr>\n    <tr>\n      <th>190</th>\n      <td>30</td>\n      <td>129613.333333</td>\n      <td>35439.097670</td>\n      <td>6470.264404</td>\n      <td>116714.817889</td>\n      <td>142511.848777</td>\n    </tr>\n  </tbody>\n</table>\n</div>",
      "text/plain": "              N           Mean             SD            SE      95% Conf.  \\\nMSSubClass                                                                   \n20          536  185224.811567   78782.189967   3402.872321  178548.951430   \n30           69   95829.724638   24857.110083   2992.444403   89921.564602   \n40            4  156125.000000   75747.799748  37873.899874   70408.295353   \n45           12  108591.666667   20231.723889   5840.395617   96635.481892   \n50          144  143302.972222   54851.983707   4570.998642  134312.543733   \n60          299  239948.501672   86579.909966   5007.045474  230118.240211   \n70           60  166772.416667   58206.545762   7514.432746  151919.836930   \n75           16  192437.500000  100556.762577  25139.190644  141548.756870   \n80           58  169736.551724   38197.808771   5015.618013  159820.081922   \n85           20  147810.000000   19629.942220   4389.388520  138983.301503   \n90           52  133541.076923   27833.249197   3859.777198  125902.105396   \n120          87  200779.080460   58221.490909   6241.999020  188473.838203   \n160          63  138647.380952   34587.542266   4357.620728  130037.841322   \n180          10  102300.000000   29474.282575   9320.586534   83043.468717   \n190          30  129613.333333   35439.097670   6470.264404  116714.817889   \n\n                 Interval  \nMSSubClass                 \n20          191900.671704  \n30          101737.884674  \n40          241841.704647  \n45          120547.851441  \n50          152293.400711  \n60          249778.763134  \n70          181624.996404  \n75          243326.243130  \n80          179653.021527  \n85          156636.698497  \n90          141180.048450  \n120         213084.322716  \n160         147256.920583  \n180         121556.531283  \n190         142511.848777  "
     },
     "execution_count": 64,
     "metadata": {},
     "output_type": "execute_result"
    }
   ],
   "source": [
    "import researchpy as rp\n",
    "rp.summary_cont(train_pd['SalePrice'].groupby(train_pd['MSSubClass']))\n"
   ]
  },
  {
   "cell_type": "code",
   "execution_count": 73,
   "metadata": {},
   "outputs": [
    {
     "data": {
      "text/html": "<table class=\"simpletable\">\n<caption>OLS Regression Results</caption>\n<tr>\n  <th>Dep. Variable:</th>        <td>SalePrice</td>    <th>  R-squared:         </th> <td>   0.246</td> \n</tr>\n<tr>\n  <th>Model:</th>                   <td>OLS</td>       <th>  Adj. R-squared:    </th> <td>   0.239</td> \n</tr>\n<tr>\n  <th>Method:</th>             <td>Least Squares</td>  <th>  F-statistic:       </th> <td>   33.73</td> \n</tr>\n<tr>\n  <th>Date:</th>             <td>Wed, 18 Mar 2020</td> <th>  Prob (F-statistic):</th> <td>8.66e-79</td> \n</tr>\n<tr>\n  <th>Time:</th>                 <td>15:49:19</td>     <th>  Log-Likelihood:    </th> <td> -18338.</td> \n</tr>\n<tr>\n  <th>No. Observations:</th>      <td>  1460</td>      <th>  AIC:               </th> <td>3.671e+04</td>\n</tr>\n<tr>\n  <th>Df Residuals:</th>          <td>  1445</td>      <th>  BIC:               </th> <td>3.678e+04</td>\n</tr>\n<tr>\n  <th>Df Model:</th>              <td>    14</td>      <th>                     </th>     <td> </td>    \n</tr>\n<tr>\n  <th>Covariance Type:</th>      <td>nonrobust</td>    <th>                     </th>     <td> </td>    \n</tr>\n</table>\n<table class=\"simpletable\">\n<tr>\n            <td></td>              <th>coef</th>     <th>std err</th>      <th>t</th>      <th>P>|t|</th>  <th>[0.025</th>    <th>0.975]</th>  \n</tr>\n<tr>\n  <th>Intercept</th>            <td> 1.852e+05</td> <td> 2993.360</td> <td>   61.879</td> <td> 0.000</td> <td> 1.79e+05</td> <td> 1.91e+05</td>\n</tr>\n<tr>\n  <th>C(MSSubClass)[T.30]</th>  <td> -8.94e+04</td> <td> 8863.639</td> <td>  -10.086</td> <td> 0.000</td> <td>-1.07e+05</td> <td> -7.2e+04</td>\n</tr>\n<tr>\n  <th>C(MSSubClass)[T.40]</th>  <td> -2.91e+04</td> <td> 3.48e+04</td> <td>   -0.837</td> <td> 0.403</td> <td>-9.73e+04</td> <td> 3.91e+04</td>\n</tr>\n<tr>\n  <th>C(MSSubClass)[T.45]</th>  <td>-7.663e+04</td> <td> 2.02e+04</td> <td>   -3.788</td> <td> 0.000</td> <td>-1.16e+05</td> <td> -3.7e+04</td>\n</tr>\n<tr>\n  <th>C(MSSubClass)[T.50]</th>  <td>-4.192e+04</td> <td> 6504.772</td> <td>   -6.445</td> <td> 0.000</td> <td>-5.47e+04</td> <td>-2.92e+04</td>\n</tr>\n<tr>\n  <th>C(MSSubClass)[T.60]</th>  <td> 5.472e+04</td> <td> 5002.263</td> <td>   10.940</td> <td> 0.000</td> <td> 4.49e+04</td> <td> 6.45e+04</td>\n</tr>\n<tr>\n  <th>C(MSSubClass)[T.70]</th>  <td>-1.845e+04</td> <td> 9434.229</td> <td>   -1.956</td> <td> 0.051</td> <td> -3.7e+04</td> <td>   53.855</td>\n</tr>\n<tr>\n  <th>C(MSSubClass)[T.75]</th>  <td> 7212.6884</td> <td> 1.76e+04</td> <td>    0.410</td> <td> 0.682</td> <td>-2.73e+04</td> <td> 4.17e+04</td>\n</tr>\n<tr>\n  <th>C(MSSubClass)[T.80]</th>  <td>-1.549e+04</td> <td> 9579.396</td> <td>   -1.617</td> <td> 0.106</td> <td>-3.43e+04</td> <td> 3302.751</td>\n</tr>\n<tr>\n  <th>C(MSSubClass)[T.85]</th>  <td>-3.741e+04</td> <td> 1.58e+04</td> <td>   -2.371</td> <td> 0.018</td> <td>-6.84e+04</td> <td>-6455.356</td>\n</tr>\n<tr>\n  <th>C(MSSubClass)[T.90]</th>  <td>-5.168e+04</td> <td> 1.01e+04</td> <td>   -5.135</td> <td> 0.000</td> <td>-7.14e+04</td> <td>-3.19e+04</td>\n</tr>\n<tr>\n  <th>C(MSSubClass)[T.120]</th> <td> 1.555e+04</td> <td> 8010.199</td> <td>    1.942</td> <td> 0.052</td> <td> -158.594</td> <td> 3.13e+04</td>\n</tr>\n<tr>\n  <th>C(MSSubClass)[T.160]</th> <td>-4.658e+04</td> <td> 9230.007</td> <td>   -5.046</td> <td> 0.000</td> <td>-6.47e+04</td> <td>-2.85e+04</td>\n</tr>\n<tr>\n  <th>C(MSSubClass)[T.180]</th> <td>-8.292e+04</td> <td> 2.21e+04</td> <td>   -3.749</td> <td> 0.000</td> <td>-1.26e+05</td> <td>-3.95e+04</td>\n</tr>\n<tr>\n  <th>C(MSSubClass)[T.190]</th> <td>-5.561e+04</td> <td>  1.3e+04</td> <td>   -4.277</td> <td> 0.000</td> <td>-8.11e+04</td> <td>-3.01e+04</td>\n</tr>\n</table>\n<table class=\"simpletable\">\n<tr>\n  <th>Omnibus:</th>       <td>708.394</td> <th>  Durbin-Watson:     </th> <td>   1.998</td>\n</tr>\n<tr>\n  <th>Prob(Omnibus):</th> <td> 0.000</td>  <th>  Jarque-Bera (JB):  </th> <td>5221.198</td>\n</tr>\n<tr>\n  <th>Skew:</th>          <td> 2.138</td>  <th>  Prob(JB):          </th> <td>    0.00</td>\n</tr>\n<tr>\n  <th>Kurtosis:</th>      <td>11.218</td>  <th>  Cond. No.          </th> <td>    19.9</td>\n</tr>\n</table><br/><br/>Warnings:<br/>[1] Standard Errors assume that the covariance matrix of the errors is correctly specified.",
      "text/plain": "<class 'statsmodels.iolib.summary.Summary'>\n\"\"\"\n                            OLS Regression Results                            \n==============================================================================\nDep. Variable:              SalePrice   R-squared:                       0.246\nModel:                            OLS   Adj. R-squared:                  0.239\nMethod:                 Least Squares   F-statistic:                     33.73\nDate:                Wed, 18 Mar 2020   Prob (F-statistic):           8.66e-79\nTime:                        15:49:19   Log-Likelihood:                -18338.\nNo. Observations:                1460   AIC:                         3.671e+04\nDf Residuals:                    1445   BIC:                         3.678e+04\nDf Model:                          14                                         \nCovariance Type:            nonrobust                                         \n========================================================================================\n                           coef    std err          t      P>|t|      [0.025      0.975]\n----------------------------------------------------------------------------------------\nIntercept             1.852e+05   2993.360     61.879      0.000    1.79e+05    1.91e+05\nC(MSSubClass)[T.30]   -8.94e+04   8863.639    -10.086      0.000   -1.07e+05    -7.2e+04\nC(MSSubClass)[T.40]   -2.91e+04   3.48e+04     -0.837      0.403   -9.73e+04    3.91e+04\nC(MSSubClass)[T.45]  -7.663e+04   2.02e+04     -3.788      0.000   -1.16e+05    -3.7e+04\nC(MSSubClass)[T.50]  -4.192e+04   6504.772     -6.445      0.000   -5.47e+04   -2.92e+04\nC(MSSubClass)[T.60]   5.472e+04   5002.263     10.940      0.000    4.49e+04    6.45e+04\nC(MSSubClass)[T.70]  -1.845e+04   9434.229     -1.956      0.051    -3.7e+04      53.855\nC(MSSubClass)[T.75]   7212.6884   1.76e+04      0.410      0.682   -2.73e+04    4.17e+04\nC(MSSubClass)[T.80]  -1.549e+04   9579.396     -1.617      0.106   -3.43e+04    3302.751\nC(MSSubClass)[T.85]  -3.741e+04   1.58e+04     -2.371      0.018   -6.84e+04   -6455.356\nC(MSSubClass)[T.90]  -5.168e+04   1.01e+04     -5.135      0.000   -7.14e+04   -3.19e+04\nC(MSSubClass)[T.120]  1.555e+04   8010.199      1.942      0.052    -158.594    3.13e+04\nC(MSSubClass)[T.160] -4.658e+04   9230.007     -5.046      0.000   -6.47e+04   -2.85e+04\nC(MSSubClass)[T.180] -8.292e+04   2.21e+04     -3.749      0.000   -1.26e+05   -3.95e+04\nC(MSSubClass)[T.190] -5.561e+04    1.3e+04     -4.277      0.000   -8.11e+04   -3.01e+04\n==============================================================================\nOmnibus:                      708.394   Durbin-Watson:                   1.998\nProb(Omnibus):                  0.000   Jarque-Bera (JB):             5221.198\nSkew:                           2.138   Prob(JB):                         0.00\nKurtosis:                      11.218   Cond. No.                         19.9\n==============================================================================\n\nWarnings:\n[1] Standard Errors assume that the covariance matrix of the errors is correctly specified.\n\"\"\""
     },
     "execution_count": 73,
     "metadata": {},
     "output_type": "execute_result"
    }
   ],
   "source": [
    "from statsmodels.formula.api import ols\n",
    "results = ols('SalePrice ~ C(MSSubClass)', data = train_pd).fit()\n",
    "results.summary()"
   ]
  },
  {
   "cell_type": "code",
   "execution_count": 84,
   "metadata": {},
   "outputs": [
    {
     "data": {
      "text/plain": "68944.36756976064"
     },
     "execution_count": 84,
     "metadata": {},
     "output_type": "execute_result"
    }
   ],
   "source": [
    "import math\n",
    "import numpy as np\n",
    "np.std(results.resid)"
   ]
  },
  {
   "cell_type": "code",
   "execution_count": 137,
   "metadata": {},
   "outputs": [
    {
     "data": {
      "text/plain": "count      81.000000\nmean      120.395062\nstd       275.344769\nmin         2.000000\n25%         4.000000\n50%         6.000000\n75%        25.000000\nmax      1460.000000\ndtype: float64"
     },
     "execution_count": 137,
     "metadata": {},
     "output_type": "execute_result"
    }
   ],
   "source": [
    "uniq_count = train_pd.nunique()\n",
    "uniq_count.describe()"
   ]
  },
  {
   "cell_type": "code",
   "execution_count": 138,
   "metadata": {},
   "outputs": [
    {
     "data": {
      "text/plain": "Index(['MSSubClass', 'MSZoning', 'Street', 'Alley', 'LotShape', 'LandContour',\n       'Utilities', 'LotConfig', 'LandSlope', 'Neighborhood', 'Condition1',\n       'Condition2', 'BldgType', 'HouseStyle', 'OverallQual', 'OverallCond',\n       'RoofStyle', 'RoofMatl', 'Exterior1st', 'Exterior2nd', 'MasVnrType',\n       'ExterQual', 'ExterCond', 'Foundation', 'BsmtQual', 'BsmtCond',\n       'BsmtExposure', 'BsmtFinType1', 'BsmtFinType2', 'Heating', 'HeatingQC',\n       'CentralAir', 'Electrical', 'LowQualFinSF', 'BsmtFullBath',\n       'BsmtHalfBath', 'FullBath', 'HalfBath', 'BedroomAbvGr', 'KitchenAbvGr',\n       'KitchenQual', 'TotRmsAbvGrd', 'Functional', 'Fireplaces',\n       'FireplaceQu', 'GarageType', 'GarageFinish', 'GarageCars', 'GarageQual',\n       'GarageCond', 'PavedDrive', 'ThreeeSsnPorch', 'PoolArea', 'PoolQC',\n       'Fence', 'MiscFeature', 'MiscVal', 'MoSold', 'YrSold', 'SaleType',\n       'SaleCondition'],\n      dtype='object')"
     },
     "execution_count": 138,
     "metadata": {},
     "output_type": "execute_result"
    }
   ],
   "source": [
    "category_cols = uniq_count[uniq_count <= 25].index\n",
    "category_cols"
   ]
  },
  {
   "cell_type": "code",
   "execution_count": 142,
   "metadata": {},
   "outputs": [],
   "source": [
    "selected_cols = []\n",
    "for col_name in category_cols:\n",
    "    model_result = ols(f'SalePrice ~ C({col_name})', data = train_pd).fit()\n",
    "    if model_result.f_pvalue < 0.05:\n",
    "        selected_cols.append(col_name)"
   ]
  },
  {
   "cell_type": "code",
   "execution_count": 143,
   "metadata": {},
   "outputs": [
    {
     "data": {
      "text/plain": "['MSSubClass',\n 'MSZoning',\n 'Alley',\n 'LotShape',\n 'LandContour',\n 'LotConfig',\n 'Neighborhood',\n 'Condition1',\n 'Condition2',\n 'BldgType',\n 'HouseStyle',\n 'OverallQual',\n 'OverallCond',\n 'RoofStyle',\n 'RoofMatl',\n 'Exterior1st',\n 'Exterior2nd',\n 'MasVnrType',\n 'ExterQual',\n 'ExterCond',\n 'Foundation',\n 'BsmtQual',\n 'BsmtCond',\n 'BsmtExposure',\n 'BsmtFinType1',\n 'BsmtFinType2',\n 'Heating',\n 'HeatingQC',\n 'CentralAir',\n 'Electrical',\n 'BsmtFullBath',\n 'FullBath',\n 'HalfBath',\n 'BedroomAbvGr',\n 'KitchenAbvGr',\n 'KitchenQual',\n 'TotRmsAbvGrd',\n 'Functional',\n 'Fireplaces',\n 'FireplaceQu',\n 'GarageType',\n 'GarageFinish',\n 'GarageCars',\n 'GarageQual',\n 'GarageCond',\n 'PavedDrive',\n 'PoolArea',\n 'Fence',\n 'SaleType',\n 'SaleCondition']"
     },
     "execution_count": 143,
     "metadata": {},
     "output_type": "execute_result"
    }
   ],
   "source": [
    "selected_cols"
   ]
  },
  {
   "cell_type": "code",
   "execution_count": 149,
   "metadata": {},
   "outputs": [
    {
     "data": {
      "text/html": "<table class=\"simpletable\">\n<caption>OLS Regression Results</caption>\n<tr>\n  <th>Dep. Variable:</th>        <td>SalePrice</td>    <th>  R-squared:         </th> <td>   0.271</td> \n</tr>\n<tr>\n  <th>Model:</th>                   <td>OLS</td>       <th>  Adj. R-squared:    </th> <td>   0.262</td> \n</tr>\n<tr>\n  <th>Method:</th>             <td>Least Squares</td>  <th>  F-statistic:       </th> <td>   29.74</td> \n</tr>\n<tr>\n  <th>Date:</th>             <td>Wed, 18 Mar 2020</td> <th>  Prob (F-statistic):</th> <td>8.06e-86</td> \n</tr>\n<tr>\n  <th>Time:</th>                 <td>17:06:01</td>     <th>  Log-Likelihood:    </th> <td> -18313.</td> \n</tr>\n<tr>\n  <th>No. Observations:</th>      <td>  1460</td>      <th>  AIC:               </th> <td>3.666e+04</td>\n</tr>\n<tr>\n  <th>Df Residuals:</th>          <td>  1441</td>      <th>  BIC:               </th> <td>3.677e+04</td>\n</tr>\n<tr>\n  <th>Df Model:</th>              <td>    18</td>      <th>                     </th>     <td> </td>    \n</tr>\n<tr>\n  <th>Covariance Type:</th>      <td>nonrobust</td>    <th>                     </th>     <td> </td>    \n</tr>\n</table>\n<table class=\"simpletable\">\n<tr>\n            <td></td>              <th>coef</th>     <th>std err</th>      <th>t</th>      <th>P>|t|</th>  <th>[0.025</th>    <th>0.975]</th>  \n</tr>\n<tr>\n  <th>Intercept</th>            <td> 1.044e+05</td> <td>  2.2e+04</td> <td>    4.736</td> <td> 0.000</td> <td> 6.11e+04</td> <td> 1.48e+05</td>\n</tr>\n<tr>\n  <th>C(MSSubClass)[T.30]</th>  <td>-7.155e+04</td> <td> 9211.016</td> <td>   -7.768</td> <td> 0.000</td> <td>-8.96e+04</td> <td>-5.35e+04</td>\n</tr>\n<tr>\n  <th>C(MSSubClass)[T.40]</th>  <td>-1.339e+04</td> <td> 3.44e+04</td> <td>   -0.390</td> <td> 0.697</td> <td>-8.08e+04</td> <td> 5.41e+04</td>\n</tr>\n<tr>\n  <th>C(MSSubClass)[T.45]</th>  <td>-5.542e+04</td> <td> 2.03e+04</td> <td>   -2.731</td> <td> 0.006</td> <td>-9.52e+04</td> <td>-1.56e+04</td>\n</tr>\n<tr>\n  <th>C(MSSubClass)[T.50]</th>  <td>-2.848e+04</td> <td> 6763.228</td> <td>   -4.212</td> <td> 0.000</td> <td>-4.18e+04</td> <td>-1.52e+04</td>\n</tr>\n<tr>\n  <th>C(MSSubClass)[T.60]</th>  <td> 5.259e+04</td> <td> 4959.018</td> <td>   10.606</td> <td> 0.000</td> <td> 4.29e+04</td> <td> 6.23e+04</td>\n</tr>\n<tr>\n  <th>C(MSSubClass)[T.70]</th>  <td>-1895.7470</td> <td> 9695.608</td> <td>   -0.196</td> <td> 0.845</td> <td>-2.09e+04</td> <td> 1.71e+04</td>\n</tr>\n<tr>\n  <th>C(MSSubClass)[T.75]</th>  <td> 2.701e+04</td> <td> 1.77e+04</td> <td>    1.525</td> <td> 0.127</td> <td>-7729.916</td> <td> 6.17e+04</td>\n</tr>\n<tr>\n  <th>C(MSSubClass)[T.80]</th>  <td>-1.612e+04</td> <td> 9440.180</td> <td>   -1.708</td> <td> 0.088</td> <td>-3.46e+04</td> <td> 2393.914</td>\n</tr>\n<tr>\n  <th>C(MSSubClass)[T.85]</th>  <td>-3.805e+04</td> <td> 1.55e+04</td> <td>   -2.447</td> <td> 0.015</td> <td>-6.85e+04</td> <td>-7551.221</td>\n</tr>\n<tr>\n  <th>C(MSSubClass)[T.90]</th>  <td>-4.662e+04</td> <td> 9979.338</td> <td>   -4.672</td> <td> 0.000</td> <td>-6.62e+04</td> <td> -2.7e+04</td>\n</tr>\n<tr>\n  <th>C(MSSubClass)[T.120]</th> <td> 2.247e+04</td> <td> 8032.538</td> <td>    2.798</td> <td> 0.005</td> <td> 6717.461</td> <td> 3.82e+04</td>\n</tr>\n<tr>\n  <th>C(MSSubClass)[T.160]</th> <td>-3.834e+04</td> <td> 1.01e+04</td> <td>   -3.792</td> <td> 0.000</td> <td>-5.82e+04</td> <td>-1.85e+04</td>\n</tr>\n<tr>\n  <th>C(MSSubClass)[T.180]</th> <td>-5.087e+04</td> <td> 2.26e+04</td> <td>   -2.251</td> <td> 0.025</td> <td>-9.52e+04</td> <td>-6540.667</td>\n</tr>\n<tr>\n  <th>C(MSSubClass)[T.190]</th> <td>-3.932e+04</td> <td> 1.31e+04</td> <td>   -3.008</td> <td> 0.003</td> <td> -6.5e+04</td> <td>-1.37e+04</td>\n</tr>\n<tr>\n  <th>C(MSZoning)[T.FV]</th>    <td> 1.007e+05</td> <td> 2.37e+04</td> <td>    4.248</td> <td> 0.000</td> <td> 5.42e+04</td> <td> 1.47e+05</td>\n</tr>\n<tr>\n  <th>C(MSZoning)[T.RH]</th>    <td> 4.812e+04</td> <td> 2.77e+04</td> <td>    1.736</td> <td> 0.083</td> <td>-6257.521</td> <td> 1.03e+05</td>\n</tr>\n<tr>\n  <th>C(MSZoning)[T.RL]</th>    <td> 8.151e+04</td> <td> 2.19e+04</td> <td>    3.716</td> <td> 0.000</td> <td> 3.85e+04</td> <td> 1.25e+05</td>\n</tr>\n<tr>\n  <th>C(MSZoning)[T.RM]</th>    <td> 4.882e+04</td> <td> 2.22e+04</td> <td>    2.197</td> <td> 0.028</td> <td> 5234.574</td> <td> 9.24e+04</td>\n</tr>\n</table>\n<table class=\"simpletable\">\n<tr>\n  <th>Omnibus:</th>       <td>748.920</td> <th>  Durbin-Watson:     </th> <td>   2.004</td>\n</tr>\n<tr>\n  <th>Prob(Omnibus):</th> <td> 0.000</td>  <th>  Jarque-Bera (JB):  </th> <td>6081.850</td>\n</tr>\n<tr>\n  <th>Skew:</th>          <td> 2.255</td>  <th>  Prob(JB):          </th> <td>    0.00</td>\n</tr>\n<tr>\n  <th>Kurtosis:</th>      <td>11.923</td>  <th>  Cond. No.          </th> <td>    36.9</td>\n</tr>\n</table><br/><br/>Warnings:<br/>[1] Standard Errors assume that the covariance matrix of the errors is correctly specified.",
      "text/plain": "<class 'statsmodels.iolib.summary.Summary'>\n\"\"\"\n                            OLS Regression Results                            \n==============================================================================\nDep. Variable:              SalePrice   R-squared:                       0.271\nModel:                            OLS   Adj. R-squared:                  0.262\nMethod:                 Least Squares   F-statistic:                     29.74\nDate:                Wed, 18 Mar 2020   Prob (F-statistic):           8.06e-86\nTime:                        17:06:01   Log-Likelihood:                -18313.\nNo. Observations:                1460   AIC:                         3.666e+04\nDf Residuals:                    1441   BIC:                         3.677e+04\nDf Model:                          18                                         \nCovariance Type:            nonrobust                                         \n========================================================================================\n                           coef    std err          t      P>|t|      [0.025      0.975]\n----------------------------------------------------------------------------------------\nIntercept             1.044e+05    2.2e+04      4.736      0.000    6.11e+04    1.48e+05\nC(MSSubClass)[T.30]  -7.155e+04   9211.016     -7.768      0.000   -8.96e+04   -5.35e+04\nC(MSSubClass)[T.40]  -1.339e+04   3.44e+04     -0.390      0.697   -8.08e+04    5.41e+04\nC(MSSubClass)[T.45]  -5.542e+04   2.03e+04     -2.731      0.006   -9.52e+04   -1.56e+04\nC(MSSubClass)[T.50]  -2.848e+04   6763.228     -4.212      0.000   -4.18e+04   -1.52e+04\nC(MSSubClass)[T.60]   5.259e+04   4959.018     10.606      0.000    4.29e+04    6.23e+04\nC(MSSubClass)[T.70]  -1895.7470   9695.608     -0.196      0.845   -2.09e+04    1.71e+04\nC(MSSubClass)[T.75]   2.701e+04   1.77e+04      1.525      0.127   -7729.916    6.17e+04\nC(MSSubClass)[T.80]  -1.612e+04   9440.180     -1.708      0.088   -3.46e+04    2393.914\nC(MSSubClass)[T.85]  -3.805e+04   1.55e+04     -2.447      0.015   -6.85e+04   -7551.221\nC(MSSubClass)[T.90]  -4.662e+04   9979.338     -4.672      0.000   -6.62e+04    -2.7e+04\nC(MSSubClass)[T.120]  2.247e+04   8032.538      2.798      0.005    6717.461    3.82e+04\nC(MSSubClass)[T.160] -3.834e+04   1.01e+04     -3.792      0.000   -5.82e+04   -1.85e+04\nC(MSSubClass)[T.180] -5.087e+04   2.26e+04     -2.251      0.025   -9.52e+04   -6540.667\nC(MSSubClass)[T.190] -3.932e+04   1.31e+04     -3.008      0.003    -6.5e+04   -1.37e+04\nC(MSZoning)[T.FV]     1.007e+05   2.37e+04      4.248      0.000    5.42e+04    1.47e+05\nC(MSZoning)[T.RH]     4.812e+04   2.77e+04      1.736      0.083   -6257.521    1.03e+05\nC(MSZoning)[T.RL]     8.151e+04   2.19e+04      3.716      0.000    3.85e+04    1.25e+05\nC(MSZoning)[T.RM]     4.882e+04   2.22e+04      2.197      0.028    5234.574    9.24e+04\n==============================================================================\nOmnibus:                      748.920   Durbin-Watson:                   2.004\nProb(Omnibus):                  0.000   Jarque-Bera (JB):             6081.850\nSkew:                           2.255   Prob(JB):                         0.00\nKurtosis:                      11.923   Cond. No.                         36.9\n==============================================================================\n\nWarnings:\n[1] Standard Errors assume that the covariance matrix of the errors is correctly specified.\n\"\"\""
     },
     "execution_count": 149,
     "metadata": {},
     "output_type": "execute_result"
    }
   ],
   "source": [
    "test_model = ols('SalePrice ~ C(MSSubClass) + C(MSZoning)', data = train_pd).fit()\n",
    "test_model.summary()"
   ]
  },
  {
   "cell_type": "code",
   "execution_count": 155,
   "metadata": {},
   "outputs": [
    {
     "data": {
      "text/html": "<table class=\"simpletable\">\n<caption>OLS Regression Results</caption>\n<tr>\n  <th>Dep. Variable:</th>        <td>SalePrice</td>    <th>  R-squared:         </th> <td>   0.581</td>\n</tr>\n<tr>\n  <th>Model:</th>                   <td>OLS</td>       <th>  Adj. R-squared:    </th> <td>   0.491</td>\n</tr>\n<tr>\n  <th>Method:</th>             <td>Least Squares</td>  <th>  F-statistic:       </th> <td>   6.421</td>\n</tr>\n<tr>\n  <th>Date:</th>             <td>Thu, 19 Mar 2020</td> <th>  Prob (F-statistic):</th> <td>1.01e-08</td>\n</tr>\n<tr>\n  <th>Time:</th>                 <td>16:02:39</td>     <th>  Log-Likelihood:    </th> <td> -1059.6</td>\n</tr>\n<tr>\n  <th>No. Observations:</th>      <td>    91</td>      <th>  AIC:               </th> <td>   2153.</td>\n</tr>\n<tr>\n  <th>Df Residuals:</th>          <td>    74</td>      <th>  BIC:               </th> <td>   2196.</td>\n</tr>\n<tr>\n  <th>Df Model:</th>              <td>    16</td>      <th>                     </th>     <td> </td>   \n</tr>\n<tr>\n  <th>Covariance Type:</th>      <td>nonrobust</td>    <th>                     </th>     <td> </td>   \n</tr>\n</table>\n<table class=\"simpletable\">\n<tr>\n            <td></td>              <th>coef</th>     <th>std err</th>      <th>t</th>      <th>P>|t|</th>  <th>[0.025</th>    <th>0.975]</th>  \n</tr>\n<tr>\n  <th>Intercept</th>            <td> -4.98e+04</td> <td> 3.76e+04</td> <td>   -1.325</td> <td> 0.189</td> <td>-1.25e+05</td> <td> 2.51e+04</td>\n</tr>\n<tr>\n  <th>C(MSSubClass)[T.30]</th>  <td> 3.868e+04</td> <td> 2.82e+04</td> <td>    1.371</td> <td> 0.174</td> <td>-1.75e+04</td> <td> 9.49e+04</td>\n</tr>\n<tr>\n  <th>C(MSSubClass)[T.40]</th>  <td> 4.884e+04</td> <td> 3.99e+04</td> <td>    1.223</td> <td> 0.225</td> <td>-3.07e+04</td> <td> 1.28e+05</td>\n</tr>\n<tr>\n  <th>C(MSSubClass)[T.45]</th>  <td> 8.281e+04</td> <td> 4.05e+04</td> <td>    2.046</td> <td> 0.044</td> <td> 2180.696</td> <td> 1.63e+05</td>\n</tr>\n<tr>\n  <th>C(MSSubClass)[T.50]</th>  <td> 7.295e+04</td> <td> 2.74e+04</td> <td>    2.661</td> <td> 0.010</td> <td> 1.83e+04</td> <td> 1.28e+05</td>\n</tr>\n<tr>\n  <th>C(MSSubClass)[T.60]</th>  <td> 6.826e+04</td> <td> 2.71e+04</td> <td>    2.515</td> <td> 0.014</td> <td> 1.42e+04</td> <td> 1.22e+05</td>\n</tr>\n<tr>\n  <th>C(MSSubClass)[T.70]</th>  <td> 7.629e+04</td> <td>  2.7e+04</td> <td>    2.821</td> <td> 0.006</td> <td> 2.24e+04</td> <td>  1.3e+05</td>\n</tr>\n<tr>\n  <th>C(MSSubClass)[T.75]</th>  <td> 8.608e+04</td> <td> 3.15e+04</td> <td>    2.735</td> <td> 0.008</td> <td> 2.34e+04</td> <td> 1.49e+05</td>\n</tr>\n<tr>\n  <th>C(MSSubClass)[T.80]</th>  <td>-1.191e-10</td> <td> 3.53e-11</td> <td>   -3.374</td> <td> 0.001</td> <td>-1.89e-10</td> <td>-4.87e-11</td>\n</tr>\n<tr>\n  <th>C(MSSubClass)[T.85]</th>  <td> 7.867e-11</td> <td>  4.9e-11</td> <td>    1.607</td> <td> 0.112</td> <td>-1.89e-11</td> <td> 1.76e-10</td>\n</tr>\n<tr>\n  <th>C(MSSubClass)[T.90]</th>  <td> 7.566e+04</td> <td> 3.42e+04</td> <td>    2.212</td> <td> 0.030</td> <td> 7516.681</td> <td> 1.44e+05</td>\n</tr>\n<tr>\n  <th>C(MSSubClass)[T.120]</th> <td> 1.955e+04</td> <td> 2.12e+04</td> <td>    0.921</td> <td> 0.360</td> <td>-2.27e+04</td> <td> 6.18e+04</td>\n</tr>\n<tr>\n  <th>C(MSSubClass)[T.160]</th> <td>-1.765e+04</td> <td> 1.67e+04</td> <td>   -1.056</td> <td> 0.294</td> <td>-5.09e+04</td> <td> 1.56e+04</td>\n</tr>\n<tr>\n  <th>C(MSSubClass)[T.180]</th> <td> 2.719e-12</td> <td> 7.14e-12</td> <td>    0.381</td> <td> 0.704</td> <td>-1.15e-11</td> <td> 1.69e-11</td>\n</tr>\n<tr>\n  <th>C(MSSubClass)[T.190]</th> <td> 6.628e+04</td> <td> 2.95e+04</td> <td>    2.246</td> <td> 0.028</td> <td> 7479.739</td> <td> 1.25e+05</td>\n</tr>\n<tr>\n  <th>C(MSZoning)[T.FV]</th>    <td> 1.841e+05</td> <td> 3.53e+04</td> <td>    5.221</td> <td> 0.000</td> <td> 1.14e+05</td> <td> 2.54e+05</td>\n</tr>\n<tr>\n  <th>C(MSZoning)[T.RH]</th>    <td> 1.133e+05</td> <td> 3.16e+04</td> <td>    3.591</td> <td> 0.001</td> <td> 5.04e+04</td> <td> 1.76e+05</td>\n</tr>\n<tr>\n  <th>C(MSZoning)[T.RL]</th>    <td> 1.038e+05</td> <td> 2.41e+04</td> <td>    4.316</td> <td> 0.000</td> <td> 5.59e+04</td> <td> 1.52e+05</td>\n</tr>\n<tr>\n  <th>C(MSZoning)[T.RM]</th>    <td> 1.064e+05</td> <td> 2.41e+04</td> <td>    4.417</td> <td> 0.000</td> <td> 5.84e+04</td> <td> 1.54e+05</td>\n</tr>\n<tr>\n  <th>C(Alley)[T.Pave]</th>     <td> 4.657e+04</td> <td> 1.06e+04</td> <td>    4.391</td> <td> 0.000</td> <td> 2.54e+04</td> <td> 6.77e+04</td>\n</tr>\n</table>\n<table class=\"simpletable\">\n<tr>\n  <th>Omnibus:</th>       <td>36.098</td> <th>  Durbin-Watson:     </th> <td>   2.140</td>\n</tr>\n<tr>\n  <th>Prob(Omnibus):</th> <td> 0.000</td> <th>  Jarque-Bera (JB):  </th> <td> 100.101</td>\n</tr>\n<tr>\n  <th>Skew:</th>          <td> 1.341</td> <th>  Prob(JB):          </th> <td>1.83e-22</td>\n</tr>\n<tr>\n  <th>Kurtosis:</th>      <td> 7.383</td> <th>  Cond. No.          </th> <td>3.35e+18</td>\n</tr>\n</table><br/><br/>Warnings:<br/>[1] Standard Errors assume that the covariance matrix of the errors is correctly specified.<br/>[2] The smallest eigenvalue is 1.4e-35. This might indicate that there are<br/>strong multicollinearity problems or that the design matrix is singular.",
      "text/plain": "<class 'statsmodels.iolib.summary.Summary'>\n\"\"\"\n                            OLS Regression Results                            \n==============================================================================\nDep. Variable:              SalePrice   R-squared:                       0.581\nModel:                            OLS   Adj. R-squared:                  0.491\nMethod:                 Least Squares   F-statistic:                     6.421\nDate:                Thu, 19 Mar 2020   Prob (F-statistic):           1.01e-08\nTime:                        16:02:39   Log-Likelihood:                -1059.6\nNo. Observations:                  91   AIC:                             2153.\nDf Residuals:                      74   BIC:                             2196.\nDf Model:                          16                                         \nCovariance Type:            nonrobust                                         \n========================================================================================\n                           coef    std err          t      P>|t|      [0.025      0.975]\n----------------------------------------------------------------------------------------\nIntercept             -4.98e+04   3.76e+04     -1.325      0.189   -1.25e+05    2.51e+04\nC(MSSubClass)[T.30]   3.868e+04   2.82e+04      1.371      0.174   -1.75e+04    9.49e+04\nC(MSSubClass)[T.40]   4.884e+04   3.99e+04      1.223      0.225   -3.07e+04    1.28e+05\nC(MSSubClass)[T.45]   8.281e+04   4.05e+04      2.046      0.044    2180.696    1.63e+05\nC(MSSubClass)[T.50]   7.295e+04   2.74e+04      2.661      0.010    1.83e+04    1.28e+05\nC(MSSubClass)[T.60]   6.826e+04   2.71e+04      2.515      0.014    1.42e+04    1.22e+05\nC(MSSubClass)[T.70]   7.629e+04    2.7e+04      2.821      0.006    2.24e+04     1.3e+05\nC(MSSubClass)[T.75]   8.608e+04   3.15e+04      2.735      0.008    2.34e+04    1.49e+05\nC(MSSubClass)[T.80]  -1.191e-10   3.53e-11     -3.374      0.001   -1.89e-10   -4.87e-11\nC(MSSubClass)[T.85]   7.867e-11    4.9e-11      1.607      0.112   -1.89e-11    1.76e-10\nC(MSSubClass)[T.90]   7.566e+04   3.42e+04      2.212      0.030    7516.681    1.44e+05\nC(MSSubClass)[T.120]  1.955e+04   2.12e+04      0.921      0.360   -2.27e+04    6.18e+04\nC(MSSubClass)[T.160] -1.765e+04   1.67e+04     -1.056      0.294   -5.09e+04    1.56e+04\nC(MSSubClass)[T.180]  2.719e-12   7.14e-12      0.381      0.704   -1.15e-11    1.69e-11\nC(MSSubClass)[T.190]  6.628e+04   2.95e+04      2.246      0.028    7479.739    1.25e+05\nC(MSZoning)[T.FV]     1.841e+05   3.53e+04      5.221      0.000    1.14e+05    2.54e+05\nC(MSZoning)[T.RH]     1.133e+05   3.16e+04      3.591      0.001    5.04e+04    1.76e+05\nC(MSZoning)[T.RL]     1.038e+05   2.41e+04      4.316      0.000    5.59e+04    1.52e+05\nC(MSZoning)[T.RM]     1.064e+05   2.41e+04      4.417      0.000    5.84e+04    1.54e+05\nC(Alley)[T.Pave]      4.657e+04   1.06e+04      4.391      0.000    2.54e+04    6.77e+04\n==============================================================================\nOmnibus:                       36.098   Durbin-Watson:                   2.140\nProb(Omnibus):                  0.000   Jarque-Bera (JB):              100.101\nSkew:                           1.341   Prob(JB):                     1.83e-22\nKurtosis:                       7.383   Cond. No.                     3.35e+18\n==============================================================================\n\nWarnings:\n[1] Standard Errors assume that the covariance matrix of the errors is correctly specified.\n[2] The smallest eigenvalue is 1.4e-35. This might indicate that there are\nstrong multicollinearity problems or that the design matrix is singular.\n\"\"\""
     },
     "execution_count": 155,
     "metadata": {},
     "output_type": "execute_result"
    }
   ],
   "source": [
    "test_model = ols('SalePrice ~ C(MSSubClass) + C(MSZoning) + C(Alley)', data = train_pd).fit()\n",
    "test_model.summary()"
   ]
  },
  {
   "cell_type": "code",
   "execution_count": 151,
   "metadata": {},
   "outputs": [
    {
     "data": {
      "text/plain": "27585.483275515056"
     },
     "execution_count": 151,
     "metadata": {},
     "output_type": "execute_result"
    }
   ],
   "source": [
    "np.std(test_model.resid)"
   ]
  }
 ]
}