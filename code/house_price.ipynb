{
 "nbformat": 4,
 "nbformat_minor": 2,
 "metadata": {
  "language_info": {
   "name": "python",
   "codemirror_mode": {
    "name": "ipython",
    "version": 3
   },
   "version": "3.6.1-final"
  },
  "orig_nbformat": 2,
  "file_extension": ".py",
  "mimetype": "text/x-python",
  "name": "python",
  "npconvert_exporter": "python",
  "pygments_lexer": "ipython3",
  "version": 3,
  "kernelspec": {
   "name": "python36164bitbfb75dcdc05c43dca97fdaf89dddfa54",
   "display_name": "Python 3.6.1 64-bit"
  }
 },
 "cells": [
  {
   "cell_type": "code",
   "execution_count": 1,
   "metadata": {},
   "outputs": [],
   "source": [
    "file_location = \"../\""
   ]
  },
  {
   "cell_type": "code",
   "execution_count": 3,
   "metadata": {},
   "outputs": [
    {
     "output_type": "execute_result",
     "data": {
      "text/plain": "                Id   MSSubClass  LotFrontage        LotArea  OverallQual  \\\ncount  1460.000000  1460.000000  1201.000000    1460.000000  1460.000000   \nmean    730.500000    56.897260    70.049958   10516.828082     6.099315   \nstd     421.610009    42.300571    24.284752    9981.264932     1.382997   \nmin       1.000000    20.000000    21.000000    1300.000000     1.000000   \n25%     365.750000    20.000000    59.000000    7553.500000     5.000000   \n50%     730.500000    50.000000    69.000000    9478.500000     6.000000   \n75%    1095.250000    70.000000    80.000000   11601.500000     7.000000   \nmax    1460.000000   190.000000   313.000000  215245.000000    10.000000   \n\n       OverallCond    YearBuilt  YearRemodAdd   MasVnrArea   BsmtFinSF1  ...  \\\ncount  1460.000000  1460.000000   1460.000000  1452.000000  1460.000000  ...   \nmean      5.575342  1971.267808   1984.865753   103.685262   443.639726  ...   \nstd       1.112799    30.202904     20.645407   181.066207   456.098091  ...   \nmin       1.000000  1872.000000   1950.000000     0.000000     0.000000  ...   \n25%       5.000000  1954.000000   1967.000000     0.000000     0.000000  ...   \n50%       5.000000  1973.000000   1994.000000     0.000000   383.500000  ...   \n75%       6.000000  2000.000000   2004.000000   166.000000   712.250000  ...   \nmax       9.000000  2010.000000   2010.000000  1600.000000  5644.000000  ...   \n\n        WoodDeckSF  OpenPorchSF  EnclosedPorch    3SsnPorch  ScreenPorch  \\\ncount  1460.000000  1460.000000    1460.000000  1460.000000  1460.000000   \nmean     94.244521    46.660274      21.954110     3.409589    15.060959   \nstd     125.338794    66.256028      61.119149    29.317331    55.757415   \nmin       0.000000     0.000000       0.000000     0.000000     0.000000   \n25%       0.000000     0.000000       0.000000     0.000000     0.000000   \n50%       0.000000    25.000000       0.000000     0.000000     0.000000   \n75%     168.000000    68.000000       0.000000     0.000000     0.000000   \nmax     857.000000   547.000000     552.000000   508.000000   480.000000   \n\n          PoolArea       MiscVal       MoSold       YrSold      SalePrice  \ncount  1460.000000   1460.000000  1460.000000  1460.000000    1460.000000  \nmean      2.758904     43.489041     6.321918  2007.815753  180921.195890  \nstd      40.177307    496.123024     2.703626     1.328095   79442.502883  \nmin       0.000000      0.000000     1.000000  2006.000000   34900.000000  \n25%       0.000000      0.000000     5.000000  2007.000000  129975.000000  \n50%       0.000000      0.000000     6.000000  2008.000000  163000.000000  \n75%       0.000000      0.000000     8.000000  2009.000000  214000.000000  \nmax     738.000000  15500.000000    12.000000  2010.000000  755000.000000  \n\n[8 rows x 38 columns]",
      "text/html": "<div>\n<style scoped>\n    .dataframe tbody tr th:only-of-type {\n        vertical-align: middle;\n    }\n\n    .dataframe tbody tr th {\n        vertical-align: top;\n    }\n\n    .dataframe thead th {\n        text-align: right;\n    }\n</style>\n<table border=\"1\" class=\"dataframe\">\n  <thead>\n    <tr style=\"text-align: right;\">\n      <th></th>\n      <th>Id</th>\n      <th>MSSubClass</th>\n      <th>LotFrontage</th>\n      <th>LotArea</th>\n      <th>OverallQual</th>\n      <th>OverallCond</th>\n      <th>YearBuilt</th>\n      <th>YearRemodAdd</th>\n      <th>MasVnrArea</th>\n      <th>BsmtFinSF1</th>\n      <th>...</th>\n      <th>WoodDeckSF</th>\n      <th>OpenPorchSF</th>\n      <th>EnclosedPorch</th>\n      <th>3SsnPorch</th>\n      <th>ScreenPorch</th>\n      <th>PoolArea</th>\n      <th>MiscVal</th>\n      <th>MoSold</th>\n      <th>YrSold</th>\n      <th>SalePrice</th>\n    </tr>\n  </thead>\n  <tbody>\n    <tr>\n      <th>count</th>\n      <td>1460.000000</td>\n      <td>1460.000000</td>\n      <td>1201.000000</td>\n      <td>1460.000000</td>\n      <td>1460.000000</td>\n      <td>1460.000000</td>\n      <td>1460.000000</td>\n      <td>1460.000000</td>\n      <td>1452.000000</td>\n      <td>1460.000000</td>\n      <td>...</td>\n      <td>1460.000000</td>\n      <td>1460.000000</td>\n      <td>1460.000000</td>\n      <td>1460.000000</td>\n      <td>1460.000000</td>\n      <td>1460.000000</td>\n      <td>1460.000000</td>\n      <td>1460.000000</td>\n      <td>1460.000000</td>\n      <td>1460.000000</td>\n    </tr>\n    <tr>\n      <th>mean</th>\n      <td>730.500000</td>\n      <td>56.897260</td>\n      <td>70.049958</td>\n      <td>10516.828082</td>\n      <td>6.099315</td>\n      <td>5.575342</td>\n      <td>1971.267808</td>\n      <td>1984.865753</td>\n      <td>103.685262</td>\n      <td>443.639726</td>\n      <td>...</td>\n      <td>94.244521</td>\n      <td>46.660274</td>\n      <td>21.954110</td>\n      <td>3.409589</td>\n      <td>15.060959</td>\n      <td>2.758904</td>\n      <td>43.489041</td>\n      <td>6.321918</td>\n      <td>2007.815753</td>\n      <td>180921.195890</td>\n    </tr>\n    <tr>\n      <th>std</th>\n      <td>421.610009</td>\n      <td>42.300571</td>\n      <td>24.284752</td>\n      <td>9981.264932</td>\n      <td>1.382997</td>\n      <td>1.112799</td>\n      <td>30.202904</td>\n      <td>20.645407</td>\n      <td>181.066207</td>\n      <td>456.098091</td>\n      <td>...</td>\n      <td>125.338794</td>\n      <td>66.256028</td>\n      <td>61.119149</td>\n      <td>29.317331</td>\n      <td>55.757415</td>\n      <td>40.177307</td>\n      <td>496.123024</td>\n      <td>2.703626</td>\n      <td>1.328095</td>\n      <td>79442.502883</td>\n    </tr>\n    <tr>\n      <th>min</th>\n      <td>1.000000</td>\n      <td>20.000000</td>\n      <td>21.000000</td>\n      <td>1300.000000</td>\n      <td>1.000000</td>\n      <td>1.000000</td>\n      <td>1872.000000</td>\n      <td>1950.000000</td>\n      <td>0.000000</td>\n      <td>0.000000</td>\n      <td>...</td>\n      <td>0.000000</td>\n      <td>0.000000</td>\n      <td>0.000000</td>\n      <td>0.000000</td>\n      <td>0.000000</td>\n      <td>0.000000</td>\n      <td>0.000000</td>\n      <td>1.000000</td>\n      <td>2006.000000</td>\n      <td>34900.000000</td>\n    </tr>\n    <tr>\n      <th>25%</th>\n      <td>365.750000</td>\n      <td>20.000000</td>\n      <td>59.000000</td>\n      <td>7553.500000</td>\n      <td>5.000000</td>\n      <td>5.000000</td>\n      <td>1954.000000</td>\n      <td>1967.000000</td>\n      <td>0.000000</td>\n      <td>0.000000</td>\n      <td>...</td>\n      <td>0.000000</td>\n      <td>0.000000</td>\n      <td>0.000000</td>\n      <td>0.000000</td>\n      <td>0.000000</td>\n      <td>0.000000</td>\n      <td>0.000000</td>\n      <td>5.000000</td>\n      <td>2007.000000</td>\n      <td>129975.000000</td>\n    </tr>\n    <tr>\n      <th>50%</th>\n      <td>730.500000</td>\n      <td>50.000000</td>\n      <td>69.000000</td>\n      <td>9478.500000</td>\n      <td>6.000000</td>\n      <td>5.000000</td>\n      <td>1973.000000</td>\n      <td>1994.000000</td>\n      <td>0.000000</td>\n      <td>383.500000</td>\n      <td>...</td>\n      <td>0.000000</td>\n      <td>25.000000</td>\n      <td>0.000000</td>\n      <td>0.000000</td>\n      <td>0.000000</td>\n      <td>0.000000</td>\n      <td>0.000000</td>\n      <td>6.000000</td>\n      <td>2008.000000</td>\n      <td>163000.000000</td>\n    </tr>\n    <tr>\n      <th>75%</th>\n      <td>1095.250000</td>\n      <td>70.000000</td>\n      <td>80.000000</td>\n      <td>11601.500000</td>\n      <td>7.000000</td>\n      <td>6.000000</td>\n      <td>2000.000000</td>\n      <td>2004.000000</td>\n      <td>166.000000</td>\n      <td>712.250000</td>\n      <td>...</td>\n      <td>168.000000</td>\n      <td>68.000000</td>\n      <td>0.000000</td>\n      <td>0.000000</td>\n      <td>0.000000</td>\n      <td>0.000000</td>\n      <td>0.000000</td>\n      <td>8.000000</td>\n      <td>2009.000000</td>\n      <td>214000.000000</td>\n    </tr>\n    <tr>\n      <th>max</th>\n      <td>1460.000000</td>\n      <td>190.000000</td>\n      <td>313.000000</td>\n      <td>215245.000000</td>\n      <td>10.000000</td>\n      <td>9.000000</td>\n      <td>2010.000000</td>\n      <td>2010.000000</td>\n      <td>1600.000000</td>\n      <td>5644.000000</td>\n      <td>...</td>\n      <td>857.000000</td>\n      <td>547.000000</td>\n      <td>552.000000</td>\n      <td>508.000000</td>\n      <td>480.000000</td>\n      <td>738.000000</td>\n      <td>15500.000000</td>\n      <td>12.000000</td>\n      <td>2010.000000</td>\n      <td>755000.000000</td>\n    </tr>\n  </tbody>\n</table>\n<p>8 rows × 38 columns</p>\n</div>"
     },
     "metadata": {},
     "execution_count": 3
    }
   ],
   "source": [
    "import pandas as pd\n",
    "import os\n",
    "train_file = os.path.join(file_location, \"data/train.csv\")\n",
    "train_pd = pd.read_csv(train_file)\n",
    "train_pd.describe()"
   ]
  },
  {
   "cell_type": "code",
   "execution_count": 13,
   "metadata": {},
   "outputs": [
    {
     "output_type": "execute_result",
     "data": {
      "text/plain": "Int64Index([20, 60, 50, 120, 30, 160, 70, 80, 90, 190, 85, 75, 45, 180, 40], dtype='int64')"
     },
     "metadata": {},
     "execution_count": 13
    }
   ],
   "source": [
    "train_pd['MSSubClass'].value_counts().index"
   ]
  },
  {
   "cell_type": "code",
   "execution_count": 6,
   "metadata": {},
   "outputs": [
    {
     "output_type": "execute_result",
     "data": {
      "text/plain": "180921.19589041095"
     },
     "metadata": {},
     "execution_count": 6
    }
   ],
   "source": [
    "train_pd['SalePrice'].mean()"
   ]
  },
  {
   "cell_type": "code",
   "execution_count": 14,
   "metadata": {},
   "outputs": [
    {
     "output_type": "execute_result",
     "data": {
      "text/plain": "        Id  MSSubClass MSZoning  LotFrontage  LotArea Street Alley LotShape  \\\n1        2          20       RL         80.0     9600   Pave   NaN      Reg   \n2        3          60       RL         68.0    11250   Pave   NaN      IR1   \n3        4          70       RL         60.0     9550   Pave   NaN      IR1   \n4        5          60       RL         84.0    14260   Pave   NaN      IR1   \n5        6          50       RL         85.0    14115   Pave   NaN      IR1   \n...    ...         ...      ...          ...      ...    ...   ...      ...   \n1454  1455          20       FV         62.0     7500   Pave  Pave      Reg   \n1455  1456          60       RL         62.0     7917   Pave   NaN      Reg   \n1456  1457          20       RL         85.0    13175   Pave   NaN      Reg   \n1457  1458          70       RL         66.0     9042   Pave   NaN      Reg   \n1458  1459          20       RL         68.0     9717   Pave   NaN      Reg   \n\n     LandContour Utilities  ... PoolArea PoolQC  Fence MiscFeature MiscVal  \\\n1            Lvl    AllPub  ...        0    NaN    NaN         NaN       0   \n2            Lvl    AllPub  ...        0    NaN    NaN         NaN       0   \n3            Lvl    AllPub  ...        0    NaN    NaN         NaN       0   \n4            Lvl    AllPub  ...        0    NaN    NaN         NaN       0   \n5            Lvl    AllPub  ...        0    NaN  MnPrv        Shed     700   \n...          ...       ...  ...      ...    ...    ...         ...     ...   \n1454         Lvl    AllPub  ...        0    NaN    NaN         NaN       0   \n1455         Lvl    AllPub  ...        0    NaN    NaN         NaN       0   \n1456         Lvl    AllPub  ...        0    NaN  MnPrv         NaN       0   \n1457         Lvl    AllPub  ...        0    NaN  GdPrv        Shed    2500   \n1458         Lvl    AllPub  ...        0    NaN    NaN         NaN       0   \n\n     MoSold YrSold  SaleType  SaleCondition  SalePrice  \n1         5   2007        WD         Normal     181500  \n2         9   2008        WD         Normal     223500  \n3         2   2006        WD        Abnorml     140000  \n4        12   2008        WD         Normal     250000  \n5        10   2009        WD         Normal     143000  \n...     ...    ...       ...            ...        ...  \n1454     10   2009        WD         Normal     185000  \n1455      8   2007        WD         Normal     175000  \n1456      2   2010        WD         Normal     210000  \n1457      5   2010        WD         Normal     266500  \n1458      4   2010        WD         Normal     142125  \n\n[1458 rows x 81 columns]",
      "text/html": "<div>\n<style scoped>\n    .dataframe tbody tr th:only-of-type {\n        vertical-align: middle;\n    }\n\n    .dataframe tbody tr th {\n        vertical-align: top;\n    }\n\n    .dataframe thead th {\n        text-align: right;\n    }\n</style>\n<table border=\"1\" class=\"dataframe\">\n  <thead>\n    <tr style=\"text-align: right;\">\n      <th></th>\n      <th>Id</th>\n      <th>MSSubClass</th>\n      <th>MSZoning</th>\n      <th>LotFrontage</th>\n      <th>LotArea</th>\n      <th>Street</th>\n      <th>Alley</th>\n      <th>LotShape</th>\n      <th>LandContour</th>\n      <th>Utilities</th>\n      <th>...</th>\n      <th>PoolArea</th>\n      <th>PoolQC</th>\n      <th>Fence</th>\n      <th>MiscFeature</th>\n      <th>MiscVal</th>\n      <th>MoSold</th>\n      <th>YrSold</th>\n      <th>SaleType</th>\n      <th>SaleCondition</th>\n      <th>SalePrice</th>\n    </tr>\n  </thead>\n  <tbody>\n    <tr>\n      <th>1</th>\n      <td>2</td>\n      <td>20</td>\n      <td>RL</td>\n      <td>80.0</td>\n      <td>9600</td>\n      <td>Pave</td>\n      <td>NaN</td>\n      <td>Reg</td>\n      <td>Lvl</td>\n      <td>AllPub</td>\n      <td>...</td>\n      <td>0</td>\n      <td>NaN</td>\n      <td>NaN</td>\n      <td>NaN</td>\n      <td>0</td>\n      <td>5</td>\n      <td>2007</td>\n      <td>WD</td>\n      <td>Normal</td>\n      <td>181500</td>\n    </tr>\n    <tr>\n      <th>2</th>\n      <td>3</td>\n      <td>60</td>\n      <td>RL</td>\n      <td>68.0</td>\n      <td>11250</td>\n      <td>Pave</td>\n      <td>NaN</td>\n      <td>IR1</td>\n      <td>Lvl</td>\n      <td>AllPub</td>\n      <td>...</td>\n      <td>0</td>\n      <td>NaN</td>\n      <td>NaN</td>\n      <td>NaN</td>\n      <td>0</td>\n      <td>9</td>\n      <td>2008</td>\n      <td>WD</td>\n      <td>Normal</td>\n      <td>223500</td>\n    </tr>\n    <tr>\n      <th>3</th>\n      <td>4</td>\n      <td>70</td>\n      <td>RL</td>\n      <td>60.0</td>\n      <td>9550</td>\n      <td>Pave</td>\n      <td>NaN</td>\n      <td>IR1</td>\n      <td>Lvl</td>\n      <td>AllPub</td>\n      <td>...</td>\n      <td>0</td>\n      <td>NaN</td>\n      <td>NaN</td>\n      <td>NaN</td>\n      <td>0</td>\n      <td>2</td>\n      <td>2006</td>\n      <td>WD</td>\n      <td>Abnorml</td>\n      <td>140000</td>\n    </tr>\n    <tr>\n      <th>4</th>\n      <td>5</td>\n      <td>60</td>\n      <td>RL</td>\n      <td>84.0</td>\n      <td>14260</td>\n      <td>Pave</td>\n      <td>NaN</td>\n      <td>IR1</td>\n      <td>Lvl</td>\n      <td>AllPub</td>\n      <td>...</td>\n      <td>0</td>\n      <td>NaN</td>\n      <td>NaN</td>\n      <td>NaN</td>\n      <td>0</td>\n      <td>12</td>\n      <td>2008</td>\n      <td>WD</td>\n      <td>Normal</td>\n      <td>250000</td>\n    </tr>\n    <tr>\n      <th>5</th>\n      <td>6</td>\n      <td>50</td>\n      <td>RL</td>\n      <td>85.0</td>\n      <td>14115</td>\n      <td>Pave</td>\n      <td>NaN</td>\n      <td>IR1</td>\n      <td>Lvl</td>\n      <td>AllPub</td>\n      <td>...</td>\n      <td>0</td>\n      <td>NaN</td>\n      <td>MnPrv</td>\n      <td>Shed</td>\n      <td>700</td>\n      <td>10</td>\n      <td>2009</td>\n      <td>WD</td>\n      <td>Normal</td>\n      <td>143000</td>\n    </tr>\n    <tr>\n      <th>...</th>\n      <td>...</td>\n      <td>...</td>\n      <td>...</td>\n      <td>...</td>\n      <td>...</td>\n      <td>...</td>\n      <td>...</td>\n      <td>...</td>\n      <td>...</td>\n      <td>...</td>\n      <td>...</td>\n      <td>...</td>\n      <td>...</td>\n      <td>...</td>\n      <td>...</td>\n      <td>...</td>\n      <td>...</td>\n      <td>...</td>\n      <td>...</td>\n      <td>...</td>\n      <td>...</td>\n    </tr>\n    <tr>\n      <th>1454</th>\n      <td>1455</td>\n      <td>20</td>\n      <td>FV</td>\n      <td>62.0</td>\n      <td>7500</td>\n      <td>Pave</td>\n      <td>Pave</td>\n      <td>Reg</td>\n      <td>Lvl</td>\n      <td>AllPub</td>\n      <td>...</td>\n      <td>0</td>\n      <td>NaN</td>\n      <td>NaN</td>\n      <td>NaN</td>\n      <td>0</td>\n      <td>10</td>\n      <td>2009</td>\n      <td>WD</td>\n      <td>Normal</td>\n      <td>185000</td>\n    </tr>\n    <tr>\n      <th>1455</th>\n      <td>1456</td>\n      <td>60</td>\n      <td>RL</td>\n      <td>62.0</td>\n      <td>7917</td>\n      <td>Pave</td>\n      <td>NaN</td>\n      <td>Reg</td>\n      <td>Lvl</td>\n      <td>AllPub</td>\n      <td>...</td>\n      <td>0</td>\n      <td>NaN</td>\n      <td>NaN</td>\n      <td>NaN</td>\n      <td>0</td>\n      <td>8</td>\n      <td>2007</td>\n      <td>WD</td>\n      <td>Normal</td>\n      <td>175000</td>\n    </tr>\n    <tr>\n      <th>1456</th>\n      <td>1457</td>\n      <td>20</td>\n      <td>RL</td>\n      <td>85.0</td>\n      <td>13175</td>\n      <td>Pave</td>\n      <td>NaN</td>\n      <td>Reg</td>\n      <td>Lvl</td>\n      <td>AllPub</td>\n      <td>...</td>\n      <td>0</td>\n      <td>NaN</td>\n      <td>MnPrv</td>\n      <td>NaN</td>\n      <td>0</td>\n      <td>2</td>\n      <td>2010</td>\n      <td>WD</td>\n      <td>Normal</td>\n      <td>210000</td>\n    </tr>\n    <tr>\n      <th>1457</th>\n      <td>1458</td>\n      <td>70</td>\n      <td>RL</td>\n      <td>66.0</td>\n      <td>9042</td>\n      <td>Pave</td>\n      <td>NaN</td>\n      <td>Reg</td>\n      <td>Lvl</td>\n      <td>AllPub</td>\n      <td>...</td>\n      <td>0</td>\n      <td>NaN</td>\n      <td>GdPrv</td>\n      <td>Shed</td>\n      <td>2500</td>\n      <td>5</td>\n      <td>2010</td>\n      <td>WD</td>\n      <td>Normal</td>\n      <td>266500</td>\n    </tr>\n    <tr>\n      <th>1458</th>\n      <td>1459</td>\n      <td>20</td>\n      <td>RL</td>\n      <td>68.0</td>\n      <td>9717</td>\n      <td>Pave</td>\n      <td>NaN</td>\n      <td>Reg</td>\n      <td>Lvl</td>\n      <td>AllPub</td>\n      <td>...</td>\n      <td>0</td>\n      <td>NaN</td>\n      <td>NaN</td>\n      <td>NaN</td>\n      <td>0</td>\n      <td>4</td>\n      <td>2010</td>\n      <td>WD</td>\n      <td>Normal</td>\n      <td>142125</td>\n    </tr>\n  </tbody>\n</table>\n<p>1458 rows × 81 columns</p>\n</div>"
     },
     "metadata": {},
     "execution_count": 14
    }
   ],
   "source": [
    "train_pd[1:-1]"
   ]
  },
  {
   "cell_type": "code",
   "execution_count": 5,
   "metadata": {},
   "outputs": [
    {
     "output_type": "execute_result",
     "data": {
      "text/plain": "        Id  MSSubClass MSZoning  LotFrontage  LotArea Street Alley LotShape  \\\n200    201          20       RM         80.0     8546   Pave   NaN      Reg   \n229    230         120       RL         43.0     3182   Pave   NaN      Reg   \n1042  1043         120       RL         34.0     5381   Pave   NaN      IR1   \n1434  1435          20       RL         80.0    17400   Pave   NaN      Reg   \n873    874          40       RL         60.0    12144   Pave   NaN      Reg   \n...    ...         ...      ...          ...      ...    ...   ...      ...   \n741    742          20       RL         65.0     6768   Pave   NaN      IR1   \n163    164          45       RL         55.0     5500   Pave   NaN      Reg   \n206    207          20       RL         40.0    13673   Pave   NaN      IR1   \n793    794          20       RL         76.0     9158   Pave   NaN      Reg   \n1321  1322          20       RL          NaN     6627   Pave   NaN      IR1   \n\n     LandContour Utilities  ... PoolArea PoolQC  Fence MiscFeature MiscVal  \\\n200          Lvl    AllPub  ...        0    NaN    NaN         NaN       0   \n229          Lvl    AllPub  ...        0    NaN    NaN         NaN       0   \n1042         Lvl    AllPub  ...        0    NaN    NaN         NaN       0   \n1434         Low    AllPub  ...        0    NaN    NaN         NaN       0   \n873          Lvl    AllPub  ...        0    NaN    NaN        Othr       0   \n...          ...       ...  ...      ...    ...    ...         ...     ...   \n741          Lvl    AllPub  ...        0    NaN  GdPrv         NaN       0   \n163          Lvl    AllPub  ...        0    NaN  MnPrv         NaN       0   \n206          Lvl    AllPub  ...        0    NaN    NaN         NaN       0   \n793          Lvl    AllPub  ...        0    NaN    NaN         NaN       0   \n1321         Lvl    AllPub  ...        0    NaN    NaN         NaN       0   \n\n     MoSold YrSold  SaleType  SaleCondition  SalePrice  \n200       3   2010        WD         Normal     140000  \n229       5   2009        WD         Normal     192500  \n1042      8   2009        WD         Normal     196000  \n1434      5   2006        WD         Normal     160000  \n873       9   2009        WD         Normal     133000  \n...     ...    ...       ...            ...        ...  \n741       5   2008        WD         Normal     142000  \n163       4   2007        WD         Normal     103200  \n206       3   2007        WD         Normal     143900  \n793       6   2007       New        Partial     225000  \n1321      7   2008        WD         Normal      72500  \n\n[1460 rows x 81 columns]",
      "text/html": "<div>\n<style scoped>\n    .dataframe tbody tr th:only-of-type {\n        vertical-align: middle;\n    }\n\n    .dataframe tbody tr th {\n        vertical-align: top;\n    }\n\n    .dataframe thead th {\n        text-align: right;\n    }\n</style>\n<table border=\"1\" class=\"dataframe\">\n  <thead>\n    <tr style=\"text-align: right;\">\n      <th></th>\n      <th>Id</th>\n      <th>MSSubClass</th>\n      <th>MSZoning</th>\n      <th>LotFrontage</th>\n      <th>LotArea</th>\n      <th>Street</th>\n      <th>Alley</th>\n      <th>LotShape</th>\n      <th>LandContour</th>\n      <th>Utilities</th>\n      <th>...</th>\n      <th>PoolArea</th>\n      <th>PoolQC</th>\n      <th>Fence</th>\n      <th>MiscFeature</th>\n      <th>MiscVal</th>\n      <th>MoSold</th>\n      <th>YrSold</th>\n      <th>SaleType</th>\n      <th>SaleCondition</th>\n      <th>SalePrice</th>\n    </tr>\n  </thead>\n  <tbody>\n    <tr>\n      <th>200</th>\n      <td>201</td>\n      <td>20</td>\n      <td>RM</td>\n      <td>80.0</td>\n      <td>8546</td>\n      <td>Pave</td>\n      <td>NaN</td>\n      <td>Reg</td>\n      <td>Lvl</td>\n      <td>AllPub</td>\n      <td>...</td>\n      <td>0</td>\n      <td>NaN</td>\n      <td>NaN</td>\n      <td>NaN</td>\n      <td>0</td>\n      <td>3</td>\n      <td>2010</td>\n      <td>WD</td>\n      <td>Normal</td>\n      <td>140000</td>\n    </tr>\n    <tr>\n      <th>229</th>\n      <td>230</td>\n      <td>120</td>\n      <td>RL</td>\n      <td>43.0</td>\n      <td>3182</td>\n      <td>Pave</td>\n      <td>NaN</td>\n      <td>Reg</td>\n      <td>Lvl</td>\n      <td>AllPub</td>\n      <td>...</td>\n      <td>0</td>\n      <td>NaN</td>\n      <td>NaN</td>\n      <td>NaN</td>\n      <td>0</td>\n      <td>5</td>\n      <td>2009</td>\n      <td>WD</td>\n      <td>Normal</td>\n      <td>192500</td>\n    </tr>\n    <tr>\n      <th>1042</th>\n      <td>1043</td>\n      <td>120</td>\n      <td>RL</td>\n      <td>34.0</td>\n      <td>5381</td>\n      <td>Pave</td>\n      <td>NaN</td>\n      <td>IR1</td>\n      <td>Lvl</td>\n      <td>AllPub</td>\n      <td>...</td>\n      <td>0</td>\n      <td>NaN</td>\n      <td>NaN</td>\n      <td>NaN</td>\n      <td>0</td>\n      <td>8</td>\n      <td>2009</td>\n      <td>WD</td>\n      <td>Normal</td>\n      <td>196000</td>\n    </tr>\n    <tr>\n      <th>1434</th>\n      <td>1435</td>\n      <td>20</td>\n      <td>RL</td>\n      <td>80.0</td>\n      <td>17400</td>\n      <td>Pave</td>\n      <td>NaN</td>\n      <td>Reg</td>\n      <td>Low</td>\n      <td>AllPub</td>\n      <td>...</td>\n      <td>0</td>\n      <td>NaN</td>\n      <td>NaN</td>\n      <td>NaN</td>\n      <td>0</td>\n      <td>5</td>\n      <td>2006</td>\n      <td>WD</td>\n      <td>Normal</td>\n      <td>160000</td>\n    </tr>\n    <tr>\n      <th>873</th>\n      <td>874</td>\n      <td>40</td>\n      <td>RL</td>\n      <td>60.0</td>\n      <td>12144</td>\n      <td>Pave</td>\n      <td>NaN</td>\n      <td>Reg</td>\n      <td>Lvl</td>\n      <td>AllPub</td>\n      <td>...</td>\n      <td>0</td>\n      <td>NaN</td>\n      <td>NaN</td>\n      <td>Othr</td>\n      <td>0</td>\n      <td>9</td>\n      <td>2009</td>\n      <td>WD</td>\n      <td>Normal</td>\n      <td>133000</td>\n    </tr>\n    <tr>\n      <th>...</th>\n      <td>...</td>\n      <td>...</td>\n      <td>...</td>\n      <td>...</td>\n      <td>...</td>\n      <td>...</td>\n      <td>...</td>\n      <td>...</td>\n      <td>...</td>\n      <td>...</td>\n      <td>...</td>\n      <td>...</td>\n      <td>...</td>\n      <td>...</td>\n      <td>...</td>\n      <td>...</td>\n      <td>...</td>\n      <td>...</td>\n      <td>...</td>\n      <td>...</td>\n      <td>...</td>\n    </tr>\n    <tr>\n      <th>741</th>\n      <td>742</td>\n      <td>20</td>\n      <td>RL</td>\n      <td>65.0</td>\n      <td>6768</td>\n      <td>Pave</td>\n      <td>NaN</td>\n      <td>IR1</td>\n      <td>Lvl</td>\n      <td>AllPub</td>\n      <td>...</td>\n      <td>0</td>\n      <td>NaN</td>\n      <td>GdPrv</td>\n      <td>NaN</td>\n      <td>0</td>\n      <td>5</td>\n      <td>2008</td>\n      <td>WD</td>\n      <td>Normal</td>\n      <td>142000</td>\n    </tr>\n    <tr>\n      <th>163</th>\n      <td>164</td>\n      <td>45</td>\n      <td>RL</td>\n      <td>55.0</td>\n      <td>5500</td>\n      <td>Pave</td>\n      <td>NaN</td>\n      <td>Reg</td>\n      <td>Lvl</td>\n      <td>AllPub</td>\n      <td>...</td>\n      <td>0</td>\n      <td>NaN</td>\n      <td>MnPrv</td>\n      <td>NaN</td>\n      <td>0</td>\n      <td>4</td>\n      <td>2007</td>\n      <td>WD</td>\n      <td>Normal</td>\n      <td>103200</td>\n    </tr>\n    <tr>\n      <th>206</th>\n      <td>207</td>\n      <td>20</td>\n      <td>RL</td>\n      <td>40.0</td>\n      <td>13673</td>\n      <td>Pave</td>\n      <td>NaN</td>\n      <td>IR1</td>\n      <td>Lvl</td>\n      <td>AllPub</td>\n      <td>...</td>\n      <td>0</td>\n      <td>NaN</td>\n      <td>NaN</td>\n      <td>NaN</td>\n      <td>0</td>\n      <td>3</td>\n      <td>2007</td>\n      <td>WD</td>\n      <td>Normal</td>\n      <td>143900</td>\n    </tr>\n    <tr>\n      <th>793</th>\n      <td>794</td>\n      <td>20</td>\n      <td>RL</td>\n      <td>76.0</td>\n      <td>9158</td>\n      <td>Pave</td>\n      <td>NaN</td>\n      <td>Reg</td>\n      <td>Lvl</td>\n      <td>AllPub</td>\n      <td>...</td>\n      <td>0</td>\n      <td>NaN</td>\n      <td>NaN</td>\n      <td>NaN</td>\n      <td>0</td>\n      <td>6</td>\n      <td>2007</td>\n      <td>New</td>\n      <td>Partial</td>\n      <td>225000</td>\n    </tr>\n    <tr>\n      <th>1321</th>\n      <td>1322</td>\n      <td>20</td>\n      <td>RL</td>\n      <td>NaN</td>\n      <td>6627</td>\n      <td>Pave</td>\n      <td>NaN</td>\n      <td>IR1</td>\n      <td>Lvl</td>\n      <td>AllPub</td>\n      <td>...</td>\n      <td>0</td>\n      <td>NaN</td>\n      <td>NaN</td>\n      <td>NaN</td>\n      <td>0</td>\n      <td>7</td>\n      <td>2008</td>\n      <td>WD</td>\n      <td>Normal</td>\n      <td>72500</td>\n    </tr>\n  </tbody>\n</table>\n<p>1460 rows × 81 columns</p>\n</div>"
     },
     "metadata": {},
     "execution_count": 5
    }
   ],
   "source": [
    "train_pd.sample(frac=1)"
   ]
  },
  {
   "cell_type": "code",
   "execution_count": 4,
   "metadata": {},
   "outputs": [
    {
     "output_type": "execute_result",
     "data": {
      "text/plain": "LotFrontage     float64\nAlley            object\nMasVnrType       object\nMasVnrArea      float64\nBsmtQual         object\nBsmtCond         object\nBsmtExposure     object\nBsmtFinType1     object\nBsmtFinType2     object\nElectrical       object\nFireplaceQu      object\nGarageType       object\nGarageYrBlt     float64\nGarageFinish     object\nGarageQual       object\nGarageCond       object\nPoolQC           object\nFence            object\nMiscFeature      object\ndtype: object"
     },
     "metadata": {},
     "execution_count": 4
    }
   ],
   "source": [
    "null_cols = train_pd.isnull().sum()[train_pd.isnull().sum() > 0]\n",
    "null_cols.index\n",
    "train_pd[list(null_cols.index)].dtypes"
   ]
  },
  {
   "cell_type": "code",
   "execution_count": 5,
   "metadata": {},
   "outputs": [
    {
     "output_type": "execute_result",
     "data": {
      "text/plain": "LotFrontage     0.177397\nAlley           0.937671\nMasVnrType      0.005479\nMasVnrArea      0.005479\nBsmtQual        0.025342\nBsmtCond        0.025342\nBsmtExposure    0.026027\nBsmtFinType1    0.025342\nBsmtFinType2    0.026027\nElectrical      0.000685\nFireplaceQu     0.472603\nGarageType      0.055479\nGarageYrBlt     0.055479\nGarageFinish    0.055479\nGarageQual      0.055479\nGarageCond      0.055479\nPoolQC          0.995205\nFence           0.807534\nMiscFeature     0.963014\ndtype: float64"
     },
     "metadata": {},
     "execution_count": 5
    }
   ],
   "source": [
    "t = train_pd.isnull().sum() / train_pd.shape[0]\n",
    "t[t > 0]"
   ]
  },
  {
   "cell_type": "code",
   "execution_count": 18,
   "metadata": {},
   "outputs": [],
   "source": [
    "a = pd.DataFrame([['a', 'b', 2], ['c', 'd', 5], ['e', 'f', 4]], columns = ['col1', 'col2', 'tar'])"
   ]
  },
  {
   "cell_type": "code",
   "execution_count": 19,
   "metadata": {},
   "outputs": [
    {
     "output_type": "execute_result",
     "data": {
      "text/plain": "  col1 col2  tar\n0    a    b    2\n1    c    d    5\n2    e    f    4",
      "text/html": "<div>\n<style scoped>\n    .dataframe tbody tr th:only-of-type {\n        vertical-align: middle;\n    }\n\n    .dataframe tbody tr th {\n        vertical-align: top;\n    }\n\n    .dataframe thead th {\n        text-align: right;\n    }\n</style>\n<table border=\"1\" class=\"dataframe\">\n  <thead>\n    <tr style=\"text-align: right;\">\n      <th></th>\n      <th>col1</th>\n      <th>col2</th>\n      <th>tar</th>\n    </tr>\n  </thead>\n  <tbody>\n    <tr>\n      <th>0</th>\n      <td>a</td>\n      <td>b</td>\n      <td>2</td>\n    </tr>\n    <tr>\n      <th>1</th>\n      <td>c</td>\n      <td>d</td>\n      <td>5</td>\n    </tr>\n    <tr>\n      <th>2</th>\n      <td>e</td>\n      <td>f</td>\n      <td>4</td>\n    </tr>\n  </tbody>\n</table>\n</div>"
     },
     "metadata": {},
     "execution_count": 19
    }
   ],
   "source": [
    "a"
   ]
  },
  {
   "cell_type": "code",
   "execution_count": 21,
   "metadata": {},
   "outputs": [
    {
     "output_type": "error",
     "ename": "NameError",
     "evalue": "name 'levels' is not defined",
     "traceback": [
      "\u001b[0;31m---------------------------------------------------------------------------\u001b[0m",
      "\u001b[0;31mNameError\u001b[0m                                 Traceback (most recent call last)",
      "\u001b[0;32m<ipython-input-21-491fee9ec5c1>\u001b[0m in \u001b[0;36m<module>\u001b[0;34m\u001b[0m\n\u001b[1;32m      1\u001b[0m \u001b[0;32mfrom\u001b[0m \u001b[0mstatsmodels\u001b[0m\u001b[0;34m.\u001b[0m\u001b[0mformula\u001b[0m\u001b[0;34m.\u001b[0m\u001b[0mapi\u001b[0m \u001b[0;32mimport\u001b[0m \u001b[0mols\u001b[0m\u001b[0;34m\u001b[0m\u001b[0m\n\u001b[0;32m----> 2\u001b[0;31m \u001b[0mlevels\u001b[0m\u001b[0;34m[\u001b[0m\u001b[0;34m'col1'\u001b[0m\u001b[0;34m]\u001b[0m \u001b[0;34m=\u001b[0m \u001b[0;34m[\u001b[0m\u001b[0;34m'a'\u001b[0m\u001b[0;34m,\u001b[0m \u001b[0;34m'c'\u001b[0m\u001b[0;34m,\u001b[0m \u001b[0;34m'e'\u001b[0m\u001b[0;34m]\u001b[0m\u001b[0;34m\u001b[0m\u001b[0m\n\u001b[0m\u001b[1;32m      3\u001b[0m \u001b[0mlevels\u001b[0m\u001b[0;34m[\u001b[0m\u001b[0;34m'col2'\u001b[0m\u001b[0;34m]\u001b[0m \u001b[0;34m=\u001b[0m \u001b[0;34m[\u001b[0m\u001b[0;34m'b'\u001b[0m\u001b[0;34m,\u001b[0m \u001b[0;34m'd'\u001b[0m\u001b[0;34m,\u001b[0m \u001b[0;34m'f'\u001b[0m\u001b[0;34m]\u001b[0m\u001b[0;34m\u001b[0m\u001b[0m\n\u001b[1;32m      4\u001b[0m \u001b[0mmodel\u001b[0m \u001b[0;34m=\u001b[0m \u001b[0mols\u001b[0m\u001b[0;34m(\u001b[0m\u001b[0;34m'tar ~ C(col1, levels = levels[\"col1\"]) + C(col2, levels = levels[\"col2\"])'\u001b[0m\u001b[0;34m,\u001b[0m \u001b[0ma\u001b[0m\u001b[0;34m)\u001b[0m\u001b[0;34m.\u001b[0m\u001b[0mfit\u001b[0m\u001b[0;34m\u001b[0m\u001b[0m\n",
      "\u001b[0;31mNameError\u001b[0m: name 'levels' is not defined"
     ]
    }
   ],
   "source": [
    "from statsmodels.formula.api import ols\n",
    "levels = {}\n",
    "levels['col1'] = ['a', 'c', 'e']\n",
    "levels['col2'] = ['b', 'd', 'f']\n",
    "model = ols('tar ~ C(col1, levels = levels[\"col1\"]) + C(col2, levels = levels[\"col2\"])', a).fit"
   ]
  },
  {
   "cell_type": "code",
   "execution_count": 6,
   "metadata": {},
   "outputs": [
    {
     "output_type": "execute_result",
     "data": {
      "text/plain": "TA    1326\nFa      35\nGd       9\nPo       7\nEx       2\nName: GarageCond, dtype: int64"
     },
     "metadata": {},
     "execution_count": 6
    }
   ],
   "source": [
    "train_pd['GarageCond'].value_counts()"
   ]
  },
  {
   "cell_type": "code",
   "execution_count": 23,
   "metadata": {},
   "outputs": [
    {
     "output_type": "execute_result",
     "data": {
      "text/plain": "(1460, 81)"
     },
     "metadata": {},
     "execution_count": 23
    }
   ],
   "source": [
    "train_pd.shape"
   ]
  },
  {
   "cell_type": "code",
   "execution_count": 5,
   "metadata": {},
   "outputs": [],
   "source": [
    "from preprocess import *\n",
    "data_imputer = DataFrameImputer()\n",
    "df = data_imputer.fit_transform(train_pd)"
   ]
  },
  {
   "cell_type": "code",
   "execution_count": 6,
   "metadata": {},
   "outputs": [
    {
     "output_type": "execute_result",
     "data": {
      "text/plain": "None    1369\nGrvl      50\nPave      41\nName: Alley, dtype: int64"
     },
     "metadata": {},
     "execution_count": 6
    }
   ],
   "source": [
    "df['Alley'].value_counts()"
   ]
  },
  {
   "cell_type": "code",
   "execution_count": null,
   "metadata": {},
   "outputs": [],
   "source": [
    "df[]"
   ]
  },
  {
   "cell_type": "code",
   "execution_count": 8,
   "metadata": {},
   "outputs": [
    {
     "output_type": "execute_result",
     "data": {
      "text/plain": "Grvl    50\nPave    41\nName: Alley, dtype: int64"
     },
     "metadata": {},
     "execution_count": 8
    }
   ],
   "source": [
    "train_pd['Alley'].value_counts()"
   ]
  },
  {
   "cell_type": "code",
   "execution_count": 8,
   "metadata": {},
   "outputs": [
    {
     "output_type": "execute_result",
     "data": {
      "text/plain": "object     43\nint64      35\nfloat64     3\ndtype: int64"
     },
     "metadata": {},
     "execution_count": 8
    }
   ],
   "source": [
    "train_pd.dtypes.value_counts()"
   ]
  },
  {
   "cell_type": "code",
   "execution_count": 9,
   "metadata": {},
   "outputs": [
    {
     "output_type": "execute_result",
     "data": {
      "text/plain": "        Id  MSSubClass MSZoning  LotFrontage  LotArea Street Alley LotShape  \\\n0        1          60       RL         65.0     8450   Pave   NaN      Reg   \n1        2          20       RL         80.0     9600   Pave   NaN      Reg   \n2        3          60       RL         68.0    11250   Pave   NaN      IR1   \n3        4          70       RL         60.0     9550   Pave   NaN      IR1   \n4        5          60       RL         84.0    14260   Pave   NaN      IR1   \n...    ...         ...      ...          ...      ...    ...   ...      ...   \n1455  1456          60       RL         62.0     7917   Pave   NaN      Reg   \n1456  1457          20       RL         85.0    13175   Pave   NaN      Reg   \n1457  1458          70       RL         66.0     9042   Pave   NaN      Reg   \n1458  1459          20       RL         68.0     9717   Pave   NaN      Reg   \n1459  1460          20       RL         75.0     9937   Pave   NaN      Reg   \n\n     LandContour Utilities  ... PoolArea PoolQC  Fence MiscFeature MiscVal  \\\n0            Lvl    AllPub  ...        0    NaN    NaN         NaN       0   \n1            Lvl    AllPub  ...        0    NaN    NaN         NaN       0   \n2            Lvl    AllPub  ...        0    NaN    NaN         NaN       0   \n3            Lvl    AllPub  ...        0    NaN    NaN         NaN       0   \n4            Lvl    AllPub  ...        0    NaN    NaN         NaN       0   \n...          ...       ...  ...      ...    ...    ...         ...     ...   \n1455         Lvl    AllPub  ...        0    NaN    NaN         NaN       0   \n1456         Lvl    AllPub  ...        0    NaN  MnPrv         NaN       0   \n1457         Lvl    AllPub  ...        0    NaN  GdPrv        Shed    2500   \n1458         Lvl    AllPub  ...        0    NaN    NaN         NaN       0   \n1459         Lvl    AllPub  ...        0    NaN    NaN         NaN       0   \n\n     MoSold YrSold  SaleType  SaleCondition  SalePrice  \n0         2   2008        WD         Normal     208500  \n1         5   2007        WD         Normal     181500  \n2         9   2008        WD         Normal     223500  \n3         2   2006        WD        Abnorml     140000  \n4        12   2008        WD         Normal     250000  \n...     ...    ...       ...            ...        ...  \n1455      8   2007        WD         Normal     175000  \n1456      2   2010        WD         Normal     210000  \n1457      5   2010        WD         Normal     266500  \n1458      4   2010        WD         Normal     142125  \n1459      6   2008        WD         Normal     147500  \n\n[1460 rows x 81 columns]",
      "text/html": "<div>\n<style scoped>\n    .dataframe tbody tr th:only-of-type {\n        vertical-align: middle;\n    }\n\n    .dataframe tbody tr th {\n        vertical-align: top;\n    }\n\n    .dataframe thead th {\n        text-align: right;\n    }\n</style>\n<table border=\"1\" class=\"dataframe\">\n  <thead>\n    <tr style=\"text-align: right;\">\n      <th></th>\n      <th>Id</th>\n      <th>MSSubClass</th>\n      <th>MSZoning</th>\n      <th>LotFrontage</th>\n      <th>LotArea</th>\n      <th>Street</th>\n      <th>Alley</th>\n      <th>LotShape</th>\n      <th>LandContour</th>\n      <th>Utilities</th>\n      <th>...</th>\n      <th>PoolArea</th>\n      <th>PoolQC</th>\n      <th>Fence</th>\n      <th>MiscFeature</th>\n      <th>MiscVal</th>\n      <th>MoSold</th>\n      <th>YrSold</th>\n      <th>SaleType</th>\n      <th>SaleCondition</th>\n      <th>SalePrice</th>\n    </tr>\n  </thead>\n  <tbody>\n    <tr>\n      <th>0</th>\n      <td>1</td>\n      <td>60</td>\n      <td>RL</td>\n      <td>65.0</td>\n      <td>8450</td>\n      <td>Pave</td>\n      <td>NaN</td>\n      <td>Reg</td>\n      <td>Lvl</td>\n      <td>AllPub</td>\n      <td>...</td>\n      <td>0</td>\n      <td>NaN</td>\n      <td>NaN</td>\n      <td>NaN</td>\n      <td>0</td>\n      <td>2</td>\n      <td>2008</td>\n      <td>WD</td>\n      <td>Normal</td>\n      <td>208500</td>\n    </tr>\n    <tr>\n      <th>1</th>\n      <td>2</td>\n      <td>20</td>\n      <td>RL</td>\n      <td>80.0</td>\n      <td>9600</td>\n      <td>Pave</td>\n      <td>NaN</td>\n      <td>Reg</td>\n      <td>Lvl</td>\n      <td>AllPub</td>\n      <td>...</td>\n      <td>0</td>\n      <td>NaN</td>\n      <td>NaN</td>\n      <td>NaN</td>\n      <td>0</td>\n      <td>5</td>\n      <td>2007</td>\n      <td>WD</td>\n      <td>Normal</td>\n      <td>181500</td>\n    </tr>\n    <tr>\n      <th>2</th>\n      <td>3</td>\n      <td>60</td>\n      <td>RL</td>\n      <td>68.0</td>\n      <td>11250</td>\n      <td>Pave</td>\n      <td>NaN</td>\n      <td>IR1</td>\n      <td>Lvl</td>\n      <td>AllPub</td>\n      <td>...</td>\n      <td>0</td>\n      <td>NaN</td>\n      <td>NaN</td>\n      <td>NaN</td>\n      <td>0</td>\n      <td>9</td>\n      <td>2008</td>\n      <td>WD</td>\n      <td>Normal</td>\n      <td>223500</td>\n    </tr>\n    <tr>\n      <th>3</th>\n      <td>4</td>\n      <td>70</td>\n      <td>RL</td>\n      <td>60.0</td>\n      <td>9550</td>\n      <td>Pave</td>\n      <td>NaN</td>\n      <td>IR1</td>\n      <td>Lvl</td>\n      <td>AllPub</td>\n      <td>...</td>\n      <td>0</td>\n      <td>NaN</td>\n      <td>NaN</td>\n      <td>NaN</td>\n      <td>0</td>\n      <td>2</td>\n      <td>2006</td>\n      <td>WD</td>\n      <td>Abnorml</td>\n      <td>140000</td>\n    </tr>\n    <tr>\n      <th>4</th>\n      <td>5</td>\n      <td>60</td>\n      <td>RL</td>\n      <td>84.0</td>\n      <td>14260</td>\n      <td>Pave</td>\n      <td>NaN</td>\n      <td>IR1</td>\n      <td>Lvl</td>\n      <td>AllPub</td>\n      <td>...</td>\n      <td>0</td>\n      <td>NaN</td>\n      <td>NaN</td>\n      <td>NaN</td>\n      <td>0</td>\n      <td>12</td>\n      <td>2008</td>\n      <td>WD</td>\n      <td>Normal</td>\n      <td>250000</td>\n    </tr>\n    <tr>\n      <th>...</th>\n      <td>...</td>\n      <td>...</td>\n      <td>...</td>\n      <td>...</td>\n      <td>...</td>\n      <td>...</td>\n      <td>...</td>\n      <td>...</td>\n      <td>...</td>\n      <td>...</td>\n      <td>...</td>\n      <td>...</td>\n      <td>...</td>\n      <td>...</td>\n      <td>...</td>\n      <td>...</td>\n      <td>...</td>\n      <td>...</td>\n      <td>...</td>\n      <td>...</td>\n      <td>...</td>\n    </tr>\n    <tr>\n      <th>1455</th>\n      <td>1456</td>\n      <td>60</td>\n      <td>RL</td>\n      <td>62.0</td>\n      <td>7917</td>\n      <td>Pave</td>\n      <td>NaN</td>\n      <td>Reg</td>\n      <td>Lvl</td>\n      <td>AllPub</td>\n      <td>...</td>\n      <td>0</td>\n      <td>NaN</td>\n      <td>NaN</td>\n      <td>NaN</td>\n      <td>0</td>\n      <td>8</td>\n      <td>2007</td>\n      <td>WD</td>\n      <td>Normal</td>\n      <td>175000</td>\n    </tr>\n    <tr>\n      <th>1456</th>\n      <td>1457</td>\n      <td>20</td>\n      <td>RL</td>\n      <td>85.0</td>\n      <td>13175</td>\n      <td>Pave</td>\n      <td>NaN</td>\n      <td>Reg</td>\n      <td>Lvl</td>\n      <td>AllPub</td>\n      <td>...</td>\n      <td>0</td>\n      <td>NaN</td>\n      <td>MnPrv</td>\n      <td>NaN</td>\n      <td>0</td>\n      <td>2</td>\n      <td>2010</td>\n      <td>WD</td>\n      <td>Normal</td>\n      <td>210000</td>\n    </tr>\n    <tr>\n      <th>1457</th>\n      <td>1458</td>\n      <td>70</td>\n      <td>RL</td>\n      <td>66.0</td>\n      <td>9042</td>\n      <td>Pave</td>\n      <td>NaN</td>\n      <td>Reg</td>\n      <td>Lvl</td>\n      <td>AllPub</td>\n      <td>...</td>\n      <td>0</td>\n      <td>NaN</td>\n      <td>GdPrv</td>\n      <td>Shed</td>\n      <td>2500</td>\n      <td>5</td>\n      <td>2010</td>\n      <td>WD</td>\n      <td>Normal</td>\n      <td>266500</td>\n    </tr>\n    <tr>\n      <th>1458</th>\n      <td>1459</td>\n      <td>20</td>\n      <td>RL</td>\n      <td>68.0</td>\n      <td>9717</td>\n      <td>Pave</td>\n      <td>NaN</td>\n      <td>Reg</td>\n      <td>Lvl</td>\n      <td>AllPub</td>\n      <td>...</td>\n      <td>0</td>\n      <td>NaN</td>\n      <td>NaN</td>\n      <td>NaN</td>\n      <td>0</td>\n      <td>4</td>\n      <td>2010</td>\n      <td>WD</td>\n      <td>Normal</td>\n      <td>142125</td>\n    </tr>\n    <tr>\n      <th>1459</th>\n      <td>1460</td>\n      <td>20</td>\n      <td>RL</td>\n      <td>75.0</td>\n      <td>9937</td>\n      <td>Pave</td>\n      <td>NaN</td>\n      <td>Reg</td>\n      <td>Lvl</td>\n      <td>AllPub</td>\n      <td>...</td>\n      <td>0</td>\n      <td>NaN</td>\n      <td>NaN</td>\n      <td>NaN</td>\n      <td>0</td>\n      <td>6</td>\n      <td>2008</td>\n      <td>WD</td>\n      <td>Normal</td>\n      <td>147500</td>\n    </tr>\n  </tbody>\n</table>\n<p>1460 rows × 81 columns</p>\n</div>"
     },
     "metadata": {},
     "execution_count": 9
    }
   ],
   "source": [
    "train_pd"
   ]
  },
  {
   "cell_type": "code",
   "execution_count": 10,
   "metadata": {},
   "outputs": [
    {
     "output_type": "execute_result",
     "data": {
      "text/plain": "     Id  MSSubClass  MSZoning  LotFrontage  LotArea  Street  Alley  LotShape  \\\n0  1460          15         5          110     1073       2      2         4   \n\n   LandContour  Utilities  LotConfig  LandSlope  Neighborhood  Condition1  \\\n0            4          2          5          3            25           9   \n\n   Condition2  BldgType  HouseStyle  OverallQual  OverallCond  YearBuilt  \\\n0           8         5           8           10            9        112   \n\n   YearRemodAdd  RoofStyle  RoofMatl  Exterior1st  Exterior2nd  MasVnrType  \\\n0            61          6         8           15           16           4   \n\n   MasVnrArea  ExterQual  ExterCond  Foundation  BsmtQual  BsmtCond  \\\n0         327          4          5           6         4         4   \n\n   BsmtExposure  BsmtFinType1  BsmtFinSF1  ...  GrLivArea  BsmtFullBath  \\\n0             4             6         637  ...        861             4   \n\n   BsmtHalfBath  FullBath  HalfBath  BedroomAbvGr  KitchenAbvGr  KitchenQual  \\\n0             3         4         3             8             4            4   \n\n   TotRmsAbvGrd  Functional  Fireplaces  FireplaceQu  GarageType  GarageYrBlt  \\\n0            12           7           4            5           6           97   \n\n   GarageFinish  GarageCars  GarageArea  GarageQual  GarageCond  PavedDrive  \\\n0             3           5         441           5           5           3   \n\n   WoodDeckSF  OpenPorchSF  EnclosedPorch  3SsnPorch  ScreenPorch  PoolArea  \\\n0         274          202            120         20           76         8   \n\n   PoolQC  Fence  MiscFeature  MiscVal  MoSold  YrSold  SaleType  \\\n0       3      4            4       21      12       5         9   \n\n   SaleCondition  SalePrice  \n0              6        663  \n\n[1 rows x 81 columns]",
      "text/html": "<div>\n<style scoped>\n    .dataframe tbody tr th:only-of-type {\n        vertical-align: middle;\n    }\n\n    .dataframe tbody tr th {\n        vertical-align: top;\n    }\n\n    .dataframe thead th {\n        text-align: right;\n    }\n</style>\n<table border=\"1\" class=\"dataframe\">\n  <thead>\n    <tr style=\"text-align: right;\">\n      <th></th>\n      <th>Id</th>\n      <th>MSSubClass</th>\n      <th>MSZoning</th>\n      <th>LotFrontage</th>\n      <th>LotArea</th>\n      <th>Street</th>\n      <th>Alley</th>\n      <th>LotShape</th>\n      <th>LandContour</th>\n      <th>Utilities</th>\n      <th>LotConfig</th>\n      <th>LandSlope</th>\n      <th>Neighborhood</th>\n      <th>Condition1</th>\n      <th>Condition2</th>\n      <th>BldgType</th>\n      <th>HouseStyle</th>\n      <th>OverallQual</th>\n      <th>OverallCond</th>\n      <th>YearBuilt</th>\n      <th>YearRemodAdd</th>\n      <th>RoofStyle</th>\n      <th>RoofMatl</th>\n      <th>Exterior1st</th>\n      <th>Exterior2nd</th>\n      <th>MasVnrType</th>\n      <th>MasVnrArea</th>\n      <th>ExterQual</th>\n      <th>ExterCond</th>\n      <th>Foundation</th>\n      <th>BsmtQual</th>\n      <th>BsmtCond</th>\n      <th>BsmtExposure</th>\n      <th>BsmtFinType1</th>\n      <th>BsmtFinSF1</th>\n      <th>...</th>\n      <th>GrLivArea</th>\n      <th>BsmtFullBath</th>\n      <th>BsmtHalfBath</th>\n      <th>FullBath</th>\n      <th>HalfBath</th>\n      <th>BedroomAbvGr</th>\n      <th>KitchenAbvGr</th>\n      <th>KitchenQual</th>\n      <th>TotRmsAbvGrd</th>\n      <th>Functional</th>\n      <th>Fireplaces</th>\n      <th>FireplaceQu</th>\n      <th>GarageType</th>\n      <th>GarageYrBlt</th>\n      <th>GarageFinish</th>\n      <th>GarageCars</th>\n      <th>GarageArea</th>\n      <th>GarageQual</th>\n      <th>GarageCond</th>\n      <th>PavedDrive</th>\n      <th>WoodDeckSF</th>\n      <th>OpenPorchSF</th>\n      <th>EnclosedPorch</th>\n      <th>3SsnPorch</th>\n      <th>ScreenPorch</th>\n      <th>PoolArea</th>\n      <th>PoolQC</th>\n      <th>Fence</th>\n      <th>MiscFeature</th>\n      <th>MiscVal</th>\n      <th>MoSold</th>\n      <th>YrSold</th>\n      <th>SaleType</th>\n      <th>SaleCondition</th>\n      <th>SalePrice</th>\n    </tr>\n  </thead>\n  <tbody>\n    <tr>\n      <th>0</th>\n      <td>1460</td>\n      <td>15</td>\n      <td>5</td>\n      <td>110</td>\n      <td>1073</td>\n      <td>2</td>\n      <td>2</td>\n      <td>4</td>\n      <td>4</td>\n      <td>2</td>\n      <td>5</td>\n      <td>3</td>\n      <td>25</td>\n      <td>9</td>\n      <td>8</td>\n      <td>5</td>\n      <td>8</td>\n      <td>10</td>\n      <td>9</td>\n      <td>112</td>\n      <td>61</td>\n      <td>6</td>\n      <td>8</td>\n      <td>15</td>\n      <td>16</td>\n      <td>4</td>\n      <td>327</td>\n      <td>4</td>\n      <td>5</td>\n      <td>6</td>\n      <td>4</td>\n      <td>4</td>\n      <td>4</td>\n      <td>6</td>\n      <td>637</td>\n      <td>...</td>\n      <td>861</td>\n      <td>4</td>\n      <td>3</td>\n      <td>4</td>\n      <td>3</td>\n      <td>8</td>\n      <td>4</td>\n      <td>4</td>\n      <td>12</td>\n      <td>7</td>\n      <td>4</td>\n      <td>5</td>\n      <td>6</td>\n      <td>97</td>\n      <td>3</td>\n      <td>5</td>\n      <td>441</td>\n      <td>5</td>\n      <td>5</td>\n      <td>3</td>\n      <td>274</td>\n      <td>202</td>\n      <td>120</td>\n      <td>20</td>\n      <td>76</td>\n      <td>8</td>\n      <td>3</td>\n      <td>4</td>\n      <td>4</td>\n      <td>21</td>\n      <td>12</td>\n      <td>5</td>\n      <td>9</td>\n      <td>6</td>\n      <td>663</td>\n    </tr>\n  </tbody>\n</table>\n<p>1 rows × 81 columns</p>\n</div>"
     },
     "metadata": {},
     "execution_count": 10
    }
   ],
   "source": [
    "pd.set_option('display.max_columns', 70)\n",
    "pd.DataFrame(train_pd.nunique()).transpose()"
   ]
  },
  {
   "cell_type": "code",
   "execution_count": 11,
   "metadata": {},
   "outputs": [
    {
     "output_type": "execute_result",
     "data": {
      "text/plain": "Index(['Id', 'MSSubClass', 'MSZoning', 'LotFrontage', 'LotArea', 'Street',\n       'Alley', 'LotShape', 'LandContour', 'Utilities', 'LotConfig',\n       'LandSlope', 'Neighborhood', 'Condition1', 'Condition2', 'BldgType',\n       'HouseStyle', 'OverallQual', 'OverallCond', 'YearBuilt', 'YearRemodAdd',\n       'RoofStyle', 'RoofMatl', 'Exterior1st', 'Exterior2nd', 'MasVnrType',\n       'MasVnrArea', 'ExterQual', 'ExterCond', 'Foundation', 'BsmtQual',\n       'BsmtCond', 'BsmtExposure', 'BsmtFinType1', 'BsmtFinSF1',\n       'BsmtFinType2', 'BsmtFinSF2', 'BsmtUnfSF', 'TotalBsmtSF', 'Heating',\n       'HeatingQC', 'CentralAir', 'Electrical', '1stFlrSF', '2ndFlrSF',\n       'LowQualFinSF', 'GrLivArea', 'BsmtFullBath', 'BsmtHalfBath', 'FullBath',\n       'HalfBath', 'BedroomAbvGr', 'KitchenAbvGr', 'KitchenQual',\n       'TotRmsAbvGrd', 'Functional', 'Fireplaces', 'FireplaceQu', 'GarageType',\n       'GarageYrBlt', 'GarageFinish', 'GarageCars', 'GarageArea', 'GarageQual',\n       'GarageCond', 'PavedDrive', 'WoodDeckSF', 'OpenPorchSF',\n       'EnclosedPorch', 'ThreeeSsnPorch', 'ScreenPorch', 'PoolArea', 'PoolQC',\n       'Fence', 'MiscFeature', 'MiscVal', 'MoSold', 'YrSold', 'SaleType',\n       'SaleCondition', 'SalePrice'],\n      dtype='object')"
     },
     "metadata": {},
     "execution_count": 11
    }
   ],
   "source": [
    "train_pd = train_pd.rename(columns = {\"3SsnPorch\": \"ThreeeSsnPorch\"})\n",
    "train_pd.columns"
   ]
  },
  {
   "cell_type": "code",
   "execution_count": 12,
   "metadata": {},
   "outputs": [
    {
     "output_type": "execute_result",
     "data": {
      "text/plain": "LotFrontage    float64\nMasVnrArea     float64\nGarageYrBlt    float64\ndtype: object"
     },
     "metadata": {},
     "execution_count": 12
    }
   ],
   "source": [
    "dtypes = train_pd.dtypes\n",
    "dtypes[dtypes == \"float64\"]"
   ]
  },
  {
   "cell_type": "code",
   "execution_count": 13,
   "metadata": {},
   "outputs": [
    {
     "output_type": "execute_result",
     "data": {
      "text/plain": "dtype('int64')"
     },
     "metadata": {},
     "execution_count": 13
    }
   ],
   "source": [
    "dtypes['SalePrice']"
   ]
  },
  {
   "cell_type": "code",
   "execution_count": 14,
   "metadata": {},
   "outputs": [
    {
     "output_type": "execute_result",
     "data": {
      "text/plain": "MSSubClass\n20     185224.811567\n30      95829.724638\n40     156125.000000\n45     108591.666667\n50     143302.972222\n60     239948.501672\n70     166772.416667\n75     192437.500000\n80     169736.551724\n85     147810.000000\n90     133541.076923\n120    200779.080460\n160    138647.380952\n180    102300.000000\n190    129613.333333\nName: SalePrice, dtype: float64"
     },
     "metadata": {},
     "execution_count": 14
    }
   ],
   "source": [
    "train_pd[[\"MSSubClass\", \"SalePrice\"]].groupby(\"MSSubClass\")[\"SalePrice\"].mean()"
   ]
  },
  {
   "cell_type": "code",
   "execution_count": 15,
   "metadata": {},
   "outputs": [
    {
     "output_type": "stream",
     "name": "stdout",
     "text": "\n\n"
    },
    {
     "output_type": "execute_result",
     "data": {
      "text/plain": "              N           Mean             SD            SE      95% Conf.  \\\nMSSubClass                                                                   \n20          536  185224.811567   78782.189967   3402.872321  178548.951430   \n30           69   95829.724638   24857.110083   2992.444403   89921.564602   \n40            4  156125.000000   75747.799748  37873.899874   70408.295353   \n45           12  108591.666667   20231.723889   5840.395617   96635.481892   \n50          144  143302.972222   54851.983707   4570.998642  134312.543733   \n60          299  239948.501672   86579.909966   5007.045474  230118.240211   \n70           60  166772.416667   58206.545762   7514.432746  151919.836930   \n75           16  192437.500000  100556.762577  25139.190644  141548.756870   \n80           58  169736.551724   38197.808771   5015.618013  159820.081922   \n85           20  147810.000000   19629.942220   4389.388520  138983.301503   \n90           52  133541.076923   27833.249197   3859.777198  125902.105396   \n120          87  200779.080460   58221.490909   6241.999020  188473.838203   \n160          63  138647.380952   34587.542266   4357.620728  130037.841322   \n180          10  102300.000000   29474.282575   9320.586534   83043.468717   \n190          30  129613.333333   35439.097670   6470.264404  116714.817889   \n\n                 Interval  \nMSSubClass                 \n20          191900.671704  \n30          101737.884674  \n40          241841.704647  \n45          120547.851441  \n50          152293.400711  \n60          249778.763134  \n70          181624.996404  \n75          243326.243130  \n80          179653.021527  \n85          156636.698497  \n90          141180.048450  \n120         213084.322716  \n160         147256.920583  \n180         121556.531283  \n190         142511.848777  ",
      "text/html": "<div>\n<style scoped>\n    .dataframe tbody tr th:only-of-type {\n        vertical-align: middle;\n    }\n\n    .dataframe tbody tr th {\n        vertical-align: top;\n    }\n\n    .dataframe thead th {\n        text-align: right;\n    }\n</style>\n<table border=\"1\" class=\"dataframe\">\n  <thead>\n    <tr style=\"text-align: right;\">\n      <th></th>\n      <th>N</th>\n      <th>Mean</th>\n      <th>SD</th>\n      <th>SE</th>\n      <th>95% Conf.</th>\n      <th>Interval</th>\n    </tr>\n    <tr>\n      <th>MSSubClass</th>\n      <th></th>\n      <th></th>\n      <th></th>\n      <th></th>\n      <th></th>\n      <th></th>\n    </tr>\n  </thead>\n  <tbody>\n    <tr>\n      <th>20</th>\n      <td>536</td>\n      <td>185224.811567</td>\n      <td>78782.189967</td>\n      <td>3402.872321</td>\n      <td>178548.951430</td>\n      <td>191900.671704</td>\n    </tr>\n    <tr>\n      <th>30</th>\n      <td>69</td>\n      <td>95829.724638</td>\n      <td>24857.110083</td>\n      <td>2992.444403</td>\n      <td>89921.564602</td>\n      <td>101737.884674</td>\n    </tr>\n    <tr>\n      <th>40</th>\n      <td>4</td>\n      <td>156125.000000</td>\n      <td>75747.799748</td>\n      <td>37873.899874</td>\n      <td>70408.295353</td>\n      <td>241841.704647</td>\n    </tr>\n    <tr>\n      <th>45</th>\n      <td>12</td>\n      <td>108591.666667</td>\n      <td>20231.723889</td>\n      <td>5840.395617</td>\n      <td>96635.481892</td>\n      <td>120547.851441</td>\n    </tr>\n    <tr>\n      <th>50</th>\n      <td>144</td>\n      <td>143302.972222</td>\n      <td>54851.983707</td>\n      <td>4570.998642</td>\n      <td>134312.543733</td>\n      <td>152293.400711</td>\n    </tr>\n    <tr>\n      <th>60</th>\n      <td>299</td>\n      <td>239948.501672</td>\n      <td>86579.909966</td>\n      <td>5007.045474</td>\n      <td>230118.240211</td>\n      <td>249778.763134</td>\n    </tr>\n    <tr>\n      <th>70</th>\n      <td>60</td>\n      <td>166772.416667</td>\n      <td>58206.545762</td>\n      <td>7514.432746</td>\n      <td>151919.836930</td>\n      <td>181624.996404</td>\n    </tr>\n    <tr>\n      <th>75</th>\n      <td>16</td>\n      <td>192437.500000</td>\n      <td>100556.762577</td>\n      <td>25139.190644</td>\n      <td>141548.756870</td>\n      <td>243326.243130</td>\n    </tr>\n    <tr>\n      <th>80</th>\n      <td>58</td>\n      <td>169736.551724</td>\n      <td>38197.808771</td>\n      <td>5015.618013</td>\n      <td>159820.081922</td>\n      <td>179653.021527</td>\n    </tr>\n    <tr>\n      <th>85</th>\n      <td>20</td>\n      <td>147810.000000</td>\n      <td>19629.942220</td>\n      <td>4389.388520</td>\n      <td>138983.301503</td>\n      <td>156636.698497</td>\n    </tr>\n    <tr>\n      <th>90</th>\n      <td>52</td>\n      <td>133541.076923</td>\n      <td>27833.249197</td>\n      <td>3859.777198</td>\n      <td>125902.105396</td>\n      <td>141180.048450</td>\n    </tr>\n    <tr>\n      <th>120</th>\n      <td>87</td>\n      <td>200779.080460</td>\n      <td>58221.490909</td>\n      <td>6241.999020</td>\n      <td>188473.838203</td>\n      <td>213084.322716</td>\n    </tr>\n    <tr>\n      <th>160</th>\n      <td>63</td>\n      <td>138647.380952</td>\n      <td>34587.542266</td>\n      <td>4357.620728</td>\n      <td>130037.841322</td>\n      <td>147256.920583</td>\n    </tr>\n    <tr>\n      <th>180</th>\n      <td>10</td>\n      <td>102300.000000</td>\n      <td>29474.282575</td>\n      <td>9320.586534</td>\n      <td>83043.468717</td>\n      <td>121556.531283</td>\n    </tr>\n    <tr>\n      <th>190</th>\n      <td>30</td>\n      <td>129613.333333</td>\n      <td>35439.097670</td>\n      <td>6470.264404</td>\n      <td>116714.817889</td>\n      <td>142511.848777</td>\n    </tr>\n  </tbody>\n</table>\n</div>"
     },
     "metadata": {},
     "execution_count": 15
    }
   ],
   "source": [
    "import researchpy as rp\n",
    "rp.summary_cont(train_pd['SalePrice'].groupby(train_pd['MSSubClass']))\n",
    ""
   ]
  },
  {
   "cell_type": "code",
   "execution_count": 9,
   "metadata": {},
   "outputs": [
    {
     "output_type": "execute_result",
     "data": {
      "text/plain": "<class 'statsmodels.iolib.summary.Summary'>\n\"\"\"\n                            OLS Regression Results                            \n==============================================================================\nDep. Variable:              SalePrice   R-squared:                       0.285\nModel:                            OLS   Adj. R-squared:                  0.277\nMethod:                 Least Squares   F-statistic:                     35.56\nDate:                Mon, 23 Mar 2020   Prob (F-statistic):           4.90e-08\nTime:                        17:16:32   Log-Likelihood:                -1083.9\nNo. Observations:                  91   AIC:                             2172.\nDf Residuals:                      89   BIC:                             2177.\nDf Model:                           1                                         \nCovariance Type:            nonrobust                                         \n====================================================================================\n                       coef    std err          t      P>|t|      [0.025      0.975]\n------------------------------------------------------------------------------------\nIntercept         1.222e+05   5153.091     23.718      0.000    1.12e+05    1.32e+05\nC(Alley)[T.Pave]  4.578e+04   7677.090      5.963      0.000    3.05e+04     6.1e+04\n==============================================================================\nOmnibus:                       10.670   Durbin-Watson:                   2.234\nProb(Omnibus):                  0.005   Jarque-Bera (JB):               28.438\nSkew:                           0.102   Prob(JB):                     6.68e-07\nKurtosis:                       5.731   Cond. No.                         2.52\n==============================================================================\n\nWarnings:\n[1] Standard Errors assume that the covariance matrix of the errors is correctly specified.\n\"\"\"",
      "text/html": "<table class=\"simpletable\">\n<caption>OLS Regression Results</caption>\n<tr>\n  <th>Dep. Variable:</th>        <td>SalePrice</td>    <th>  R-squared:         </th> <td>   0.285</td>\n</tr>\n<tr>\n  <th>Model:</th>                   <td>OLS</td>       <th>  Adj. R-squared:    </th> <td>   0.277</td>\n</tr>\n<tr>\n  <th>Method:</th>             <td>Least Squares</td>  <th>  F-statistic:       </th> <td>   35.56</td>\n</tr>\n<tr>\n  <th>Date:</th>             <td>Mon, 23 Mar 2020</td> <th>  Prob (F-statistic):</th> <td>4.90e-08</td>\n</tr>\n<tr>\n  <th>Time:</th>                 <td>17:16:32</td>     <th>  Log-Likelihood:    </th> <td> -1083.9</td>\n</tr>\n<tr>\n  <th>No. Observations:</th>      <td>    91</td>      <th>  AIC:               </th> <td>   2172.</td>\n</tr>\n<tr>\n  <th>Df Residuals:</th>          <td>    89</td>      <th>  BIC:               </th> <td>   2177.</td>\n</tr>\n<tr>\n  <th>Df Model:</th>              <td>     1</td>      <th>                     </th>     <td> </td>   \n</tr>\n<tr>\n  <th>Covariance Type:</th>      <td>nonrobust</td>    <th>                     </th>     <td> </td>   \n</tr>\n</table>\n<table class=\"simpletable\">\n<tr>\n          <td></td>            <th>coef</th>     <th>std err</th>      <th>t</th>      <th>P>|t|</th>  <th>[0.025</th>    <th>0.975]</th>  \n</tr>\n<tr>\n  <th>Intercept</th>        <td> 1.222e+05</td> <td> 5153.091</td> <td>   23.718</td> <td> 0.000</td> <td> 1.12e+05</td> <td> 1.32e+05</td>\n</tr>\n<tr>\n  <th>C(Alley)[T.Pave]</th> <td> 4.578e+04</td> <td> 7677.090</td> <td>    5.963</td> <td> 0.000</td> <td> 3.05e+04</td> <td>  6.1e+04</td>\n</tr>\n</table>\n<table class=\"simpletable\">\n<tr>\n  <th>Omnibus:</th>       <td>10.670</td> <th>  Durbin-Watson:     </th> <td>   2.234</td>\n</tr>\n<tr>\n  <th>Prob(Omnibus):</th> <td> 0.005</td> <th>  Jarque-Bera (JB):  </th> <td>  28.438</td>\n</tr>\n<tr>\n  <th>Skew:</th>          <td> 0.102</td> <th>  Prob(JB):          </th> <td>6.68e-07</td>\n</tr>\n<tr>\n  <th>Kurtosis:</th>      <td> 5.731</td> <th>  Cond. No.          </th> <td>    2.52</td>\n</tr>\n</table><br/><br/>Warnings:<br/>[1] Standard Errors assume that the covariance matrix of the errors is correctly specified."
     },
     "metadata": {},
     "execution_count": 9
    }
   ],
   "source": [
    "from statsmodels.formula.api import ols\n",
    "results = ols('SalePrice ~ C(Alley)', data = train_pd).fit()\n",
    "results.summary()"
   ]
  },
  {
   "cell_type": "code",
   "execution_count": 13,
   "metadata": {},
   "outputs": [
    {
     "output_type": "execute_result",
     "data": {
      "text/plain": "<class 'statsmodels.iolib.summary.Summary'>\n\"\"\"\n                            OLS Regression Results                            \n==============================================================================\nDep. Variable:              SalePrice   R-squared:                       0.020\nModel:                            OLS   Adj. R-squared:                  0.019\nMethod:                 Least Squares   F-statistic:                     15.18\nDate:                Mon, 23 Mar 2020   Prob (F-statistic):           3.00e-07\nTime:                        17:21:48   Log-Likelihood:                -18529.\nNo. Observations:                1460   AIC:                         3.706e+04\nDf Residuals:                    1457   BIC:                         3.708e+04\nDf Model:                           2                                         \nCovariance Type:            nonrobust                                         \n====================================================================================\n                       coef    std err          t      P>|t|      [0.025      0.975]\n------------------------------------------------------------------------------------\nIntercept         1.222e+05   1.11e+04     10.984      0.000       1e+05    1.44e+05\nC(Alley)[T.None]  6.123e+04   1.13e+04      5.405      0.000     3.9e+04    8.35e+04\nC(Alley)[T.Pave]  4.578e+04   1.66e+04      2.762      0.006    1.33e+04    7.83e+04\n==============================================================================\nOmnibus:                      612.504   Durbin-Watson:                   1.983\nProb(Omnibus):                  0.000   Jarque-Bera (JB):             3535.316\nSkew:                           1.877   Prob(JB):                         0.00\nKurtosis:                       9.635   Cond. No.                         14.0\n==============================================================================\n\nWarnings:\n[1] Standard Errors assume that the covariance matrix of the errors is correctly specified.\n\"\"\"",
      "text/html": "<table class=\"simpletable\">\n<caption>OLS Regression Results</caption>\n<tr>\n  <th>Dep. Variable:</th>        <td>SalePrice</td>    <th>  R-squared:         </th> <td>   0.020</td> \n</tr>\n<tr>\n  <th>Model:</th>                   <td>OLS</td>       <th>  Adj. R-squared:    </th> <td>   0.019</td> \n</tr>\n<tr>\n  <th>Method:</th>             <td>Least Squares</td>  <th>  F-statistic:       </th> <td>   15.18</td> \n</tr>\n<tr>\n  <th>Date:</th>             <td>Mon, 23 Mar 2020</td> <th>  Prob (F-statistic):</th> <td>3.00e-07</td> \n</tr>\n<tr>\n  <th>Time:</th>                 <td>17:21:48</td>     <th>  Log-Likelihood:    </th> <td> -18529.</td> \n</tr>\n<tr>\n  <th>No. Observations:</th>      <td>  1460</td>      <th>  AIC:               </th> <td>3.706e+04</td>\n</tr>\n<tr>\n  <th>Df Residuals:</th>          <td>  1457</td>      <th>  BIC:               </th> <td>3.708e+04</td>\n</tr>\n<tr>\n  <th>Df Model:</th>              <td>     2</td>      <th>                     </th>     <td> </td>    \n</tr>\n<tr>\n  <th>Covariance Type:</th>      <td>nonrobust</td>    <th>                     </th>     <td> </td>    \n</tr>\n</table>\n<table class=\"simpletable\">\n<tr>\n          <td></td>            <th>coef</th>     <th>std err</th>      <th>t</th>      <th>P>|t|</th>  <th>[0.025</th>    <th>0.975]</th>  \n</tr>\n<tr>\n  <th>Intercept</th>        <td> 1.222e+05</td> <td> 1.11e+04</td> <td>   10.984</td> <td> 0.000</td> <td>    1e+05</td> <td> 1.44e+05</td>\n</tr>\n<tr>\n  <th>C(Alley)[T.None]</th> <td> 6.123e+04</td> <td> 1.13e+04</td> <td>    5.405</td> <td> 0.000</td> <td>  3.9e+04</td> <td> 8.35e+04</td>\n</tr>\n<tr>\n  <th>C(Alley)[T.Pave]</th> <td> 4.578e+04</td> <td> 1.66e+04</td> <td>    2.762</td> <td> 0.006</td> <td> 1.33e+04</td> <td> 7.83e+04</td>\n</tr>\n</table>\n<table class=\"simpletable\">\n<tr>\n  <th>Omnibus:</th>       <td>612.504</td> <th>  Durbin-Watson:     </th> <td>   1.983</td>\n</tr>\n<tr>\n  <th>Prob(Omnibus):</th> <td> 0.000</td>  <th>  Jarque-Bera (JB):  </th> <td>3535.316</td>\n</tr>\n<tr>\n  <th>Skew:</th>          <td> 1.877</td>  <th>  Prob(JB):          </th> <td>    0.00</td>\n</tr>\n<tr>\n  <th>Kurtosis:</th>      <td> 9.635</td>  <th>  Cond. No.          </th> <td>    14.0</td>\n</tr>\n</table><br/><br/>Warnings:<br/>[1] Standard Errors assume that the covariance matrix of the errors is correctly specified."
     },
     "metadata": {},
     "execution_count": 13
    }
   ],
   "source": [
    "result2 = ols('SalePrice ~ C(Alley)', data = df).fit()\n",
    "result2.summary()"
   ]
  },
  {
   "cell_type": "code",
   "execution_count": 12,
   "metadata": {},
   "outputs": [
    {
     "output_type": "execute_result",
     "data": {
      "text/plain": "1837591464.014408"
     },
     "metadata": {},
     "execution_count": 12
    }
   ],
   "source": [
    "results.mse_total"
   ]
  },
  {
   "cell_type": "code",
   "execution_count": 14,
   "metadata": {},
   "outputs": [
    {
     "output_type": "execute_result",
     "data": {
      "text/plain": "6311111264.297448"
     },
     "metadata": {},
     "execution_count": 14
    }
   ],
   "source": [
    "result2.mse_total"
   ]
  },
  {
   "cell_type": "code",
   "execution_count": 34,
   "metadata": {},
   "outputs": [
    {
     "output_type": "stream",
     "name": "stdout",
     "text": "0 0.0\n1 3.6600385734929035e-23\n2 0.40290538820860566\n3 0.00015783294125191346\n4 1.5735063986404618e-10\n5 8.107245407334332e-27\n6 0.0506695483387308\n7 0.6816971451342002\n8 0.10613313853835632\n9 0.017888786857600335\n10 3.212366722497661e-07\n11 0.05235447929125894\n12 5.076095069002471e-07\n13 0.0001844574740300455\n14 2.0169903488927322e-05\n"
    }
   ],
   "source": [
    "for col, pvalue in enumerate(results.pvalues):\n",
    "    print(col, pvalue)"
   ]
  },
  {
   "cell_type": "code",
   "execution_count": 17,
   "metadata": {},
   "outputs": [
    {
     "output_type": "execute_result",
     "data": {
      "text/plain": "68944.36756976064"
     },
     "metadata": {},
     "execution_count": 17
    }
   ],
   "source": [
    "import math\n",
    "import numpy as np\n",
    "np.std(results.resid)"
   ]
  },
  {
   "cell_type": "code",
   "execution_count": 36,
   "metadata": {},
   "outputs": [
    {
     "output_type": "execute_result",
     "data": {
      "text/plain": "count      81.000000\nmean      120.395062\nstd       275.344769\nmin         2.000000\n25%         4.000000\n50%         6.000000\n75%        25.000000\nmax      1460.000000\ndtype: float64"
     },
     "metadata": {},
     "execution_count": 36
    }
   ],
   "source": [
    "uniq_count = train_pd.nunique()\n",
    "uniq_count.describe()"
   ]
  },
  {
   "cell_type": "code",
   "execution_count": 19,
   "metadata": {},
   "outputs": [
    {
     "output_type": "execute_result",
     "data": {
      "text/plain": "25.0"
     },
     "metadata": {},
     "execution_count": 19
    }
   ],
   "source": [
    "import numpy\n",
    "numpy.quantile(uniq_count, 0.75)"
   ]
  },
  {
   "cell_type": "code",
   "execution_count": 29,
   "metadata": {},
   "outputs": [
    {
     "output_type": "execute_result",
     "data": {
      "text/plain": "False"
     },
     "metadata": {},
     "execution_count": 29
    }
   ],
   "source": [
    "(uniq_count <= 25)['LotArea']"
   ]
  },
  {
   "cell_type": "code",
   "execution_count": 20,
   "metadata": {},
   "outputs": [
    {
     "output_type": "execute_result",
     "data": {
      "text/plain": "Index(['MSSubClass', 'MSZoning', 'Street', 'Alley', 'LotShape', 'LandContour',\n       'Utilities', 'LotConfig', 'LandSlope', 'Neighborhood', 'Condition1',\n       'Condition2', 'BldgType', 'HouseStyle', 'OverallQual', 'OverallCond',\n       'RoofStyle', 'RoofMatl', 'Exterior1st', 'Exterior2nd', 'MasVnrType',\n       'ExterQual', 'ExterCond', 'Foundation', 'BsmtQual', 'BsmtCond',\n       'BsmtExposure', 'BsmtFinType1', 'BsmtFinType2', 'Heating', 'HeatingQC',\n       'CentralAir', 'Electrical', 'LowQualFinSF', 'BsmtFullBath',\n       'BsmtHalfBath', 'FullBath', 'HalfBath', 'BedroomAbvGr', 'KitchenAbvGr',\n       'KitchenQual', 'TotRmsAbvGrd', 'Functional', 'Fireplaces',\n       'FireplaceQu', 'GarageType', 'GarageFinish', 'GarageCars', 'GarageQual',\n       'GarageCond', 'PavedDrive', 'ThreeeSsnPorch', 'PoolArea', 'PoolQC',\n       'Fence', 'MiscFeature', 'MiscVal', 'MoSold', 'YrSold', 'SaleType',\n       'SaleCondition'],\n      dtype='object')"
     },
     "metadata": {},
     "execution_count": 20
    }
   ],
   "source": [
    "category_cols = uniq_count[uniq_count <= 25].index\n",
    "category_cols"
   ]
  },
  {
   "cell_type": "code",
   "execution_count": 21,
   "metadata": {},
   "outputs": [],
   "source": [
    "selected_cols = []\n",
    "for col_name in category_cols:\n",
    "    model_result = ols(f'SalePrice ~ C({col_name})', data = train_pd).fit()\n",
    "    if model_result.f_pvalue < 0.05:\n",
    "        selected_cols.append(col_name)"
   ]
  },
  {
   "cell_type": "code",
   "execution_count": 22,
   "metadata": {},
   "outputs": [
    {
     "output_type": "execute_result",
     "data": {
      "text/plain": "['MSSubClass',\n 'MSZoning',\n 'Alley',\n 'LotShape',\n 'LandContour',\n 'LotConfig',\n 'Neighborhood',\n 'Condition1',\n 'Condition2',\n 'BldgType',\n 'HouseStyle',\n 'OverallQual',\n 'OverallCond',\n 'RoofStyle',\n 'RoofMatl',\n 'Exterior1st',\n 'Exterior2nd',\n 'MasVnrType',\n 'ExterQual',\n 'ExterCond',\n 'Foundation',\n 'BsmtQual',\n 'BsmtCond',\n 'BsmtExposure',\n 'BsmtFinType1',\n 'BsmtFinType2',\n 'Heating',\n 'HeatingQC',\n 'CentralAir',\n 'Electrical',\n 'BsmtFullBath',\n 'FullBath',\n 'HalfBath',\n 'BedroomAbvGr',\n 'KitchenAbvGr',\n 'KitchenQual',\n 'TotRmsAbvGrd',\n 'Functional',\n 'Fireplaces',\n 'FireplaceQu',\n 'GarageType',\n 'GarageFinish',\n 'GarageCars',\n 'GarageQual',\n 'GarageCond',\n 'PavedDrive',\n 'PoolArea',\n 'Fence',\n 'SaleType',\n 'SaleCondition']"
     },
     "metadata": {},
     "execution_count": 22
    }
   ],
   "source": [
    "selected_cols"
   ]
  },
  {
   "cell_type": "code",
   "execution_count": 7,
   "metadata": {},
   "outputs": [
    {
     "output_type": "error",
     "ename": "NameError",
     "evalue": "name 'ols' is not defined",
     "traceback": [
      "\u001b[0;31m---------------------------------------------------------------------------\u001b[0m",
      "\u001b[0;31mNameError\u001b[0m                                 Traceback (most recent call last)",
      "\u001b[0;32m<ipython-input-7-84aabb66b6e2>\u001b[0m in \u001b[0;36m<module>\u001b[0;34m\u001b[0m\n\u001b[0;32m----> 1\u001b[0;31m \u001b[0mtest_model\u001b[0m \u001b[0;34m=\u001b[0m \u001b[0mols\u001b[0m\u001b[0;34m(\u001b[0m\u001b[0;34m'SalePrice ~ C(Alley)'\u001b[0m\u001b[0;34m,\u001b[0m \u001b[0mdata\u001b[0m \u001b[0;34m=\u001b[0m \u001b[0mtrain_pd\u001b[0m\u001b[0;34m)\u001b[0m\u001b[0;34m.\u001b[0m\u001b[0mfit\u001b[0m\u001b[0;34m(\u001b[0m\u001b[0;34m)\u001b[0m\u001b[0;34m\u001b[0m\u001b[0m\n\u001b[0m\u001b[1;32m      2\u001b[0m \u001b[0mtest_model\u001b[0m\u001b[0;34m.\u001b[0m\u001b[0msummary\u001b[0m\u001b[0;34m(\u001b[0m\u001b[0;34m)\u001b[0m\u001b[0;34m\u001b[0m\u001b[0m\n",
      "\u001b[0;31mNameError\u001b[0m: name 'ols' is not defined"
     ]
    }
   ],
   "source": [
    "test_model = ols('SalePrice ~ C(Alley)', data = train_pd).fit()\n",
    "test_model.summary()"
   ]
  },
  {
   "cell_type": "code",
   "execution_count": 22,
   "metadata": {},
   "outputs": [
    {
     "output_type": "execute_result",
     "data": {
      "text/plain": "<class 'statsmodels.iolib.summary.Summary'>\n\"\"\"\n                            OLS Regression Results                            \n==============================================================================\nDep. Variable:              SalePrice   R-squared:                       0.271\nModel:                            OLS   Adj. R-squared:                  0.262\nMethod:                 Least Squares   F-statistic:                     29.74\nDate:                Mon, 23 Mar 2020   Prob (F-statistic):           8.06e-86\nTime:                        17:29:37   Log-Likelihood:                -18313.\nNo. Observations:                1460   AIC:                         3.666e+04\nDf Residuals:                    1441   BIC:                         3.677e+04\nDf Model:                          18                                         \nCovariance Type:            nonrobust                                         \n========================================================================================\n                           coef    std err          t      P>|t|      [0.025      0.975]\n----------------------------------------------------------------------------------------\nIntercept             1.044e+05    2.2e+04      4.736      0.000    6.11e+04    1.48e+05\nC(MSSubClass)[T.30]  -7.155e+04   9211.016     -7.768      0.000   -8.96e+04   -5.35e+04\nC(MSSubClass)[T.40]  -1.339e+04   3.44e+04     -0.390      0.697   -8.08e+04    5.41e+04\nC(MSSubClass)[T.45]  -5.542e+04   2.03e+04     -2.731      0.006   -9.52e+04   -1.56e+04\nC(MSSubClass)[T.50]  -2.848e+04   6763.228     -4.212      0.000   -4.18e+04   -1.52e+04\nC(MSSubClass)[T.60]   5.259e+04   4959.018     10.606      0.000    4.29e+04    6.23e+04\nC(MSSubClass)[T.70]  -1895.7470   9695.608     -0.196      0.845   -2.09e+04    1.71e+04\nC(MSSubClass)[T.75]   2.701e+04   1.77e+04      1.525      0.127   -7729.916    6.17e+04\nC(MSSubClass)[T.80]  -1.612e+04   9440.180     -1.708      0.088   -3.46e+04    2393.914\nC(MSSubClass)[T.85]  -3.805e+04   1.55e+04     -2.447      0.015   -6.85e+04   -7551.221\nC(MSSubClass)[T.90]  -4.662e+04   9979.338     -4.672      0.000   -6.62e+04    -2.7e+04\nC(MSSubClass)[T.120]  2.247e+04   8032.538      2.798      0.005    6717.461    3.82e+04\nC(MSSubClass)[T.160] -3.834e+04   1.01e+04     -3.792      0.000   -5.82e+04   -1.85e+04\nC(MSSubClass)[T.180] -5.087e+04   2.26e+04     -2.251      0.025   -9.52e+04   -6540.667\nC(MSSubClass)[T.190] -3.932e+04   1.31e+04     -3.008      0.003    -6.5e+04   -1.37e+04\nC(MSZoning)[T.FV]     1.007e+05   2.37e+04      4.248      0.000    5.42e+04    1.47e+05\nC(MSZoning)[T.RH]     4.812e+04   2.77e+04      1.736      0.083   -6257.521    1.03e+05\nC(MSZoning)[T.RL]     8.151e+04   2.19e+04      3.716      0.000    3.85e+04    1.25e+05\nC(MSZoning)[T.RM]     4.882e+04   2.22e+04      2.197      0.028    5234.574    9.24e+04\n==============================================================================\nOmnibus:                      748.920   Durbin-Watson:                   2.004\nProb(Omnibus):                  0.000   Jarque-Bera (JB):             6081.850\nSkew:                           2.255   Prob(JB):                         0.00\nKurtosis:                      11.923   Cond. No.                         36.9\n==============================================================================\n\nWarnings:\n[1] Standard Errors assume that the covariance matrix of the errors is correctly specified.\n\"\"\"",
      "text/html": "<table class=\"simpletable\">\n<caption>OLS Regression Results</caption>\n<tr>\n  <th>Dep. Variable:</th>        <td>SalePrice</td>    <th>  R-squared:         </th> <td>   0.271</td> \n</tr>\n<tr>\n  <th>Model:</th>                   <td>OLS</td>       <th>  Adj. R-squared:    </th> <td>   0.262</td> \n</tr>\n<tr>\n  <th>Method:</th>             <td>Least Squares</td>  <th>  F-statistic:       </th> <td>   29.74</td> \n</tr>\n<tr>\n  <th>Date:</th>             <td>Mon, 23 Mar 2020</td> <th>  Prob (F-statistic):</th> <td>8.06e-86</td> \n</tr>\n<tr>\n  <th>Time:</th>                 <td>17:29:37</td>     <th>  Log-Likelihood:    </th> <td> -18313.</td> \n</tr>\n<tr>\n  <th>No. Observations:</th>      <td>  1460</td>      <th>  AIC:               </th> <td>3.666e+04</td>\n</tr>\n<tr>\n  <th>Df Residuals:</th>          <td>  1441</td>      <th>  BIC:               </th> <td>3.677e+04</td>\n</tr>\n<tr>\n  <th>Df Model:</th>              <td>    18</td>      <th>                     </th>     <td> </td>    \n</tr>\n<tr>\n  <th>Covariance Type:</th>      <td>nonrobust</td>    <th>                     </th>     <td> </td>    \n</tr>\n</table>\n<table class=\"simpletable\">\n<tr>\n            <td></td>              <th>coef</th>     <th>std err</th>      <th>t</th>      <th>P>|t|</th>  <th>[0.025</th>    <th>0.975]</th>  \n</tr>\n<tr>\n  <th>Intercept</th>            <td> 1.044e+05</td> <td>  2.2e+04</td> <td>    4.736</td> <td> 0.000</td> <td> 6.11e+04</td> <td> 1.48e+05</td>\n</tr>\n<tr>\n  <th>C(MSSubClass)[T.30]</th>  <td>-7.155e+04</td> <td> 9211.016</td> <td>   -7.768</td> <td> 0.000</td> <td>-8.96e+04</td> <td>-5.35e+04</td>\n</tr>\n<tr>\n  <th>C(MSSubClass)[T.40]</th>  <td>-1.339e+04</td> <td> 3.44e+04</td> <td>   -0.390</td> <td> 0.697</td> <td>-8.08e+04</td> <td> 5.41e+04</td>\n</tr>\n<tr>\n  <th>C(MSSubClass)[T.45]</th>  <td>-5.542e+04</td> <td> 2.03e+04</td> <td>   -2.731</td> <td> 0.006</td> <td>-9.52e+04</td> <td>-1.56e+04</td>\n</tr>\n<tr>\n  <th>C(MSSubClass)[T.50]</th>  <td>-2.848e+04</td> <td> 6763.228</td> <td>   -4.212</td> <td> 0.000</td> <td>-4.18e+04</td> <td>-1.52e+04</td>\n</tr>\n<tr>\n  <th>C(MSSubClass)[T.60]</th>  <td> 5.259e+04</td> <td> 4959.018</td> <td>   10.606</td> <td> 0.000</td> <td> 4.29e+04</td> <td> 6.23e+04</td>\n</tr>\n<tr>\n  <th>C(MSSubClass)[T.70]</th>  <td>-1895.7470</td> <td> 9695.608</td> <td>   -0.196</td> <td> 0.845</td> <td>-2.09e+04</td> <td> 1.71e+04</td>\n</tr>\n<tr>\n  <th>C(MSSubClass)[T.75]</th>  <td> 2.701e+04</td> <td> 1.77e+04</td> <td>    1.525</td> <td> 0.127</td> <td>-7729.916</td> <td> 6.17e+04</td>\n</tr>\n<tr>\n  <th>C(MSSubClass)[T.80]</th>  <td>-1.612e+04</td> <td> 9440.180</td> <td>   -1.708</td> <td> 0.088</td> <td>-3.46e+04</td> <td> 2393.914</td>\n</tr>\n<tr>\n  <th>C(MSSubClass)[T.85]</th>  <td>-3.805e+04</td> <td> 1.55e+04</td> <td>   -2.447</td> <td> 0.015</td> <td>-6.85e+04</td> <td>-7551.221</td>\n</tr>\n<tr>\n  <th>C(MSSubClass)[T.90]</th>  <td>-4.662e+04</td> <td> 9979.338</td> <td>   -4.672</td> <td> 0.000</td> <td>-6.62e+04</td> <td> -2.7e+04</td>\n</tr>\n<tr>\n  <th>C(MSSubClass)[T.120]</th> <td> 2.247e+04</td> <td> 8032.538</td> <td>    2.798</td> <td> 0.005</td> <td> 6717.461</td> <td> 3.82e+04</td>\n</tr>\n<tr>\n  <th>C(MSSubClass)[T.160]</th> <td>-3.834e+04</td> <td> 1.01e+04</td> <td>   -3.792</td> <td> 0.000</td> <td>-5.82e+04</td> <td>-1.85e+04</td>\n</tr>\n<tr>\n  <th>C(MSSubClass)[T.180]</th> <td>-5.087e+04</td> <td> 2.26e+04</td> <td>   -2.251</td> <td> 0.025</td> <td>-9.52e+04</td> <td>-6540.667</td>\n</tr>\n<tr>\n  <th>C(MSSubClass)[T.190]</th> <td>-3.932e+04</td> <td> 1.31e+04</td> <td>   -3.008</td> <td> 0.003</td> <td> -6.5e+04</td> <td>-1.37e+04</td>\n</tr>\n<tr>\n  <th>C(MSZoning)[T.FV]</th>    <td> 1.007e+05</td> <td> 2.37e+04</td> <td>    4.248</td> <td> 0.000</td> <td> 5.42e+04</td> <td> 1.47e+05</td>\n</tr>\n<tr>\n  <th>C(MSZoning)[T.RH]</th>    <td> 4.812e+04</td> <td> 2.77e+04</td> <td>    1.736</td> <td> 0.083</td> <td>-6257.521</td> <td> 1.03e+05</td>\n</tr>\n<tr>\n  <th>C(MSZoning)[T.RL]</th>    <td> 8.151e+04</td> <td> 2.19e+04</td> <td>    3.716</td> <td> 0.000</td> <td> 3.85e+04</td> <td> 1.25e+05</td>\n</tr>\n<tr>\n  <th>C(MSZoning)[T.RM]</th>    <td> 4.882e+04</td> <td> 2.22e+04</td> <td>    2.197</td> <td> 0.028</td> <td> 5234.574</td> <td> 9.24e+04</td>\n</tr>\n</table>\n<table class=\"simpletable\">\n<tr>\n  <th>Omnibus:</th>       <td>748.920</td> <th>  Durbin-Watson:     </th> <td>   2.004</td>\n</tr>\n<tr>\n  <th>Prob(Omnibus):</th> <td> 0.000</td>  <th>  Jarque-Bera (JB):  </th> <td>6081.850</td>\n</tr>\n<tr>\n  <th>Skew:</th>          <td> 2.255</td>  <th>  Prob(JB):          </th> <td>    0.00</td>\n</tr>\n<tr>\n  <th>Kurtosis:</th>      <td>11.923</td>  <th>  Cond. No.          </th> <td>    36.9</td>\n</tr>\n</table><br/><br/>Warnings:<br/>[1] Standard Errors assume that the covariance matrix of the errors is correctly specified."
     },
     "metadata": {},
     "execution_count": 22
    }
   ],
   "source": [
    "test_model = ols('SalePrice ~ C(MSSubClass) + C(MSZoning)', data = train_pd).fit()\n",
    "test_model.summary()"
   ]
  },
  {
   "cell_type": "code",
   "execution_count": null,
   "metadata": {},
   "outputs": [],
   "source": []
  },
  {
   "cell_type": "code",
   "execution_count": 21,
   "metadata": {},
   "outputs": [
    {
     "output_type": "execute_result",
     "data": {
      "text/plain": "6311111264.297448"
     },
     "metadata": {},
     "execution_count": 21
    }
   ],
   "source": [
    "test_model.mse_total"
   ]
  },
  {
   "cell_type": "code",
   "execution_count": 25,
   "metadata": {},
   "outputs": [
    {
     "output_type": "execute_result",
     "data": {
      "text/plain": "<class 'statsmodels.iolib.summary.Summary'>\n\"\"\"\n                            OLS Regression Results                            \n==============================================================================\nDep. Variable:              SalePrice   R-squared:                       0.020\nModel:                            OLS   Adj. R-squared:                  0.019\nMethod:                 Least Squares   F-statistic:                     15.18\nDate:                Mon, 23 Mar 2020   Prob (F-statistic):           3.00e-07\nTime:                        17:36:55   Log-Likelihood:                -18529.\nNo. Observations:                1460   AIC:                         3.706e+04\nDf Residuals:                    1457   BIC:                         3.708e+04\nDf Model:                           2                                         \nCovariance Type:            nonrobust                                         \n====================================================================================\n                       coef    std err          t      P>|t|      [0.025      0.975]\n------------------------------------------------------------------------------------\nIntercept         1.222e+05   1.11e+04     10.984      0.000       1e+05    1.44e+05\nC(Alley)[T.None]  6.123e+04   1.13e+04      5.405      0.000     3.9e+04    8.35e+04\nC(Alley)[T.Pave]  4.578e+04   1.66e+04      2.762      0.006    1.33e+04    7.83e+04\n==============================================================================\nOmnibus:                      612.504   Durbin-Watson:                   1.983\nProb(Omnibus):                  0.000   Jarque-Bera (JB):             3535.316\nSkew:                           1.877   Prob(JB):                         0.00\nKurtosis:                       9.635   Cond. No.                         14.0\n==============================================================================\n\nWarnings:\n[1] Standard Errors assume that the covariance matrix of the errors is correctly specified.\n\"\"\"",
      "text/html": "<table class=\"simpletable\">\n<caption>OLS Regression Results</caption>\n<tr>\n  <th>Dep. Variable:</th>        <td>SalePrice</td>    <th>  R-squared:         </th> <td>   0.020</td> \n</tr>\n<tr>\n  <th>Model:</th>                   <td>OLS</td>       <th>  Adj. R-squared:    </th> <td>   0.019</td> \n</tr>\n<tr>\n  <th>Method:</th>             <td>Least Squares</td>  <th>  F-statistic:       </th> <td>   15.18</td> \n</tr>\n<tr>\n  <th>Date:</th>             <td>Mon, 23 Mar 2020</td> <th>  Prob (F-statistic):</th> <td>3.00e-07</td> \n</tr>\n<tr>\n  <th>Time:</th>                 <td>17:36:55</td>     <th>  Log-Likelihood:    </th> <td> -18529.</td> \n</tr>\n<tr>\n  <th>No. Observations:</th>      <td>  1460</td>      <th>  AIC:               </th> <td>3.706e+04</td>\n</tr>\n<tr>\n  <th>Df Residuals:</th>          <td>  1457</td>      <th>  BIC:               </th> <td>3.708e+04</td>\n</tr>\n<tr>\n  <th>Df Model:</th>              <td>     2</td>      <th>                     </th>     <td> </td>    \n</tr>\n<tr>\n  <th>Covariance Type:</th>      <td>nonrobust</td>    <th>                     </th>     <td> </td>    \n</tr>\n</table>\n<table class=\"simpletable\">\n<tr>\n          <td></td>            <th>coef</th>     <th>std err</th>      <th>t</th>      <th>P>|t|</th>  <th>[0.025</th>    <th>0.975]</th>  \n</tr>\n<tr>\n  <th>Intercept</th>        <td> 1.222e+05</td> <td> 1.11e+04</td> <td>   10.984</td> <td> 0.000</td> <td>    1e+05</td> <td> 1.44e+05</td>\n</tr>\n<tr>\n  <th>C(Alley)[T.None]</th> <td> 6.123e+04</td> <td> 1.13e+04</td> <td>    5.405</td> <td> 0.000</td> <td>  3.9e+04</td> <td> 8.35e+04</td>\n</tr>\n<tr>\n  <th>C(Alley)[T.Pave]</th> <td> 4.578e+04</td> <td> 1.66e+04</td> <td>    2.762</td> <td> 0.006</td> <td> 1.33e+04</td> <td> 7.83e+04</td>\n</tr>\n</table>\n<table class=\"simpletable\">\n<tr>\n  <th>Omnibus:</th>       <td>612.504</td> <th>  Durbin-Watson:     </th> <td>   1.983</td>\n</tr>\n<tr>\n  <th>Prob(Omnibus):</th> <td> 0.000</td>  <th>  Jarque-Bera (JB):  </th> <td>3535.316</td>\n</tr>\n<tr>\n  <th>Skew:</th>          <td> 1.877</td>  <th>  Prob(JB):          </th> <td>    0.00</td>\n</tr>\n<tr>\n  <th>Kurtosis:</th>      <td> 9.635</td>  <th>  Cond. No.          </th> <td>    14.0</td>\n</tr>\n</table><br/><br/>Warnings:<br/>[1] Standard Errors assume that the covariance matrix of the errors is correctly specified."
     },
     "metadata": {},
     "execution_count": 25
    }
   ],
   "source": [
    "test_model2 = ols('SalePrice ~ C(MSSubClass) + C(Alley)', data = train_pd).fit()\n",
    "test_model2.summary()"
   ]
  },
  {
   "cell_type": "code",
   "execution_count": 24,
   "metadata": {},
   "outputs": [
    {
     "output_type": "execute_result",
     "data": {
      "text/plain": "6311111264.297448"
     },
     "metadata": {},
     "execution_count": 24
    }
   ],
   "source": [
    "test_model2.mse_total"
   ]
  },
  {
   "cell_type": "code",
   "execution_count": 25,
   "metadata": {},
   "outputs": [
    {
     "output_type": "execute_result",
     "data": {
      "text/plain": "27585.483275515056"
     },
     "metadata": {},
     "execution_count": 25
    }
   ],
   "source": [
    "np.std(test_model.resid)"
   ]
  },
  {
   "cell_type": "code",
   "execution_count": 39,
   "metadata": {},
   "outputs": [
    {
     "output_type": "execute_result",
     "data": {
      "text/plain": "Index(['MSSubClass', 'MSZoning', 'LotFrontage', 'LotArea', 'Street', 'Alley',\n       'LotShape', 'LandContour', 'Utilities', 'LotConfig', 'LandSlope',\n       'Neighborhood', 'Condition1', 'Condition2', 'BldgType', 'HouseStyle',\n       'OverallQual', 'OverallCond', 'YearBuilt', 'YearRemodAdd', 'RoofStyle',\n       'RoofMatl', 'Exterior1st', 'Exterior2nd', 'MasVnrType', 'MasVnrArea',\n       'ExterQual', 'ExterCond', 'Foundation', 'BsmtQual', 'BsmtCond',\n       'BsmtExposure', 'BsmtFinType1', 'BsmtFinSF1', 'BsmtFinType2',\n       'BsmtFinSF2', 'BsmtUnfSF', 'TotalBsmtSF', 'Heating', 'HeatingQC',\n       'CentralAir', 'Electrical', '1stFlrSF', '2ndFlrSF', 'LowQualFinSF',\n       'GrLivArea', 'BsmtFullBath', 'BsmtHalfBath', 'FullBath', 'HalfBath',\n       'BedroomAbvGr', 'KitchenAbvGr', 'KitchenQual', 'TotRmsAbvGrd',\n       'Functional', 'Fireplaces', 'FireplaceQu', 'GarageType', 'GarageYrBlt',\n       'GarageFinish', 'GarageCars', 'GarageArea', 'GarageQual', 'GarageCond',\n       'PavedDrive', 'WoodDeckSF', 'OpenPorchSF', 'EnclosedPorch',\n       'ThreeeSsnPorch', 'ScreenPorch', 'PoolArea', 'PoolQC', 'Fence',\n       'MiscFeature', 'MiscVal', 'MoSold', 'YrSold', 'SaleType',\n       'SaleCondition', 'SalePrice'],\n      dtype='object')"
     },
     "metadata": {},
     "execution_count": 39
    }
   ],
   "source": [
    "train_pd.columns[1:]"
   ]
  },
  {
   "cell_type": "code",
   "execution_count": 53,
   "metadata": {},
   "outputs": [],
   "source": [
    "from mix_selection import *\n",
    "predictor_cols = train_pd.columns[1: -1]\n",
    "target_col = train_pd.columns[-1]\n",
    "select_tool = SelectionFeatures(ModelOLSStats)"
   ]
  },
  {
   "cell_type": "code",
   "execution_count": 54,
   "metadata": {},
   "outputs": [
    {
     "output_type": "error",
     "ename": "AttributeError",
     "evalue": "'SelectionFeatures' object has no attribute 'selection_func'",
     "traceback": [
      "\u001b[0;31m---------------------------------------------------------------------------\u001b[0m",
      "\u001b[0;31mAttributeError\u001b[0m                            Traceback (most recent call last)",
      "\u001b[0;32m<ipython-input-54-5cff735c0a7a>\u001b[0m in \u001b[0;36m<module>\u001b[0;34m\u001b[0m\n\u001b[0;32m----> 1\u001b[0;31m \u001b[0mselect_tool\u001b[0m\u001b[0;34m.\u001b[0m\u001b[0mselect_feature_forward\u001b[0m\u001b[0;34m(\u001b[0m\u001b[0mtrain_pd\u001b[0m\u001b[0;34m,\u001b[0m \u001b[0mpredictor_cols\u001b[0m\u001b[0;34m,\u001b[0m \u001b[0mtarget_col\u001b[0m\u001b[0;34m)\u001b[0m\u001b[0;34m\u001b[0m\u001b[0m\n\u001b[0m",
      "\u001b[0;32m~/workspace/stats_learning/house_price_prediction/code/mix_selection.py\u001b[0m in \u001b[0;36mselect_feature_forward\u001b[0;34m(self, data, predictor_cols, target_col)\u001b[0m\n\u001b[1;32m     70\u001b[0m         \u001b[0mcurrent_result_fit\u001b[0m \u001b[0;34m=\u001b[0m \u001b[0mself\u001b[0m\u001b[0;34m.\u001b[0m\u001b[0mfit_model\u001b[0m\u001b[0;34m(\u001b[0m\u001b[0mstats_model\u001b[0m\u001b[0;34m,\u001b[0m \u001b[0mcurrent_list\u001b[0m\u001b[0;34m)\u001b[0m\u001b[0;34m\u001b[0m\u001b[0m\n\u001b[1;32m     71\u001b[0m         \u001b[0mcandidate_cols\u001b[0m \u001b[0;34m=\u001b[0m \u001b[0mlist\u001b[0m\u001b[0;34m(\u001b[0m\u001b[0mpredictor_cols\u001b[0m\u001b[0;34m)\u001b[0m\u001b[0;34m\u001b[0m\u001b[0m\n\u001b[0;32m---> 72\u001b[0;31m         \u001b[0;32mreturn\u001b[0m \u001b[0mself\u001b[0m\u001b[0;34m.\u001b[0m\u001b[0mfeature_selection_step\u001b[0m\u001b[0;34m(\u001b[0m\u001b[0mforward_step\u001b[0m\u001b[0;34m,\u001b[0m \u001b[0mstats_model\u001b[0m\u001b[0;34m,\u001b[0m \u001b[0mcurrent_list\u001b[0m\u001b[0;34m,\u001b[0m \u001b[0mcurrent_result_fit\u001b[0m\u001b[0;34m,\u001b[0m \u001b[0mcandidate_cols\u001b[0m\u001b[0;34m)\u001b[0m\u001b[0;34m\u001b[0m\u001b[0m\n\u001b[0m\u001b[1;32m     73\u001b[0m \u001b[0;34m\u001b[0m\u001b[0m\n\u001b[1;32m     74\u001b[0m     \u001b[0;32mdef\u001b[0m \u001b[0mselect_features_backward\u001b[0m\u001b[0;34m(\u001b[0m\u001b[0mself\u001b[0m\u001b[0;34m,\u001b[0m \u001b[0mdata\u001b[0m\u001b[0;34m,\u001b[0m \u001b[0mpredictor_cols\u001b[0m\u001b[0;34m,\u001b[0m \u001b[0mtarget_col\u001b[0m\u001b[0;34m)\u001b[0m\u001b[0;34m:\u001b[0m\u001b[0;34m\u001b[0m\u001b[0m\n",
      "\u001b[0;32m~/workspace/stats_learning/house_price_prediction/code/mix_selection.py\u001b[0m in \u001b[0;36mfeature_selection_step\u001b[0;34m(self, selection_func, stats_model, current_list, current_result_fit, candidate_cols)\u001b[0m\n\u001b[1;32m     81\u001b[0m     \u001b[0;32mdef\u001b[0m \u001b[0mforward_step\u001b[0m\u001b[0;34m(\u001b[0m\u001b[0mself\u001b[0m\u001b[0;34m,\u001b[0m \u001b[0mstats_model\u001b[0m\u001b[0;34m,\u001b[0m \u001b[0mcurrent_list\u001b[0m\u001b[0;34m,\u001b[0m \u001b[0mcurrent_result_fit\u001b[0m\u001b[0;34m,\u001b[0m \u001b[0mcandidate_cols\u001b[0m\u001b[0;34m)\u001b[0m\u001b[0;34m:\u001b[0m\u001b[0;34m\u001b[0m\u001b[0m\n\u001b[1;32m     82\u001b[0m         \u001b[0mcandidates\u001b[0m \u001b[0;34m=\u001b[0m \u001b[0;34m[\u001b[0m\u001b[0;34m]\u001b[0m\u001b[0;34m\u001b[0m\u001b[0m\n\u001b[0;32m---> 83\u001b[0;31m         \u001b[0;32mfor\u001b[0m \u001b[0mcol\u001b[0m \u001b[0;32min\u001b[0m \u001b[0mcandidate_cols\u001b[0m\u001b[0;34m:\u001b[0m\u001b[0;34m\u001b[0m\u001b[0m\n\u001b[0m\u001b[1;32m     84\u001b[0m             \u001b[0mtest_list\u001b[0m \u001b[0;34m=\u001b[0m \u001b[0mcurrent_list\u001b[0m \u001b[0;34m+\u001b[0m \u001b[0;34m[\u001b[0m\u001b[0mcol\u001b[0m\u001b[0;34m]\u001b[0m\u001b[0;34m\u001b[0m\u001b[0m\n\u001b[1;32m     85\u001b[0m             \u001b[0mresult_fit\u001b[0m \u001b[0;34m=\u001b[0m \u001b[0mself\u001b[0m\u001b[0;34m.\u001b[0m\u001b[0mfit_model\u001b[0m\u001b[0;34m(\u001b[0m\u001b[0mstats_model\u001b[0m\u001b[0;34m,\u001b[0m \u001b[0mtest_list\u001b[0m\u001b[0;34m)\u001b[0m\u001b[0;34m\u001b[0m\u001b[0m\n",
      "\u001b[0;31mAttributeError\u001b[0m: 'SelectionFeatures' object has no attribute 'selection_func'"
     ]
    }
   ],
   "source": [
    "select_tool.select_feature_forward(train_pd, predictor_cols, target_col)"
   ]
  },
  {
   "cell_type": "code",
   "execution_count": null,
   "metadata": {},
   "outputs": [],
   "source": []
  }
 ]
}